{
 "cells": [
  {
   "cell_type": "markdown",
   "metadata": {},
   "source": [
    "# Classification Problems"
   ]
  },
  {
   "cell_type": "code",
   "execution_count": 220,
   "metadata": {},
   "outputs": [],
   "source": [
    "import numpy as np\n",
    "import pandas as pd\n",
    "import statsmodels.api as sm\n",
    "import statsmodels.formula.api as smf\n",
    "import seaborn as sns\n",
    "from sklearn.preprocessing import scale\n",
    "from sklearn.model_selection import train_test_split, GridSearchCV, cross_val_score, cross_val_predict\n",
    "from sklearn.metrics import confusion_matrix, accuracy_score, classification_report, log_loss\n",
    "from sklearn.metrics import roc_auc_score, roc_curve\n",
    "import matplotlib.pyplot as plt \n",
    "from sklearn.neighbors import KNeighborsClassifier\n",
    "from sklearn.discriminant_analysis import LinearDiscriminantAnalysis\n",
    "from sklearn.linear_model import LogisticRegression\n",
    "from sklearn.svm import SVC\n",
    "from sklearn.naive_bayes import GaussianNB\n",
    "from sklearn import tree\n",
    "from sklearn.ensemble import RandomForestClassifier, GradientBoostingClassifier\n",
    "from xgboost import XGBClassifier\n",
    "from lightgbm import LGBMClassifier\n",
    "from catboost import CatBoostClassifier\n",
    "\n",
    "from warnings import filterwarnings\n",
    "filterwarnings('ignore')"
   ]
  },
  {
   "cell_type": "code",
   "execution_count": null,
   "metadata": {},
   "outputs": [],
   "source": []
  },
  {
   "cell_type": "markdown",
   "metadata": {},
   "source": [
    "# Logistic Regression"
   ]
  },
  {
   "cell_type": "markdown",
   "metadata": {},
   "source": [
    "## Model"
   ]
  },
  {
   "cell_type": "markdown",
   "metadata": {},
   "source": [
    "### Prepare Data"
   ]
  },
  {
   "cell_type": "code",
   "execution_count": 221,
   "metadata": {},
   "outputs": [],
   "source": [
    "diabetes = pd.read_csv('diabetes.csv')\n",
    "df = diabetes.copy()\n",
    "df.dropna(inplace=True)"
   ]
  },
  {
   "cell_type": "code",
   "execution_count": 222,
   "metadata": {},
   "outputs": [
    {
     "data": {
      "text/html": [
       "<div>\n",
       "<style scoped>\n",
       "    .dataframe tbody tr th:only-of-type {\n",
       "        vertical-align: middle;\n",
       "    }\n",
       "\n",
       "    .dataframe tbody tr th {\n",
       "        vertical-align: top;\n",
       "    }\n",
       "\n",
       "    .dataframe thead th {\n",
       "        text-align: right;\n",
       "    }\n",
       "</style>\n",
       "<table border=\"1\" class=\"dataframe\">\n",
       "  <thead>\n",
       "    <tr style=\"text-align: right;\">\n",
       "      <th></th>\n",
       "      <th>Pregnancies</th>\n",
       "      <th>Glucose</th>\n",
       "      <th>BloodPressure</th>\n",
       "      <th>SkinThickness</th>\n",
       "      <th>Insulin</th>\n",
       "      <th>BMI</th>\n",
       "      <th>DiabetesPedigreeFunction</th>\n",
       "      <th>Age</th>\n",
       "      <th>Outcome</th>\n",
       "    </tr>\n",
       "  </thead>\n",
       "  <tbody>\n",
       "    <tr>\n",
       "      <th>0</th>\n",
       "      <td>6</td>\n",
       "      <td>148</td>\n",
       "      <td>72</td>\n",
       "      <td>35</td>\n",
       "      <td>0</td>\n",
       "      <td>33.6</td>\n",
       "      <td>0.627</td>\n",
       "      <td>50</td>\n",
       "      <td>1</td>\n",
       "    </tr>\n",
       "    <tr>\n",
       "      <th>1</th>\n",
       "      <td>1</td>\n",
       "      <td>85</td>\n",
       "      <td>66</td>\n",
       "      <td>29</td>\n",
       "      <td>0</td>\n",
       "      <td>26.6</td>\n",
       "      <td>0.351</td>\n",
       "      <td>31</td>\n",
       "      <td>0</td>\n",
       "    </tr>\n",
       "    <tr>\n",
       "      <th>2</th>\n",
       "      <td>8</td>\n",
       "      <td>183</td>\n",
       "      <td>64</td>\n",
       "      <td>0</td>\n",
       "      <td>0</td>\n",
       "      <td>23.3</td>\n",
       "      <td>0.672</td>\n",
       "      <td>32</td>\n",
       "      <td>1</td>\n",
       "    </tr>\n",
       "    <tr>\n",
       "      <th>3</th>\n",
       "      <td>1</td>\n",
       "      <td>89</td>\n",
       "      <td>66</td>\n",
       "      <td>23</td>\n",
       "      <td>94</td>\n",
       "      <td>28.1</td>\n",
       "      <td>0.167</td>\n",
       "      <td>21</td>\n",
       "      <td>0</td>\n",
       "    </tr>\n",
       "    <tr>\n",
       "      <th>4</th>\n",
       "      <td>0</td>\n",
       "      <td>137</td>\n",
       "      <td>40</td>\n",
       "      <td>35</td>\n",
       "      <td>168</td>\n",
       "      <td>43.1</td>\n",
       "      <td>2.288</td>\n",
       "      <td>33</td>\n",
       "      <td>1</td>\n",
       "    </tr>\n",
       "  </tbody>\n",
       "</table>\n",
       "</div>"
      ],
      "text/plain": [
       "   Pregnancies  Glucose  BloodPressure  SkinThickness  Insulin   BMI  \\\n",
       "0            6      148             72             35        0  33.6   \n",
       "1            1       85             66             29        0  26.6   \n",
       "2            8      183             64              0        0  23.3   \n",
       "3            1       89             66             23       94  28.1   \n",
       "4            0      137             40             35      168  43.1   \n",
       "\n",
       "   DiabetesPedigreeFunction  Age  Outcome  \n",
       "0                     0.627   50        1  \n",
       "1                     0.351   31        0  \n",
       "2                     0.672   32        1  \n",
       "3                     0.167   21        0  \n",
       "4                     2.288   33        1  "
      ]
     },
     "execution_count": 222,
     "metadata": {},
     "output_type": "execute_result"
    }
   ],
   "source": [
    "df.head()"
   ]
  },
  {
   "cell_type": "code",
   "execution_count": 6,
   "metadata": {},
   "outputs": [
    {
     "data": {
      "text/plain": [
       "Pregnancies                 0\n",
       "Glucose                     0\n",
       "BloodPressure               0\n",
       "SkinThickness               0\n",
       "Insulin                     0\n",
       "BMI                         0\n",
       "DiabetesPedigreeFunction    0\n",
       "Age                         0\n",
       "Outcome                     0\n",
       "dtype: int64"
      ]
     },
     "execution_count": 6,
     "metadata": {},
     "output_type": "execute_result"
    }
   ],
   "source": [
    "df.isna().sum()"
   ]
  },
  {
   "cell_type": "code",
   "execution_count": 7,
   "metadata": {},
   "outputs": [
    {
     "name": "stdout",
     "output_type": "stream",
     "text": [
      "<class 'pandas.core.frame.DataFrame'>\n",
      "Int64Index: 768 entries, 0 to 767\n",
      "Data columns (total 9 columns):\n",
      "Pregnancies                 768 non-null int64\n",
      "Glucose                     768 non-null int64\n",
      "BloodPressure               768 non-null int64\n",
      "SkinThickness               768 non-null int64\n",
      "Insulin                     768 non-null int64\n",
      "BMI                         768 non-null float64\n",
      "DiabetesPedigreeFunction    768 non-null float64\n",
      "Age                         768 non-null int64\n",
      "Outcome                     768 non-null int64\n",
      "dtypes: float64(2), int64(7)\n",
      "memory usage: 60.0 KB\n"
     ]
    }
   ],
   "source": [
    "df.info()"
   ]
  },
  {
   "cell_type": "code",
   "execution_count": 9,
   "metadata": {},
   "outputs": [
    {
     "data": {
      "text/plain": [
       "<matplotlib.axes._subplots.AxesSubplot at 0x1c30fd2048>"
      ]
     },
     "execution_count": 9,
     "metadata": {},
     "output_type": "execute_result"
    },
    {
     "data": {
      "image/png": "[encoded data removed]",
      "text/plain": [
       "<Figure size 432x288 with 1 Axes>"
      ]
     },
     "metadata": {
      "needs_background": "light"
     },
     "output_type": "display_data"
    }
   ],
   "source": [
    "df['Outcome'].value_counts().plot.barh()"
   ]
  },
  {
   "cell_type": "code",
   "execution_count": null,
   "metadata": {},
   "outputs": [],
   "source": []
  },
  {
   "cell_type": "markdown",
   "metadata": {},
   "source": [
    "### Modeling with statsmodels"
   ]
  },
  {
   "cell_type": "code",
   "execution_count": 30,
   "metadata": {},
   "outputs": [],
   "source": [
    "y = df.Outcome\n",
    "X = df.drop(['Outcome'], axis=1)"
   ]
  },
  {
   "cell_type": "code",
   "execution_count": 31,
   "metadata": {},
   "outputs": [],
   "source": [
    "loj = sm.Logit(y, X)"
   ]
  },
  {
   "cell_type": "code",
   "execution_count": 34,
   "metadata": {},
   "outputs": [
    {
     "name": "stdout",
     "output_type": "stream",
     "text": [
      "Optimization terminated successfully.\n",
      "         Current function value: 0.608498\n",
      "         Iterations 5\n"
     ]
    }
   ],
   "source": [
    "loj_model = loj.fit()"
   ]
  },
  {
   "cell_type": "code",
   "execution_count": 35,
   "metadata": {},
   "outputs": [
    {
     "data": {
      "text/html": [
       "<table class=\"simpletable\">\n",
       "<caption>Logit Regression Results</caption>\n",
       "<tr>\n",
       "  <th>Dep. Variable:</th>      <td>Outcome</td>     <th>  No. Observations:  </th>  <td>   768</td>  \n",
       "</tr>\n",
       "<tr>\n",
       "  <th>Model:</th>               <td>Logit</td>      <th>  Df Residuals:      </th>  <td>   760</td>  \n",
       "</tr>\n",
       "<tr>\n",
       "  <th>Method:</th>               <td>MLE</td>       <th>  Df Model:          </th>  <td>     7</td>  \n",
       "</tr>\n",
       "<tr>\n",
       "  <th>Date:</th>          <td>Wed, 14 Aug 2019</td> <th>  Pseudo R-squ.:     </th>  <td>0.05922</td> \n",
       "</tr>\n",
       "<tr>\n",
       "  <th>Time:</th>              <td>20:13:02</td>     <th>  Log-Likelihood:    </th> <td> -467.33</td> \n",
       "</tr>\n",
       "<tr>\n",
       "  <th>converged:</th>           <td>True</td>       <th>  LL-Null:           </th> <td> -496.74</td> \n",
       "</tr>\n",
       "<tr>\n",
       "  <th> </th>                      <td> </td>        <th>  LLR p-value:       </th> <td>2.583e-10</td>\n",
       "</tr>\n",
       "</table>\n",
       "<table class=\"simpletable\">\n",
       "<tr>\n",
       "              <td></td>                <th>coef</th>     <th>std err</th>      <th>z</th>      <th>P>|z|</th>  <th>[0.025</th>    <th>0.975]</th>  \n",
       "</tr>\n",
       "<tr>\n",
       "  <th>Pregnancies</th>              <td>    0.1284</td> <td>    0.029</td> <td>    4.484</td> <td> 0.000</td> <td>    0.072</td> <td>    0.185</td>\n",
       "</tr>\n",
       "<tr>\n",
       "  <th>Glucose</th>                  <td>    0.0129</td> <td>    0.003</td> <td>    4.757</td> <td> 0.000</td> <td>    0.008</td> <td>    0.018</td>\n",
       "</tr>\n",
       "<tr>\n",
       "  <th>BloodPressure</th>            <td>   -0.0303</td> <td>    0.005</td> <td>   -6.481</td> <td> 0.000</td> <td>   -0.039</td> <td>   -0.021</td>\n",
       "</tr>\n",
       "<tr>\n",
       "  <th>SkinThickness</th>            <td>    0.0002</td> <td>    0.006</td> <td>    0.032</td> <td> 0.974</td> <td>   -0.012</td> <td>    0.012</td>\n",
       "</tr>\n",
       "<tr>\n",
       "  <th>Insulin</th>                  <td>    0.0007</td> <td>    0.001</td> <td>    0.942</td> <td> 0.346</td> <td>   -0.001</td> <td>    0.002</td>\n",
       "</tr>\n",
       "<tr>\n",
       "  <th>BMI</th>                      <td>   -0.0048</td> <td>    0.011</td> <td>   -0.449</td> <td> 0.653</td> <td>   -0.026</td> <td>    0.016</td>\n",
       "</tr>\n",
       "<tr>\n",
       "  <th>DiabetesPedigreeFunction</th> <td>    0.3203</td> <td>    0.240</td> <td>    1.335</td> <td> 0.182</td> <td>   -0.150</td> <td>    0.790</td>\n",
       "</tr>\n",
       "<tr>\n",
       "  <th>Age</th>                      <td>   -0.0156</td> <td>    0.008</td> <td>   -1.852</td> <td> 0.064</td> <td>   -0.032</td> <td>    0.001</td>\n",
       "</tr>\n",
       "</table>"
      ],
      "text/plain": [
       "<class 'statsmodels.iolib.summary.Summary'>\n",
       "\"\"\"\n",
       "                           Logit Regression Results                           \n",
       "==============================================================================\n",
       "Dep. Variable:                Outcome   No. Observations:                  768\n",
       "Model:                          Logit   Df Residuals:                      760\n",
       "Method:                           MLE   Df Model:                            7\n",
       "Date:                Wed, 14 Aug 2019   Pseudo R-squ.:                 0.05922\n",
       "Time:                        20:13:02   Log-Likelihood:                -467.33\n",
       "converged:                       True   LL-Null:                       -496.74\n",
       "                                        LLR p-value:                 2.583e-10\n",
       "============================================================================================\n",
       "                               coef    std err          z      P>|z|      [0.025      0.975]\n",
       "--------------------------------------------------------------------------------------------\n",
       "Pregnancies                  0.1284      0.029      4.484      0.000       0.072       0.185\n",
       "Glucose                      0.0129      0.003      4.757      0.000       0.008       0.018\n",
       "BloodPressure               -0.0303      0.005     -6.481      0.000      -0.039      -0.021\n",
       "SkinThickness                0.0002      0.006      0.032      0.974      -0.012       0.012\n",
       "Insulin                      0.0007      0.001      0.942      0.346      -0.001       0.002\n",
       "BMI                         -0.0048      0.011     -0.449      0.653      -0.026       0.016\n",
       "DiabetesPedigreeFunction     0.3203      0.240      1.335      0.182      -0.150       0.790\n",
       "Age                         -0.0156      0.008     -1.852      0.064      -0.032       0.001\n",
       "============================================================================================\n",
       "\"\"\""
      ]
     },
     "execution_count": 35,
     "metadata": {},
     "output_type": "execute_result"
    }
   ],
   "source": [
    "loj_model.summary()"
   ]
  },
  {
   "cell_type": "markdown",
   "metadata": {},
   "source": [
    "### Modeling with scikit-learn"
   ]
  },
  {
   "cell_type": "code",
   "execution_count": 227,
   "metadata": {},
   "outputs": [],
   "source": [
    "loj_model = LogisticRegression(solver='liblinear').fit(X, y)"
   ]
  },
  {
   "cell_type": "code",
   "execution_count": 228,
   "metadata": {},
   "outputs": [
    {
     "data": {
      "text/plain": [
       "array([[ 1.17086830e-01,  2.83748521e-02, -1.68971977e-02,\n",
       "         7.45588118e-04, -6.42652274e-04,  5.97050348e-02,\n",
       "         6.81461374e-01,  7.21476320e-03]])"
      ]
     },
     "execution_count": 228,
     "metadata": {},
     "output_type": "execute_result"
    }
   ],
   "source": [
    "loj_model.coef_"
   ]
  },
  {
   "cell_type": "code",
   "execution_count": 225,
   "metadata": {},
   "outputs": [],
   "source": [
    "y_pred = loj_model.predict(X)"
   ]
  },
  {
   "cell_type": "code",
   "execution_count": 226,
   "metadata": {},
   "outputs": [
    {
     "data": {
      "text/plain": [
       "0.7760416666666666"
      ]
     },
     "execution_count": 226,
     "metadata": {},
     "output_type": "execute_result"
    }
   ],
   "source": [
    "accuracy_score(y, y_pred)"
   ]
  },
  {
   "cell_type": "code",
   "execution_count": 45,
   "metadata": {},
   "outputs": [
    {
     "data": {
      "text/plain": [
       "array([[448,  52],\n",
       "       [120, 148]])"
      ]
     },
     "execution_count": 45,
     "metadata": {},
     "output_type": "execute_result"
    }
   ],
   "source": [
    "confusion_matrix(y, y_pred)"
   ]
  },
  {
   "cell_type": "code",
   "execution_count": 50,
   "metadata": {},
   "outputs": [
    {
     "name": "stdout",
     "output_type": "stream",
     "text": [
      "              precision    recall  f1-score   support\n",
      "\n",
      "           0       0.79      0.90      0.84       500\n",
      "           1       0.74      0.55      0.63       268\n",
      "\n",
      "    accuracy                           0.78       768\n",
      "   macro avg       0.76      0.72      0.74       768\n",
      "weighted avg       0.77      0.78      0.77       768\n",
      "\n"
     ]
    }
   ],
   "source": [
    "print(classification_report(y, y_pred))"
   ]
  },
  {
   "cell_type": "markdown",
   "metadata": {},
   "source": [
    "#### Get predict probability"
   ]
  },
  {
   "cell_type": "code",
   "execution_count": 56,
   "metadata": {},
   "outputs": [
    {
     "data": {
      "text/plain": [
       "array([[0.35043775, 0.64956225],\n",
       "       [0.9169891 , 0.0830109 ],\n",
       "       [0.22455276, 0.77544724],\n",
       "       [0.92139736, 0.07860264],\n",
       "       [0.16635686, 0.83364314]])"
      ]
     },
     "execution_count": 56,
     "metadata": {},
     "output_type": "execute_result"
    }
   ],
   "source": [
    "loj_model.predict_proba(X)[0:5]"
   ]
  },
  {
   "cell_type": "code",
   "execution_count": null,
   "metadata": {},
   "outputs": [],
   "source": []
  },
  {
   "cell_type": "markdown",
   "metadata": {},
   "source": [
    "#### Change threshold for classifying"
   ]
  },
  {
   "cell_type": "code",
   "execution_count": 73,
   "metadata": {},
   "outputs": [],
   "source": [
    "y_pred1 = [1 if i > 0.7 else 0 for i in loj_model.predict_proba(X)[:, :1]] "
   ]
  },
  {
   "cell_type": "code",
   "execution_count": 74,
   "metadata": {},
   "outputs": [
    {
     "data": {
      "text/plain": [
       "array([1, 0, 1, 0, 1])"
      ]
     },
     "execution_count": 74,
     "metadata": {},
     "output_type": "execute_result"
    }
   ],
   "source": [
    "y_pred[0:5]"
   ]
  },
  {
   "cell_type": "code",
   "execution_count": 75,
   "metadata": {},
   "outputs": [
    {
     "data": {
      "text/plain": [
       "[0, 1, 0, 1, 0]"
      ]
     },
     "execution_count": 75,
     "metadata": {},
     "output_type": "execute_result"
    }
   ],
   "source": [
    "y_pred1[0:5]"
   ]
  },
  {
   "cell_type": "code",
   "execution_count": null,
   "metadata": {},
   "outputs": [],
   "source": []
  },
  {
   "cell_type": "markdown",
   "metadata": {},
   "source": [
    "#### ROC curve"
   ]
  },
  {
   "cell_type": "code",
   "execution_count": 82,
   "metadata": {},
   "outputs": [],
   "source": [
    "logit_roc_auc = roc_auc_score(y, loj_model.predict(X))\n",
    "fpr, tpr, thresholds = roc_curve(y, loj_model.predict_proba(X)[:, 1])"
   ]
  },
  {
   "cell_type": "code",
   "execution_count": 93,
   "metadata": {},
   "outputs": [
    {
     "data": {
      "image/png": "[encoded data removed]",
      "text/plain": [
       "<Figure size 432x288 with 1 Axes>"
      ]
     },
     "metadata": {
      "needs_background": "light"
     },
     "output_type": "display_data"
    }
   ],
   "source": [
    "plt.figure()\n",
    "plt.plot(fpr, tpr)\n",
    "plt.plot([0, 1], [0, 1], 'r--')\n",
    "plt.xlim([0.0, 1.0])\n",
    "plt.ylim([0.0, 1.0])\n",
    "plt.xlabel('False Positive Rate')\n",
    "plt.ylabel('True Positive Rate')\n",
    "plt.title('ROC')\n",
    "plt.show()"
   ]
  },
  {
   "cell_type": "code",
   "execution_count": null,
   "metadata": {},
   "outputs": [],
   "source": []
  },
  {
   "cell_type": "markdown",
   "metadata": {},
   "source": [
    "### Split data as test, train data"
   ]
  },
  {
   "cell_type": "code",
   "execution_count": 308,
   "metadata": {},
   "outputs": [],
   "source": [
    "X_train, X_test, y_train, y_test = train_test_split(X, y, test_size=0.30, random_state=42)"
   ]
  },
  {
   "cell_type": "code",
   "execution_count": 309,
   "metadata": {},
   "outputs": [],
   "source": [
    "loj_model = LogisticRegression(solver='liblinear').fit(X_train, y_train)"
   ]
  },
  {
   "cell_type": "code",
   "execution_count": 310,
   "metadata": {},
   "outputs": [],
   "source": [
    "y_pred = loj_model.predict(X_test)"
   ]
  },
  {
   "cell_type": "code",
   "execution_count": 311,
   "metadata": {},
   "outputs": [
    {
     "data": {
      "text/plain": [
       "0.7575757575757576"
      ]
     },
     "execution_count": 311,
     "metadata": {},
     "output_type": "execute_result"
    }
   ],
   "source": [
    "accuracy_score(y_test, y_pred)"
   ]
  },
  {
   "cell_type": "code",
   "execution_count": 312,
   "metadata": {},
   "outputs": [
    {
     "data": {
      "text/plain": [
       "0.7661231884057971"
      ]
     },
     "execution_count": 312,
     "metadata": {},
     "output_type": "execute_result"
    }
   ],
   "source": [
    "cross_val_score(loj_model, X_test, y_test, cv=10).mean()"
   ]
  },
  {
   "cell_type": "code",
   "execution_count": null,
   "metadata": {},
   "outputs": [],
   "source": []
  },
  {
   "cell_type": "markdown",
   "metadata": {},
   "source": [
    "## Gaussian Bayes Model"
   ]
  },
  {
   "cell_type": "markdown",
   "metadata": {},
   "source": [
    "#### Prepare data "
   ]
  },
  {
   "cell_type": "code",
   "execution_count": 313,
   "metadata": {},
   "outputs": [],
   "source": [
    "X_train, X_test, y_train, y_test = train_test_split(X, y, test_size=0.30, random_state=42)"
   ]
  },
  {
   "cell_type": "code",
   "execution_count": 314,
   "metadata": {},
   "outputs": [],
   "source": [
    "nb_model = GaussianNB().fit(X_train, y_train)"
   ]
  },
  {
   "cell_type": "code",
   "execution_count": 315,
   "metadata": {},
   "outputs": [],
   "source": [
    "y_pred = nb_model.predict(X_test)"
   ]
  },
  {
   "cell_type": "code",
   "execution_count": 316,
   "metadata": {},
   "outputs": [
    {
     "data": {
      "text/plain": [
       "0.7445887445887446"
      ]
     },
     "execution_count": 316,
     "metadata": {},
     "output_type": "execute_result"
    }
   ],
   "source": [
    "accuracy_score(y_test, y_pred)"
   ]
  },
  {
   "cell_type": "code",
   "execution_count": 317,
   "metadata": {},
   "outputs": [
    {
     "data": {
      "text/plain": [
       "0.775"
      ]
     },
     "execution_count": 317,
     "metadata": {},
     "output_type": "execute_result"
    }
   ],
   "source": [
    "cross_val_score(nb_model, X_test, y_test, cv=10).mean()"
   ]
  },
  {
   "cell_type": "code",
   "execution_count": null,
   "metadata": {},
   "outputs": [],
   "source": []
  },
  {
   "cell_type": "markdown",
   "metadata": {},
   "source": [
    "# KNN (K-Nearest Neighbours)"
   ]
  },
  {
   "cell_type": "markdown",
   "metadata": {},
   "source": [
    "#### Prepare data "
   ]
  },
  {
   "cell_type": "code",
   "execution_count": 318,
   "metadata": {},
   "outputs": [],
   "source": [
    "X_train, X_test, y_train, y_test = train_test_split(X, y, test_size=0.30, random_state=42)"
   ]
  },
  {
   "cell_type": "markdown",
   "metadata": {},
   "source": [
    "#### Create model"
   ]
  },
  {
   "cell_type": "code",
   "execution_count": 319,
   "metadata": {},
   "outputs": [],
   "source": [
    "knn_model = KNeighborsClassifier().fit(X_train, y_train)"
   ]
  },
  {
   "cell_type": "code",
   "execution_count": 320,
   "metadata": {},
   "outputs": [],
   "source": [
    "y_pred = knn_model.predict(X_test)"
   ]
  },
  {
   "cell_type": "code",
   "execution_count": 321,
   "metadata": {},
   "outputs": [
    {
     "data": {
      "text/plain": [
       "0.6883116883116883"
      ]
     },
     "execution_count": 321,
     "metadata": {},
     "output_type": "execute_result"
    }
   ],
   "source": [
    "accuracy_score(y_test, y_pred)"
   ]
  },
  {
   "cell_type": "code",
   "execution_count": null,
   "metadata": {},
   "outputs": [],
   "source": []
  },
  {
   "cell_type": "markdown",
   "metadata": {},
   "source": [
    "### Model tuning"
   ]
  },
  {
   "cell_type": "code",
   "execution_count": 242,
   "metadata": {},
   "outputs": [],
   "source": [
    "knn_params = {\n",
    "    'n_neighbors': list(range(1, 50))\n",
    "}"
   ]
  },
  {
   "cell_type": "code",
   "execution_count": 243,
   "metadata": {},
   "outputs": [],
   "source": [
    "knn_model_cv = GridSearchCV(knn_model, knn_params, cv=10, n_jobs=-1)"
   ]
  },
  {
   "cell_type": "code",
   "execution_count": 244,
   "metadata": {},
   "outputs": [
    {
     "data": {
      "text/plain": [
       "GridSearchCV(cv=10, error_score='raise-deprecating',\n",
       "             estimator=KNeighborsClassifier(algorithm='auto', leaf_size=30,\n",
       "                                            metric='minkowski',\n",
       "                                            metric_params=None, n_jobs=None,\n",
       "                                            n_neighbors=5, p=2,\n",
       "                                            weights='uniform'),\n",
       "             iid='warn', n_jobs=-1,\n",
       "             param_grid={'n_neighbors': [1, 2, 3, 4, 5, 6, 7, 8, 9, 10, 11, 12,\n",
       "                                         13, 14, 15, 16, 17, 18, 19, 20, 21, 22,\n",
       "                                         23, 24, 25, 26, 27, 28, 29, 30, ...]},\n",
       "             pre_dispatch='2*n_jobs', refit=True, return_train_score=False,\n",
       "             scoring=None, verbose=0)"
      ]
     },
     "execution_count": 244,
     "metadata": {},
     "output_type": "execute_result"
    }
   ],
   "source": [
    "knn_model_cv.fit(X_train, y_train)"
   ]
  },
  {
   "cell_type": "code",
   "execution_count": 245,
   "metadata": {},
   "outputs": [
    {
     "data": {
      "text/plain": [
       "{'n_neighbors': 11}"
      ]
     },
     "execution_count": 245,
     "metadata": {},
     "output_type": "execute_result"
    }
   ],
   "source": [
    "knn_model_cv.best_params_"
   ]
  },
  {
   "cell_type": "code",
   "execution_count": 322,
   "metadata": {},
   "outputs": [],
   "source": [
    "knn_model_tuned = KNeighborsClassifier(n_neighbors=15)"
   ]
  },
  {
   "cell_type": "code",
   "execution_count": 323,
   "metadata": {},
   "outputs": [
    {
     "data": {
      "text/plain": [
       "KNeighborsClassifier(algorithm='auto', leaf_size=30, metric='minkowski',\n",
       "                     metric_params=None, n_jobs=None, n_neighbors=15, p=2,\n",
       "                     weights='uniform')"
      ]
     },
     "execution_count": 323,
     "metadata": {},
     "output_type": "execute_result"
    }
   ],
   "source": [
    "knn_model_tuned.fit(X_train, y_train)"
   ]
  },
  {
   "cell_type": "code",
   "execution_count": 324,
   "metadata": {},
   "outputs": [],
   "source": [
    "y_pred = knn_model_tuned.predict(X_test)"
   ]
  },
  {
   "cell_type": "code",
   "execution_count": 325,
   "metadata": {},
   "outputs": [
    {
     "data": {
      "text/plain": [
       "0.7402597402597403"
      ]
     },
     "execution_count": 325,
     "metadata": {},
     "output_type": "execute_result"
    }
   ],
   "source": [
    "accuracy_score(y_test, y_pred)"
   ]
  },
  {
   "cell_type": "code",
   "execution_count": 326,
   "metadata": {},
   "outputs": [
    {
     "data": {
      "text/plain": [
       "0.7402597402597403"
      ]
     },
     "execution_count": 326,
     "metadata": {},
     "output_type": "execute_result"
    }
   ],
   "source": [
    "knn_model_tuned.score(X_test, y_test)"
   ]
  },
  {
   "cell_type": "code",
   "execution_count": null,
   "metadata": {},
   "outputs": [],
   "source": []
  },
  {
   "cell_type": "markdown",
   "metadata": {},
   "source": [
    "# Support Vector Classifier (SVC)"
   ]
  },
  {
   "cell_type": "markdown",
   "metadata": {},
   "source": [
    "### Linear SVC"
   ]
  },
  {
   "cell_type": "markdown",
   "metadata": {},
   "source": [
    "#### Prepare data"
   ]
  },
  {
   "cell_type": "code",
   "execution_count": 327,
   "metadata": {},
   "outputs": [],
   "source": [
    "df = diabetes.copy()\n",
    "df.dropna(inplace=True)\n",
    "y = df['Outcome']\n",
    "X = df.drop(['Outcome'], axis=1)\n",
    "X_train, X_test, y_train, y_test = train_test_split(X, y, test_size=0.30, random_state=42)"
   ]
  },
  {
   "cell_type": "markdown",
   "metadata": {},
   "source": [
    "#### Create model"
   ]
  },
  {
   "cell_type": "code",
   "execution_count": 328,
   "metadata": {},
   "outputs": [],
   "source": [
    "svc_model = SVC(kernel='linear').fit(X_train, y_train)"
   ]
  },
  {
   "cell_type": "code",
   "execution_count": 329,
   "metadata": {},
   "outputs": [],
   "source": [
    "y_pred = svc_model.predict(X_test)"
   ]
  },
  {
   "cell_type": "code",
   "execution_count": 330,
   "metadata": {},
   "outputs": [
    {
     "data": {
      "text/plain": [
       "0.7445887445887446"
      ]
     },
     "execution_count": 330,
     "metadata": {},
     "output_type": "execute_result"
    }
   ],
   "source": [
    "accuracy_score(y_test, y_pred)"
   ]
  },
  {
   "cell_type": "code",
   "execution_count": null,
   "metadata": {},
   "outputs": [],
   "source": []
  },
  {
   "cell_type": "markdown",
   "metadata": {},
   "source": [
    "#### Model tuning "
   ]
  },
  {
   "cell_type": "code",
   "execution_count": 254,
   "metadata": {},
   "outputs": [],
   "source": [
    "svc_params = {\n",
    "    'C': list(range(1, 15))\n",
    "}"
   ]
  },
  {
   "cell_type": "code",
   "execution_count": 255,
   "metadata": {},
   "outputs": [],
   "source": [
    "svc = SVC(kernel='linear')"
   ]
  },
  {
   "cell_type": "code",
   "execution_count": 256,
   "metadata": {},
   "outputs": [],
   "source": [
    "svc_model_cv = GridSearchCV(svc, svc_params, cv=10, n_jobs=-1, verbose=1)"
   ]
  },
  {
   "cell_type": "code",
   "execution_count": 257,
   "metadata": {},
   "outputs": [
    {
     "name": "stdout",
     "output_type": "stream",
     "text": [
      "Fitting 10 folds for each of 14 candidates, totalling 140 fits\n"
     ]
    },
    {
     "name": "stderr",
     "output_type": "stream",
     "text": [
      "[Parallel(n_jobs=-1)]: Using backend LokyBackend with 4 concurrent workers.\n",
      "[Parallel(n_jobs=-1)]: Done  42 tasks      | elapsed:  2.2min\n",
      "[Parallel(n_jobs=-1)]: Done 140 out of 140 | elapsed: 23.0min finished\n"
     ]
    },
    {
     "data": {
      "text/plain": [
       "GridSearchCV(cv=10, error_score='raise-deprecating',\n",
       "             estimator=SVC(C=1.0, cache_size=200, class_weight=None, coef0=0.0,\n",
       "                           decision_function_shape='ovr', degree=3,\n",
       "                           gamma='auto_deprecated', kernel='linear',\n",
       "                           max_iter=-1, probability=False, random_state=None,\n",
       "                           shrinking=True, tol=0.001, verbose=False),\n",
       "             iid='warn', n_jobs=-1,\n",
       "             param_grid={'C': [1, 2, 3, 4, 5, 6, 7, 8, 9, 10, 11, 12, 13, 14]},\n",
       "             pre_dispatch='2*n_jobs', refit=True, return_train_score=False,\n",
       "             scoring=None, verbose=1)"
      ]
     },
     "execution_count": 257,
     "metadata": {},
     "output_type": "execute_result"
    }
   ],
   "source": [
    "svc_model_cv.fit(X_train, y_train)"
   ]
  },
  {
   "cell_type": "code",
   "execution_count": 258,
   "metadata": {},
   "outputs": [
    {
     "data": {
      "text/plain": [
       "{'C': 5}"
      ]
     },
     "execution_count": 258,
     "metadata": {},
     "output_type": "execute_result"
    }
   ],
   "source": [
    "svc_model_cv.best_params_"
   ]
  },
  {
   "cell_type": "code",
   "execution_count": 331,
   "metadata": {},
   "outputs": [],
   "source": [
    "svc_model_tuned = SVC(kernel='linear', C=5).fit(X_train, y_train)"
   ]
  },
  {
   "cell_type": "code",
   "execution_count": 332,
   "metadata": {},
   "outputs": [],
   "source": [
    "y_pred = svc_model_tuned.predict(X_test)"
   ]
  },
  {
   "cell_type": "code",
   "execution_count": 333,
   "metadata": {},
   "outputs": [
    {
     "data": {
      "text/plain": [
       "0.7445887445887446"
      ]
     },
     "execution_count": 333,
     "metadata": {},
     "output_type": "execute_result"
    }
   ],
   "source": [
    "accuracy_score(y_test, y_pred)"
   ]
  },
  {
   "cell_type": "code",
   "execution_count": null,
   "metadata": {},
   "outputs": [],
   "source": []
  },
  {
   "cell_type": "markdown",
   "metadata": {},
   "source": [
    "### Non-Linear SVC"
   ]
  },
  {
   "cell_type": "code",
   "execution_count": 334,
   "metadata": {},
   "outputs": [],
   "source": [
    "svc_rbf_model = SVC(kernel='rbf').fit(X_train, y_train)"
   ]
  },
  {
   "cell_type": "code",
   "execution_count": 335,
   "metadata": {},
   "outputs": [],
   "source": [
    "y_pred = svc_rbf_model.predict(X_test)"
   ]
  },
  {
   "cell_type": "code",
   "execution_count": 336,
   "metadata": {},
   "outputs": [
    {
     "data": {
      "text/plain": [
       "0.6536796536796536"
      ]
     },
     "execution_count": 336,
     "metadata": {},
     "output_type": "execute_result"
    }
   ],
   "source": [
    "accuracy_score(y_test, y_pred)"
   ]
  },
  {
   "cell_type": "code",
   "execution_count": null,
   "metadata": {},
   "outputs": [],
   "source": []
  },
  {
   "cell_type": "markdown",
   "metadata": {},
   "source": [
    "#### Model tuning"
   ]
  },
  {
   "cell_type": "code",
   "execution_count": 265,
   "metadata": {},
   "outputs": [],
   "source": [
    "svc_rbf_params = {\n",
    "    'gamma': [0.000001, 0.00001, 0.001, 0.01, 0.1, 1, 10, 100]\n",
    "}"
   ]
  },
  {
   "cell_type": "code",
   "execution_count": 266,
   "metadata": {},
   "outputs": [],
   "source": [
    "svc = SVC()\n",
    "svc_rbf_model_cv = GridSearchCV(svc, svc_rbf_params, cv=10, n_jobs=-1, verbose=True)"
   ]
  },
  {
   "cell_type": "code",
   "execution_count": 267,
   "metadata": {},
   "outputs": [
    {
     "name": "stdout",
     "output_type": "stream",
     "text": [
      "Fitting 10 folds for each of 8 candidates, totalling 80 fits\n"
     ]
    },
    {
     "name": "stderr",
     "output_type": "stream",
     "text": [
      "[Parallel(n_jobs=-1)]: Using backend LokyBackend with 4 concurrent workers.\n",
      "[Parallel(n_jobs=-1)]: Done  80 out of  80 | elapsed:    0.5s finished\n"
     ]
    },
    {
     "data": {
      "text/plain": [
       "GridSearchCV(cv=10, error_score='raise-deprecating',\n",
       "             estimator=SVC(C=1.0, cache_size=200, class_weight=None, coef0=0.0,\n",
       "                           decision_function_shape='ovr', degree=3,\n",
       "                           gamma='auto_deprecated', kernel='rbf', max_iter=-1,\n",
       "                           probability=False, random_state=None, shrinking=True,\n",
       "                           tol=0.001, verbose=False),\n",
       "             iid='warn', n_jobs=-1,\n",
       "             param_grid={'gamma': [1e-06, 1e-05, 0.001, 0.01, 0.1, 1, 10, 100]},\n",
       "             pre_dispatch='2*n_jobs', refit=True, return_train_score=False,\n",
       "             scoring=None, verbose=True)"
      ]
     },
     "execution_count": 267,
     "metadata": {},
     "output_type": "execute_result"
    }
   ],
   "source": [
    "svc_rbf_model_cv.fit(X_train, y_train)"
   ]
  },
  {
   "cell_type": "code",
   "execution_count": 268,
   "metadata": {},
   "outputs": [
    {
     "data": {
      "text/plain": [
       "{'gamma': 0.001}"
      ]
     },
     "execution_count": 268,
     "metadata": {},
     "output_type": "execute_result"
    }
   ],
   "source": [
    "svc_rbf_model_cv.best_params_"
   ]
  },
  {
   "cell_type": "code",
   "execution_count": 343,
   "metadata": {},
   "outputs": [],
   "source": [
    "svc_rbf_model_tuned = SVC(gamma=0.001, C=10).fit(X_train, y_train)"
   ]
  },
  {
   "cell_type": "code",
   "execution_count": 344,
   "metadata": {},
   "outputs": [],
   "source": [
    "y_pred = svc_rbf_model_tuned.predict(X_test)"
   ]
  },
  {
   "cell_type": "code",
   "execution_count": 345,
   "metadata": {},
   "outputs": [
    {
     "data": {
      "text/plain": [
       "0.7316017316017316"
      ]
     },
     "execution_count": 345,
     "metadata": {},
     "output_type": "execute_result"
    }
   ],
   "source": [
    "accuracy_score(y_test, y_pred)"
   ]
  },
  {
   "cell_type": "code",
   "execution_count": null,
   "metadata": {},
   "outputs": [],
   "source": []
  },
  {
   "cell_type": "markdown",
   "metadata": {},
   "source": [
    "# MLP"
   ]
  },
  {
   "cell_type": "markdown",
   "metadata": {},
   "source": [
    "#### Prepare data"
   ]
  },
  {
   "cell_type": "code",
   "execution_count": 48,
   "metadata": {},
   "outputs": [],
   "source": [
    "df = diabetes.copy()\n",
    "df.dropna(inplace=True)\n",
    "y = df['Outcome']\n",
    "X = df.drop(['Outcome'], axis=1)\n",
    "X_train, X_test, y_train, y_test = train_test_split(X, y, test_size=0.30, random_state=42)"
   ]
  },
  {
   "cell_type": "markdown",
   "metadata": {},
   "source": [
    "### Standardization"
   ]
  },
  {
   "cell_type": "markdown",
   "metadata": {},
   "source": [
    "#### For MLP models data should be transformed. For example standardization, normalization"
   ]
  },
  {
   "cell_type": "code",
   "execution_count": 272,
   "metadata": {},
   "outputs": [],
   "source": [
    "from sklearn.preprocessing import StandardScaler"
   ]
  },
  {
   "cell_type": "code",
   "execution_count": 346,
   "metadata": {},
   "outputs": [],
   "source": [
    "scaler = StandardScaler()\n",
    "scaler.fit(X_train)\n",
    "X_train_scaled = scaler.transform(X_train)\n",
    "X_test_scaled = scaler.transform(X_test)"
   ]
  },
  {
   "cell_type": "markdown",
   "metadata": {},
   "source": [
    "#### Create model"
   ]
  },
  {
   "cell_type": "code",
   "execution_count": 274,
   "metadata": {},
   "outputs": [],
   "source": [
    "from sklearn.neural_network import MLPClassifier"
   ]
  },
  {
   "cell_type": "code",
   "execution_count": 275,
   "metadata": {},
   "outputs": [],
   "source": [
    "mlpc_model = MLPClassifier().fit(X_train_scaled, y_train)"
   ]
  },
  {
   "cell_type": "code",
   "execution_count": 276,
   "metadata": {},
   "outputs": [
    {
     "data": {
      "text/plain": [
       "0.7359307359307359"
      ]
     },
     "execution_count": 276,
     "metadata": {},
     "output_type": "execute_result"
    }
   ],
   "source": [
    "y_pred = mlpc_model.predict(X_test_scaled)\n",
    "accuracy_score(y_test, y_pred)"
   ]
  },
  {
   "cell_type": "markdown",
   "metadata": {},
   "source": [
    "#### Model tuning"
   ]
  },
  {
   "cell_type": "code",
   "execution_count": 68,
   "metadata": {},
   "outputs": [],
   "source": [
    "mlpc_params = {\n",
    "    'alpha': [0.1, 0.001, 0.0001, 0.002, 0.5, 0.00001],\n",
    "    'hidden_layer_sizes': [\n",
    "        (10, 20, 10),\n",
    "        (100, 100, 100),\n",
    "        (200, 200, 200),\n",
    "        (20, 30),\n",
    "        (100, 100, 100, 100),\n",
    "    ],\n",
    "    'solver': ['lbfgs', 'adam', 'sgd'],\n",
    "    'activation': ['relu', 'logistic']\n",
    "}"
   ]
  },
  {
   "cell_type": "code",
   "execution_count": 69,
   "metadata": {},
   "outputs": [],
   "source": [
    "mlpc = MLPClassifier()\n",
    "mlpc_model_cv = GridSearchCV(mlpc, mlpc_params, cv=10, n_jobs=-1, verbose=True)"
   ]
  },
  {
   "cell_type": "code",
   "execution_count": 70,
   "metadata": {},
   "outputs": [
    {
     "name": "stdout",
     "output_type": "stream",
     "text": [
      "Fitting 10 folds for each of 180 candidates, totalling 1800 fits\n"
     ]
    },
    {
     "name": "stderr",
     "output_type": "stream",
     "text": [
      "[Parallel(n_jobs=-1)]: Using backend LokyBackend with 4 concurrent workers.\n",
      "[Parallel(n_jobs=-1)]: Done  42 tasks      | elapsed:   12.6s\n",
      "[Parallel(n_jobs=-1)]: Done 192 tasks      | elapsed:  1.4min\n",
      "[Parallel(n_jobs=-1)]: Done 442 tasks      | elapsed:  3.2min\n",
      "[Parallel(n_jobs=-1)]: Done 792 tasks      | elapsed: 33.6min\n",
      "[Parallel(n_jobs=-1)]: Done 1242 tasks      | elapsed: 35.6min\n",
      "[Parallel(n_jobs=-1)]: Done 1792 tasks      | elapsed: 37.7min\n",
      "[Parallel(n_jobs=-1)]: Done 1800 out of 1800 | elapsed: 37.7min finished\n"
     ]
    },
    {
     "data": {
      "text/plain": [
       "GridSearchCV(cv=10, error_score='raise-deprecating',\n",
       "             estimator=MLPClassifier(activation='relu', alpha=0.0001,\n",
       "                                     batch_size='auto', beta_1=0.9,\n",
       "                                     beta_2=0.999, early_stopping=False,\n",
       "                                     epsilon=1e-08, hidden_layer_sizes=(100,),\n",
       "                                     learning_rate='constant',\n",
       "                                     learning_rate_init=0.001, max_iter=200,\n",
       "                                     momentum=0.9, n_iter_no_change=10,\n",
       "                                     nesterovs_momentum=True, power_t=0.5,\n",
       "                                     random_st...\n",
       "                                     validation_fraction=0.1, verbose=False,\n",
       "                                     warm_start=False),\n",
       "             iid='warn', n_jobs=-1,\n",
       "             param_grid={'activation': ['relu', 'logistic'],\n",
       "                         'alpha': [0.1, 0.001, 0.0001, 0.002, 0.5, 1e-05],\n",
       "                         'hidden_layer_sizes': [(10, 20, 10), (100, 100, 100),\n",
       "                                                (200, 200, 200), (20, 30),\n",
       "                                                (100, 100, 100, 100)],\n",
       "                         'solver': ['lbfgs', 'adam', 'sgd']},\n",
       "             pre_dispatch='2*n_jobs', refit=True, return_train_score=False,\n",
       "             scoring=None, verbose=True)"
      ]
     },
     "execution_count": 70,
     "metadata": {},
     "output_type": "execute_result"
    }
   ],
   "source": [
    "mlpc_model_cv.fit(X_train_scaled, y_train)"
   ]
  },
  {
   "cell_type": "code",
   "execution_count": 283,
   "metadata": {},
   "outputs": [
    {
     "data": {
      "text/plain": [
       "{'activation': 'relu',\n",
       " 'alpha': 0.002,\n",
       " 'hidden_layer_sizes': (100, 100, 100),\n",
       " 'solver': 'sgd'}"
      ]
     },
     "execution_count": 283,
     "metadata": {},
     "output_type": "execute_result"
    }
   ],
   "source": [
    "mlpc_model_cv.best_params_"
   ]
  },
  {
   "cell_type": "code",
   "execution_count": 347,
   "metadata": {},
   "outputs": [],
   "source": [
    "mlpc_model_tuned = MLPClassifier(\n",
    "    activation='relu',\n",
    "    alpha=0.001,\n",
    "    hidden_layer_sizes=(100, 100, 100),\n",
    "    solver='sgd'\n",
    ").fit(X_train_scaled, y_train)"
   ]
  },
  {
   "cell_type": "code",
   "execution_count": 348,
   "metadata": {},
   "outputs": [],
   "source": [
    "y_pred = mlpc_model_tuned.predict(X_test_scaled)"
   ]
  },
  {
   "cell_type": "code",
   "execution_count": 349,
   "metadata": {},
   "outputs": [
    {
     "data": {
      "text/plain": [
       "0.7575757575757576"
      ]
     },
     "execution_count": 349,
     "metadata": {},
     "output_type": "execute_result"
    }
   ],
   "source": [
    "accuracy_score(y_test, y_pred)"
   ]
  },
  {
   "cell_type": "code",
   "execution_count": null,
   "metadata": {},
   "outputs": [],
   "source": []
  },
  {
   "cell_type": "markdown",
   "metadata": {},
   "source": [
    "# CART"
   ]
  },
  {
   "cell_type": "markdown",
   "metadata": {},
   "source": [
    "#### Prepare data"
   ]
  },
  {
   "cell_type": "code",
   "execution_count": 350,
   "metadata": {},
   "outputs": [],
   "source": [
    "df = diabetes.copy()\n",
    "df.dropna(inplace=True)\n",
    "y = df['Outcome']\n",
    "X = df.drop(['Outcome'], axis=1)\n",
    "X_train, X_test, y_train, y_test = train_test_split(X, y, test_size=0.30, random_state=42)"
   ]
  },
  {
   "cell_type": "code",
   "execution_count": 288,
   "metadata": {},
   "outputs": [],
   "source": [
    "from sklearn.tree import DecisionTreeClassifier"
   ]
  },
  {
   "cell_type": "code",
   "execution_count": 289,
   "metadata": {},
   "outputs": [],
   "source": [
    "cart_model = DecisionTreeClassifier().fit(X_train, y_train)"
   ]
  },
  {
   "cell_type": "code",
   "execution_count": null,
   "metadata": {},
   "outputs": [],
   "source": []
  },
  {
   "cell_type": "markdown",
   "metadata": {},
   "source": [
    "### In order to get rule set of model we use skompiler pyhton package"
   ]
  },
  {
   "cell_type": "code",
   "execution_count": 81,
   "metadata": {},
   "outputs": [
    {
     "name": "stdout",
     "output_type": "stream",
     "text": [
      "Collecting skompiler\n",
      "\u001b[?25l  Downloading https://files.pythonhosted.org/packages/77/31/cbc7fc4fe064425efbf2044b94bd1973472d8aac85b4d9346c7330e03dfb/SKompiler-0.5.5.tar.gz (48kB)\n",
      "\u001b[K    100% |████████████████████████████████| 51kB 36kB/s \n",
      "\u001b[?25hRequirement already satisfied: scikit-learn in /anaconda3/lib/python3.7/site-packages (from skompiler) (0.21.2)\n",
      "Requirement already satisfied: scipy>=0.17.0 in /anaconda3/lib/python3.7/site-packages (from scikit-learn->skompiler) (1.2.1)\n",
      "Requirement already satisfied: numpy>=1.11.0 in /anaconda3/lib/python3.7/site-packages (from scikit-learn->skompiler) (1.16.2)\n",
      "Requirement already satisfied: joblib>=0.11 in /anaconda3/lib/python3.7/site-packages (from scikit-learn->skompiler) (0.13.2)\n",
      "Building wheels for collected packages: skompiler\n",
      "  Building wheel for skompiler (setup.py) ... \u001b[?25ldone\n",
      "\u001b[?25h  Stored in directory: /Users/fatihtasdemir/Library/Caches/pip/wheels/21/eb/99/6e32f89da503a823f6bc1a985abfdaeaa01b3a6b5ac5776d15\n",
      "Successfully built skompiler\n",
      "Installing collected packages: skompiler\n",
      "Successfully installed skompiler-0.5.5\n"
     ]
    }
   ],
   "source": [
    "#!pip install skompiler"
   ]
  },
  {
   "cell_type": "code",
   "execution_count": 82,
   "metadata": {},
   "outputs": [],
   "source": [
    "from skompiler import skompile"
   ]
  },
  {
   "cell_type": "code",
   "execution_count": 84,
   "metadata": {},
   "outputs": [
    {
     "name": "stdout",
     "output_type": "stream",
     "text": [
      "(if (x[1] <= 154.5) then (if (x[7] <= 28.5) then (if (x[1] <= 127.5) then (if (x[5] <= 49.10000038146973) then (if (x[5] <= 31.40000057220459) then (if (x[6] <= 0.671999990940094) then 0 else (if (x[6] <= 0.6974999904632568) then 1 else 0)) else (if (x[4] <= 9.0) then (if (x[1] <= 111.5) then (if (x[3] <= 40.5) then 0 else 1) else (if (x[2] <= 72.0) then (if (x[5] <= 37.39999961853027) then (if (x[1] <= 123.0) then 1 else 0) else 0) else 1)) else (if (x[0] <= 4.5) then (if (x[6] <= 0.6395000219345093) then 0 else (if (x[6] <= 0.6759999990463257) then 1 else 0)) else (if (x[3] <= 40.5) then 0 else 1)))) else 1) else (if (x[2] <= 56.0) then 1 else (if (x[5] <= 30.300000190734863) then (if (x[7] <= 27.5) then 0 else (if (x[5] <= 28.149999618530273) then 1 else 0)) else (if (x[5] <= 32.000000953674316) then 1 else (if (x[2] <= 85.0) then (if (x[0] <= 0.5) then (if (x[5] <= 33.75) then 0 else 1) else (if (x[5] <= 32.45000076293945) then 1 else 0)) else 1))))) else (if (x[5] <= 26.949999809265137) then (if (x[7] <= 29.5) then 1 else (if (x[5] <= 9.649999618530273) then (if (x[0] <= 6.5) then 0 else 1) else (if (x[1] <= 133.0) then 0 else (if (x[7] <= 57.5) then 0 else (if (x[0] <= 6.5) then 1 else 0))))) else (if (x[1] <= 94.5) then (if (x[1] <= 28.5) then 1 else (if (x[0] <= 9.5) then 0 else (if (x[1] <= 80.0) then 0 else (if (x[5] <= 35.10000038146973) then 1 else 0)))) else (if (x[6] <= 0.527999997138977) then (if (x[2] <= 83.0) then (if (x[3] <= 26.5) then (if (x[5] <= 28.34999942779541) then (if (x[6] <= 0.24950000643730164) then 0 else (if (x[1] <= 126.5) then 1 else 0)) else (if (x[2] <= 67.0) then 1 else (if (x[7] <= 30.5) then 0 else (if (x[0] <= 9.0) then (if (x[6] <= 0.21000000089406967) then (if (x[0] <= 5.5) then 0 else 1) else (if (x[6] <= 0.42249999940395355) then 1 else (if (x[2] <= 81.0) then 0 else 1))) else (if (x[4] <= 57.5) then 0 else 1))))) else (if (x[1] <= 127.5) then (if (x[2] <= 67.0) then (if (x[6] <= 0.39400000870227814) then (if (x[6] <= 0.19299999624490738) then 0 else 1) else 0) else (if (x[4] <= 155.0) then 0 else (if (x[4] <= 288.5) then 1 else 0))) else (if (x[3] <= 31.0) then (if (x[0] <= 2.5) then 1 else 0) else 1))) else (if (x[4] <= 124.0) then (if (x[5] <= 41.19999885559082) then (if (x[3] <= 39.5) then 0 else (if (x[6] <= 0.3385000079870224) then 1 else 0)) else 1) else (if (x[3] <= 19.5) then 0 else 1))) else (if (x[5] <= 31.600000381469727) then (if (x[5] <= 29.09999942779541) then (if (x[1] <= 132.0) then (if (x[0] <= 2.0) then (if (x[7] <= 47.0) then 0 else 1) else 1) else 0) else (if (x[7] <= 50.0) then 0 else 1)) else (if (x[6] <= 1.1489999890327454) then (if (x[3] <= 54.5) then (if (x[2] <= 87.0) then 1 else (if (x[1] <= 117.5) then 0 else 1)) else 0) else (if (x[7] <= 36.0) then 1 else 0))))))) else (if (x[5] <= 28.700000762939453) then (if (x[5] <= 25.350000381469727) then 1 else (if (x[7] <= 52.5) then (if (x[0] <= 1.5) then 0 else 1) else 0)) else (if (x[6] <= 1.4275000095367432) then (if (x[1] <= 165.5) then (if (x[1] <= 164.5) then (if (x[6] <= 0.14100000262260437) then 0 else (if (x[7] <= 24.5) then 0 else 1)) else 0) else (if (x[7] <= 26.5) then (if (x[5] <= 34.45000076293945) then (if (x[1] <= 184.0) then 0 else 1) else 1) else 1)) else (if (x[1] <= 181.5) then 1 else 0))))\n"
     ]
    }
   ],
   "source": [
    "print(skompile(cart_model.predict))"
   ]
  },
  {
   "cell_type": "code",
   "execution_count": 87,
   "metadata": {},
   "outputs": [],
   "source": [
    "y_pred = cart_model.predict(X_test)"
   ]
  },
  {
   "cell_type": "code",
   "execution_count": 88,
   "metadata": {},
   "outputs": [
    {
     "data": {
      "text/plain": [
       "0.7056277056277056"
      ]
     },
     "execution_count": 88,
     "metadata": {},
     "output_type": "execute_result"
    }
   ],
   "source": [
    "accuracy_score(y_test, y_pred)"
   ]
  },
  {
   "cell_type": "code",
   "execution_count": 89,
   "metadata": {},
   "outputs": [
    {
     "data": {
      "text/plain": [
       "DecisionTreeClassifier(class_weight=None, criterion='gini', max_depth=None,\n",
       "                       max_features=None, max_leaf_nodes=None,\n",
       "                       min_impurity_decrease=0.0, min_impurity_split=None,\n",
       "                       min_samples_leaf=1, min_samples_split=2,\n",
       "                       min_weight_fraction_leaf=0.0, presort=False,\n",
       "                       random_state=None, splitter='best')"
      ]
     },
     "execution_count": 89,
     "metadata": {},
     "output_type": "execute_result"
    }
   ],
   "source": [
    "cart_model"
   ]
  },
  {
   "cell_type": "markdown",
   "metadata": {},
   "source": [
    "### Model tuning"
   ]
  },
  {
   "cell_type": "code",
   "execution_count": 290,
   "metadata": {},
   "outputs": [],
   "source": [
    "cart_params = {\n",
    "    'max_depth': list(range(1, 10)),\n",
    "    'min_samples_split': range(2, 50)\n",
    "}"
   ]
  },
  {
   "cell_type": "code",
   "execution_count": 291,
   "metadata": {},
   "outputs": [],
   "source": [
    "cart = DecisionTreeClassifier()\n",
    "cart_model_cv = GridSearchCV(cart, cart_params, cv=10, n_jobs=-1, verbose=True)"
   ]
  },
  {
   "cell_type": "code",
   "execution_count": 292,
   "metadata": {},
   "outputs": [
    {
     "name": "stdout",
     "output_type": "stream",
     "text": [
      "Fitting 10 folds for each of 432 candidates, totalling 4320 fits\n"
     ]
    },
    {
     "name": "stderr",
     "output_type": "stream",
     "text": [
      "[Parallel(n_jobs=-1)]: Using backend LokyBackend with 4 concurrent workers.\n",
      "[Parallel(n_jobs=-1)]: Done 992 tasks      | elapsed:    2.0s\n",
      "[Parallel(n_jobs=-1)]: Done 4320 out of 4320 | elapsed:    7.6s finished\n"
     ]
    },
    {
     "data": {
      "text/plain": [
       "GridSearchCV(cv=10, error_score='raise-deprecating',\n",
       "             estimator=DecisionTreeClassifier(class_weight=None,\n",
       "                                              criterion='gini', max_depth=None,\n",
       "                                              max_features=None,\n",
       "                                              max_leaf_nodes=None,\n",
       "                                              min_impurity_decrease=0.0,\n",
       "                                              min_impurity_split=None,\n",
       "                                              min_samples_leaf=1,\n",
       "                                              min_samples_split=2,\n",
       "                                              min_weight_fraction_leaf=0.0,\n",
       "                                              presort=False, random_state=None,\n",
       "                                              splitter='best'),\n",
       "             iid='warn', n_jobs=-1,\n",
       "             param_grid={'max_depth': [1, 2, 3, 4, 5, 6, 7, 8, 9],\n",
       "                         'min_samples_split': range(2, 50)},\n",
       "             pre_dispatch='2*n_jobs', refit=True, return_train_score=False,\n",
       "             scoring=None, verbose=True)"
      ]
     },
     "execution_count": 292,
     "metadata": {},
     "output_type": "execute_result"
    }
   ],
   "source": [
    "cart_model_cv.fit(X_train, y_train)"
   ]
  },
  {
   "cell_type": "code",
   "execution_count": 293,
   "metadata": {},
   "outputs": [
    {
     "data": {
      "text/plain": [
       "{'max_depth': 5, 'min_samples_split': 19}"
      ]
     },
     "execution_count": 293,
     "metadata": {},
     "output_type": "execute_result"
    }
   ],
   "source": [
    "cart_model_cv.best_params_"
   ]
  },
  {
   "cell_type": "code",
   "execution_count": 351,
   "metadata": {},
   "outputs": [],
   "source": [
    "cart_model_tuned = DecisionTreeClassifier(max_depth=5, min_samples_split=19).fit(X_train, y_train)"
   ]
  },
  {
   "cell_type": "code",
   "execution_count": 352,
   "metadata": {},
   "outputs": [],
   "source": [
    "y_pred = cart_model_tuned.predict(X_test)"
   ]
  },
  {
   "cell_type": "code",
   "execution_count": 353,
   "metadata": {},
   "outputs": [
    {
     "data": {
      "text/plain": [
       "0.7532467532467533"
      ]
     },
     "execution_count": 353,
     "metadata": {},
     "output_type": "execute_result"
    }
   ],
   "source": [
    "accuracy_score(y_test, y_pred)"
   ]
  },
  {
   "cell_type": "code",
   "execution_count": null,
   "metadata": {},
   "outputs": [],
   "source": []
  },
  {
   "cell_type": "markdown",
   "metadata": {},
   "source": [
    "# Random Forests"
   ]
  },
  {
   "cell_type": "markdown",
   "metadata": {},
   "source": [
    "#### Prepare data"
   ]
  },
  {
   "cell_type": "code",
   "execution_count": 354,
   "metadata": {},
   "outputs": [],
   "source": [
    "df = diabetes.copy()\n",
    "df.dropna(inplace=True)\n",
    "y = df['Outcome']\n",
    "X = df.drop(['Outcome'], axis=1)\n",
    "X_train, X_test, y_train, y_test = train_test_split(X, y, test_size=0.30, random_state=42)"
   ]
  },
  {
   "cell_type": "code",
   "execution_count": 355,
   "metadata": {},
   "outputs": [],
   "source": [
    "from sklearn.ensemble import RandomForestClassifier"
   ]
  },
  {
   "cell_type": "code",
   "execution_count": 302,
   "metadata": {},
   "outputs": [],
   "source": [
    "rf_model = RandomForestClassifier().fit(X_train, y_train)"
   ]
  },
  {
   "cell_type": "code",
   "execution_count": 303,
   "metadata": {},
   "outputs": [],
   "source": [
    "y_pred = rf_model.predict(X_test)"
   ]
  },
  {
   "cell_type": "code",
   "execution_count": 304,
   "metadata": {},
   "outputs": [
    {
     "data": {
      "text/plain": [
       "0.7316017316017316"
      ]
     },
     "execution_count": 304,
     "metadata": {},
     "output_type": "execute_result"
    }
   ],
   "source": [
    "accuracy_score(y_test, y_pred)"
   ]
  },
  {
   "cell_type": "code",
   "execution_count": null,
   "metadata": {},
   "outputs": [],
   "source": []
  },
  {
   "cell_type": "markdown",
   "metadata": {},
   "source": [
    "### Model tuning"
   ]
  },
  {
   "cell_type": "code",
   "execution_count": 305,
   "metadata": {},
   "outputs": [],
   "source": [
    "rf_params = {\n",
    "    'max_depth': range(2, 10),\n",
    "    'max_features': [2, 3, 7, 8],\n",
    "    'n_estimators': [10, 1000, 2000],\n",
    "    'min_samples_split': range(2, 10)\n",
    "}"
   ]
  },
  {
   "cell_type": "code",
   "execution_count": 306,
   "metadata": {},
   "outputs": [],
   "source": [
    "rf = RandomForestClassifier()\n",
    "rf_model_cv = GridSearchCV(rf, rf_params, cv=10, n_jobs=-1, verbose=True)"
   ]
  },
  {
   "cell_type": "code",
   "execution_count": null,
   "metadata": {},
   "outputs": [],
   "source": [
    "rf_model_cv.fit(X_train, y_train)"
   ]
  },
  {
   "cell_type": "code",
   "execution_count": 365,
   "metadata": {},
   "outputs": [],
   "source": [
    "rf_model_tuned = RandomForestClassifier(\n",
    "    max_depth=8, \n",
    "    max_features=8,\n",
    "    n_estimators=100,\n",
    "    min_samples_split=9\n",
    ").fit(X_train, y_train)"
   ]
  },
  {
   "cell_type": "code",
   "execution_count": 366,
   "metadata": {},
   "outputs": [],
   "source": [
    "y_pred = rf_model_tuned.predict(X_test)"
   ]
  },
  {
   "cell_type": "code",
   "execution_count": 367,
   "metadata": {},
   "outputs": [
    {
     "data": {
      "text/plain": [
       "0.7619047619047619"
      ]
     },
     "execution_count": 367,
     "metadata": {},
     "output_type": "execute_result"
    }
   ],
   "source": [
    "accuracy_score(y_test, y_pred)"
   ]
  },
  {
   "cell_type": "code",
   "execution_count": null,
   "metadata": {},
   "outputs": [],
   "source": []
  },
  {
   "cell_type": "markdown",
   "metadata": {},
   "source": [
    "# Gradient Boosting Machines (GBM)"
   ]
  },
  {
   "cell_type": "markdown",
   "metadata": {},
   "source": [
    "#### Prepare data"
   ]
  },
  {
   "cell_type": "code",
   "execution_count": 131,
   "metadata": {},
   "outputs": [],
   "source": [
    "df = diabetes.copy()\n",
    "df.dropna(inplace=True)\n",
    "y = df['Outcome']\n",
    "X = df.drop(['Outcome'], axis=1)\n",
    "X_train, X_test, y_train, y_test = train_test_split(X, y, test_size=0.30, random_state=42)"
   ]
  },
  {
   "cell_type": "code",
   "execution_count": 132,
   "metadata": {},
   "outputs": [],
   "source": [
    "from sklearn.ensemble import GradientBoostingClassifier"
   ]
  },
  {
   "cell_type": "code",
   "execution_count": 133,
   "metadata": {},
   "outputs": [],
   "source": [
    "gbm_model = GradientBoostingClassifier().fit(X_train, y_train)"
   ]
  },
  {
   "cell_type": "code",
   "execution_count": 134,
   "metadata": {},
   "outputs": [],
   "source": [
    "y_pred = gbm_model.predict(X_test)"
   ]
  },
  {
   "cell_type": "code",
   "execution_count": 135,
   "metadata": {},
   "outputs": [
    {
     "data": {
      "text/plain": [
       "0.7532467532467533"
      ]
     },
     "execution_count": 135,
     "metadata": {},
     "output_type": "execute_result"
    }
   ],
   "source": [
    "accuracy_score(y_test, y_pred)"
   ]
  },
  {
   "cell_type": "code",
   "execution_count": null,
   "metadata": {},
   "outputs": [],
   "source": []
  },
  {
   "cell_type": "markdown",
   "metadata": {},
   "source": [
    "### Model tuning"
   ]
  },
  {
   "cell_type": "code",
   "execution_count": 139,
   "metadata": {},
   "outputs": [],
   "source": [
    "gbm_params = {\n",
    "    'n_estimators': [100, 500, 1000],\n",
    "    'min_samples_split': [2, 5, 10],\n",
    "    'learning_rate': [0.0001, 0.001, 0.01, 0.1],\n",
    "    'max_depth': [3, 5, 10]\n",
    "}"
   ]
  },
  {
   "cell_type": "code",
   "execution_count": 140,
   "metadata": {},
   "outputs": [
    {
     "name": "stdout",
     "output_type": "stream",
     "text": [
      "Fitting 10 folds for each of 108 candidates, totalling 1080 fits\n"
     ]
    },
    {
     "name": "stderr",
     "output_type": "stream",
     "text": [
      "[Parallel(n_jobs=-1)]: Using backend LokyBackend with 4 concurrent workers.\n",
      "[Parallel(n_jobs=-1)]: Done  42 tasks      | elapsed:    7.2s\n",
      "[Parallel(n_jobs=-1)]: Done 192 tasks      | elapsed:   42.7s\n",
      "[Parallel(n_jobs=-1)]: Done 442 tasks      | elapsed:  2.3min\n",
      "[Parallel(n_jobs=-1)]: Done 792 tasks      | elapsed:  5.3min\n",
      "[Parallel(n_jobs=-1)]: Done 1080 out of 1080 | elapsed:  6.6min finished\n"
     ]
    }
   ],
   "source": [
    "gbm = GradientBoostingClassifier()\n",
    "gbm_model_cv = GridSearchCV(gbm, gbm_params, cv=10, n_jobs=-1, verbose=True).fit(X_train, y_train)"
   ]
  },
  {
   "cell_type": "code",
   "execution_count": 141,
   "metadata": {},
   "outputs": [
    {
     "data": {
      "text/plain": [
       "{'learning_rate': 0.01,\n",
       " 'max_depth': 3,\n",
       " 'min_samples_split': 5,\n",
       " 'n_estimators': 500}"
      ]
     },
     "execution_count": 141,
     "metadata": {},
     "output_type": "execute_result"
    }
   ],
   "source": [
    "gbm_model_cv.best_params_"
   ]
  },
  {
   "cell_type": "code",
   "execution_count": 368,
   "metadata": {},
   "outputs": [],
   "source": [
    "gbm_model_tuned = GradientBoostingClassifier(\n",
    "    learning_rate=0.01,\n",
    "    max_depth=3,\n",
    "    min_samples_split=5,\n",
    "    n_estimators=1000\n",
    ").fit(X_train, y_train)"
   ]
  },
  {
   "cell_type": "code",
   "execution_count": 369,
   "metadata": {},
   "outputs": [],
   "source": [
    "y_pred = gbm_model_tuned.predict(X_test)"
   ]
  },
  {
   "cell_type": "code",
   "execution_count": 370,
   "metadata": {},
   "outputs": [
    {
     "data": {
      "text/plain": [
       "0.7489177489177489"
      ]
     },
     "execution_count": 370,
     "metadata": {},
     "output_type": "execute_result"
    }
   ],
   "source": [
    "accuracy_score(y_test, y_pred)"
   ]
  },
  {
   "cell_type": "code",
   "execution_count": null,
   "metadata": {},
   "outputs": [],
   "source": []
  },
  {
   "cell_type": "markdown",
   "metadata": {},
   "source": [
    "# XGBoost"
   ]
  },
  {
   "cell_type": "markdown",
   "metadata": {},
   "source": [
    "#### Prepare data"
   ]
  },
  {
   "cell_type": "code",
   "execution_count": 171,
   "metadata": {},
   "outputs": [],
   "source": [
    "df = diabetes.copy()\n",
    "df.dropna(inplace=True)\n",
    "y = df['Outcome']\n",
    "X = df.drop(['Outcome'], axis=1)\n",
    "X_train, X_test, y_train, y_test = train_test_split(X, y, test_size=0.30, random_state=42)"
   ]
  },
  {
   "cell_type": "code",
   "execution_count": 172,
   "metadata": {},
   "outputs": [],
   "source": [
    "from xgboost import XGBClassifier"
   ]
  },
  {
   "cell_type": "code",
   "execution_count": 173,
   "metadata": {},
   "outputs": [],
   "source": [
    "xgb_model = XGBClassifier().fit(X_train, y_train)"
   ]
  },
  {
   "cell_type": "code",
   "execution_count": 175,
   "metadata": {},
   "outputs": [
    {
     "data": {
      "text/plain": [
       "0.7489177489177489"
      ]
     },
     "execution_count": 175,
     "metadata": {},
     "output_type": "execute_result"
    }
   ],
   "source": [
    "y_pred = xgb_model.predict(X_test)\n",
    "accuracy_score(y_test, y_pred)"
   ]
  },
  {
   "cell_type": "markdown",
   "metadata": {},
   "source": [
    "### Model tuning"
   ]
  },
  {
   "cell_type": "code",
   "execution_count": 178,
   "metadata": {},
   "outputs": [],
   "source": [
    "xgb_params = {\n",
    "    'n_estimators': [100, 500, 1000, 2000],\n",
    "    'subsample': [0.8, 0.9, 1.0],\n",
    "    'max_depth': [2, 3, 5, 8],\n",
    "    'learning_rate': [0.00001, 0.0001, 0.001, 0.01, 0.1],\n",
    "    'min_samples_split': [2, 5, 8, 10]\n",
    "}"
   ]
  },
  {
   "cell_type": "code",
   "execution_count": 179,
   "metadata": {},
   "outputs": [
    {
     "name": "stdout",
     "output_type": "stream",
     "text": [
      "Fitting 10 folds for each of 960 candidates, totalling 9600 fits\n"
     ]
    },
    {
     "name": "stderr",
     "output_type": "stream",
     "text": [
      "[Parallel(n_jobs=-1)]: Using backend LokyBackend with 4 concurrent workers.\n",
      "[Parallel(n_jobs=-1)]: Done  47 tasks      | elapsed:    4.8s\n",
      "[Parallel(n_jobs=-1)]: Done 222 tasks      | elapsed:   27.6s\n",
      "[Parallel(n_jobs=-1)]: Done 472 tasks      | elapsed:  1.0min\n",
      "[Parallel(n_jobs=-1)]: Done 822 tasks      | elapsed:  1.8min\n",
      "[Parallel(n_jobs=-1)]: Done 1272 tasks      | elapsed:  3.1min\n",
      "[Parallel(n_jobs=-1)]: Done 1822 tasks      | elapsed:  5.5min\n",
      "[Parallel(n_jobs=-1)]: Done 2510 tasks      | elapsed:  7.4min\n",
      "[Parallel(n_jobs=-1)]: Done 3260 tasks      | elapsed:  9.9min\n",
      "[Parallel(n_jobs=-1)]: Done 4141 tasks      | elapsed: 14.3min\n",
      "[Parallel(n_jobs=-1)]: Done 5091 tasks      | elapsed: 17.5min\n",
      "[Parallel(n_jobs=-1)]: Done 6373 tasks      | elapsed: 22.4min\n",
      "[Parallel(n_jobs=-1)]: Done 7523 tasks      | elapsed: 26.2min\n",
      "[Parallel(n_jobs=-1)]: Done 8937 tasks      | elapsed: 29.7min\n",
      "[Parallel(n_jobs=-1)]: Done 9600 out of 9600 | elapsed: 31.7min finished\n"
     ]
    }
   ],
   "source": [
    "xgb = XGBClassifier()\n",
    "xgb_model_cv = GridSearchCV(xgb, xgb_params, cv=10, n_jobs=-1, verbose=True).fit(X_train, y_train)"
   ]
  },
  {
   "cell_type": "code",
   "execution_count": 180,
   "metadata": {},
   "outputs": [
    {
     "data": {
      "text/plain": [
       "{'learning_rate': 0.001,\n",
       " 'max_depth': 5,\n",
       " 'min_samples_split': 2,\n",
       " 'n_estimators': 2000,\n",
       " 'subsample': 1.0}"
      ]
     },
     "execution_count": 180,
     "metadata": {},
     "output_type": "execute_result"
    }
   ],
   "source": [
    "xgb_model_cv.best_params_"
   ]
  },
  {
   "cell_type": "code",
   "execution_count": 371,
   "metadata": {},
   "outputs": [],
   "source": [
    "xgb_model_tuned = XGBClassifier(\n",
    "    learning_rate=0.001,\n",
    "    max_depth=5,\n",
    "    min_samples_split=2,\n",
    "    n_estimators=2000,\n",
    "    subsample=1\n",
    ").fit(X_train, y_train)"
   ]
  },
  {
   "cell_type": "code",
   "execution_count": 372,
   "metadata": {},
   "outputs": [
    {
     "data": {
      "text/plain": [
       "0.7575757575757576"
      ]
     },
     "execution_count": 372,
     "metadata": {},
     "output_type": "execute_result"
    }
   ],
   "source": [
    "y_pred = xgb_model_tuned.predict(X_test)\n",
    "accuracy_score(y_test, y_pred)"
   ]
  },
  {
   "cell_type": "code",
   "execution_count": null,
   "metadata": {},
   "outputs": [],
   "source": []
  },
  {
   "cell_type": "markdown",
   "metadata": {},
   "source": [
    "# LightGBM"
   ]
  },
  {
   "cell_type": "markdown",
   "metadata": {},
   "source": [
    "#### Prepare data"
   ]
  },
  {
   "cell_type": "code",
   "execution_count": 183,
   "metadata": {},
   "outputs": [],
   "source": [
    "df = diabetes.copy()\n",
    "df.dropna(inplace=True)\n",
    "y = df['Outcome']\n",
    "X = df.drop(['Outcome'], axis=1)\n",
    "X_train, X_test, y_train, y_test = train_test_split(X, y, test_size=0.30, random_state=42)"
   ]
  },
  {
   "cell_type": "code",
   "execution_count": 184,
   "metadata": {},
   "outputs": [],
   "source": [
    "from lightgbm import LGBMClassifier"
   ]
  },
  {
   "cell_type": "code",
   "execution_count": 185,
   "metadata": {},
   "outputs": [],
   "source": [
    "lgbm_model = LGBMClassifier().fit(X_train, y_train)"
   ]
  },
  {
   "cell_type": "code",
   "execution_count": 186,
   "metadata": {},
   "outputs": [
    {
     "data": {
      "text/plain": [
       "0.7272727272727273"
      ]
     },
     "execution_count": 186,
     "metadata": {},
     "output_type": "execute_result"
    }
   ],
   "source": [
    "y_pred = lgbm_model.predict(X_test)\n",
    "accuracy_score(y_test, y_pred)"
   ]
  },
  {
   "cell_type": "code",
   "execution_count": 187,
   "metadata": {},
   "outputs": [
    {
     "data": {
      "text/plain": [
       "LGBMClassifier(boosting_type='gbdt', class_weight=None, colsample_bytree=1.0,\n",
       "               importance_type='split', learning_rate=0.1, max_depth=-1,\n",
       "               min_child_samples=20, min_child_weight=0.001, min_split_gain=0.0,\n",
       "               n_estimators=100, n_jobs=-1, num_leaves=31, objective=None,\n",
       "               random_state=None, reg_alpha=0.0, reg_lambda=0.0, silent=True,\n",
       "               subsample=1.0, subsample_for_bin=200000, subsample_freq=0)"
      ]
     },
     "execution_count": 187,
     "metadata": {},
     "output_type": "execute_result"
    }
   ],
   "source": [
    "lgbm_model"
   ]
  },
  {
   "cell_type": "code",
   "execution_count": 188,
   "metadata": {},
   "outputs": [],
   "source": [
    "lgbm_params = {\n",
    "    'n_estimators': [100, 500, 1000, 2000],\n",
    "    'subsample': [0.8, 0.9, 1.0],\n",
    "    'max_depth': [2, 3, 5, 8],\n",
    "    'learning_rate': [0.00001, 0.0001, 0.001, 0.01, 0.1],\n",
    "    'min_child_samples': [5, 10, 20, 50],\n",
    "}"
   ]
  },
  {
   "cell_type": "code",
   "execution_count": 189,
   "metadata": {},
   "outputs": [
    {
     "name": "stdout",
     "output_type": "stream",
     "text": [
      "Fitting 10 folds for each of 960 candidates, totalling 9600 fits\n"
     ]
    },
    {
     "name": "stderr",
     "output_type": "stream",
     "text": [
      "[Parallel(n_jobs=-1)]: Using backend LokyBackend with 4 concurrent workers.\n",
      "[Parallel(n_jobs=-1)]: Done  54 tasks      | elapsed:    4.1s\n",
      "[Parallel(n_jobs=-1)]: Done 354 tasks      | elapsed:   19.9s\n",
      "[Parallel(n_jobs=-1)]: Done 823 tasks      | elapsed:   48.6s\n",
      "[Parallel(n_jobs=-1)]: Done 1292 tasks      | elapsed:  1.7min\n",
      "[Parallel(n_jobs=-1)]: Done 1837 tasks      | elapsed:  3.6min\n",
      "[Parallel(n_jobs=-1)]: Done 2560 tasks      | elapsed:  5.5min\n",
      "[Parallel(n_jobs=-1)]: Done 3210 tasks      | elapsed:  9.3min\n",
      "[Parallel(n_jobs=-1)]: Done 4215 tasks      | elapsed: 12.5min\n",
      "[Parallel(n_jobs=-1)]: Done 5433 tasks      | elapsed: 14.7min\n",
      "[Parallel(n_jobs=-1)]: Done 7069 tasks      | elapsed: 17.0min\n",
      "[Parallel(n_jobs=-1)]: Done 8786 tasks      | elapsed: 19.4min\n",
      "[Parallel(n_jobs=-1)]: Done 9600 out of 9600 | elapsed: 21.0min finished\n"
     ]
    }
   ],
   "source": [
    "lgbm = LGBMClassifier()\n",
    "lgbm_model_cv = GridSearchCV(lgbm, lgbm_params, cv=10, n_jobs=-1, verbose=1).fit(X_train, y_train)"
   ]
  },
  {
   "cell_type": "code",
   "execution_count": 190,
   "metadata": {},
   "outputs": [
    {
     "data": {
      "text/plain": [
       "{'learning_rate': 0.1,\n",
       " 'max_depth': 2,\n",
       " 'min_child_samples': 50,\n",
       " 'n_estimators': 100,\n",
       " 'subsample': 0.8}"
      ]
     },
     "execution_count": 190,
     "metadata": {},
     "output_type": "execute_result"
    }
   ],
   "source": [
    "lgbm_model_cv.best_params_"
   ]
  },
  {
   "cell_type": "code",
   "execution_count": 373,
   "metadata": {},
   "outputs": [],
   "source": [
    "lgbm_model_tuned = LGBMClassifier(\n",
    "    learning_rate=0.1,\n",
    "    max_depth=2,\n",
    "    min_child_samples=50,\n",
    "    n_estimators=100,\n",
    "    subsample=0.8\n",
    ").fit(X_train, y_train)"
   ]
  },
  {
   "cell_type": "code",
   "execution_count": 374,
   "metadata": {},
   "outputs": [
    {
     "data": {
      "text/plain": [
       "0.7575757575757576"
      ]
     },
     "execution_count": 374,
     "metadata": {},
     "output_type": "execute_result"
    }
   ],
   "source": [
    "y_pred = lgbm_model_tuned.predict(X_test)\n",
    "accuracy_score(y_test, y_pred)"
   ]
  },
  {
   "cell_type": "code",
   "execution_count": null,
   "metadata": {},
   "outputs": [],
   "source": []
  },
  {
   "cell_type": "markdown",
   "metadata": {},
   "source": [
    "# CatBoost"
   ]
  },
  {
   "cell_type": "markdown",
   "metadata": {},
   "source": [
    "#### Prepare data"
   ]
  },
  {
   "cell_type": "code",
   "execution_count": 208,
   "metadata": {},
   "outputs": [],
   "source": [
    "df = diabetes.copy()\n",
    "df.dropna(inplace=True)\n",
    "y = df['Outcome']\n",
    "X = df.drop(['Outcome'], axis=1)\n",
    "X_train, X_test, y_train, y_test = train_test_split(X, y, test_size=0.30, random_state=42)"
   ]
  },
  {
   "cell_type": "code",
   "execution_count": 209,
   "metadata": {},
   "outputs": [],
   "source": [
    "from catboost import CatBoostClassifier"
   ]
  },
  {
   "cell_type": "code",
   "execution_count": 210,
   "metadata": {},
   "outputs": [
    {
     "name": "stdout",
     "output_type": "stream",
     "text": [
      "Learning rate set to 0.014051\n",
      "0:\tlearn: 0.6855150\ttotal: 121ms\tremaining: 2m\n",
      "1:\tlearn: 0.6770871\ttotal: 149ms\tremaining: 1m 14s\n",
      "2:\tlearn: 0.6702185\ttotal: 161ms\tremaining: 53.5s\n",
      "3:\tlearn: 0.6643316\ttotal: 171ms\tremaining: 42.6s\n",
      "4:\tlearn: 0.6579151\ttotal: 184ms\tremaining: 36.6s\n",
      "5:\tlearn: 0.6514998\ttotal: 197ms\tremaining: 32.6s\n",
      "6:\tlearn: 0.6461360\ttotal: 237ms\tremaining: 33.6s\n",
      "7:\tlearn: 0.6390706\ttotal: 256ms\tremaining: 31.7s\n",
      "8:\tlearn: 0.6327248\ttotal: 277ms\tremaining: 30.5s\n",
      "9:\tlearn: 0.6271842\ttotal: 289ms\tremaining: 28.6s\n",
      "10:\tlearn: 0.6216610\ttotal: 301ms\tremaining: 27.1s\n",
      "11:\tlearn: 0.6156951\ttotal: 314ms\tremaining: 25.8s\n",
      "12:\tlearn: 0.6103059\ttotal: 327ms\tremaining: 24.8s\n",
      "13:\tlearn: 0.6050651\ttotal: 341ms\tremaining: 24s\n",
      "14:\tlearn: 0.6011997\ttotal: 350ms\tremaining: 23s\n",
      "15:\tlearn: 0.5965126\ttotal: 363ms\tremaining: 22.3s\n",
      "16:\tlearn: 0.5905148\ttotal: 373ms\tremaining: 21.6s\n",
      "17:\tlearn: 0.5860842\ttotal: 385ms\tremaining: 21s\n",
      "18:\tlearn: 0.5826715\ttotal: 396ms\tremaining: 20.4s\n",
      "19:\tlearn: 0.5787108\ttotal: 440ms\tremaining: 21.5s\n",
      "20:\tlearn: 0.5735968\ttotal: 451ms\tremaining: 21s\n",
      "21:\tlearn: 0.5688074\ttotal: 463ms\tremaining: 20.6s\n",
      "22:\tlearn: 0.5650105\ttotal: 475ms\tremaining: 20.2s\n",
      "23:\tlearn: 0.5617773\ttotal: 484ms\tremaining: 19.7s\n",
      "24:\tlearn: 0.5574985\ttotal: 496ms\tremaining: 19.4s\n",
      "25:\tlearn: 0.5535241\ttotal: 508ms\tremaining: 19s\n",
      "26:\tlearn: 0.5494823\ttotal: 519ms\tremaining: 18.7s\n",
      "27:\tlearn: 0.5462926\ttotal: 529ms\tremaining: 18.4s\n",
      "28:\tlearn: 0.5424273\ttotal: 542ms\tremaining: 18.1s\n",
      "29:\tlearn: 0.5390546\ttotal: 551ms\tremaining: 17.8s\n",
      "30:\tlearn: 0.5363148\ttotal: 564ms\tremaining: 17.6s\n",
      "31:\tlearn: 0.5338065\ttotal: 575ms\tremaining: 17.4s\n",
      "32:\tlearn: 0.5308509\ttotal: 586ms\tremaining: 17.2s\n",
      "33:\tlearn: 0.5286384\ttotal: 599ms\tremaining: 17s\n",
      "34:\tlearn: 0.5267177\ttotal: 626ms\tremaining: 17.3s\n",
      "35:\tlearn: 0.5237470\ttotal: 640ms\tremaining: 17.1s\n",
      "36:\tlearn: 0.5204408\ttotal: 655ms\tremaining: 17s\n",
      "37:\tlearn: 0.5175617\ttotal: 670ms\tremaining: 17s\n",
      "38:\tlearn: 0.5154784\ttotal: 683ms\tremaining: 16.8s\n",
      "39:\tlearn: 0.5118687\ttotal: 695ms\tremaining: 16.7s\n",
      "40:\tlearn: 0.5091355\ttotal: 710ms\tremaining: 16.6s\n",
      "41:\tlearn: 0.5058651\ttotal: 722ms\tremaining: 16.5s\n",
      "42:\tlearn: 0.5037934\ttotal: 735ms\tremaining: 16.4s\n",
      "43:\tlearn: 0.5010799\ttotal: 748ms\tremaining: 16.2s\n",
      "44:\tlearn: 0.4990765\ttotal: 761ms\tremaining: 16.1s\n",
      "45:\tlearn: 0.4962666\ttotal: 774ms\tremaining: 16s\n",
      "46:\tlearn: 0.4944233\ttotal: 788ms\tremaining: 16s\n",
      "47:\tlearn: 0.4910435\ttotal: 827ms\tremaining: 16.4s\n",
      "48:\tlearn: 0.4891533\ttotal: 844ms\tremaining: 16.4s\n",
      "49:\tlearn: 0.4874591\ttotal: 858ms\tremaining: 16.3s\n",
      "50:\tlearn: 0.4840676\ttotal: 875ms\tremaining: 16.3s\n",
      "51:\tlearn: 0.4822409\ttotal: 890ms\tremaining: 16.2s\n",
      "52:\tlearn: 0.4801427\ttotal: 901ms\tremaining: 16.1s\n",
      "53:\tlearn: 0.4778434\ttotal: 919ms\tremaining: 16.1s\n",
      "54:\tlearn: 0.4759932\ttotal: 932ms\tremaining: 16s\n",
      "55:\tlearn: 0.4742977\ttotal: 944ms\tremaining: 15.9s\n",
      "56:\tlearn: 0.4724980\ttotal: 958ms\tremaining: 15.8s\n",
      "57:\tlearn: 0.4708126\ttotal: 975ms\tremaining: 15.8s\n",
      "58:\tlearn: 0.4689753\ttotal: 987ms\tremaining: 15.7s\n",
      "59:\tlearn: 0.4676184\ttotal: 1s\tremaining: 15.7s\n",
      "60:\tlearn: 0.4656498\ttotal: 1.02s\tremaining: 15.7s\n",
      "61:\tlearn: 0.4641401\ttotal: 1.05s\tremaining: 15.9s\n",
      "62:\tlearn: 0.4626962\ttotal: 1.07s\tremaining: 15.9s\n",
      "63:\tlearn: 0.4615005\ttotal: 1.09s\tremaining: 15.9s\n",
      "64:\tlearn: 0.4604933\ttotal: 1.1s\tremaining: 15.9s\n",
      "65:\tlearn: 0.4594136\ttotal: 1.11s\tremaining: 15.8s\n",
      "66:\tlearn: 0.4579688\ttotal: 1.13s\tremaining: 15.7s\n",
      "67:\tlearn: 0.4567136\ttotal: 1.14s\tremaining: 15.6s\n",
      "68:\tlearn: 0.4546760\ttotal: 1.15s\tremaining: 15.5s\n",
      "69:\tlearn: 0.4531337\ttotal: 1.16s\tremaining: 15.4s\n",
      "70:\tlearn: 0.4521266\ttotal: 1.17s\tremaining: 15.3s\n",
      "71:\tlearn: 0.4501331\ttotal: 1.18s\tremaining: 15.2s\n",
      "72:\tlearn: 0.4483935\ttotal: 1.2s\tremaining: 15.2s\n",
      "73:\tlearn: 0.4468770\ttotal: 1.21s\tremaining: 15.2s\n",
      "74:\tlearn: 0.4456093\ttotal: 1.22s\tremaining: 15.1s\n",
      "75:\tlearn: 0.4437882\ttotal: 1.24s\tremaining: 15s\n",
      "76:\tlearn: 0.4429340\ttotal: 1.25s\tremaining: 14.9s\n",
      "77:\tlearn: 0.4419641\ttotal: 1.29s\tremaining: 15.3s\n",
      "78:\tlearn: 0.4409543\ttotal: 1.3s\tremaining: 15.2s\n",
      "79:\tlearn: 0.4398346\ttotal: 1.31s\tremaining: 15.1s\n",
      "80:\tlearn: 0.4377858\ttotal: 1.33s\tremaining: 15.1s\n",
      "81:\tlearn: 0.4370914\ttotal: 1.34s\tremaining: 15s\n",
      "82:\tlearn: 0.4360152\ttotal: 1.35s\tremaining: 14.9s\n",
      "83:\tlearn: 0.4338659\ttotal: 1.36s\tremaining: 14.8s\n",
      "84:\tlearn: 0.4330507\ttotal: 1.37s\tremaining: 14.7s\n",
      "85:\tlearn: 0.4315601\ttotal: 1.38s\tremaining: 14.6s\n",
      "86:\tlearn: 0.4301555\ttotal: 1.39s\tremaining: 14.6s\n",
      "87:\tlearn: 0.4296356\ttotal: 1.4s\tremaining: 14.5s\n",
      "88:\tlearn: 0.4288824\ttotal: 1.42s\tremaining: 14.5s\n",
      "89:\tlearn: 0.4278771\ttotal: 1.43s\tremaining: 14.5s\n",
      "90:\tlearn: 0.4267041\ttotal: 1.46s\tremaining: 14.6s\n",
      "91:\tlearn: 0.4256415\ttotal: 1.48s\tremaining: 14.6s\n",
      "92:\tlearn: 0.4251379\ttotal: 1.54s\tremaining: 15s\n",
      "93:\tlearn: 0.4241514\ttotal: 1.67s\tremaining: 16.1s\n",
      "94:\tlearn: 0.4233252\ttotal: 1.7s\tremaining: 16.2s\n",
      "95:\tlearn: 0.4224810\ttotal: 1.71s\tremaining: 16.1s\n",
      "96:\tlearn: 0.4215699\ttotal: 1.72s\tremaining: 16s\n",
      "97:\tlearn: 0.4207098\ttotal: 1.73s\tremaining: 15.9s\n",
      "98:\tlearn: 0.4192137\ttotal: 1.76s\tremaining: 16s\n",
      "99:\tlearn: 0.4185275\ttotal: 1.77s\tremaining: 15.9s\n",
      "100:\tlearn: 0.4176344\ttotal: 1.79s\tremaining: 15.9s\n",
      "101:\tlearn: 0.4164605\ttotal: 1.8s\tremaining: 15.9s\n",
      "102:\tlearn: 0.4155657\ttotal: 1.81s\tremaining: 15.8s\n",
      "103:\tlearn: 0.4150441\ttotal: 1.82s\tremaining: 15.7s\n",
      "104:\tlearn: 0.4140472\ttotal: 1.83s\tremaining: 15.6s\n",
      "105:\tlearn: 0.4134083\ttotal: 1.85s\tremaining: 15.6s\n",
      "106:\tlearn: 0.4128325\ttotal: 1.86s\tremaining: 15.5s\n",
      "107:\tlearn: 0.4120207\ttotal: 1.87s\tremaining: 15.4s\n",
      "108:\tlearn: 0.4112472\ttotal: 1.9s\tremaining: 15.5s\n",
      "109:\tlearn: 0.4103616\ttotal: 1.92s\tremaining: 15.5s\n",
      "110:\tlearn: 0.4098844\ttotal: 1.92s\tremaining: 15.4s\n",
      "111:\tlearn: 0.4089941\ttotal: 1.94s\tremaining: 15.4s\n",
      "112:\tlearn: 0.4080776\ttotal: 1.95s\tremaining: 15.3s\n",
      "113:\tlearn: 0.4071631\ttotal: 1.96s\tremaining: 15.2s\n",
      "114:\tlearn: 0.4064449\ttotal: 1.97s\tremaining: 15.1s\n",
      "115:\tlearn: 0.4058528\ttotal: 1.98s\tremaining: 15.1s\n",
      "116:\tlearn: 0.4052606\ttotal: 1.99s\tremaining: 15s\n",
      "117:\tlearn: 0.4041042\ttotal: 2s\tremaining: 15s\n",
      "118:\tlearn: 0.4035341\ttotal: 2.01s\tremaining: 14.9s\n",
      "119:\tlearn: 0.4032324\ttotal: 2.02s\tremaining: 14.8s\n",
      "120:\tlearn: 0.4026863\ttotal: 2.03s\tremaining: 14.8s\n",
      "121:\tlearn: 0.4018410\ttotal: 2.05s\tremaining: 14.8s\n",
      "122:\tlearn: 0.4010875\ttotal: 2.06s\tremaining: 14.7s\n",
      "123:\tlearn: 0.4004614\ttotal: 2.07s\tremaining: 14.6s\n",
      "124:\tlearn: 0.3998816\ttotal: 2.08s\tremaining: 14.6s\n",
      "125:\tlearn: 0.3994033\ttotal: 2.09s\tremaining: 14.5s\n",
      "126:\tlearn: 0.3988970\ttotal: 2.13s\tremaining: 14.6s\n",
      "127:\tlearn: 0.3983345\ttotal: 2.14s\tremaining: 14.6s\n",
      "128:\tlearn: 0.3978301\ttotal: 2.16s\tremaining: 14.6s\n",
      "129:\tlearn: 0.3974726\ttotal: 2.17s\tremaining: 14.5s\n",
      "130:\tlearn: 0.3970527\ttotal: 2.18s\tremaining: 14.5s\n",
      "131:\tlearn: 0.3959477\ttotal: 2.2s\tremaining: 14.5s\n",
      "132:\tlearn: 0.3954501\ttotal: 2.21s\tremaining: 14.4s\n",
      "133:\tlearn: 0.3950607\ttotal: 2.23s\tremaining: 14.4s\n",
      "134:\tlearn: 0.3947005\ttotal: 2.25s\tremaining: 14.4s\n",
      "135:\tlearn: 0.3940579\ttotal: 2.29s\tremaining: 14.6s\n",
      "136:\tlearn: 0.3938609\ttotal: 2.35s\tremaining: 14.8s\n",
      "137:\tlearn: 0.3934050\ttotal: 2.39s\tremaining: 14.9s\n",
      "138:\tlearn: 0.3929366\ttotal: 2.44s\tremaining: 15.1s\n",
      "139:\tlearn: 0.3924608\ttotal: 2.48s\tremaining: 15.3s\n",
      "140:\tlearn: 0.3919533\ttotal: 2.5s\tremaining: 15.3s\n",
      "141:\tlearn: 0.3916568\ttotal: 2.52s\tremaining: 15.2s\n",
      "142:\tlearn: 0.3912872\ttotal: 2.53s\tremaining: 15.2s\n",
      "143:\tlearn: 0.3908611\ttotal: 2.54s\tremaining: 15.1s\n",
      "144:\tlearn: 0.3905237\ttotal: 2.58s\tremaining: 15.2s\n",
      "145:\tlearn: 0.3900668\ttotal: 2.6s\tremaining: 15.2s\n",
      "146:\tlearn: 0.3895775\ttotal: 2.62s\tremaining: 15.2s\n",
      "147:\tlearn: 0.3889688\ttotal: 2.63s\tremaining: 15.2s\n",
      "148:\tlearn: 0.3880500\ttotal: 2.65s\tremaining: 15.1s\n",
      "149:\tlearn: 0.3876157\ttotal: 2.66s\tremaining: 15.1s\n",
      "150:\tlearn: 0.3868288\ttotal: 2.68s\tremaining: 15.1s\n",
      "151:\tlearn: 0.3865649\ttotal: 2.69s\tremaining: 15s\n",
      "152:\tlearn: 0.3857021\ttotal: 2.71s\tremaining: 15s\n",
      "153:\tlearn: 0.3854615\ttotal: 2.72s\tremaining: 15s\n",
      "154:\tlearn: 0.3848121\ttotal: 2.73s\tremaining: 14.9s\n",
      "155:\tlearn: 0.3842129\ttotal: 2.75s\tremaining: 14.9s\n",
      "156:\tlearn: 0.3830335\ttotal: 2.76s\tremaining: 14.8s\n",
      "157:\tlearn: 0.3824864\ttotal: 2.78s\tremaining: 14.8s\n",
      "158:\tlearn: 0.3820294\ttotal: 2.81s\tremaining: 14.9s\n",
      "159:\tlearn: 0.3817277\ttotal: 2.83s\tremaining: 14.9s\n",
      "160:\tlearn: 0.3809674\ttotal: 2.85s\tremaining: 14.8s\n",
      "161:\tlearn: 0.3807287\ttotal: 2.86s\tremaining: 14.8s\n",
      "162:\tlearn: 0.3803310\ttotal: 2.88s\tremaining: 14.8s\n",
      "163:\tlearn: 0.3795906\ttotal: 2.9s\tremaining: 14.8s\n",
      "164:\tlearn: 0.3789064\ttotal: 2.91s\tremaining: 14.7s\n",
      "165:\tlearn: 0.3785732\ttotal: 2.92s\tremaining: 14.7s\n",
      "166:\tlearn: 0.3780658\ttotal: 2.94s\tremaining: 14.6s\n",
      "167:\tlearn: 0.3775354\ttotal: 2.95s\tremaining: 14.6s\n",
      "168:\tlearn: 0.3769631\ttotal: 2.96s\tremaining: 14.6s\n",
      "169:\tlearn: 0.3765574\ttotal: 2.97s\tremaining: 14.5s\n",
      "170:\tlearn: 0.3760174\ttotal: 2.98s\tremaining: 14.5s\n",
      "171:\tlearn: 0.3756017\ttotal: 2.99s\tremaining: 14.4s\n",
      "172:\tlearn: 0.3752173\ttotal: 3.01s\tremaining: 14.4s\n",
      "173:\tlearn: 0.3748519\ttotal: 3.02s\tremaining: 14.3s\n",
      "174:\tlearn: 0.3745657\ttotal: 3.05s\tremaining: 14.4s\n",
      "175:\tlearn: 0.3743903\ttotal: 3.06s\tremaining: 14.3s\n",
      "176:\tlearn: 0.3742445\ttotal: 3.07s\tremaining: 14.3s\n",
      "177:\tlearn: 0.3739540\ttotal: 3.08s\tremaining: 14.2s\n",
      "178:\tlearn: 0.3737146\ttotal: 3.09s\tremaining: 14.2s\n",
      "179:\tlearn: 0.3734065\ttotal: 3.1s\tremaining: 14.1s\n",
      "180:\tlearn: 0.3728762\ttotal: 3.11s\tremaining: 14.1s\n",
      "181:\tlearn: 0.3726519\ttotal: 3.12s\tremaining: 14s\n",
      "182:\tlearn: 0.3723137\ttotal: 3.14s\tremaining: 14s\n",
      "183:\tlearn: 0.3714721\ttotal: 3.15s\tremaining: 14s\n",
      "184:\tlearn: 0.3712801\ttotal: 3.16s\tremaining: 13.9s\n",
      "185:\tlearn: 0.3707875\ttotal: 3.17s\tremaining: 13.9s\n",
      "186:\tlearn: 0.3702778\ttotal: 3.18s\tremaining: 13.8s\n",
      "187:\tlearn: 0.3700432\ttotal: 3.19s\tremaining: 13.8s\n",
      "188:\tlearn: 0.3696787\ttotal: 3.2s\tremaining: 13.8s\n",
      "189:\tlearn: 0.3685341\ttotal: 3.21s\tremaining: 13.7s\n",
      "190:\tlearn: 0.3680128\ttotal: 3.25s\tremaining: 13.8s\n",
      "191:\tlearn: 0.3672151\ttotal: 3.26s\tremaining: 13.7s\n",
      "192:\tlearn: 0.3669498\ttotal: 3.27s\tremaining: 13.7s\n",
      "193:\tlearn: 0.3658715\ttotal: 3.29s\tremaining: 13.7s\n",
      "194:\tlearn: 0.3656527\ttotal: 3.3s\tremaining: 13.6s\n",
      "195:\tlearn: 0.3655941\ttotal: 3.31s\tremaining: 13.6s\n",
      "196:\tlearn: 0.3652654\ttotal: 3.32s\tremaining: 13.5s\n",
      "197:\tlearn: 0.3650021\ttotal: 3.33s\tremaining: 13.5s\n",
      "198:\tlearn: 0.3643391\ttotal: 3.34s\tremaining: 13.5s\n",
      "199:\tlearn: 0.3640934\ttotal: 3.36s\tremaining: 13.4s\n",
      "200:\tlearn: 0.3636733\ttotal: 3.38s\tremaining: 13.4s\n",
      "201:\tlearn: 0.3633261\ttotal: 3.39s\tremaining: 13.4s\n",
      "202:\tlearn: 0.3630034\ttotal: 3.4s\tremaining: 13.4s\n",
      "203:\tlearn: 0.3628904\ttotal: 3.44s\tremaining: 13.4s\n",
      "204:\tlearn: 0.3623388\ttotal: 3.51s\tremaining: 13.6s\n",
      "205:\tlearn: 0.3617478\ttotal: 3.58s\tremaining: 13.8s\n",
      "206:\tlearn: 0.3613909\ttotal: 3.66s\tremaining: 14s\n",
      "207:\tlearn: 0.3607622\ttotal: 3.71s\tremaining: 14.1s\n",
      "208:\tlearn: 0.3605817\ttotal: 3.76s\tremaining: 14.2s\n",
      "209:\tlearn: 0.3604722\ttotal: 3.78s\tremaining: 14.2s\n",
      "210:\tlearn: 0.3603182\ttotal: 3.79s\tremaining: 14.2s\n",
      "211:\tlearn: 0.3599327\ttotal: 3.81s\tremaining: 14.2s\n",
      "212:\tlearn: 0.3596663\ttotal: 3.83s\tremaining: 14.1s\n",
      "213:\tlearn: 0.3591958\ttotal: 3.84s\tremaining: 14.1s\n",
      "214:\tlearn: 0.3590059\ttotal: 3.85s\tremaining: 14.1s\n",
      "215:\tlearn: 0.3586858\ttotal: 3.87s\tremaining: 14s\n",
      "216:\tlearn: 0.3583415\ttotal: 3.88s\tremaining: 14s\n",
      "217:\tlearn: 0.3579392\ttotal: 3.89s\tremaining: 14s\n",
      "218:\tlearn: 0.3576925\ttotal: 3.9s\tremaining: 13.9s\n",
      "219:\tlearn: 0.3571766\ttotal: 3.92s\tremaining: 13.9s\n",
      "220:\tlearn: 0.3570755\ttotal: 3.93s\tremaining: 13.8s\n",
      "221:\tlearn: 0.3563818\ttotal: 3.94s\tremaining: 13.8s\n",
      "222:\tlearn: 0.3559047\ttotal: 3.95s\tremaining: 13.8s\n",
      "223:\tlearn: 0.3555699\ttotal: 3.99s\tremaining: 13.8s\n",
      "224:\tlearn: 0.3554390\ttotal: 4s\tremaining: 13.8s\n",
      "225:\tlearn: 0.3552171\ttotal: 4.03s\tremaining: 13.8s\n",
      "226:\tlearn: 0.3549697\ttotal: 4.04s\tremaining: 13.8s\n",
      "227:\tlearn: 0.3544745\ttotal: 4.05s\tremaining: 13.7s\n",
      "228:\tlearn: 0.3540320\ttotal: 4.07s\tremaining: 13.7s\n",
      "229:\tlearn: 0.3536163\ttotal: 4.08s\tremaining: 13.7s\n",
      "230:\tlearn: 0.3532278\ttotal: 4.09s\tremaining: 13.6s\n",
      "231:\tlearn: 0.3527476\ttotal: 4.11s\tremaining: 13.6s\n",
      "232:\tlearn: 0.3526182\ttotal: 4.12s\tremaining: 13.6s\n",
      "233:\tlearn: 0.3523972\ttotal: 4.13s\tremaining: 13.5s\n",
      "234:\tlearn: 0.3521070\ttotal: 4.15s\tremaining: 13.5s\n",
      "235:\tlearn: 0.3519121\ttotal: 4.17s\tremaining: 13.5s\n",
      "236:\tlearn: 0.3516954\ttotal: 4.22s\tremaining: 13.6s\n",
      "237:\tlearn: 0.3514668\ttotal: 4.25s\tremaining: 13.6s\n",
      "238:\tlearn: 0.3509676\ttotal: 4.27s\tremaining: 13.6s\n",
      "239:\tlearn: 0.3504093\ttotal: 4.28s\tremaining: 13.6s\n",
      "240:\tlearn: 0.3503063\ttotal: 4.3s\tremaining: 13.5s\n",
      "241:\tlearn: 0.3502156\ttotal: 4.31s\tremaining: 13.5s\n",
      "242:\tlearn: 0.3499532\ttotal: 4.33s\tremaining: 13.5s\n",
      "243:\tlearn: 0.3494974\ttotal: 4.34s\tremaining: 13.4s\n",
      "244:\tlearn: 0.3492019\ttotal: 4.35s\tremaining: 13.4s\n",
      "245:\tlearn: 0.3489023\ttotal: 4.37s\tremaining: 13.4s\n",
      "246:\tlearn: 0.3487010\ttotal: 4.38s\tremaining: 13.3s\n",
      "247:\tlearn: 0.3484874\ttotal: 4.39s\tremaining: 13.3s\n",
      "248:\tlearn: 0.3483669\ttotal: 4.4s\tremaining: 13.3s\n",
      "249:\tlearn: 0.3480796\ttotal: 4.41s\tremaining: 13.2s\n",
      "250:\tlearn: 0.3474192\ttotal: 4.45s\tremaining: 13.3s\n",
      "251:\tlearn: 0.3469324\ttotal: 4.46s\tremaining: 13.2s\n",
      "252:\tlearn: 0.3466325\ttotal: 4.47s\tremaining: 13.2s\n",
      "253:\tlearn: 0.3463246\ttotal: 4.49s\tremaining: 13.2s\n",
      "254:\tlearn: 0.3458330\ttotal: 4.51s\tremaining: 13.2s\n",
      "255:\tlearn: 0.3454887\ttotal: 4.52s\tremaining: 13.1s\n",
      "256:\tlearn: 0.3453956\ttotal: 4.53s\tremaining: 13.1s\n",
      "257:\tlearn: 0.3452294\ttotal: 4.55s\tremaining: 13.1s\n",
      "258:\tlearn: 0.3448511\ttotal: 4.58s\tremaining: 13.1s\n",
      "259:\tlearn: 0.3444438\ttotal: 4.61s\tremaining: 13.1s\n",
      "260:\tlearn: 0.3441959\ttotal: 4.64s\tremaining: 13.1s\n",
      "261:\tlearn: 0.3438585\ttotal: 4.71s\tremaining: 13.3s\n",
      "262:\tlearn: 0.3432910\ttotal: 4.72s\tremaining: 13.2s\n",
      "263:\tlearn: 0.3431788\ttotal: 4.73s\tremaining: 13.2s\n",
      "264:\tlearn: 0.3427414\ttotal: 4.74s\tremaining: 13.1s\n",
      "265:\tlearn: 0.3426126\ttotal: 4.75s\tremaining: 13.1s\n",
      "266:\tlearn: 0.3424231\ttotal: 4.76s\tremaining: 13.1s\n",
      "267:\tlearn: 0.3422968\ttotal: 4.77s\tremaining: 13s\n",
      "268:\tlearn: 0.3421472\ttotal: 4.78s\tremaining: 13s\n",
      "269:\tlearn: 0.3419243\ttotal: 4.79s\tremaining: 13s\n",
      "270:\tlearn: 0.3415262\ttotal: 4.8s\tremaining: 12.9s\n",
      "271:\tlearn: 0.3414921\ttotal: 4.81s\tremaining: 12.9s\n",
      "272:\tlearn: 0.3413230\ttotal: 4.82s\tremaining: 12.8s\n",
      "273:\tlearn: 0.3410374\ttotal: 4.83s\tremaining: 12.8s\n",
      "274:\tlearn: 0.3409413\ttotal: 4.85s\tremaining: 12.8s\n",
      "275:\tlearn: 0.3405685\ttotal: 4.88s\tremaining: 12.8s\n",
      "276:\tlearn: 0.3403742\ttotal: 4.89s\tremaining: 12.8s\n",
      "277:\tlearn: 0.3401975\ttotal: 4.9s\tremaining: 12.7s\n",
      "278:\tlearn: 0.3400607\ttotal: 4.92s\tremaining: 12.7s\n",
      "279:\tlearn: 0.3397315\ttotal: 4.94s\tremaining: 12.7s\n",
      "280:\tlearn: 0.3395593\ttotal: 4.95s\tremaining: 12.7s\n",
      "281:\tlearn: 0.3392816\ttotal: 4.96s\tremaining: 12.6s\n",
      "282:\tlearn: 0.3391708\ttotal: 4.97s\tremaining: 12.6s\n",
      "283:\tlearn: 0.3387466\ttotal: 4.99s\tremaining: 12.6s\n",
      "284:\tlearn: 0.3385418\ttotal: 5s\tremaining: 12.5s\n",
      "285:\tlearn: 0.3382095\ttotal: 5.01s\tremaining: 12.5s\n",
      "286:\tlearn: 0.3377339\ttotal: 5.02s\tremaining: 12.5s\n",
      "287:\tlearn: 0.3375351\ttotal: 5.03s\tremaining: 12.4s\n",
      "288:\tlearn: 0.3373323\ttotal: 5.04s\tremaining: 12.4s\n",
      "289:\tlearn: 0.3371320\ttotal: 5.06s\tremaining: 12.4s\n",
      "290:\tlearn: 0.3369427\ttotal: 5.07s\tremaining: 12.4s\n",
      "291:\tlearn: 0.3368591\ttotal: 5.08s\tremaining: 12.3s\n",
      "292:\tlearn: 0.3365240\ttotal: 5.09s\tremaining: 12.3s\n",
      "293:\tlearn: 0.3362097\ttotal: 5.1s\tremaining: 12.3s\n",
      "294:\tlearn: 0.3358544\ttotal: 5.12s\tremaining: 12.2s\n",
      "295:\tlearn: 0.3357580\ttotal: 5.15s\tremaining: 12.3s\n",
      "296:\tlearn: 0.3353063\ttotal: 5.16s\tremaining: 12.2s\n",
      "297:\tlearn: 0.3352435\ttotal: 5.17s\tremaining: 12.2s\n",
      "298:\tlearn: 0.3349453\ttotal: 5.18s\tremaining: 12.2s\n",
      "299:\tlearn: 0.3345750\ttotal: 5.2s\tremaining: 12.1s\n",
      "300:\tlearn: 0.3343611\ttotal: 5.21s\tremaining: 12.1s\n",
      "301:\tlearn: 0.3340619\ttotal: 5.22s\tremaining: 12.1s\n",
      "302:\tlearn: 0.3336783\ttotal: 5.23s\tremaining: 12s\n",
      "303:\tlearn: 0.3333731\ttotal: 5.24s\tremaining: 12s\n",
      "304:\tlearn: 0.3332785\ttotal: 5.25s\tremaining: 12s\n",
      "305:\tlearn: 0.3328460\ttotal: 5.26s\tremaining: 11.9s\n",
      "306:\tlearn: 0.3323895\ttotal: 5.28s\tremaining: 11.9s\n",
      "307:\tlearn: 0.3322377\ttotal: 5.29s\tremaining: 11.9s\n",
      "308:\tlearn: 0.3320736\ttotal: 5.31s\tremaining: 11.9s\n",
      "309:\tlearn: 0.3319826\ttotal: 5.32s\tremaining: 11.8s\n",
      "310:\tlearn: 0.3317822\ttotal: 5.33s\tremaining: 11.8s\n",
      "311:\tlearn: 0.3315640\ttotal: 5.35s\tremaining: 11.8s\n",
      "312:\tlearn: 0.3315053\ttotal: 5.39s\tremaining: 11.8s\n",
      "313:\tlearn: 0.3313104\ttotal: 5.41s\tremaining: 11.8s\n",
      "314:\tlearn: 0.3311713\ttotal: 5.42s\tremaining: 11.8s\n",
      "315:\tlearn: 0.3308165\ttotal: 5.44s\tremaining: 11.8s\n",
      "316:\tlearn: 0.3305239\ttotal: 5.45s\tremaining: 11.7s\n",
      "317:\tlearn: 0.3303213\ttotal: 5.47s\tremaining: 11.7s\n",
      "318:\tlearn: 0.3297342\ttotal: 5.49s\tremaining: 11.7s\n",
      "319:\tlearn: 0.3296813\ttotal: 5.5s\tremaining: 11.7s\n",
      "320:\tlearn: 0.3294036\ttotal: 5.52s\tremaining: 11.7s\n",
      "321:\tlearn: 0.3291229\ttotal: 5.53s\tremaining: 11.7s\n",
      "322:\tlearn: 0.3289438\ttotal: 5.55s\tremaining: 11.6s\n",
      "323:\tlearn: 0.3288662\ttotal: 5.57s\tremaining: 11.6s\n",
      "324:\tlearn: 0.3285113\ttotal: 5.58s\tremaining: 11.6s\n",
      "325:\tlearn: 0.3280366\ttotal: 5.6s\tremaining: 11.6s\n",
      "326:\tlearn: 0.3276422\ttotal: 5.61s\tremaining: 11.5s\n",
      "327:\tlearn: 0.3272262\ttotal: 5.62s\tremaining: 11.5s\n",
      "328:\tlearn: 0.3269950\ttotal: 5.63s\tremaining: 11.5s\n",
      "329:\tlearn: 0.3268762\ttotal: 5.64s\tremaining: 11.4s\n",
      "330:\tlearn: 0.3267984\ttotal: 5.65s\tremaining: 11.4s\n",
      "331:\tlearn: 0.3263309\ttotal: 5.66s\tremaining: 11.4s\n",
      "332:\tlearn: 0.3258272\ttotal: 5.67s\tremaining: 11.4s\n",
      "333:\tlearn: 0.3255450\ttotal: 5.68s\tremaining: 11.3s\n",
      "334:\tlearn: 0.3252281\ttotal: 5.69s\tremaining: 11.3s\n",
      "335:\tlearn: 0.3249689\ttotal: 5.7s\tremaining: 11.3s\n",
      "336:\tlearn: 0.3248598\ttotal: 5.71s\tremaining: 11.2s\n",
      "337:\tlearn: 0.3246616\ttotal: 5.73s\tremaining: 11.2s\n",
      "338:\tlearn: 0.3242783\ttotal: 5.74s\tremaining: 11.2s\n",
      "339:\tlearn: 0.3240859\ttotal: 5.75s\tremaining: 11.2s\n",
      "340:\tlearn: 0.3239646\ttotal: 5.77s\tremaining: 11.1s\n",
      "341:\tlearn: 0.3238829\ttotal: 5.8s\tremaining: 11.2s\n",
      "342:\tlearn: 0.3237879\ttotal: 5.82s\tremaining: 11.1s\n",
      "343:\tlearn: 0.3236833\ttotal: 5.83s\tremaining: 11.1s\n",
      "344:\tlearn: 0.3233391\ttotal: 5.84s\tremaining: 11.1s\n",
      "345:\tlearn: 0.3230156\ttotal: 5.86s\tremaining: 11.1s\n",
      "346:\tlearn: 0.3229553\ttotal: 5.87s\tremaining: 11s\n",
      "347:\tlearn: 0.3228482\ttotal: 5.88s\tremaining: 11s\n",
      "348:\tlearn: 0.3225904\ttotal: 5.89s\tremaining: 11s\n",
      "349:\tlearn: 0.3222656\ttotal: 5.91s\tremaining: 11s\n",
      "350:\tlearn: 0.3218858\ttotal: 5.92s\tremaining: 11s\n",
      "351:\tlearn: 0.3215418\ttotal: 5.94s\tremaining: 10.9s\n",
      "352:\tlearn: 0.3213273\ttotal: 5.95s\tremaining: 10.9s\n",
      "353:\tlearn: 0.3210579\ttotal: 5.97s\tremaining: 10.9s\n",
      "354:\tlearn: 0.3209431\ttotal: 5.99s\tremaining: 10.9s\n",
      "355:\tlearn: 0.3207970\ttotal: 6s\tremaining: 10.8s\n",
      "356:\tlearn: 0.3203133\ttotal: 6.03s\tremaining: 10.9s\n",
      "357:\tlearn: 0.3201852\ttotal: 6.04s\tremaining: 10.8s\n",
      "358:\tlearn: 0.3201151\ttotal: 6.06s\tremaining: 10.8s\n",
      "359:\tlearn: 0.3196614\ttotal: 6.09s\tremaining: 10.8s\n",
      "360:\tlearn: 0.3194726\ttotal: 6.11s\tremaining: 10.8s\n",
      "361:\tlearn: 0.3193596\ttotal: 6.12s\tremaining: 10.8s\n",
      "362:\tlearn: 0.3189739\ttotal: 6.13s\tremaining: 10.8s\n",
      "363:\tlearn: 0.3188185\ttotal: 6.14s\tremaining: 10.7s\n",
      "364:\tlearn: 0.3186781\ttotal: 6.16s\tremaining: 10.7s\n",
      "365:\tlearn: 0.3185954\ttotal: 6.17s\tremaining: 10.7s\n",
      "366:\tlearn: 0.3184751\ttotal: 6.18s\tremaining: 10.7s\n",
      "367:\tlearn: 0.3183664\ttotal: 6.19s\tremaining: 10.6s\n",
      "368:\tlearn: 0.3180368\ttotal: 6.21s\tremaining: 10.6s\n",
      "369:\tlearn: 0.3179520\ttotal: 6.24s\tremaining: 10.6s\n",
      "370:\tlearn: 0.3178363\ttotal: 6.25s\tremaining: 10.6s\n",
      "371:\tlearn: 0.3176015\ttotal: 6.27s\tremaining: 10.6s\n",
      "372:\tlearn: 0.3173805\ttotal: 6.28s\tremaining: 10.6s\n",
      "373:\tlearn: 0.3172375\ttotal: 6.29s\tremaining: 10.5s\n",
      "374:\tlearn: 0.3171264\ttotal: 6.3s\tremaining: 10.5s\n",
      "375:\tlearn: 0.3169996\ttotal: 6.32s\tremaining: 10.5s\n",
      "376:\tlearn: 0.3168474\ttotal: 6.33s\tremaining: 10.5s\n",
      "377:\tlearn: 0.3166502\ttotal: 6.35s\tremaining: 10.5s\n",
      "378:\tlearn: 0.3164819\ttotal: 6.37s\tremaining: 10.4s\n",
      "379:\tlearn: 0.3163077\ttotal: 6.38s\tremaining: 10.4s\n",
      "380:\tlearn: 0.3162628\ttotal: 6.39s\tremaining: 10.4s\n",
      "381:\tlearn: 0.3161080\ttotal: 6.4s\tremaining: 10.4s\n",
      "382:\tlearn: 0.3159035\ttotal: 6.42s\tremaining: 10.3s\n",
      "383:\tlearn: 0.3157509\ttotal: 6.44s\tremaining: 10.3s\n",
      "384:\tlearn: 0.3155215\ttotal: 6.45s\tremaining: 10.3s\n",
      "385:\tlearn: 0.3154455\ttotal: 6.47s\tremaining: 10.3s\n",
      "386:\tlearn: 0.3152500\ttotal: 6.48s\tremaining: 10.3s\n",
      "387:\tlearn: 0.3151150\ttotal: 6.49s\tremaining: 10.2s\n",
      "388:\tlearn: 0.3147185\ttotal: 6.5s\tremaining: 10.2s\n",
      "389:\tlearn: 0.3146238\ttotal: 6.53s\tremaining: 10.2s\n",
      "390:\tlearn: 0.3143609\ttotal: 6.55s\tremaining: 10.2s\n",
      "391:\tlearn: 0.3140790\ttotal: 6.56s\tremaining: 10.2s\n",
      "392:\tlearn: 0.3140195\ttotal: 6.58s\tremaining: 10.2s\n",
      "393:\tlearn: 0.3139557\ttotal: 6.59s\tremaining: 10.1s\n",
      "394:\tlearn: 0.3139049\ttotal: 6.6s\tremaining: 10.1s\n",
      "395:\tlearn: 0.3137247\ttotal: 6.61s\tremaining: 10.1s\n",
      "396:\tlearn: 0.3136304\ttotal: 6.63s\tremaining: 10.1s\n",
      "397:\tlearn: 0.3135204\ttotal: 6.65s\tremaining: 10.1s\n",
      "398:\tlearn: 0.3132433\ttotal: 6.67s\tremaining: 10s\n",
      "399:\tlearn: 0.3129650\ttotal: 6.68s\tremaining: 10s\n",
      "400:\tlearn: 0.3128955\ttotal: 6.69s\tremaining: 10s\n",
      "401:\tlearn: 0.3126961\ttotal: 6.7s\tremaining: 9.97s\n",
      "402:\tlearn: 0.3124645\ttotal: 6.71s\tremaining: 9.95s\n",
      "403:\tlearn: 0.3123061\ttotal: 6.72s\tremaining: 9.92s\n",
      "404:\tlearn: 0.3119665\ttotal: 6.74s\tremaining: 9.89s\n",
      "405:\tlearn: 0.3116046\ttotal: 6.74s\tremaining: 9.87s\n",
      "406:\tlearn: 0.3113257\ttotal: 6.75s\tremaining: 9.84s\n",
      "407:\tlearn: 0.3111041\ttotal: 6.76s\tremaining: 9.82s\n",
      "408:\tlearn: 0.3108858\ttotal: 6.78s\tremaining: 9.79s\n",
      "409:\tlearn: 0.3105382\ttotal: 6.79s\tremaining: 9.77s\n",
      "410:\tlearn: 0.3101684\ttotal: 6.8s\tremaining: 9.74s\n",
      "411:\tlearn: 0.3100931\ttotal: 6.81s\tremaining: 9.72s\n",
      "412:\tlearn: 0.3099614\ttotal: 6.82s\tremaining: 9.7s\n",
      "413:\tlearn: 0.3096855\ttotal: 6.83s\tremaining: 9.67s\n",
      "414:\tlearn: 0.3096206\ttotal: 6.87s\tremaining: 9.68s\n",
      "415:\tlearn: 0.3094109\ttotal: 6.88s\tremaining: 9.66s\n",
      "416:\tlearn: 0.3091736\ttotal: 6.89s\tremaining: 9.64s\n",
      "417:\tlearn: 0.3089406\ttotal: 6.91s\tremaining: 9.62s\n",
      "418:\tlearn: 0.3089253\ttotal: 6.92s\tremaining: 9.59s\n",
      "419:\tlearn: 0.3086243\ttotal: 6.93s\tremaining: 9.57s\n",
      "420:\tlearn: 0.3084746\ttotal: 6.94s\tremaining: 9.54s\n",
      "421:\tlearn: 0.3082135\ttotal: 6.95s\tremaining: 9.52s\n",
      "422:\tlearn: 0.3079999\ttotal: 6.96s\tremaining: 9.49s\n",
      "423:\tlearn: 0.3077484\ttotal: 6.97s\tremaining: 9.47s\n",
      "424:\tlearn: 0.3075629\ttotal: 6.98s\tremaining: 9.45s\n",
      "425:\tlearn: 0.3074469\ttotal: 7s\tremaining: 9.43s\n",
      "426:\tlearn: 0.3073306\ttotal: 7.01s\tremaining: 9.4s\n",
      "427:\tlearn: 0.3071750\ttotal: 7.02s\tremaining: 9.38s\n",
      "428:\tlearn: 0.3065098\ttotal: 7.03s\tremaining: 9.35s\n",
      "429:\tlearn: 0.3063590\ttotal: 7.06s\tremaining: 9.36s\n",
      "430:\tlearn: 0.3062952\ttotal: 7.07s\tremaining: 9.33s\n",
      "431:\tlearn: 0.3061262\ttotal: 7.08s\tremaining: 9.31s\n",
      "432:\tlearn: 0.3060348\ttotal: 7.09s\tremaining: 9.29s\n",
      "433:\tlearn: 0.3059226\ttotal: 7.1s\tremaining: 9.26s\n",
      "434:\tlearn: 0.3058014\ttotal: 7.12s\tremaining: 9.24s\n",
      "435:\tlearn: 0.3057540\ttotal: 7.13s\tremaining: 9.22s\n",
      "436:\tlearn: 0.3056093\ttotal: 7.15s\tremaining: 9.21s\n",
      "437:\tlearn: 0.3052933\ttotal: 7.17s\tremaining: 9.2s\n",
      "438:\tlearn: 0.3050904\ttotal: 7.19s\tremaining: 9.19s\n",
      "439:\tlearn: 0.3050202\ttotal: 7.2s\tremaining: 9.16s\n",
      "440:\tlearn: 0.3049851\ttotal: 7.21s\tremaining: 9.14s\n",
      "441:\tlearn: 0.3048961\ttotal: 7.23s\tremaining: 9.12s\n",
      "442:\tlearn: 0.3046872\ttotal: 7.24s\tremaining: 9.11s\n",
      "443:\tlearn: 0.3044647\ttotal: 7.29s\tremaining: 9.12s\n",
      "444:\tlearn: 0.3041540\ttotal: 7.3s\tremaining: 9.11s\n",
      "445:\tlearn: 0.3040872\ttotal: 7.32s\tremaining: 9.1s\n",
      "446:\tlearn: 0.3039668\ttotal: 7.35s\tremaining: 9.09s\n",
      "447:\tlearn: 0.3039325\ttotal: 7.36s\tremaining: 9.07s\n",
      "448:\tlearn: 0.3038137\ttotal: 7.37s\tremaining: 9.04s\n",
      "449:\tlearn: 0.3037722\ttotal: 7.38s\tremaining: 9.03s\n",
      "450:\tlearn: 0.3036158\ttotal: 7.44s\tremaining: 9.06s\n",
      "451:\tlearn: 0.3034690\ttotal: 7.51s\tremaining: 9.11s\n",
      "452:\tlearn: 0.3032795\ttotal: 7.57s\tremaining: 9.14s\n",
      "453:\tlearn: 0.3030762\ttotal: 7.62s\tremaining: 9.16s\n",
      "454:\tlearn: 0.3028103\ttotal: 7.66s\tremaining: 9.17s\n",
      "455:\tlearn: 0.3027414\ttotal: 7.7s\tremaining: 9.18s\n",
      "456:\tlearn: 0.3026594\ttotal: 7.74s\tremaining: 9.19s\n",
      "457:\tlearn: 0.3023823\ttotal: 7.79s\tremaining: 9.22s\n",
      "458:\tlearn: 0.3022408\ttotal: 7.86s\tremaining: 9.26s\n",
      "459:\tlearn: 0.3019313\ttotal: 7.9s\tremaining: 9.27s\n",
      "460:\tlearn: 0.3018345\ttotal: 7.91s\tremaining: 9.25s\n",
      "461:\tlearn: 0.3016269\ttotal: 7.92s\tremaining: 9.22s\n",
      "462:\tlearn: 0.3014763\ttotal: 7.93s\tremaining: 9.2s\n",
      "463:\tlearn: 0.3012871\ttotal: 7.96s\tremaining: 9.2s\n",
      "464:\tlearn: 0.3012260\ttotal: 7.98s\tremaining: 9.18s\n",
      "465:\tlearn: 0.3009998\ttotal: 7.99s\tremaining: 9.15s\n",
      "466:\tlearn: 0.3008873\ttotal: 8.02s\tremaining: 9.15s\n",
      "467:\tlearn: 0.3005922\ttotal: 8.08s\tremaining: 9.19s\n",
      "468:\tlearn: 0.3004093\ttotal: 8.12s\tremaining: 9.2s\n",
      "469:\tlearn: 0.3003240\ttotal: 8.15s\tremaining: 9.19s\n",
      "470:\tlearn: 0.3000057\ttotal: 8.21s\tremaining: 9.22s\n",
      "471:\tlearn: 0.2997066\ttotal: 8.27s\tremaining: 9.25s\n",
      "472:\tlearn: 0.2995472\ttotal: 8.31s\tremaining: 9.26s\n",
      "473:\tlearn: 0.2994527\ttotal: 8.35s\tremaining: 9.27s\n",
      "474:\tlearn: 0.2994071\ttotal: 8.38s\tremaining: 9.26s\n",
      "475:\tlearn: 0.2990295\ttotal: 8.42s\tremaining: 9.27s\n",
      "476:\tlearn: 0.2990030\ttotal: 8.48s\tremaining: 9.3s\n",
      "477:\tlearn: 0.2987327\ttotal: 8.53s\tremaining: 9.32s\n",
      "478:\tlearn: 0.2985369\ttotal: 8.56s\tremaining: 9.31s\n",
      "479:\tlearn: 0.2984794\ttotal: 8.58s\tremaining: 9.3s\n",
      "480:\tlearn: 0.2983493\ttotal: 8.62s\tremaining: 9.3s\n",
      "481:\tlearn: 0.2981197\ttotal: 8.65s\tremaining: 9.29s\n",
      "482:\tlearn: 0.2980507\ttotal: 8.66s\tremaining: 9.27s\n",
      "483:\tlearn: 0.2979451\ttotal: 8.67s\tremaining: 9.25s\n",
      "484:\tlearn: 0.2976584\ttotal: 8.73s\tremaining: 9.27s\n",
      "485:\tlearn: 0.2972794\ttotal: 8.79s\tremaining: 9.29s\n",
      "486:\tlearn: 0.2969121\ttotal: 8.82s\tremaining: 9.29s\n",
      "487:\tlearn: 0.2966086\ttotal: 8.85s\tremaining: 9.28s\n",
      "488:\tlearn: 0.2963613\ttotal: 8.88s\tremaining: 9.28s\n",
      "489:\tlearn: 0.2959048\ttotal: 8.94s\tremaining: 9.3s\n",
      "490:\tlearn: 0.2958932\ttotal: 8.99s\tremaining: 9.32s\n",
      "491:\tlearn: 0.2955765\ttotal: 9.02s\tremaining: 9.31s\n",
      "492:\tlearn: 0.2955186\ttotal: 9.05s\tremaining: 9.31s\n",
      "493:\tlearn: 0.2952287\ttotal: 9.08s\tremaining: 9.3s\n",
      "494:\tlearn: 0.2951508\ttotal: 9.13s\tremaining: 9.32s\n",
      "495:\tlearn: 0.2950645\ttotal: 9.19s\tremaining: 9.34s\n",
      "496:\tlearn: 0.2949887\ttotal: 9.23s\tremaining: 9.34s\n",
      "497:\tlearn: 0.2948839\ttotal: 9.27s\tremaining: 9.34s\n",
      "498:\tlearn: 0.2947899\ttotal: 9.3s\tremaining: 9.34s\n",
      "499:\tlearn: 0.2945701\ttotal: 9.35s\tremaining: 9.35s\n",
      "500:\tlearn: 0.2944518\ttotal: 9.39s\tremaining: 9.35s\n",
      "501:\tlearn: 0.2942897\ttotal: 9.44s\tremaining: 9.36s\n",
      "502:\tlearn: 0.2940118\ttotal: 9.45s\tremaining: 9.34s\n",
      "503:\tlearn: 0.2939247\ttotal: 9.46s\tremaining: 9.31s\n",
      "504:\tlearn: 0.2937529\ttotal: 9.47s\tremaining: 9.29s\n",
      "505:\tlearn: 0.2937061\ttotal: 9.49s\tremaining: 9.26s\n",
      "506:\tlearn: 0.2935669\ttotal: 9.5s\tremaining: 9.24s\n",
      "507:\tlearn: 0.2935284\ttotal: 9.51s\tremaining: 9.21s\n",
      "508:\tlearn: 0.2931052\ttotal: 9.52s\tremaining: 9.19s\n",
      "509:\tlearn: 0.2928015\ttotal: 9.53s\tremaining: 9.16s\n",
      "510:\tlearn: 0.2926438\ttotal: 9.54s\tremaining: 9.13s\n",
      "511:\tlearn: 0.2925475\ttotal: 9.6s\tremaining: 9.15s\n",
      "512:\tlearn: 0.2923460\ttotal: 9.66s\tremaining: 9.17s\n",
      "513:\tlearn: 0.2922678\ttotal: 9.7s\tremaining: 9.17s\n",
      "514:\tlearn: 0.2918349\ttotal: 9.73s\tremaining: 9.17s\n",
      "515:\tlearn: 0.2916840\ttotal: 9.77s\tremaining: 9.16s\n",
      "516:\tlearn: 0.2915799\ttotal: 9.8s\tremaining: 9.16s\n",
      "517:\tlearn: 0.2914782\ttotal: 9.87s\tremaining: 9.18s\n",
      "518:\tlearn: 0.2912815\ttotal: 9.92s\tremaining: 9.2s\n",
      "519:\tlearn: 0.2912619\ttotal: 9.94s\tremaining: 9.17s\n",
      "520:\tlearn: 0.2910362\ttotal: 9.98s\tremaining: 9.18s\n",
      "521:\tlearn: 0.2908619\ttotal: 10s\tremaining: 9.18s\n",
      "522:\tlearn: 0.2906912\ttotal: 10.1s\tremaining: 9.19s\n",
      "523:\tlearn: 0.2905469\ttotal: 10.1s\tremaining: 9.2s\n",
      "524:\tlearn: 0.2903528\ttotal: 10.2s\tremaining: 9.2s\n",
      "525:\tlearn: 0.2899379\ttotal: 10.2s\tremaining: 9.2s\n",
      "526:\tlearn: 0.2895962\ttotal: 10.3s\tremaining: 9.21s\n",
      "527:\tlearn: 0.2889399\ttotal: 10.3s\tremaining: 9.24s\n",
      "528:\tlearn: 0.2886272\ttotal: 10.4s\tremaining: 9.25s\n",
      "529:\tlearn: 0.2884722\ttotal: 10.4s\tremaining: 9.24s\n",
      "530:\tlearn: 0.2884439\ttotal: 10.5s\tremaining: 9.24s\n",
      "531:\tlearn: 0.2882979\ttotal: 10.5s\tremaining: 9.24s\n",
      "532:\tlearn: 0.2880120\ttotal: 10.5s\tremaining: 9.21s\n",
      "533:\tlearn: 0.2879319\ttotal: 10.5s\tremaining: 9.19s\n",
      "534:\tlearn: 0.2878272\ttotal: 10.5s\tremaining: 9.16s\n",
      "535:\tlearn: 0.2872534\ttotal: 10.5s\tremaining: 9.13s\n",
      "536:\tlearn: 0.2870777\ttotal: 10.6s\tremaining: 9.11s\n",
      "537:\tlearn: 0.2866280\ttotal: 10.6s\tremaining: 9.08s\n",
      "538:\tlearn: 0.2865058\ttotal: 10.6s\tremaining: 9.05s\n",
      "539:\tlearn: 0.2864033\ttotal: 10.6s\tremaining: 9.02s\n",
      "540:\tlearn: 0.2862489\ttotal: 10.6s\tremaining: 9s\n",
      "541:\tlearn: 0.2862482\ttotal: 10.6s\tremaining: 8.97s\n",
      "542:\tlearn: 0.2861033\ttotal: 10.7s\tremaining: 8.99s\n",
      "543:\tlearn: 0.2858058\ttotal: 10.7s\tremaining: 9.01s\n",
      "544:\tlearn: 0.2854566\ttotal: 10.8s\tremaining: 9.02s\n",
      "545:\tlearn: 0.2852220\ttotal: 10.9s\tremaining: 9.02s\n",
      "546:\tlearn: 0.2851071\ttotal: 10.9s\tremaining: 9.02s\n",
      "547:\tlearn: 0.2848682\ttotal: 10.9s\tremaining: 9.01s\n",
      "548:\tlearn: 0.2847746\ttotal: 11s\tremaining: 9s\n",
      "549:\tlearn: 0.2844591\ttotal: 11s\tremaining: 9.02s\n",
      "550:\tlearn: 0.2841162\ttotal: 11.1s\tremaining: 9.02s\n",
      "551:\tlearn: 0.2839853\ttotal: 11.1s\tremaining: 9.02s\n",
      "552:\tlearn: 0.2836286\ttotal: 11.2s\tremaining: 9.02s\n",
      "553:\tlearn: 0.2835159\ttotal: 11.2s\tremaining: 9.03s\n",
      "554:\tlearn: 0.2832667\ttotal: 11.3s\tremaining: 9.04s\n",
      "555:\tlearn: 0.2829170\ttotal: 11.3s\tremaining: 9.04s\n",
      "556:\tlearn: 0.2825865\ttotal: 11.4s\tremaining: 9.03s\n",
      "557:\tlearn: 0.2824106\ttotal: 11.4s\tremaining: 9s\n",
      "558:\tlearn: 0.2823086\ttotal: 11.4s\tremaining: 8.97s\n",
      "559:\tlearn: 0.2822077\ttotal: 11.4s\tremaining: 8.95s\n",
      "560:\tlearn: 0.2821527\ttotal: 11.4s\tremaining: 8.92s\n",
      "561:\tlearn: 0.2820504\ttotal: 11.4s\tremaining: 8.89s\n",
      "562:\tlearn: 0.2818790\ttotal: 11.4s\tremaining: 8.88s\n",
      "563:\tlearn: 0.2816423\ttotal: 11.5s\tremaining: 8.89s\n",
      "564:\tlearn: 0.2812226\ttotal: 11.5s\tremaining: 8.88s\n",
      "565:\tlearn: 0.2809934\ttotal: 11.6s\tremaining: 8.87s\n",
      "566:\tlearn: 0.2807501\ttotal: 11.6s\tremaining: 8.86s\n",
      "567:\tlearn: 0.2806348\ttotal: 11.6s\tremaining: 8.84s\n",
      "568:\tlearn: 0.2805727\ttotal: 11.7s\tremaining: 8.84s\n",
      "569:\tlearn: 0.2805341\ttotal: 11.7s\tremaining: 8.85s\n",
      "570:\tlearn: 0.2803354\ttotal: 11.8s\tremaining: 8.87s\n",
      "571:\tlearn: 0.2802221\ttotal: 11.9s\tremaining: 8.87s\n",
      "572:\tlearn: 0.2800990\ttotal: 11.9s\tremaining: 8.89s\n",
      "573:\tlearn: 0.2799904\ttotal: 12s\tremaining: 8.89s\n",
      "574:\tlearn: 0.2796303\ttotal: 12.1s\tremaining: 8.95s\n",
      "575:\tlearn: 0.2792605\ttotal: 12.1s\tremaining: 8.93s\n",
      "576:\tlearn: 0.2792068\ttotal: 12.2s\tremaining: 8.93s\n",
      "577:\tlearn: 0.2790056\ttotal: 12.2s\tremaining: 8.91s\n",
      "578:\tlearn: 0.2787687\ttotal: 12.2s\tremaining: 8.89s\n",
      "579:\tlearn: 0.2784936\ttotal: 12.2s\tremaining: 8.86s\n",
      "580:\tlearn: 0.2782788\ttotal: 12.2s\tremaining: 8.83s\n",
      "581:\tlearn: 0.2782415\ttotal: 12.3s\tremaining: 8.8s\n",
      "582:\tlearn: 0.2781070\ttotal: 12.3s\tremaining: 8.77s\n",
      "583:\tlearn: 0.2780149\ttotal: 12.3s\tremaining: 8.75s\n",
      "584:\tlearn: 0.2779355\ttotal: 12.3s\tremaining: 8.72s\n",
      "585:\tlearn: 0.2778486\ttotal: 12.3s\tremaining: 8.69s\n",
      "586:\tlearn: 0.2776103\ttotal: 12.3s\tremaining: 8.66s\n",
      "587:\tlearn: 0.2775903\ttotal: 12.3s\tremaining: 8.64s\n",
      "588:\tlearn: 0.2772726\ttotal: 12.3s\tremaining: 8.61s\n",
      "589:\tlearn: 0.2772365\ttotal: 12.3s\tremaining: 8.58s\n",
      "590:\tlearn: 0.2768965\ttotal: 12.4s\tremaining: 8.55s\n",
      "591:\tlearn: 0.2768500\ttotal: 12.4s\tremaining: 8.52s\n",
      "592:\tlearn: 0.2766612\ttotal: 12.4s\tremaining: 8.5s\n",
      "593:\tlearn: 0.2765853\ttotal: 12.4s\tremaining: 8.48s\n",
      "594:\tlearn: 0.2764136\ttotal: 12.4s\tremaining: 8.46s\n",
      "595:\tlearn: 0.2762030\ttotal: 12.4s\tremaining: 8.43s\n",
      "596:\tlearn: 0.2761451\ttotal: 12.4s\tremaining: 8.4s\n",
      "597:\tlearn: 0.2759586\ttotal: 12.5s\tremaining: 8.38s\n",
      "598:\tlearn: 0.2758287\ttotal: 12.5s\tremaining: 8.36s\n",
      "599:\tlearn: 0.2755456\ttotal: 12.5s\tremaining: 8.33s\n",
      "600:\tlearn: 0.2753106\ttotal: 12.5s\tremaining: 8.31s\n",
      "601:\tlearn: 0.2752308\ttotal: 12.5s\tremaining: 8.29s\n",
      "602:\tlearn: 0.2751390\ttotal: 12.5s\tremaining: 8.26s\n",
      "603:\tlearn: 0.2750715\ttotal: 12.6s\tremaining: 8.25s\n",
      "604:\tlearn: 0.2749912\ttotal: 12.6s\tremaining: 8.25s\n",
      "605:\tlearn: 0.2748871\ttotal: 12.7s\tremaining: 8.25s\n",
      "606:\tlearn: 0.2742957\ttotal: 12.7s\tremaining: 8.23s\n",
      "607:\tlearn: 0.2741775\ttotal: 12.7s\tremaining: 8.21s\n",
      "608:\tlearn: 0.2735406\ttotal: 12.8s\tremaining: 8.19s\n",
      "609:\tlearn: 0.2730163\ttotal: 12.8s\tremaining: 8.19s\n",
      "610:\tlearn: 0.2726333\ttotal: 12.8s\tremaining: 8.16s\n",
      "611:\tlearn: 0.2724575\ttotal: 12.8s\tremaining: 8.14s\n",
      "612:\tlearn: 0.2724009\ttotal: 12.9s\tremaining: 8.14s\n",
      "613:\tlearn: 0.2722176\ttotal: 12.9s\tremaining: 8.13s\n",
      "614:\tlearn: 0.2718151\ttotal: 13s\tremaining: 8.12s\n",
      "615:\tlearn: 0.2715854\ttotal: 13s\tremaining: 8.11s\n",
      "616:\tlearn: 0.2714365\ttotal: 13s\tremaining: 8.09s\n",
      "617:\tlearn: 0.2712483\ttotal: 13.1s\tremaining: 8.08s\n",
      "618:\tlearn: 0.2711134\ttotal: 13.1s\tremaining: 8.07s\n",
      "619:\tlearn: 0.2709407\ttotal: 13.2s\tremaining: 8.08s\n",
      "620:\tlearn: 0.2708937\ttotal: 13.2s\tremaining: 8.07s\n",
      "621:\tlearn: 0.2705895\ttotal: 13.3s\tremaining: 8.07s\n",
      "622:\tlearn: 0.2705090\ttotal: 13.3s\tremaining: 8.05s\n",
      "623:\tlearn: 0.2704913\ttotal: 13.3s\tremaining: 8.02s\n",
      "624:\tlearn: 0.2702365\ttotal: 13.3s\tremaining: 8.01s\n",
      "625:\tlearn: 0.2700137\ttotal: 13.4s\tremaining: 7.98s\n",
      "626:\tlearn: 0.2698336\ttotal: 13.4s\tremaining: 7.95s\n",
      "627:\tlearn: 0.2695627\ttotal: 13.4s\tremaining: 7.93s\n",
      "628:\tlearn: 0.2695488\ttotal: 13.4s\tremaining: 7.9s\n",
      "629:\tlearn: 0.2693279\ttotal: 13.4s\tremaining: 7.87s\n",
      "630:\tlearn: 0.2692148\ttotal: 13.4s\tremaining: 7.84s\n",
      "631:\tlearn: 0.2691428\ttotal: 13.4s\tremaining: 7.82s\n",
      "632:\tlearn: 0.2689274\ttotal: 13.4s\tremaining: 7.79s\n",
      "633:\tlearn: 0.2688671\ttotal: 13.4s\tremaining: 7.76s\n",
      "634:\tlearn: 0.2686656\ttotal: 13.5s\tremaining: 7.74s\n",
      "635:\tlearn: 0.2684389\ttotal: 13.5s\tremaining: 7.71s\n",
      "636:\tlearn: 0.2682429\ttotal: 13.5s\tremaining: 7.68s\n",
      "637:\tlearn: 0.2681730\ttotal: 13.5s\tremaining: 7.66s\n",
      "638:\tlearn: 0.2676943\ttotal: 13.5s\tremaining: 7.63s\n",
      "639:\tlearn: 0.2676603\ttotal: 13.5s\tremaining: 7.61s\n",
      "640:\tlearn: 0.2675391\ttotal: 13.5s\tremaining: 7.58s\n",
      "641:\tlearn: 0.2673569\ttotal: 13.6s\tremaining: 7.56s\n",
      "642:\tlearn: 0.2671211\ttotal: 13.6s\tremaining: 7.54s\n",
      "643:\tlearn: 0.2669699\ttotal: 13.6s\tremaining: 7.51s\n",
      "644:\tlearn: 0.2668502\ttotal: 13.6s\tremaining: 7.5s\n",
      "645:\tlearn: 0.2668168\ttotal: 13.6s\tremaining: 7.47s\n",
      "646:\tlearn: 0.2667948\ttotal: 13.6s\tremaining: 7.44s\n",
      "647:\tlearn: 0.2666585\ttotal: 13.7s\tremaining: 7.42s\n",
      "648:\tlearn: 0.2665145\ttotal: 13.7s\tremaining: 7.4s\n",
      "649:\tlearn: 0.2664795\ttotal: 13.7s\tremaining: 7.37s\n",
      "650:\tlearn: 0.2663860\ttotal: 13.7s\tremaining: 7.35s\n",
      "651:\tlearn: 0.2663572\ttotal: 13.7s\tremaining: 7.32s\n",
      "652:\tlearn: 0.2662533\ttotal: 13.7s\tremaining: 7.29s\n",
      "653:\tlearn: 0.2660248\ttotal: 13.7s\tremaining: 7.27s\n",
      "654:\tlearn: 0.2658090\ttotal: 13.8s\tremaining: 7.25s\n",
      "655:\tlearn: 0.2657114\ttotal: 13.8s\tremaining: 7.24s\n",
      "656:\tlearn: 0.2655113\ttotal: 13.8s\tremaining: 7.22s\n",
      "657:\tlearn: 0.2653533\ttotal: 13.8s\tremaining: 7.2s\n",
      "658:\tlearn: 0.2650156\ttotal: 13.9s\tremaining: 7.18s\n",
      "659:\tlearn: 0.2647055\ttotal: 13.9s\tremaining: 7.15s\n",
      "660:\tlearn: 0.2646502\ttotal: 13.9s\tremaining: 7.13s\n",
      "661:\tlearn: 0.2642713\ttotal: 13.9s\tremaining: 7.11s\n",
      "662:\tlearn: 0.2641479\ttotal: 14s\tremaining: 7.13s\n",
      "663:\tlearn: 0.2639749\ttotal: 14.1s\tremaining: 7.12s\n",
      "664:\tlearn: 0.2639317\ttotal: 14.1s\tremaining: 7.11s\n",
      "665:\tlearn: 0.2638108\ttotal: 14.1s\tremaining: 7.09s\n",
      "666:\tlearn: 0.2634550\ttotal: 14.2s\tremaining: 7.08s\n",
      "667:\tlearn: 0.2633699\ttotal: 14.2s\tremaining: 7.07s\n",
      "668:\tlearn: 0.2630412\ttotal: 14.3s\tremaining: 7.06s\n",
      "669:\tlearn: 0.2629490\ttotal: 14.3s\tremaining: 7.06s\n",
      "670:\tlearn: 0.2625743\ttotal: 14.4s\tremaining: 7.05s\n",
      "671:\tlearn: 0.2624788\ttotal: 14.4s\tremaining: 7.03s\n",
      "672:\tlearn: 0.2621917\ttotal: 14.4s\tremaining: 7.01s\n",
      "673:\tlearn: 0.2616429\ttotal: 14.4s\tremaining: 6.99s\n",
      "674:\tlearn: 0.2615153\ttotal: 14.5s\tremaining: 6.96s\n",
      "675:\tlearn: 0.2612563\ttotal: 14.5s\tremaining: 6.93s\n",
      "676:\tlearn: 0.2609460\ttotal: 14.5s\tremaining: 6.92s\n",
      "677:\tlearn: 0.2607857\ttotal: 14.5s\tremaining: 6.89s\n",
      "678:\tlearn: 0.2606866\ttotal: 14.5s\tremaining: 6.87s\n",
      "679:\tlearn: 0.2604142\ttotal: 14.5s\tremaining: 6.84s\n",
      "680:\tlearn: 0.2602541\ttotal: 14.5s\tremaining: 6.81s\n",
      "681:\tlearn: 0.2599400\ttotal: 14.6s\tremaining: 6.79s\n",
      "682:\tlearn: 0.2599293\ttotal: 14.6s\tremaining: 6.76s\n",
      "683:\tlearn: 0.2597024\ttotal: 14.6s\tremaining: 6.74s\n",
      "684:\tlearn: 0.2595682\ttotal: 14.6s\tremaining: 6.71s\n",
      "685:\tlearn: 0.2594772\ttotal: 14.6s\tremaining: 6.68s\n",
      "686:\tlearn: 0.2593983\ttotal: 14.6s\tremaining: 6.66s\n",
      "687:\tlearn: 0.2589792\ttotal: 14.7s\tremaining: 6.66s\n",
      "688:\tlearn: 0.2581873\ttotal: 14.8s\tremaining: 6.66s\n",
      "689:\tlearn: 0.2580561\ttotal: 14.8s\tremaining: 6.66s\n",
      "690:\tlearn: 0.2577589\ttotal: 14.9s\tremaining: 6.66s\n",
      "691:\tlearn: 0.2575917\ttotal: 14.9s\tremaining: 6.65s\n",
      "692:\tlearn: 0.2575396\ttotal: 15s\tremaining: 6.64s\n",
      "693:\tlearn: 0.2571415\ttotal: 15.1s\tremaining: 6.64s\n",
      "694:\tlearn: 0.2570779\ttotal: 15.1s\tremaining: 6.63s\n",
      "695:\tlearn: 0.2570202\ttotal: 15.1s\tremaining: 6.61s\n",
      "696:\tlearn: 0.2568611\ttotal: 15.2s\tremaining: 6.59s\n",
      "697:\tlearn: 0.2566932\ttotal: 15.2s\tremaining: 6.58s\n",
      "698:\tlearn: 0.2565194\ttotal: 15.2s\tremaining: 6.56s\n",
      "699:\tlearn: 0.2564068\ttotal: 15.2s\tremaining: 6.53s\n",
      "700:\tlearn: 0.2563939\ttotal: 15.3s\tremaining: 6.51s\n",
      "701:\tlearn: 0.2563337\ttotal: 15.3s\tremaining: 6.48s\n",
      "702:\tlearn: 0.2562914\ttotal: 15.3s\tremaining: 6.46s\n",
      "703:\tlearn: 0.2560337\ttotal: 15.3s\tremaining: 6.43s\n",
      "704:\tlearn: 0.2559347\ttotal: 15.3s\tremaining: 6.4s\n",
      "705:\tlearn: 0.2555988\ttotal: 15.3s\tremaining: 6.38s\n",
      "706:\tlearn: 0.2553257\ttotal: 15.3s\tremaining: 6.35s\n",
      "707:\tlearn: 0.2550410\ttotal: 15.3s\tremaining: 6.33s\n",
      "708:\tlearn: 0.2549161\ttotal: 15.3s\tremaining: 6.3s\n",
      "709:\tlearn: 0.2547955\ttotal: 15.4s\tremaining: 6.27s\n",
      "710:\tlearn: 0.2544540\ttotal: 15.4s\tremaining: 6.25s\n",
      "711:\tlearn: 0.2541741\ttotal: 15.4s\tremaining: 6.22s\n",
      "712:\tlearn: 0.2541015\ttotal: 15.4s\tremaining: 6.2s\n",
      "713:\tlearn: 0.2539913\ttotal: 15.4s\tremaining: 6.17s\n",
      "714:\tlearn: 0.2537159\ttotal: 15.4s\tremaining: 6.15s\n",
      "715:\tlearn: 0.2534854\ttotal: 15.4s\tremaining: 6.13s\n",
      "716:\tlearn: 0.2534321\ttotal: 15.5s\tremaining: 6.1s\n",
      "717:\tlearn: 0.2533921\ttotal: 15.5s\tremaining: 6.08s\n",
      "718:\tlearn: 0.2533534\ttotal: 15.5s\tremaining: 6.05s\n",
      "719:\tlearn: 0.2529905\ttotal: 15.5s\tremaining: 6.02s\n",
      "720:\tlearn: 0.2527544\ttotal: 15.5s\tremaining: 6s\n",
      "721:\tlearn: 0.2525420\ttotal: 15.5s\tremaining: 5.97s\n",
      "722:\tlearn: 0.2522767\ttotal: 15.5s\tremaining: 5.95s\n",
      "723:\tlearn: 0.2521533\ttotal: 15.5s\tremaining: 5.92s\n",
      "724:\tlearn: 0.2519977\ttotal: 15.5s\tremaining: 5.9s\n",
      "725:\tlearn: 0.2518230\ttotal: 15.6s\tremaining: 5.87s\n",
      "726:\tlearn: 0.2516399\ttotal: 15.6s\tremaining: 5.86s\n",
      "727:\tlearn: 0.2513507\ttotal: 15.7s\tremaining: 5.86s\n",
      "728:\tlearn: 0.2512411\ttotal: 15.9s\tremaining: 5.91s\n",
      "729:\tlearn: 0.2509980\ttotal: 16s\tremaining: 5.9s\n",
      "730:\tlearn: 0.2508066\ttotal: 16s\tremaining: 5.88s\n",
      "731:\tlearn: 0.2503969\ttotal: 16s\tremaining: 5.87s\n",
      "732:\tlearn: 0.2502699\ttotal: 16.1s\tremaining: 5.85s\n",
      "733:\tlearn: 0.2501372\ttotal: 16.1s\tremaining: 5.83s\n",
      "734:\tlearn: 0.2500144\ttotal: 16.1s\tremaining: 5.8s\n",
      "735:\tlearn: 0.2493860\ttotal: 16.2s\tremaining: 5.79s\n",
      "736:\tlearn: 0.2491908\ttotal: 16.2s\tremaining: 5.78s\n",
      "737:\tlearn: 0.2488233\ttotal: 16.3s\tremaining: 5.77s\n",
      "738:\tlearn: 0.2486160\ttotal: 16.3s\tremaining: 5.75s\n",
      "739:\tlearn: 0.2482092\ttotal: 16.3s\tremaining: 5.72s\n",
      "740:\tlearn: 0.2479388\ttotal: 16.3s\tremaining: 5.71s\n",
      "741:\tlearn: 0.2478196\ttotal: 16.3s\tremaining: 5.68s\n",
      "742:\tlearn: 0.2477540\ttotal: 16.3s\tremaining: 5.65s\n",
      "743:\tlearn: 0.2475975\ttotal: 16.4s\tremaining: 5.63s\n",
      "744:\tlearn: 0.2472486\ttotal: 16.4s\tremaining: 5.6s\n",
      "745:\tlearn: 0.2470100\ttotal: 16.4s\tremaining: 5.58s\n",
      "746:\tlearn: 0.2467514\ttotal: 16.4s\tremaining: 5.55s\n",
      "747:\tlearn: 0.2466356\ttotal: 16.4s\tremaining: 5.53s\n",
      "748:\tlearn: 0.2465296\ttotal: 16.4s\tremaining: 5.5s\n",
      "749:\tlearn: 0.2463823\ttotal: 16.4s\tremaining: 5.48s\n",
      "750:\tlearn: 0.2463011\ttotal: 16.4s\tremaining: 5.45s\n",
      "751:\tlearn: 0.2461891\ttotal: 16.5s\tremaining: 5.43s\n",
      "752:\tlearn: 0.2461058\ttotal: 16.5s\tremaining: 5.4s\n",
      "753:\tlearn: 0.2459756\ttotal: 16.5s\tremaining: 5.38s\n",
      "754:\tlearn: 0.2457770\ttotal: 16.5s\tremaining: 5.35s\n",
      "755:\tlearn: 0.2457512\ttotal: 16.5s\tremaining: 5.33s\n",
      "756:\tlearn: 0.2453986\ttotal: 16.5s\tremaining: 5.3s\n",
      "757:\tlearn: 0.2452870\ttotal: 16.5s\tremaining: 5.28s\n",
      "758:\tlearn: 0.2450233\ttotal: 16.6s\tremaining: 5.26s\n",
      "759:\tlearn: 0.2446705\ttotal: 16.6s\tremaining: 5.23s\n",
      "760:\tlearn: 0.2442924\ttotal: 16.6s\tremaining: 5.21s\n",
      "761:\tlearn: 0.2441713\ttotal: 16.6s\tremaining: 5.18s\n",
      "762:\tlearn: 0.2441173\ttotal: 16.6s\tremaining: 5.16s\n",
      "763:\tlearn: 0.2440437\ttotal: 16.6s\tremaining: 5.13s\n",
      "764:\tlearn: 0.2439656\ttotal: 16.6s\tremaining: 5.11s\n",
      "765:\tlearn: 0.2437527\ttotal: 16.7s\tremaining: 5.09s\n",
      "766:\tlearn: 0.2435833\ttotal: 16.7s\tremaining: 5.08s\n",
      "767:\tlearn: 0.2435610\ttotal: 16.8s\tremaining: 5.07s\n",
      "768:\tlearn: 0.2434776\ttotal: 16.8s\tremaining: 5.06s\n",
      "769:\tlearn: 0.2432155\ttotal: 16.9s\tremaining: 5.04s\n",
      "770:\tlearn: 0.2428591\ttotal: 16.9s\tremaining: 5.02s\n",
      "771:\tlearn: 0.2427714\ttotal: 17s\tremaining: 5.01s\n",
      "772:\tlearn: 0.2425477\ttotal: 17s\tremaining: 5s\n",
      "773:\tlearn: 0.2424528\ttotal: 17.1s\tremaining: 4.98s\n",
      "774:\tlearn: 0.2423897\ttotal: 17.1s\tremaining: 4.96s\n",
      "775:\tlearn: 0.2423431\ttotal: 17.1s\tremaining: 4.95s\n",
      "776:\tlearn: 0.2422354\ttotal: 17.2s\tremaining: 4.93s\n",
      "777:\tlearn: 0.2420853\ttotal: 17.2s\tremaining: 4.91s\n",
      "778:\tlearn: 0.2420506\ttotal: 17.2s\tremaining: 4.89s\n",
      "779:\tlearn: 0.2415804\ttotal: 17.3s\tremaining: 4.88s\n",
      "780:\tlearn: 0.2415127\ttotal: 17.3s\tremaining: 4.86s\n",
      "781:\tlearn: 0.2412689\ttotal: 17.4s\tremaining: 4.84s\n",
      "782:\tlearn: 0.2411956\ttotal: 17.4s\tremaining: 4.82s\n",
      "783:\tlearn: 0.2411477\ttotal: 17.4s\tremaining: 4.8s\n",
      "784:\tlearn: 0.2410691\ttotal: 17.4s\tremaining: 4.77s\n",
      "785:\tlearn: 0.2409638\ttotal: 17.4s\tremaining: 4.75s\n",
      "786:\tlearn: 0.2409089\ttotal: 17.5s\tremaining: 4.73s\n",
      "787:\tlearn: 0.2408961\ttotal: 17.5s\tremaining: 4.7s\n",
      "788:\tlearn: 0.2405589\ttotal: 17.5s\tremaining: 4.68s\n",
      "789:\tlearn: 0.2400787\ttotal: 17.5s\tremaining: 4.65s\n",
      "790:\tlearn: 0.2398760\ttotal: 17.5s\tremaining: 4.63s\n",
      "791:\tlearn: 0.2398497\ttotal: 17.5s\tremaining: 4.6s\n",
      "792:\tlearn: 0.2397050\ttotal: 17.5s\tremaining: 4.58s\n",
      "793:\tlearn: 0.2395293\ttotal: 17.5s\tremaining: 4.55s\n",
      "794:\tlearn: 0.2395012\ttotal: 17.6s\tremaining: 4.53s\n",
      "795:\tlearn: 0.2394263\ttotal: 17.6s\tremaining: 4.5s\n",
      "796:\tlearn: 0.2392645\ttotal: 17.6s\tremaining: 4.48s\n",
      "797:\tlearn: 0.2392302\ttotal: 17.6s\tremaining: 4.45s\n",
      "798:\tlearn: 0.2391287\ttotal: 17.6s\tremaining: 4.43s\n",
      "799:\tlearn: 0.2387916\ttotal: 17.6s\tremaining: 4.4s\n",
      "800:\tlearn: 0.2386801\ttotal: 17.6s\tremaining: 4.38s\n",
      "801:\tlearn: 0.2385271\ttotal: 17.6s\tremaining: 4.35s\n",
      "802:\tlearn: 0.2383900\ttotal: 17.7s\tremaining: 4.33s\n",
      "803:\tlearn: 0.2383093\ttotal: 17.7s\tremaining: 4.31s\n",
      "804:\tlearn: 0.2382240\ttotal: 17.7s\tremaining: 4.29s\n",
      "805:\tlearn: 0.2381831\ttotal: 17.7s\tremaining: 4.26s\n",
      "806:\tlearn: 0.2378043\ttotal: 17.7s\tremaining: 4.24s\n",
      "807:\tlearn: 0.2377601\ttotal: 17.7s\tremaining: 4.21s\n",
      "808:\tlearn: 0.2377276\ttotal: 17.7s\tremaining: 4.19s\n",
      "809:\tlearn: 0.2374206\ttotal: 17.8s\tremaining: 4.16s\n",
      "810:\tlearn: 0.2373107\ttotal: 17.8s\tremaining: 4.14s\n",
      "811:\tlearn: 0.2370716\ttotal: 17.8s\tremaining: 4.12s\n",
      "812:\tlearn: 0.2367774\ttotal: 17.8s\tremaining: 4.09s\n",
      "813:\tlearn: 0.2366253\ttotal: 17.8s\tremaining: 4.07s\n",
      "814:\tlearn: 0.2365229\ttotal: 17.8s\tremaining: 4.04s\n",
      "815:\tlearn: 0.2364231\ttotal: 17.8s\tremaining: 4.02s\n",
      "816:\tlearn: 0.2362636\ttotal: 17.8s\tremaining: 3.99s\n",
      "817:\tlearn: 0.2360125\ttotal: 17.8s\tremaining: 3.97s\n",
      "818:\tlearn: 0.2356763\ttotal: 17.9s\tremaining: 3.95s\n",
      "819:\tlearn: 0.2356242\ttotal: 17.9s\tremaining: 3.92s\n",
      "820:\tlearn: 0.2355832\ttotal: 17.9s\tremaining: 3.9s\n",
      "821:\tlearn: 0.2354710\ttotal: 17.9s\tremaining: 3.88s\n",
      "822:\tlearn: 0.2354525\ttotal: 18s\tremaining: 3.86s\n",
      "823:\tlearn: 0.2353821\ttotal: 18s\tremaining: 3.84s\n",
      "824:\tlearn: 0.2353395\ttotal: 18s\tremaining: 3.82s\n",
      "825:\tlearn: 0.2351784\ttotal: 18s\tremaining: 3.79s\n",
      "826:\tlearn: 0.2350994\ttotal: 18s\tremaining: 3.77s\n",
      "827:\tlearn: 0.2349463\ttotal: 18.1s\tremaining: 3.75s\n",
      "828:\tlearn: 0.2347776\ttotal: 18.1s\tremaining: 3.73s\n",
      "829:\tlearn: 0.2347632\ttotal: 18.1s\tremaining: 3.71s\n",
      "830:\tlearn: 0.2344929\ttotal: 18.1s\tremaining: 3.69s\n",
      "831:\tlearn: 0.2343741\ttotal: 18.2s\tremaining: 3.67s\n",
      "832:\tlearn: 0.2340472\ttotal: 18.2s\tremaining: 3.64s\n",
      "833:\tlearn: 0.2339306\ttotal: 18.2s\tremaining: 3.62s\n",
      "834:\tlearn: 0.2338164\ttotal: 18.2s\tremaining: 3.59s\n",
      "835:\tlearn: 0.2335165\ttotal: 18.2s\tremaining: 3.57s\n",
      "836:\tlearn: 0.2334347\ttotal: 18.2s\tremaining: 3.55s\n",
      "837:\tlearn: 0.2332267\ttotal: 18.2s\tremaining: 3.52s\n",
      "838:\tlearn: 0.2331563\ttotal: 18.3s\tremaining: 3.51s\n",
      "839:\tlearn: 0.2327695\ttotal: 18.3s\tremaining: 3.49s\n",
      "840:\tlearn: 0.2327203\ttotal: 18.4s\tremaining: 3.47s\n",
      "841:\tlearn: 0.2325820\ttotal: 18.4s\tremaining: 3.45s\n",
      "842:\tlearn: 0.2325792\ttotal: 18.4s\tremaining: 3.44s\n",
      "843:\tlearn: 0.2325279\ttotal: 18.5s\tremaining: 3.42s\n",
      "844:\tlearn: 0.2322392\ttotal: 18.5s\tremaining: 3.4s\n",
      "845:\tlearn: 0.2320341\ttotal: 18.6s\tremaining: 3.38s\n",
      "846:\tlearn: 0.2320173\ttotal: 18.6s\tremaining: 3.35s\n",
      "847:\tlearn: 0.2319716\ttotal: 18.6s\tremaining: 3.33s\n",
      "848:\tlearn: 0.2319260\ttotal: 18.6s\tremaining: 3.31s\n",
      "849:\tlearn: 0.2317802\ttotal: 18.7s\tremaining: 3.29s\n",
      "850:\tlearn: 0.2316653\ttotal: 18.7s\tremaining: 3.27s\n",
      "851:\tlearn: 0.2315137\ttotal: 18.8s\tremaining: 3.26s\n",
      "852:\tlearn: 0.2313503\ttotal: 18.8s\tremaining: 3.23s\n",
      "853:\tlearn: 0.2311852\ttotal: 18.8s\tremaining: 3.21s\n",
      "854:\tlearn: 0.2311491\ttotal: 18.8s\tremaining: 3.19s\n",
      "855:\tlearn: 0.2309537\ttotal: 18.9s\tremaining: 3.17s\n",
      "856:\tlearn: 0.2308545\ttotal: 18.9s\tremaining: 3.15s\n",
      "857:\tlearn: 0.2305826\ttotal: 18.9s\tremaining: 3.13s\n",
      "858:\tlearn: 0.2304018\ttotal: 18.9s\tremaining: 3.11s\n",
      "859:\tlearn: 0.2301689\ttotal: 19s\tremaining: 3.09s\n",
      "860:\tlearn: 0.2297921\ttotal: 19s\tremaining: 3.06s\n",
      "861:\tlearn: 0.2295558\ttotal: 19s\tremaining: 3.04s\n",
      "862:\tlearn: 0.2292530\ttotal: 19s\tremaining: 3.02s\n",
      "863:\tlearn: 0.2291785\ttotal: 19s\tremaining: 2.99s\n",
      "864:\tlearn: 0.2289812\ttotal: 19s\tremaining: 2.97s\n",
      "865:\tlearn: 0.2288560\ttotal: 19s\tremaining: 2.94s\n",
      "866:\tlearn: 0.2287896\ttotal: 19s\tremaining: 2.92s\n",
      "867:\tlearn: 0.2286870\ttotal: 19s\tremaining: 2.9s\n",
      "868:\tlearn: 0.2285296\ttotal: 19.1s\tremaining: 2.87s\n",
      "869:\tlearn: 0.2283024\ttotal: 19.1s\tremaining: 2.85s\n",
      "870:\tlearn: 0.2278861\ttotal: 19.1s\tremaining: 2.83s\n",
      "871:\tlearn: 0.2278832\ttotal: 19.1s\tremaining: 2.8s\n",
      "872:\tlearn: 0.2278323\ttotal: 19.1s\tremaining: 2.78s\n",
      "873:\tlearn: 0.2272780\ttotal: 19.1s\tremaining: 2.75s\n",
      "874:\tlearn: 0.2270501\ttotal: 19.1s\tremaining: 2.73s\n",
      "875:\tlearn: 0.2269829\ttotal: 19.2s\tremaining: 2.71s\n",
      "876:\tlearn: 0.2269263\ttotal: 19.2s\tremaining: 2.69s\n",
      "877:\tlearn: 0.2268347\ttotal: 19.2s\tremaining: 2.67s\n",
      "878:\tlearn: 0.2268169\ttotal: 19.2s\tremaining: 2.64s\n",
      "879:\tlearn: 0.2266491\ttotal: 19.2s\tremaining: 2.62s\n",
      "880:\tlearn: 0.2265873\ttotal: 19.2s\tremaining: 2.6s\n",
      "881:\tlearn: 0.2263335\ttotal: 19.2s\tremaining: 2.57s\n",
      "882:\tlearn: 0.2256819\ttotal: 19.2s\tremaining: 2.55s\n",
      "883:\tlearn: 0.2256254\ttotal: 19.3s\tremaining: 2.53s\n",
      "884:\tlearn: 0.2255694\ttotal: 19.3s\tremaining: 2.5s\n",
      "885:\tlearn: 0.2254771\ttotal: 19.3s\tremaining: 2.48s\n",
      "886:\tlearn: 0.2253229\ttotal: 19.3s\tremaining: 2.46s\n",
      "887:\tlearn: 0.2253000\ttotal: 19.3s\tremaining: 2.44s\n",
      "888:\tlearn: 0.2252517\ttotal: 19.3s\tremaining: 2.41s\n",
      "889:\tlearn: 0.2250721\ttotal: 19.3s\tremaining: 2.39s\n",
      "890:\tlearn: 0.2250282\ttotal: 19.3s\tremaining: 2.37s\n",
      "891:\tlearn: 0.2250167\ttotal: 19.4s\tremaining: 2.34s\n",
      "892:\tlearn: 0.2247254\ttotal: 19.4s\tremaining: 2.32s\n",
      "893:\tlearn: 0.2245162\ttotal: 19.4s\tremaining: 2.3s\n",
      "894:\tlearn: 0.2243900\ttotal: 19.4s\tremaining: 2.28s\n",
      "895:\tlearn: 0.2241756\ttotal: 19.5s\tremaining: 2.26s\n",
      "896:\tlearn: 0.2241686\ttotal: 19.5s\tremaining: 2.24s\n",
      "897:\tlearn: 0.2239945\ttotal: 19.6s\tremaining: 2.22s\n",
      "898:\tlearn: 0.2238620\ttotal: 19.6s\tremaining: 2.2s\n",
      "899:\tlearn: 0.2237114\ttotal: 19.7s\tremaining: 2.19s\n",
      "900:\tlearn: 0.2236770\ttotal: 19.7s\tremaining: 2.17s\n",
      "901:\tlearn: 0.2236266\ttotal: 19.8s\tremaining: 2.15s\n",
      "902:\tlearn: 0.2234640\ttotal: 19.8s\tremaining: 2.13s\n",
      "903:\tlearn: 0.2233380\ttotal: 19.9s\tremaining: 2.11s\n",
      "904:\tlearn: 0.2232049\ttotal: 19.9s\tremaining: 2.09s\n",
      "905:\tlearn: 0.2229300\ttotal: 19.9s\tremaining: 2.07s\n",
      "906:\tlearn: 0.2223618\ttotal: 20s\tremaining: 2.05s\n",
      "907:\tlearn: 0.2223029\ttotal: 20s\tremaining: 2.02s\n",
      "908:\tlearn: 0.2222884\ttotal: 20s\tremaining: 2s\n",
      "909:\tlearn: 0.2220099\ttotal: 20s\tremaining: 1.98s\n",
      "910:\tlearn: 0.2219795\ttotal: 20.1s\tremaining: 1.96s\n",
      "911:\tlearn: 0.2217162\ttotal: 20.1s\tremaining: 1.94s\n",
      "912:\tlearn: 0.2215499\ttotal: 20.2s\tremaining: 1.92s\n",
      "913:\tlearn: 0.2213410\ttotal: 20.2s\tremaining: 1.9s\n",
      "914:\tlearn: 0.2211665\ttotal: 20.2s\tremaining: 1.88s\n",
      "915:\tlearn: 0.2209734\ttotal: 20.2s\tremaining: 1.85s\n",
      "916:\tlearn: 0.2207093\ttotal: 20.2s\tremaining: 1.83s\n",
      "917:\tlearn: 0.2206264\ttotal: 20.2s\tremaining: 1.81s\n",
      "918:\tlearn: 0.2205628\ttotal: 20.3s\tremaining: 1.78s\n",
      "919:\tlearn: 0.2203047\ttotal: 20.3s\tremaining: 1.76s\n",
      "920:\tlearn: 0.2201766\ttotal: 20.3s\tremaining: 1.74s\n",
      "921:\tlearn: 0.2201657\ttotal: 20.3s\tremaining: 1.72s\n",
      "922:\tlearn: 0.2201463\ttotal: 20.3s\tremaining: 1.69s\n",
      "923:\tlearn: 0.2201128\ttotal: 20.3s\tremaining: 1.67s\n",
      "924:\tlearn: 0.2198609\ttotal: 20.3s\tremaining: 1.65s\n",
      "925:\tlearn: 0.2198589\ttotal: 20.3s\tremaining: 1.63s\n",
      "926:\tlearn: 0.2197184\ttotal: 20.4s\tremaining: 1.6s\n",
      "927:\tlearn: 0.2196657\ttotal: 20.4s\tremaining: 1.58s\n",
      "928:\tlearn: 0.2193638\ttotal: 20.4s\tremaining: 1.56s\n",
      "929:\tlearn: 0.2192596\ttotal: 20.4s\tremaining: 1.53s\n",
      "930:\tlearn: 0.2192202\ttotal: 20.4s\tremaining: 1.51s\n",
      "931:\tlearn: 0.2191994\ttotal: 20.4s\tremaining: 1.49s\n",
      "932:\tlearn: 0.2191465\ttotal: 20.4s\tremaining: 1.47s\n",
      "933:\tlearn: 0.2189514\ttotal: 20.4s\tremaining: 1.44s\n",
      "934:\tlearn: 0.2188895\ttotal: 20.4s\tremaining: 1.42s\n",
      "935:\tlearn: 0.2186407\ttotal: 20.5s\tremaining: 1.4s\n",
      "936:\tlearn: 0.2186321\ttotal: 20.5s\tremaining: 1.38s\n",
      "937:\tlearn: 0.2185837\ttotal: 20.5s\tremaining: 1.35s\n",
      "938:\tlearn: 0.2184267\ttotal: 20.5s\tremaining: 1.33s\n",
      "939:\tlearn: 0.2183850\ttotal: 20.5s\tremaining: 1.31s\n",
      "940:\tlearn: 0.2181213\ttotal: 20.5s\tremaining: 1.29s\n",
      "941:\tlearn: 0.2180359\ttotal: 20.5s\tremaining: 1.26s\n",
      "942:\tlearn: 0.2177269\ttotal: 20.6s\tremaining: 1.24s\n",
      "943:\tlearn: 0.2175551\ttotal: 20.6s\tremaining: 1.22s\n",
      "944:\tlearn: 0.2174326\ttotal: 20.6s\tremaining: 1.2s\n",
      "945:\tlearn: 0.2172016\ttotal: 20.6s\tremaining: 1.18s\n",
      "946:\tlearn: 0.2168566\ttotal: 20.6s\tremaining: 1.15s\n",
      "947:\tlearn: 0.2168452\ttotal: 20.6s\tremaining: 1.13s\n",
      "948:\tlearn: 0.2168074\ttotal: 20.6s\tremaining: 1.11s\n",
      "949:\tlearn: 0.2165570\ttotal: 20.6s\tremaining: 1.09s\n",
      "950:\tlearn: 0.2165024\ttotal: 20.6s\tremaining: 1.06s\n",
      "951:\tlearn: 0.2160585\ttotal: 20.7s\tremaining: 1.04s\n",
      "952:\tlearn: 0.2159264\ttotal: 20.7s\tremaining: 1.02s\n",
      "953:\tlearn: 0.2158789\ttotal: 20.8s\tremaining: 1s\n",
      "954:\tlearn: 0.2157968\ttotal: 20.8s\tremaining: 981ms\n",
      "955:\tlearn: 0.2156932\ttotal: 20.8s\tremaining: 959ms\n",
      "956:\tlearn: 0.2155465\ttotal: 20.9s\tremaining: 938ms\n",
      "957:\tlearn: 0.2154819\ttotal: 20.9s\tremaining: 917ms\n",
      "958:\tlearn: 0.2154483\ttotal: 21s\tremaining: 896ms\n",
      "959:\tlearn: 0.2153754\ttotal: 21s\tremaining: 876ms\n",
      "960:\tlearn: 0.2152559\ttotal: 21.1s\tremaining: 855ms\n",
      "961:\tlearn: 0.2152464\ttotal: 21.1s\tremaining: 833ms\n",
      "962:\tlearn: 0.2152089\ttotal: 21.1s\tremaining: 812ms\n",
      "963:\tlearn: 0.2151094\ttotal: 21.2s\tremaining: 792ms\n",
      "964:\tlearn: 0.2147862\ttotal: 21.3s\tremaining: 772ms\n",
      "965:\tlearn: 0.2147497\ttotal: 21.4s\tremaining: 754ms\n",
      "966:\tlearn: 0.2146447\ttotal: 21.4s\tremaining: 732ms\n",
      "967:\tlearn: 0.2145517\ttotal: 21.5s\tremaining: 709ms\n",
      "968:\tlearn: 0.2145300\ttotal: 21.5s\tremaining: 687ms\n",
      "969:\tlearn: 0.2143628\ttotal: 21.5s\tremaining: 665ms\n",
      "970:\tlearn: 0.2141860\ttotal: 21.5s\tremaining: 642ms\n",
      "971:\tlearn: 0.2141421\ttotal: 21.5s\tremaining: 620ms\n",
      "972:\tlearn: 0.2139768\ttotal: 21.5s\tremaining: 597ms\n",
      "973:\tlearn: 0.2137622\ttotal: 21.5s\tremaining: 575ms\n",
      "974:\tlearn: 0.2136777\ttotal: 21.5s\tremaining: 553ms\n",
      "975:\tlearn: 0.2135730\ttotal: 21.6s\tremaining: 530ms\n",
      "976:\tlearn: 0.2135140\ttotal: 21.6s\tremaining: 508ms\n",
      "977:\tlearn: 0.2131469\ttotal: 21.6s\tremaining: 486ms\n",
      "978:\tlearn: 0.2130771\ttotal: 21.6s\tremaining: 463ms\n",
      "979:\tlearn: 0.2130199\ttotal: 21.6s\tremaining: 441ms\n",
      "980:\tlearn: 0.2129017\ttotal: 21.6s\tremaining: 419ms\n",
      "981:\tlearn: 0.2124569\ttotal: 21.6s\tremaining: 397ms\n",
      "982:\tlearn: 0.2123329\ttotal: 21.7s\tremaining: 375ms\n",
      "983:\tlearn: 0.2122853\ttotal: 21.7s\tremaining: 353ms\n",
      "984:\tlearn: 0.2121560\ttotal: 21.7s\tremaining: 330ms\n",
      "985:\tlearn: 0.2120622\ttotal: 21.7s\tremaining: 308ms\n",
      "986:\tlearn: 0.2119985\ttotal: 21.7s\tremaining: 286ms\n",
      "987:\tlearn: 0.2119268\ttotal: 21.7s\tremaining: 264ms\n",
      "988:\tlearn: 0.2117931\ttotal: 21.7s\tremaining: 242ms\n",
      "989:\tlearn: 0.2116915\ttotal: 21.8s\tremaining: 220ms\n",
      "990:\tlearn: 0.2116828\ttotal: 21.8s\tremaining: 198ms\n",
      "991:\tlearn: 0.2115268\ttotal: 21.8s\tremaining: 176ms\n",
      "992:\tlearn: 0.2109047\ttotal: 21.8s\tremaining: 154ms\n",
      "993:\tlearn: 0.2108569\ttotal: 21.8s\tremaining: 132ms\n",
      "994:\tlearn: 0.2106598\ttotal: 21.8s\tremaining: 110ms\n",
      "995:\tlearn: 0.2102860\ttotal: 21.8s\tremaining: 87.6ms\n",
      "996:\tlearn: 0.2102511\ttotal: 21.8s\tremaining: 65.7ms\n",
      "997:\tlearn: 0.2100951\ttotal: 21.8s\tremaining: 43.8ms\n",
      "998:\tlearn: 0.2100741\ttotal: 21.9s\tremaining: 21.9ms\n",
      "999:\tlearn: 0.2097190\ttotal: 21.9s\tremaining: 0us\n"
     ]
    }
   ],
   "source": [
    "cb_model = CatBoostClassifier().fit(X_train, y_train)"
   ]
  },
  {
   "cell_type": "code",
   "execution_count": 211,
   "metadata": {},
   "outputs": [
    {
     "data": {
      "text/plain": [
       "0.7532467532467533"
      ]
     },
     "execution_count": 211,
     "metadata": {},
     "output_type": "execute_result"
    }
   ],
   "source": [
    "y_pred = cb_model.predict(X_test)\n",
    "accuracy_score(y_test, y_pred)"
   ]
  },
  {
   "cell_type": "code",
   "execution_count": null,
   "metadata": {},
   "outputs": [],
   "source": []
  },
  {
   "cell_type": "markdown",
   "metadata": {},
   "source": [
    "#### Model tuning\n",
    "##### Using hyper-parameters from course because CatBoost is so slow."
   ]
  },
  {
   "cell_type": "code",
   "execution_count": 375,
   "metadata": {},
   "outputs": [
    {
     "name": "stdout",
     "output_type": "stream",
     "text": [
      "0:\tlearn: 0.6670261\ttotal: 61.4ms\tremaining: 30.7s\n",
      "1:\tlearn: 0.6476271\ttotal: 92.3ms\tremaining: 23s\n",
      "2:\tlearn: 0.6300299\ttotal: 107ms\tremaining: 17.7s\n",
      "3:\tlearn: 0.6172589\ttotal: 117ms\tremaining: 14.6s\n",
      "4:\tlearn: 0.5992261\ttotal: 129ms\tremaining: 12.8s\n",
      "5:\tlearn: 0.5858702\ttotal: 138ms\tremaining: 11.3s\n",
      "6:\tlearn: 0.5734019\ttotal: 148ms\tremaining: 10.5s\n",
      "7:\tlearn: 0.5600235\ttotal: 157ms\tremaining: 9.68s\n",
      "8:\tlearn: 0.5487582\ttotal: 167ms\tremaining: 9.14s\n",
      "9:\tlearn: 0.5370898\ttotal: 176ms\tremaining: 8.6s\n",
      "10:\tlearn: 0.5278386\ttotal: 186ms\tremaining: 8.27s\n",
      "11:\tlearn: 0.5192242\ttotal: 199ms\tremaining: 8.1s\n",
      "12:\tlearn: 0.5148453\ttotal: 207ms\tremaining: 7.75s\n",
      "13:\tlearn: 0.5070945\ttotal: 219ms\tremaining: 7.6s\n",
      "14:\tlearn: 0.4993477\ttotal: 236ms\tremaining: 7.64s\n",
      "15:\tlearn: 0.4925198\ttotal: 246ms\tremaining: 7.45s\n",
      "16:\tlearn: 0.4846149\ttotal: 255ms\tremaining: 7.25s\n",
      "17:\tlearn: 0.4786954\ttotal: 284ms\tremaining: 7.6s\n",
      "18:\tlearn: 0.4735306\ttotal: 294ms\tremaining: 7.43s\n",
      "19:\tlearn: 0.4683352\ttotal: 307ms\tremaining: 7.37s\n",
      "20:\tlearn: 0.4614516\ttotal: 316ms\tremaining: 7.21s\n",
      "21:\tlearn: 0.4555478\ttotal: 328ms\tremaining: 7.12s\n",
      "22:\tlearn: 0.4529944\ttotal: 335ms\tremaining: 6.96s\n",
      "23:\tlearn: 0.4452502\ttotal: 347ms\tremaining: 6.89s\n",
      "24:\tlearn: 0.4423715\ttotal: 357ms\tremaining: 6.79s\n",
      "25:\tlearn: 0.4372095\ttotal: 370ms\tremaining: 6.74s\n",
      "26:\tlearn: 0.4332358\ttotal: 381ms\tremaining: 6.67s\n",
      "27:\tlearn: 0.4313418\ttotal: 394ms\tremaining: 6.64s\n",
      "28:\tlearn: 0.4286168\ttotal: 403ms\tremaining: 6.55s\n",
      "29:\tlearn: 0.4247773\ttotal: 415ms\tremaining: 6.5s\n",
      "30:\tlearn: 0.4220543\ttotal: 423ms\tremaining: 6.4s\n",
      "31:\tlearn: 0.4201332\ttotal: 433ms\tremaining: 6.34s\n",
      "32:\tlearn: 0.4177436\ttotal: 443ms\tremaining: 6.27s\n",
      "33:\tlearn: 0.4152149\ttotal: 452ms\tremaining: 6.19s\n",
      "34:\tlearn: 0.4119166\ttotal: 462ms\tremaining: 6.14s\n",
      "35:\tlearn: 0.4103983\ttotal: 471ms\tremaining: 6.07s\n",
      "36:\tlearn: 0.4099162\ttotal: 483ms\tremaining: 6.04s\n",
      "37:\tlearn: 0.4081261\ttotal: 508ms\tremaining: 6.18s\n",
      "38:\tlearn: 0.4053782\ttotal: 520ms\tremaining: 6.15s\n",
      "39:\tlearn: 0.4030979\ttotal: 529ms\tremaining: 6.08s\n",
      "40:\tlearn: 0.4024137\ttotal: 539ms\tremaining: 6.04s\n",
      "41:\tlearn: 0.4001504\ttotal: 548ms\tremaining: 5.97s\n",
      "42:\tlearn: 0.3991110\ttotal: 557ms\tremaining: 5.92s\n",
      "43:\tlearn: 0.3973261\ttotal: 569ms\tremaining: 5.89s\n",
      "44:\tlearn: 0.3961403\ttotal: 578ms\tremaining: 5.85s\n",
      "45:\tlearn: 0.3926145\ttotal: 591ms\tremaining: 5.83s\n",
      "46:\tlearn: 0.3917063\ttotal: 600ms\tremaining: 5.78s\n",
      "47:\tlearn: 0.3895485\ttotal: 611ms\tremaining: 5.76s\n",
      "48:\tlearn: 0.3871912\ttotal: 621ms\tremaining: 5.71s\n",
      "49:\tlearn: 0.3854196\ttotal: 632ms\tremaining: 5.68s\n",
      "50:\tlearn: 0.3842048\ttotal: 641ms\tremaining: 5.64s\n",
      "51:\tlearn: 0.3830717\ttotal: 652ms\tremaining: 5.61s\n",
      "52:\tlearn: 0.3821728\ttotal: 661ms\tremaining: 5.57s\n",
      "53:\tlearn: 0.3811455\ttotal: 672ms\tremaining: 5.55s\n",
      "54:\tlearn: 0.3805165\ttotal: 681ms\tremaining: 5.51s\n",
      "55:\tlearn: 0.3799606\ttotal: 709ms\tremaining: 5.62s\n",
      "56:\tlearn: 0.3788675\ttotal: 723ms\tremaining: 5.62s\n",
      "57:\tlearn: 0.3775343\ttotal: 731ms\tremaining: 5.57s\n",
      "58:\tlearn: 0.3759772\ttotal: 743ms\tremaining: 5.55s\n",
      "59:\tlearn: 0.3745227\ttotal: 752ms\tremaining: 5.51s\n",
      "60:\tlearn: 0.3730595\ttotal: 763ms\tremaining: 5.49s\n",
      "61:\tlearn: 0.3716402\ttotal: 773ms\tremaining: 5.46s\n",
      "62:\tlearn: 0.3703788\ttotal: 785ms\tremaining: 5.45s\n",
      "63:\tlearn: 0.3695992\ttotal: 794ms\tremaining: 5.41s\n",
      "64:\tlearn: 0.3690355\ttotal: 804ms\tremaining: 5.38s\n",
      "65:\tlearn: 0.3675083\ttotal: 813ms\tremaining: 5.35s\n",
      "66:\tlearn: 0.3668228\ttotal: 823ms\tremaining: 5.32s\n",
      "67:\tlearn: 0.3654630\ttotal: 832ms\tremaining: 5.28s\n",
      "68:\tlearn: 0.3635674\ttotal: 842ms\tremaining: 5.26s\n",
      "69:\tlearn: 0.3623152\ttotal: 855ms\tremaining: 5.25s\n",
      "70:\tlearn: 0.3619778\ttotal: 862ms\tremaining: 5.21s\n",
      "71:\tlearn: 0.3614070\ttotal: 875ms\tremaining: 5.2s\n",
      "72:\tlearn: 0.3606688\ttotal: 887ms\tremaining: 5.19s\n",
      "73:\tlearn: 0.3599292\ttotal: 917ms\tremaining: 5.28s\n",
      "74:\tlearn: 0.3596210\ttotal: 927ms\tremaining: 5.25s\n",
      "75:\tlearn: 0.3589113\ttotal: 940ms\tremaining: 5.24s\n",
      "76:\tlearn: 0.3580249\ttotal: 949ms\tremaining: 5.21s\n",
      "77:\tlearn: 0.3576340\ttotal: 960ms\tremaining: 5.2s\n",
      "78:\tlearn: 0.3562826\ttotal: 971ms\tremaining: 5.18s\n",
      "79:\tlearn: 0.3554907\ttotal: 984ms\tremaining: 5.16s\n",
      "80:\tlearn: 0.3545802\ttotal: 992ms\tremaining: 5.13s\n",
      "81:\tlearn: 0.3538982\ttotal: 1.01s\tremaining: 5.15s\n",
      "82:\tlearn: 0.3532409\ttotal: 1.02s\tremaining: 5.15s\n",
      "83:\tlearn: 0.3530426\ttotal: 1.03s\tremaining: 5.12s\n",
      "84:\tlearn: 0.3520758\ttotal: 1.04s\tremaining: 5.1s\n",
      "85:\tlearn: 0.3516795\ttotal: 1.06s\tremaining: 5.11s\n",
      "86:\tlearn: 0.3503411\ttotal: 1.07s\tremaining: 5.1s\n",
      "87:\tlearn: 0.3499915\ttotal: 1.08s\tremaining: 5.07s\n",
      "88:\tlearn: 0.3496392\ttotal: 1.13s\tremaining: 5.2s\n",
      "89:\tlearn: 0.3481973\ttotal: 1.14s\tremaining: 5.21s\n",
      "90:\tlearn: 0.3473681\ttotal: 1.17s\tremaining: 5.26s\n",
      "91:\tlearn: 0.3464365\ttotal: 1.18s\tremaining: 5.25s\n",
      "92:\tlearn: 0.3454194\ttotal: 1.19s\tremaining: 5.21s\n",
      "93:\tlearn: 0.3444421\ttotal: 1.21s\tremaining: 5.21s\n",
      "94:\tlearn: 0.3435832\ttotal: 1.22s\tremaining: 5.21s\n",
      "95:\tlearn: 0.3431715\ttotal: 1.23s\tremaining: 5.19s\n",
      "96:\tlearn: 0.3418706\ttotal: 1.24s\tremaining: 5.17s\n",
      "97:\tlearn: 0.3413864\ttotal: 1.26s\tremaining: 5.19s\n",
      "98:\tlearn: 0.3408364\ttotal: 1.27s\tremaining: 5.16s\n",
      "99:\tlearn: 0.3403211\ttotal: 1.29s\tremaining: 5.15s\n",
      "100:\tlearn: 0.3400021\ttotal: 1.3s\tremaining: 5.13s\n",
      "101:\tlearn: 0.3395500\ttotal: 1.32s\tremaining: 5.15s\n",
      "102:\tlearn: 0.3387738\ttotal: 1.34s\tremaining: 5.15s\n",
      "103:\tlearn: 0.3381788\ttotal: 1.37s\tremaining: 5.22s\n",
      "104:\tlearn: 0.3379311\ttotal: 1.38s\tremaining: 5.21s\n",
      "105:\tlearn: 0.3374209\ttotal: 1.41s\tremaining: 5.23s\n",
      "106:\tlearn: 0.3367406\ttotal: 1.42s\tremaining: 5.22s\n",
      "107:\tlearn: 0.3361049\ttotal: 1.43s\tremaining: 5.2s\n",
      "108:\tlearn: 0.3357432\ttotal: 1.45s\tremaining: 5.18s\n",
      "109:\tlearn: 0.3355061\ttotal: 1.47s\tremaining: 5.19s\n",
      "110:\tlearn: 0.3354101\ttotal: 1.47s\tremaining: 5.17s\n",
      "111:\tlearn: 0.3339861\ttotal: 1.56s\tremaining: 5.41s\n",
      "112:\tlearn: 0.3334288\ttotal: 1.62s\tremaining: 5.54s\n",
      "113:\tlearn: 0.3331389\ttotal: 1.63s\tremaining: 5.51s\n",
      "114:\tlearn: 0.3328971\ttotal: 1.64s\tremaining: 5.49s\n",
      "115:\tlearn: 0.3326845\ttotal: 1.65s\tremaining: 5.46s\n",
      "116:\tlearn: 0.3318209\ttotal: 1.66s\tremaining: 5.44s\n",
      "117:\tlearn: 0.3312272\ttotal: 1.67s\tremaining: 5.41s\n",
      "118:\tlearn: 0.3305187\ttotal: 1.68s\tremaining: 5.39s\n",
      "119:\tlearn: 0.3293692\ttotal: 1.69s\tremaining: 5.36s\n",
      "120:\tlearn: 0.3287160\ttotal: 1.71s\tremaining: 5.34s\n",
      "121:\tlearn: 0.3286458\ttotal: 1.71s\tremaining: 5.31s\n",
      "122:\tlearn: 0.3280273\ttotal: 1.73s\tremaining: 5.29s\n",
      "123:\tlearn: 0.3269251\ttotal: 1.73s\tremaining: 5.26s\n",
      "124:\tlearn: 0.3255371\ttotal: 1.75s\tremaining: 5.24s\n",
      "125:\tlearn: 0.3241540\ttotal: 1.76s\tremaining: 5.22s\n",
      "126:\tlearn: 0.3233327\ttotal: 1.79s\tremaining: 5.25s\n",
      "127:\tlearn: 0.3219963\ttotal: 1.8s\tremaining: 5.23s\n",
      "128:\tlearn: 0.3216548\ttotal: 1.81s\tremaining: 5.22s\n",
      "129:\tlearn: 0.3200349\ttotal: 1.84s\tremaining: 5.25s\n",
      "130:\tlearn: 0.3192890\ttotal: 1.86s\tremaining: 5.23s\n",
      "131:\tlearn: 0.3186603\ttotal: 1.86s\tremaining: 5.2s\n",
      "132:\tlearn: 0.3178982\ttotal: 1.88s\tremaining: 5.18s\n",
      "133:\tlearn: 0.3164520\ttotal: 1.89s\tremaining: 5.16s\n",
      "134:\tlearn: 0.3163573\ttotal: 1.9s\tremaining: 5.14s\n",
      "135:\tlearn: 0.3158827\ttotal: 1.91s\tremaining: 5.12s\n",
      "136:\tlearn: 0.3146285\ttotal: 1.93s\tremaining: 5.1s\n",
      "137:\tlearn: 0.3135482\ttotal: 1.93s\tremaining: 5.07s\n",
      "138:\tlearn: 0.3132030\ttotal: 1.95s\tremaining: 5.06s\n",
      "139:\tlearn: 0.3131014\ttotal: 1.96s\tremaining: 5.04s\n",
      "140:\tlearn: 0.3126601\ttotal: 1.99s\tremaining: 5.06s\n",
      "141:\tlearn: 0.3123034\ttotal: 2s\tremaining: 5.04s\n",
      "142:\tlearn: 0.3118451\ttotal: 2.01s\tremaining: 5.02s\n",
      "143:\tlearn: 0.3116034\ttotal: 2.02s\tremaining: 5s\n",
      "144:\tlearn: 0.3110472\ttotal: 2.04s\tremaining: 5.01s\n",
      "145:\tlearn: 0.3101293\ttotal: 2.1s\tremaining: 5.08s\n",
      "146:\tlearn: 0.3096198\ttotal: 2.12s\tremaining: 5.1s\n",
      "147:\tlearn: 0.3081139\ttotal: 2.13s\tremaining: 5.07s\n",
      "148:\tlearn: 0.3072012\ttotal: 2.14s\tremaining: 5.05s\n",
      "149:\tlearn: 0.3059097\ttotal: 2.15s\tremaining: 5.03s\n",
      "150:\tlearn: 0.3057390\ttotal: 2.19s\tremaining: 5.05s\n",
      "151:\tlearn: 0.3046096\ttotal: 2.2s\tremaining: 5.03s\n",
      "152:\tlearn: 0.3038262\ttotal: 2.21s\tremaining: 5.01s\n",
      "153:\tlearn: 0.3026381\ttotal: 2.22s\tremaining: 4.99s\n",
      "154:\tlearn: 0.3023830\ttotal: 2.23s\tremaining: 4.97s\n",
      "155:\tlearn: 0.3017175\ttotal: 2.24s\tremaining: 4.94s\n",
      "156:\tlearn: 0.3008482\ttotal: 2.26s\tremaining: 4.93s\n",
      "157:\tlearn: 0.3004430\ttotal: 2.27s\tremaining: 4.92s\n",
      "158:\tlearn: 0.2998269\ttotal: 2.28s\tremaining: 4.9s\n",
      "159:\tlearn: 0.2984816\ttotal: 2.3s\tremaining: 4.89s\n",
      "160:\tlearn: 0.2982038\ttotal: 2.31s\tremaining: 4.87s\n",
      "161:\tlearn: 0.2978101\ttotal: 2.33s\tremaining: 4.85s\n",
      "162:\tlearn: 0.2977977\ttotal: 2.37s\tremaining: 4.9s\n",
      "163:\tlearn: 0.2974993\ttotal: 2.42s\tremaining: 4.96s\n",
      "164:\tlearn: 0.2969815\ttotal: 2.46s\tremaining: 4.99s\n",
      "165:\tlearn: 0.2963255\ttotal: 2.48s\tremaining: 4.99s\n",
      "166:\tlearn: 0.2957859\ttotal: 2.52s\tremaining: 5.03s\n",
      "167:\tlearn: 0.2953865\ttotal: 2.56s\tremaining: 5.05s\n",
      "168:\tlearn: 0.2945660\ttotal: 2.59s\tremaining: 5.08s\n",
      "169:\tlearn: 0.2934979\ttotal: 2.6s\tremaining: 5.05s\n",
      "170:\tlearn: 0.2921230\ttotal: 2.61s\tremaining: 5.03s\n",
      "171:\tlearn: 0.2913924\ttotal: 2.63s\tremaining: 5.02s\n",
      "172:\tlearn: 0.2902487\ttotal: 2.65s\tremaining: 5.01s\n",
      "173:\tlearn: 0.2896891\ttotal: 2.66s\tremaining: 4.99s\n",
      "174:\tlearn: 0.2888472\ttotal: 2.68s\tremaining: 4.97s\n",
      "175:\tlearn: 0.2883750\ttotal: 2.69s\tremaining: 4.95s\n",
      "176:\tlearn: 0.2880632\ttotal: 2.7s\tremaining: 4.93s\n",
      "177:\tlearn: 0.2869452\ttotal: 2.71s\tremaining: 4.91s\n",
      "178:\tlearn: 0.2863106\ttotal: 2.72s\tremaining: 4.88s\n",
      "179:\tlearn: 0.2837793\ttotal: 2.74s\tremaining: 4.87s\n",
      "180:\tlearn: 0.2828946\ttotal: 2.75s\tremaining: 4.85s\n",
      "181:\tlearn: 0.2825617\ttotal: 2.77s\tremaining: 4.83s\n",
      "182:\tlearn: 0.2820344\ttotal: 2.78s\tremaining: 4.82s\n",
      "183:\tlearn: 0.2815296\ttotal: 2.79s\tremaining: 4.79s\n",
      "184:\tlearn: 0.2809372\ttotal: 2.8s\tremaining: 4.78s\n",
      "185:\tlearn: 0.2804485\ttotal: 2.82s\tremaining: 4.76s\n",
      "186:\tlearn: 0.2803339\ttotal: 2.83s\tremaining: 4.75s\n",
      "187:\tlearn: 0.2800234\ttotal: 2.87s\tremaining: 4.76s\n",
      "188:\tlearn: 0.2797538\ttotal: 2.88s\tremaining: 4.74s\n",
      "189:\tlearn: 0.2790984\ttotal: 2.89s\tremaining: 4.72s\n",
      "190:\tlearn: 0.2777160\ttotal: 2.9s\tremaining: 4.7s\n",
      "191:\tlearn: 0.2773535\ttotal: 2.91s\tremaining: 4.68s\n",
      "192:\tlearn: 0.2760407\ttotal: 2.92s\tremaining: 4.65s\n",
      "193:\tlearn: 0.2757772\ttotal: 2.94s\tremaining: 4.63s\n",
      "194:\tlearn: 0.2755814\ttotal: 2.95s\tremaining: 4.61s\n",
      "195:\tlearn: 0.2736631\ttotal: 2.96s\tremaining: 4.6s\n",
      "196:\tlearn: 0.2720029\ttotal: 2.98s\tremaining: 4.58s\n",
      "197:\tlearn: 0.2710041\ttotal: 2.98s\tremaining: 4.55s\n",
      "198:\tlearn: 0.2696668\ttotal: 3s\tremaining: 4.53s\n",
      "199:\tlearn: 0.2693521\ttotal: 3.01s\tremaining: 4.51s\n",
      "200:\tlearn: 0.2691960\ttotal: 3.02s\tremaining: 4.49s\n",
      "201:\tlearn: 0.2685127\ttotal: 3.03s\tremaining: 4.46s\n",
      "202:\tlearn: 0.2679767\ttotal: 3.04s\tremaining: 4.45s\n",
      "203:\tlearn: 0.2673639\ttotal: 3.07s\tremaining: 4.45s\n",
      "204:\tlearn: 0.2672710\ttotal: 3.08s\tremaining: 4.43s\n",
      "205:\tlearn: 0.2670332\ttotal: 3.09s\tremaining: 4.41s\n",
      "206:\tlearn: 0.2664435\ttotal: 3.1s\tremaining: 4.39s\n",
      "207:\tlearn: 0.2659585\ttotal: 3.11s\tremaining: 4.37s\n",
      "208:\tlearn: 0.2654858\ttotal: 3.12s\tremaining: 4.34s\n",
      "209:\tlearn: 0.2653903\ttotal: 3.13s\tremaining: 4.32s\n",
      "210:\tlearn: 0.2650445\ttotal: 3.14s\tremaining: 4.3s\n",
      "211:\tlearn: 0.2645692\ttotal: 3.15s\tremaining: 4.29s\n",
      "212:\tlearn: 0.2636439\ttotal: 3.16s\tremaining: 4.26s\n",
      "213:\tlearn: 0.2628538\ttotal: 3.18s\tremaining: 4.25s\n",
      "214:\tlearn: 0.2621218\ttotal: 3.19s\tremaining: 4.22s\n",
      "215:\tlearn: 0.2618197\ttotal: 3.2s\tremaining: 4.21s\n",
      "216:\tlearn: 0.2614170\ttotal: 3.21s\tremaining: 4.19s\n",
      "217:\tlearn: 0.2612427\ttotal: 3.22s\tremaining: 4.17s\n",
      "218:\tlearn: 0.2601798\ttotal: 3.24s\tremaining: 4.16s\n",
      "219:\tlearn: 0.2599759\ttotal: 3.29s\tremaining: 4.18s\n",
      "220:\tlearn: 0.2595754\ttotal: 3.3s\tremaining: 4.16s\n",
      "221:\tlearn: 0.2584109\ttotal: 3.31s\tremaining: 4.15s\n",
      "222:\tlearn: 0.2580764\ttotal: 3.32s\tremaining: 4.13s\n",
      "223:\tlearn: 0.2571807\ttotal: 3.33s\tremaining: 4.1s\n",
      "224:\tlearn: 0.2567306\ttotal: 3.34s\tremaining: 4.09s\n",
      "225:\tlearn: 0.2565449\ttotal: 3.35s\tremaining: 4.07s\n",
      "226:\tlearn: 0.2564024\ttotal: 3.36s\tremaining: 4.05s\n",
      "227:\tlearn: 0.2560544\ttotal: 3.38s\tremaining: 4.03s\n",
      "228:\tlearn: 0.2558295\ttotal: 3.39s\tremaining: 4.01s\n",
      "229:\tlearn: 0.2554452\ttotal: 3.4s\tremaining: 3.99s\n",
      "230:\tlearn: 0.2553744\ttotal: 3.41s\tremaining: 3.97s\n",
      "231:\tlearn: 0.2551553\ttotal: 3.42s\tremaining: 3.95s\n",
      "232:\tlearn: 0.2541908\ttotal: 3.43s\tremaining: 3.93s\n",
      "233:\tlearn: 0.2532099\ttotal: 3.45s\tremaining: 3.92s\n",
      "234:\tlearn: 0.2530246\ttotal: 3.48s\tremaining: 3.92s\n",
      "235:\tlearn: 0.2526611\ttotal: 3.49s\tremaining: 3.9s\n",
      "236:\tlearn: 0.2523568\ttotal: 3.5s\tremaining: 3.88s\n",
      "237:\tlearn: 0.2522592\ttotal: 3.51s\tremaining: 3.87s\n",
      "238:\tlearn: 0.2520869\ttotal: 3.53s\tremaining: 3.85s\n",
      "239:\tlearn: 0.2520122\ttotal: 3.54s\tremaining: 3.83s\n",
      "240:\tlearn: 0.2516624\ttotal: 3.55s\tremaining: 3.82s\n",
      "241:\tlearn: 0.2514895\ttotal: 3.56s\tremaining: 3.8s\n",
      "242:\tlearn: 0.2511542\ttotal: 3.58s\tremaining: 3.78s\n",
      "243:\tlearn: 0.2506881\ttotal: 3.59s\tremaining: 3.77s\n",
      "244:\tlearn: 0.2505473\ttotal: 3.6s\tremaining: 3.75s\n",
      "245:\tlearn: 0.2499322\ttotal: 3.62s\tremaining: 3.73s\n",
      "246:\tlearn: 0.2487075\ttotal: 3.63s\tremaining: 3.72s\n",
      "247:\tlearn: 0.2485225\ttotal: 3.64s\tremaining: 3.7s\n",
      "248:\tlearn: 0.2481724\ttotal: 3.65s\tremaining: 3.68s\n",
      "249:\tlearn: 0.2469409\ttotal: 3.69s\tremaining: 3.69s\n",
      "250:\tlearn: 0.2464305\ttotal: 3.74s\tremaining: 3.71s\n",
      "251:\tlearn: 0.2460264\ttotal: 3.75s\tremaining: 3.69s\n",
      "252:\tlearn: 0.2457392\ttotal: 3.76s\tremaining: 3.67s\n",
      "253:\tlearn: 0.2455040\ttotal: 3.77s\tremaining: 3.65s\n",
      "254:\tlearn: 0.2446981\ttotal: 3.78s\tremaining: 3.63s\n",
      "255:\tlearn: 0.2445024\ttotal: 3.79s\tremaining: 3.62s\n",
      "256:\tlearn: 0.2433242\ttotal: 3.8s\tremaining: 3.6s\n",
      "257:\tlearn: 0.2431888\ttotal: 3.82s\tremaining: 3.58s\n",
      "258:\tlearn: 0.2427446\ttotal: 3.85s\tremaining: 3.58s\n",
      "259:\tlearn: 0.2425847\ttotal: 3.87s\tremaining: 3.57s\n",
      "260:\tlearn: 0.2424757\ttotal: 3.88s\tremaining: 3.55s\n",
      "261:\tlearn: 0.2420579\ttotal: 3.89s\tremaining: 3.54s\n",
      "262:\tlearn: 0.2419403\ttotal: 3.9s\tremaining: 3.52s\n",
      "263:\tlearn: 0.2413509\ttotal: 3.92s\tremaining: 3.5s\n",
      "264:\tlearn: 0.2412186\ttotal: 3.93s\tremaining: 3.48s\n",
      "265:\tlearn: 0.2411147\ttotal: 3.95s\tremaining: 3.47s\n",
      "266:\tlearn: 0.2405787\ttotal: 3.96s\tremaining: 3.46s\n",
      "267:\tlearn: 0.2405400\ttotal: 3.97s\tremaining: 3.44s\n",
      "268:\tlearn: 0.2403518\ttotal: 3.98s\tremaining: 3.42s\n",
      "269:\tlearn: 0.2400683\ttotal: 4s\tremaining: 3.41s\n",
      "270:\tlearn: 0.2394397\ttotal: 4.01s\tremaining: 3.39s\n",
      "271:\tlearn: 0.2388744\ttotal: 4.03s\tremaining: 3.38s\n",
      "272:\tlearn: 0.2380061\ttotal: 4.04s\tremaining: 3.36s\n",
      "273:\tlearn: 0.2371537\ttotal: 4.05s\tremaining: 3.34s\n",
      "274:\tlearn: 0.2364332\ttotal: 4.07s\tremaining: 3.33s\n",
      "275:\tlearn: 0.2363433\ttotal: 4.08s\tremaining: 3.31s\n",
      "276:\tlearn: 0.2354799\ttotal: 4.1s\tremaining: 3.3s\n",
      "277:\tlearn: 0.2353779\ttotal: 4.11s\tremaining: 3.28s\n",
      "278:\tlearn: 0.2350440\ttotal: 4.12s\tremaining: 3.26s\n",
      "279:\tlearn: 0.2349958\ttotal: 4.13s\tremaining: 3.25s\n",
      "280:\tlearn: 0.2346919\ttotal: 4.14s\tremaining: 3.23s\n",
      "281:\tlearn: 0.2346195\ttotal: 4.15s\tremaining: 3.21s\n",
      "282:\tlearn: 0.2344878\ttotal: 4.16s\tremaining: 3.19s\n",
      "283:\tlearn: 0.2340416\ttotal: 4.17s\tremaining: 3.17s\n",
      "284:\tlearn: 0.2339960\ttotal: 4.19s\tremaining: 3.16s\n",
      "285:\tlearn: 0.2336298\ttotal: 4.2s\tremaining: 3.14s\n",
      "286:\tlearn: 0.2335276\ttotal: 4.25s\tremaining: 3.15s\n",
      "287:\tlearn: 0.2334280\ttotal: 4.33s\tremaining: 3.19s\n",
      "288:\tlearn: 0.2331352\ttotal: 4.39s\tremaining: 3.21s\n",
      "289:\tlearn: 0.2326668\ttotal: 4.45s\tremaining: 3.22s\n",
      "290:\tlearn: 0.2325039\ttotal: 4.47s\tremaining: 3.21s\n",
      "291:\tlearn: 0.2322014\ttotal: 4.48s\tremaining: 3.19s\n",
      "292:\tlearn: 0.2310839\ttotal: 4.49s\tremaining: 3.17s\n",
      "293:\tlearn: 0.2307366\ttotal: 4.51s\tremaining: 3.16s\n",
      "294:\tlearn: 0.2302111\ttotal: 4.52s\tremaining: 3.14s\n",
      "295:\tlearn: 0.2297426\ttotal: 4.53s\tremaining: 3.12s\n",
      "296:\tlearn: 0.2290467\ttotal: 4.54s\tremaining: 3.1s\n",
      "297:\tlearn: 0.2276814\ttotal: 4.55s\tremaining: 3.08s\n",
      "298:\tlearn: 0.2275232\ttotal: 4.56s\tremaining: 3.06s\n",
      "299:\tlearn: 0.2270218\ttotal: 4.57s\tremaining: 3.05s\n",
      "300:\tlearn: 0.2267647\ttotal: 4.58s\tremaining: 3.03s\n",
      "301:\tlearn: 0.2263250\ttotal: 4.59s\tremaining: 3.01s\n",
      "302:\tlearn: 0.2261223\ttotal: 4.6s\tremaining: 2.99s\n",
      "303:\tlearn: 0.2260905\ttotal: 4.61s\tremaining: 2.97s\n",
      "304:\tlearn: 0.2259894\ttotal: 4.62s\tremaining: 2.96s\n",
      "305:\tlearn: 0.2257427\ttotal: 4.63s\tremaining: 2.94s\n",
      "306:\tlearn: 0.2250705\ttotal: 4.64s\tremaining: 2.92s\n",
      "307:\tlearn: 0.2249042\ttotal: 4.65s\tremaining: 2.9s\n",
      "308:\tlearn: 0.2247741\ttotal: 4.67s\tremaining: 2.88s\n",
      "309:\tlearn: 0.2243369\ttotal: 4.68s\tremaining: 2.87s\n",
      "310:\tlearn: 0.2240914\ttotal: 4.69s\tremaining: 2.85s\n",
      "311:\tlearn: 0.2236787\ttotal: 4.7s\tremaining: 2.83s\n",
      "312:\tlearn: 0.2234391\ttotal: 4.71s\tremaining: 2.81s\n",
      "313:\tlearn: 0.2231576\ttotal: 4.72s\tremaining: 2.79s\n",
      "314:\tlearn: 0.2224245\ttotal: 4.73s\tremaining: 2.78s\n",
      "315:\tlearn: 0.2222622\ttotal: 4.74s\tremaining: 2.76s\n",
      "316:\tlearn: 0.2217511\ttotal: 4.75s\tremaining: 2.74s\n",
      "317:\tlearn: 0.2211949\ttotal: 4.76s\tremaining: 2.73s\n",
      "318:\tlearn: 0.2209207\ttotal: 4.77s\tremaining: 2.71s\n",
      "319:\tlearn: 0.2208516\ttotal: 4.78s\tremaining: 2.69s\n",
      "320:\tlearn: 0.2199781\ttotal: 4.79s\tremaining: 2.67s\n",
      "321:\tlearn: 0.2199250\ttotal: 4.8s\tremaining: 2.65s\n",
      "322:\tlearn: 0.2195548\ttotal: 4.81s\tremaining: 2.63s\n",
      "323:\tlearn: 0.2194459\ttotal: 4.82s\tremaining: 2.62s\n",
      "324:\tlearn: 0.2193847\ttotal: 4.83s\tremaining: 2.6s\n",
      "325:\tlearn: 0.2186618\ttotal: 4.84s\tremaining: 2.58s\n",
      "326:\tlearn: 0.2185331\ttotal: 4.85s\tremaining: 2.57s\n",
      "327:\tlearn: 0.2169546\ttotal: 4.86s\tremaining: 2.55s\n",
      "328:\tlearn: 0.2167343\ttotal: 4.87s\tremaining: 2.53s\n",
      "329:\tlearn: 0.2162234\ttotal: 4.88s\tremaining: 2.52s\n",
      "330:\tlearn: 0.2160646\ttotal: 4.89s\tremaining: 2.5s\n",
      "331:\tlearn: 0.2151368\ttotal: 4.9s\tremaining: 2.48s\n",
      "332:\tlearn: 0.2144482\ttotal: 4.92s\tremaining: 2.46s\n",
      "333:\tlearn: 0.2142133\ttotal: 4.93s\tremaining: 2.45s\n",
      "334:\tlearn: 0.2136999\ttotal: 4.95s\tremaining: 2.44s\n",
      "335:\tlearn: 0.2133245\ttotal: 4.97s\tremaining: 2.43s\n",
      "336:\tlearn: 0.2131438\ttotal: 4.99s\tremaining: 2.41s\n",
      "337:\tlearn: 0.2129550\ttotal: 5.03s\tremaining: 2.41s\n",
      "338:\tlearn: 0.2125349\ttotal: 5.07s\tremaining: 2.41s\n",
      "339:\tlearn: 0.2124763\ttotal: 5.12s\tremaining: 2.41s\n",
      "340:\tlearn: 0.2123807\ttotal: 5.15s\tremaining: 2.4s\n",
      "341:\tlearn: 0.2123382\ttotal: 5.19s\tremaining: 2.4s\n",
      "342:\tlearn: 0.2122457\ttotal: 5.2s\tremaining: 2.38s\n",
      "343:\tlearn: 0.2114366\ttotal: 5.22s\tremaining: 2.37s\n",
      "344:\tlearn: 0.2110707\ttotal: 5.23s\tremaining: 2.35s\n",
      "345:\tlearn: 0.2106318\ttotal: 5.25s\tremaining: 2.33s\n",
      "346:\tlearn: 0.2099574\ttotal: 5.26s\tremaining: 2.32s\n",
      "347:\tlearn: 0.2098006\ttotal: 5.27s\tremaining: 2.3s\n",
      "348:\tlearn: 0.2096047\ttotal: 5.28s\tremaining: 2.28s\n",
      "349:\tlearn: 0.2094972\ttotal: 5.29s\tremaining: 2.27s\n",
      "350:\tlearn: 0.2091099\ttotal: 5.3s\tremaining: 2.25s\n",
      "351:\tlearn: 0.2087949\ttotal: 5.31s\tremaining: 2.23s\n",
      "352:\tlearn: 0.2082304\ttotal: 5.33s\tremaining: 2.22s\n",
      "353:\tlearn: 0.2080507\ttotal: 5.34s\tremaining: 2.2s\n",
      "354:\tlearn: 0.2075462\ttotal: 5.35s\tremaining: 2.18s\n",
      "355:\tlearn: 0.2073674\ttotal: 5.36s\tremaining: 2.17s\n",
      "356:\tlearn: 0.2071247\ttotal: 5.37s\tremaining: 2.15s\n",
      "357:\tlearn: 0.2067523\ttotal: 5.38s\tremaining: 2.13s\n",
      "358:\tlearn: 0.2061896\ttotal: 5.4s\tremaining: 2.12s\n",
      "359:\tlearn: 0.2057120\ttotal: 5.41s\tremaining: 2.1s\n",
      "360:\tlearn: 0.2056482\ttotal: 5.42s\tremaining: 2.09s\n",
      "361:\tlearn: 0.2054013\ttotal: 5.43s\tremaining: 2.07s\n",
      "362:\tlearn: 0.2053135\ttotal: 5.44s\tremaining: 2.05s\n",
      "363:\tlearn: 0.2051216\ttotal: 5.46s\tremaining: 2.04s\n",
      "364:\tlearn: 0.2047021\ttotal: 5.47s\tremaining: 2.02s\n",
      "365:\tlearn: 0.2046851\ttotal: 5.48s\tremaining: 2.01s\n",
      "366:\tlearn: 0.2041488\ttotal: 5.49s\tremaining: 1.99s\n",
      "367:\tlearn: 0.2040560\ttotal: 5.5s\tremaining: 1.97s\n",
      "368:\tlearn: 0.2039754\ttotal: 5.52s\tremaining: 1.96s\n",
      "369:\tlearn: 0.2037817\ttotal: 5.53s\tremaining: 1.94s\n",
      "370:\tlearn: 0.2031044\ttotal: 5.54s\tremaining: 1.93s\n",
      "371:\tlearn: 0.2028566\ttotal: 5.55s\tremaining: 1.91s\n",
      "372:\tlearn: 0.2027699\ttotal: 5.57s\tremaining: 1.9s\n",
      "373:\tlearn: 0.2026443\ttotal: 5.58s\tremaining: 1.88s\n",
      "374:\tlearn: 0.2026040\ttotal: 5.59s\tremaining: 1.86s\n",
      "375:\tlearn: 0.2023764\ttotal: 5.6s\tremaining: 1.84s\n",
      "376:\tlearn: 0.2022196\ttotal: 5.61s\tremaining: 1.83s\n",
      "377:\tlearn: 0.2017131\ttotal: 5.62s\tremaining: 1.81s\n",
      "378:\tlearn: 0.2015619\ttotal: 5.63s\tremaining: 1.8s\n",
      "379:\tlearn: 0.2011794\ttotal: 5.64s\tremaining: 1.78s\n",
      "380:\tlearn: 0.2010799\ttotal: 5.65s\tremaining: 1.76s\n",
      "381:\tlearn: 0.2009294\ttotal: 5.66s\tremaining: 1.75s\n",
      "382:\tlearn: 0.2001416\ttotal: 5.67s\tremaining: 1.73s\n",
      "383:\tlearn: 0.2001042\ttotal: 5.68s\tremaining: 1.72s\n",
      "384:\tlearn: 0.1999171\ttotal: 5.69s\tremaining: 1.7s\n",
      "385:\tlearn: 0.1992707\ttotal: 5.7s\tremaining: 1.68s\n",
      "386:\tlearn: 0.1991477\ttotal: 5.71s\tremaining: 1.67s\n",
      "387:\tlearn: 0.1989627\ttotal: 5.72s\tremaining: 1.65s\n",
      "388:\tlearn: 0.1986761\ttotal: 5.73s\tremaining: 1.64s\n",
      "389:\tlearn: 0.1985833\ttotal: 5.74s\tremaining: 1.62s\n",
      "390:\tlearn: 0.1984562\ttotal: 5.75s\tremaining: 1.6s\n",
      "391:\tlearn: 0.1983240\ttotal: 5.76s\tremaining: 1.59s\n",
      "392:\tlearn: 0.1977042\ttotal: 5.77s\tremaining: 1.57s\n",
      "393:\tlearn: 0.1975963\ttotal: 5.79s\tremaining: 1.56s\n",
      "394:\tlearn: 0.1970553\ttotal: 5.8s\tremaining: 1.54s\n",
      "395:\tlearn: 0.1967895\ttotal: 5.81s\tremaining: 1.52s\n",
      "396:\tlearn: 0.1967807\ttotal: 5.82s\tremaining: 1.51s\n",
      "397:\tlearn: 0.1965462\ttotal: 5.83s\tremaining: 1.49s\n",
      "398:\tlearn: 0.1959499\ttotal: 5.84s\tremaining: 1.48s\n",
      "399:\tlearn: 0.1958912\ttotal: 5.85s\tremaining: 1.46s\n",
      "400:\tlearn: 0.1952351\ttotal: 5.87s\tremaining: 1.45s\n",
      "401:\tlearn: 0.1947556\ttotal: 5.88s\tremaining: 1.43s\n",
      "402:\tlearn: 0.1946001\ttotal: 5.89s\tremaining: 1.42s\n",
      "403:\tlearn: 0.1942518\ttotal: 5.91s\tremaining: 1.4s\n",
      "404:\tlearn: 0.1940796\ttotal: 5.92s\tremaining: 1.39s\n",
      "405:\tlearn: 0.1939300\ttotal: 5.93s\tremaining: 1.37s\n",
      "406:\tlearn: 0.1939008\ttotal: 5.95s\tremaining: 1.36s\n",
      "407:\tlearn: 0.1932267\ttotal: 5.96s\tremaining: 1.34s\n",
      "408:\tlearn: 0.1929762\ttotal: 5.97s\tremaining: 1.33s\n",
      "409:\tlearn: 0.1928805\ttotal: 5.99s\tremaining: 1.31s\n",
      "410:\tlearn: 0.1928348\ttotal: 6s\tremaining: 1.3s\n",
      "411:\tlearn: 0.1926596\ttotal: 6.01s\tremaining: 1.28s\n",
      "412:\tlearn: 0.1926145\ttotal: 6.02s\tremaining: 1.27s\n",
      "413:\tlearn: 0.1919244\ttotal: 6.03s\tremaining: 1.25s\n",
      "414:\tlearn: 0.1919211\ttotal: 6.05s\tremaining: 1.24s\n",
      "415:\tlearn: 0.1914753\ttotal: 6.06s\tremaining: 1.22s\n",
      "416:\tlearn: 0.1909489\ttotal: 6.07s\tremaining: 1.21s\n",
      "417:\tlearn: 0.1908342\ttotal: 6.09s\tremaining: 1.19s\n",
      "418:\tlearn: 0.1906568\ttotal: 6.1s\tremaining: 1.18s\n",
      "419:\tlearn: 0.1906124\ttotal: 6.11s\tremaining: 1.16s\n",
      "420:\tlearn: 0.1904479\ttotal: 6.12s\tremaining: 1.15s\n",
      "421:\tlearn: 0.1903848\ttotal: 6.13s\tremaining: 1.13s\n",
      "422:\tlearn: 0.1900881\ttotal: 6.14s\tremaining: 1.12s\n",
      "423:\tlearn: 0.1900335\ttotal: 6.15s\tremaining: 1.1s\n",
      "424:\tlearn: 0.1896685\ttotal: 6.16s\tremaining: 1.09s\n",
      "425:\tlearn: 0.1894534\ttotal: 6.17s\tremaining: 1.07s\n",
      "426:\tlearn: 0.1889162\ttotal: 6.18s\tremaining: 1.06s\n",
      "427:\tlearn: 0.1885390\ttotal: 6.19s\tremaining: 1.04s\n",
      "428:\tlearn: 0.1882440\ttotal: 6.2s\tremaining: 1.03s\n",
      "429:\tlearn: 0.1880137\ttotal: 6.21s\tremaining: 1.01s\n",
      "430:\tlearn: 0.1876790\ttotal: 6.22s\tremaining: 996ms\n",
      "431:\tlearn: 0.1865811\ttotal: 6.23s\tremaining: 981ms\n",
      "432:\tlearn: 0.1865238\ttotal: 6.24s\tremaining: 966ms\n",
      "433:\tlearn: 0.1864932\ttotal: 6.25s\tremaining: 951ms\n",
      "434:\tlearn: 0.1862135\ttotal: 6.26s\tremaining: 936ms\n",
      "435:\tlearn: 0.1861026\ttotal: 6.27s\tremaining: 921ms\n",
      "436:\tlearn: 0.1853274\ttotal: 6.28s\tremaining: 906ms\n",
      "437:\tlearn: 0.1853025\ttotal: 6.3s\tremaining: 891ms\n",
      "438:\tlearn: 0.1842218\ttotal: 6.31s\tremaining: 876ms\n",
      "439:\tlearn: 0.1841217\ttotal: 6.32s\tremaining: 862ms\n",
      "440:\tlearn: 0.1834105\ttotal: 6.33s\tremaining: 847ms\n",
      "441:\tlearn: 0.1833680\ttotal: 6.34s\tremaining: 832ms\n",
      "442:\tlearn: 0.1832818\ttotal: 6.35s\tremaining: 817ms\n",
      "443:\tlearn: 0.1832538\ttotal: 6.36s\tremaining: 803ms\n",
      "444:\tlearn: 0.1832063\ttotal: 6.38s\tremaining: 789ms\n",
      "445:\tlearn: 0.1828838\ttotal: 6.39s\tremaining: 774ms\n",
      "446:\tlearn: 0.1826190\ttotal: 6.41s\tremaining: 760ms\n",
      "447:\tlearn: 0.1826050\ttotal: 6.42s\tremaining: 745ms\n",
      "448:\tlearn: 0.1825568\ttotal: 6.43s\tremaining: 731ms\n",
      "449:\tlearn: 0.1822708\ttotal: 6.45s\tremaining: 716ms\n",
      "450:\tlearn: 0.1821674\ttotal: 6.46s\tremaining: 702ms\n",
      "451:\tlearn: 0.1820715\ttotal: 6.47s\tremaining: 687ms\n",
      "452:\tlearn: 0.1819830\ttotal: 6.48s\tremaining: 672ms\n",
      "453:\tlearn: 0.1818653\ttotal: 6.49s\tremaining: 658ms\n",
      "454:\tlearn: 0.1814830\ttotal: 6.5s\tremaining: 643ms\n",
      "455:\tlearn: 0.1814265\ttotal: 6.51s\tremaining: 628ms\n",
      "456:\tlearn: 0.1814172\ttotal: 6.52s\tremaining: 614ms\n",
      "457:\tlearn: 0.1814014\ttotal: 6.53s\tremaining: 599ms\n",
      "458:\tlearn: 0.1812773\ttotal: 6.54s\tremaining: 584ms\n",
      "459:\tlearn: 0.1812267\ttotal: 6.55s\tremaining: 570ms\n",
      "460:\tlearn: 0.1809845\ttotal: 6.56s\tremaining: 555ms\n",
      "461:\tlearn: 0.1799760\ttotal: 6.57s\tremaining: 541ms\n",
      "462:\tlearn: 0.1796787\ttotal: 6.58s\tremaining: 526ms\n",
      "463:\tlearn: 0.1796616\ttotal: 6.59s\tremaining: 512ms\n",
      "464:\tlearn: 0.1786712\ttotal: 6.6s\tremaining: 497ms\n",
      "465:\tlearn: 0.1779462\ttotal: 6.62s\tremaining: 483ms\n",
      "466:\tlearn: 0.1778748\ttotal: 6.62s\tremaining: 468ms\n",
      "467:\tlearn: 0.1777741\ttotal: 6.63s\tremaining: 454ms\n",
      "468:\tlearn: 0.1777044\ttotal: 6.64s\tremaining: 439ms\n",
      "469:\tlearn: 0.1776267\ttotal: 6.66s\tremaining: 425ms\n",
      "470:\tlearn: 0.1766361\ttotal: 6.67s\tremaining: 410ms\n",
      "471:\tlearn: 0.1761956\ttotal: 6.68s\tremaining: 396ms\n",
      "472:\tlearn: 0.1761604\ttotal: 6.69s\tremaining: 382ms\n",
      "473:\tlearn: 0.1754085\ttotal: 6.7s\tremaining: 367ms\n",
      "474:\tlearn: 0.1753640\ttotal: 6.71s\tremaining: 353ms\n",
      "475:\tlearn: 0.1750109\ttotal: 6.72s\tremaining: 339ms\n",
      "476:\tlearn: 0.1749416\ttotal: 6.73s\tremaining: 324ms\n",
      "477:\tlearn: 0.1749233\ttotal: 6.75s\tremaining: 311ms\n",
      "478:\tlearn: 0.1748258\ttotal: 6.79s\tremaining: 298ms\n",
      "479:\tlearn: 0.1748103\ttotal: 6.83s\tremaining: 285ms\n",
      "480:\tlearn: 0.1744503\ttotal: 6.88s\tremaining: 272ms\n",
      "481:\tlearn: 0.1738157\ttotal: 6.91s\tremaining: 258ms\n",
      "482:\tlearn: 0.1736780\ttotal: 6.92s\tremaining: 244ms\n",
      "483:\tlearn: 0.1735390\ttotal: 6.93s\tremaining: 229ms\n",
      "484:\tlearn: 0.1731986\ttotal: 6.94s\tremaining: 215ms\n",
      "485:\tlearn: 0.1731647\ttotal: 6.95s\tremaining: 200ms\n",
      "486:\tlearn: 0.1727499\ttotal: 6.96s\tremaining: 186ms\n",
      "487:\tlearn: 0.1727229\ttotal: 6.97s\tremaining: 171ms\n",
      "488:\tlearn: 0.1725626\ttotal: 6.97s\tremaining: 157ms\n",
      "489:\tlearn: 0.1724773\ttotal: 6.99s\tremaining: 143ms\n",
      "490:\tlearn: 0.1721031\ttotal: 7s\tremaining: 128ms\n",
      "491:\tlearn: 0.1718985\ttotal: 7.01s\tremaining: 114ms\n",
      "492:\tlearn: 0.1718826\ttotal: 7.03s\tremaining: 99.8ms\n",
      "493:\tlearn: 0.1716569\ttotal: 7.04s\tremaining: 85.5ms\n",
      "494:\tlearn: 0.1714049\ttotal: 7.05s\tremaining: 71.2ms\n",
      "495:\tlearn: 0.1713750\ttotal: 7.06s\tremaining: 56.9ms\n",
      "496:\tlearn: 0.1713039\ttotal: 7.07s\tremaining: 42.7ms\n",
      "497:\tlearn: 0.1712194\ttotal: 7.08s\tremaining: 28.4ms\n",
      "498:\tlearn: 0.1710435\ttotal: 7.09s\tremaining: 14.2ms\n",
      "499:\tlearn: 0.1710384\ttotal: 7.1s\tremaining: 0us\n"
     ]
    }
   ],
   "source": [
    "cb_model_tuned = CatBoostClassifier(\n",
    "    iterations=500,\n",
    "    learning_rate=0.05,\n",
    "    depth=5\n",
    ").fit(X_train, y_train)"
   ]
  },
  {
   "cell_type": "code",
   "execution_count": 376,
   "metadata": {},
   "outputs": [
    {
     "data": {
      "text/plain": [
       "0.7532467532467533"
      ]
     },
     "execution_count": 376,
     "metadata": {},
     "output_type": "execute_result"
    }
   ],
   "source": [
    "y_pred = cb_model_tuned.predict(X_test)\n",
    "accuracy_score(y_test, y_pred)"
   ]
  },
  {
   "cell_type": "code",
   "execution_count": null,
   "metadata": {},
   "outputs": [],
   "source": []
  },
  {
   "cell_type": "markdown",
   "metadata": {},
   "source": [
    "## Comparasion all models"
   ]
  },
  {
   "cell_type": "code",
   "execution_count": 404,
   "metadata": {},
   "outputs": [],
   "source": [
    "models = [\n",
    "    loj_model,\n",
    "    nb_model,\n",
    "    knn_model_tuned,\n",
    "    svc_model_tuned,\n",
    "    svc_rbf_model_tuned,\n",
    "    mlpc_model_tuned,\n",
    "    cart_model_tuned,\n",
    "    rf_model_tuned,\n",
    "    gbm_model_tuned,\n",
    "    xgb_model_tuned,\n",
    "    lgbm_model_tuned,\n",
    "    cb_model_tuned\n",
    "]"
   ]
  },
  {
   "cell_type": "code",
   "execution_count": 385,
   "metadata": {},
   "outputs": [],
   "source": [
    "import inspect\n",
    "\n",
    "def retrieve_name(var):\n",
    "    callers_local_vars = inspect.currentframe().f_back.f_locals.items()\n",
    "    return [var_name for var_name, var_val in callers_local_vars if var_val is var]"
   ]
  },
  {
   "cell_type": "code",
   "execution_count": 397,
   "metadata": {},
   "outputs": [
    {
     "name": "stdout",
     "output_type": "stream",
     "text": [
      "----------------------------------------\n",
      "loj_model:\n",
      "Accuracy: 75.7576%\n",
      "----------------------------------------\n",
      "nb_model:\n",
      "Accuracy: 74.4589%\n",
      "----------------------------------------\n",
      "knn_model_tuned:\n",
      "Accuracy: 74.0260%\n",
      "----------------------------------------\n",
      "svc_model_tuned:\n",
      "Accuracy: 74.4589%\n",
      "----------------------------------------\n",
      "svc_rbf_model_tuned:\n",
      "Accuracy: 73.1602%\n",
      "----------------------------------------\n",
      "mlpc_model_tuned:\n",
      "Accuracy: 34.6320%\n",
      "----------------------------------------\n",
      "cart_model_tuned:\n",
      "Accuracy: 75.3247%\n",
      "----------------------------------------\n",
      "rf_model_tuned:\n",
      "Accuracy: 76.1905%\n",
      "----------------------------------------\n",
      "gbm_model_tuned:\n",
      "Accuracy: 74.8918%\n",
      "----------------------------------------\n",
      "xgb_model_tuned:\n",
      "Accuracy: 75.7576%\n",
      "----------------------------------------\n",
      "lgbm_model_tuned:\n",
      "Accuracy: 75.7576%\n",
      "----------------------------------------\n",
      "cb_model_tuned:\n",
      "Accuracy: 75.3247%\n"
     ]
    }
   ],
   "source": [
    "for model in models:    \n",
    "    y_pred = 0\n",
    "    if class_name == MLPClassifier.__name__:\n",
    "        y_pred = model.predict(X_test_scaled)\n",
    "    else:\n",
    "        y_pred = model.predict(X_test)\n",
    "    \n",
    "    accuracy = accuracy_score(y_test, y_pred)\n",
    "    print('-'*40)\n",
    "    print(retrieve_name(model)[0] + ':')\n",
    "    print('Accuracy: {:.4%}'.format(accuracy))"
   ]
  },
  {
   "cell_type": "code",
   "execution_count": 471,
   "metadata": {},
   "outputs": [],
   "source": [
    "models_df = pd.DataFrame(columns=['Model', 'Accuracy'])\n",
    "for model in models:\n",
    "    y_pred = 0\n",
    "    if class_name == MLPClassifier.__name__:\n",
    "        y_pred = model.predict(X_test_scaled)\n",
    "    else:\n",
    "        y_pred = model.predict(X_test)\n",
    "    \n",
    "    accuracy = accuracy_score(y_test, y_pred)\n",
    "    models_df = models_df.append({\n",
    "        'Model': retrieve_name(model)[0], \n",
    "        'Accuracy': accuracy * 100}, \n",
    "        ignore_index=True\n",
    "    )"
   ]
  },
  {
   "cell_type": "code",
   "execution_count": 413,
   "metadata": {},
   "outputs": [
    {
     "data": {
      "text/html": [
       "<div>\n",
       "<style scoped>\n",
       "    .dataframe tbody tr th:only-of-type {\n",
       "        vertical-align: middle;\n",
       "    }\n",
       "\n",
       "    .dataframe tbody tr th {\n",
       "        vertical-align: top;\n",
       "    }\n",
       "\n",
       "    .dataframe thead th {\n",
       "        text-align: right;\n",
       "    }\n",
       "</style>\n",
       "<table border=\"1\" class=\"dataframe\">\n",
       "  <thead>\n",
       "    <tr style=\"text-align: right;\">\n",
       "      <th></th>\n",
       "      <th>Model</th>\n",
       "      <th>Accuracy</th>\n",
       "    </tr>\n",
       "  </thead>\n",
       "  <tbody>\n",
       "    <tr>\n",
       "      <th>0</th>\n",
       "      <td>loj_model</td>\n",
       "      <td>75.757576</td>\n",
       "    </tr>\n",
       "    <tr>\n",
       "      <th>1</th>\n",
       "      <td>nb_model</td>\n",
       "      <td>74.458874</td>\n",
       "    </tr>\n",
       "    <tr>\n",
       "      <th>2</th>\n",
       "      <td>knn_model_tuned</td>\n",
       "      <td>74.025974</td>\n",
       "    </tr>\n",
       "    <tr>\n",
       "      <th>3</th>\n",
       "      <td>svc_model_tuned</td>\n",
       "      <td>74.458874</td>\n",
       "    </tr>\n",
       "    <tr>\n",
       "      <th>4</th>\n",
       "      <td>svc_rbf_model_tuned</td>\n",
       "      <td>73.160173</td>\n",
       "    </tr>\n",
       "    <tr>\n",
       "      <th>5</th>\n",
       "      <td>mlpc_model_tuned</td>\n",
       "      <td>34.632035</td>\n",
       "    </tr>\n",
       "    <tr>\n",
       "      <th>6</th>\n",
       "      <td>cart_model_tuned</td>\n",
       "      <td>75.324675</td>\n",
       "    </tr>\n",
       "    <tr>\n",
       "      <th>7</th>\n",
       "      <td>rf_model_tuned</td>\n",
       "      <td>76.190476</td>\n",
       "    </tr>\n",
       "    <tr>\n",
       "      <th>8</th>\n",
       "      <td>gbm_model_tuned</td>\n",
       "      <td>74.891775</td>\n",
       "    </tr>\n",
       "    <tr>\n",
       "      <th>9</th>\n",
       "      <td>xgb_model_tuned</td>\n",
       "      <td>75.757576</td>\n",
       "    </tr>\n",
       "    <tr>\n",
       "      <th>10</th>\n",
       "      <td>lgbm_model_tuned</td>\n",
       "      <td>75.757576</td>\n",
       "    </tr>\n",
       "    <tr>\n",
       "      <th>11</th>\n",
       "      <td>cb_model_tuned</td>\n",
       "      <td>75.324675</td>\n",
       "    </tr>\n",
       "  </tbody>\n",
       "</table>\n",
       "</div>"
      ],
      "text/plain": [
       "                  Model   Accuracy\n",
       "0             loj_model  75.757576\n",
       "1              nb_model  74.458874\n",
       "2       knn_model_tuned  74.025974\n",
       "3       svc_model_tuned  74.458874\n",
       "4   svc_rbf_model_tuned  73.160173\n",
       "5      mlpc_model_tuned  34.632035\n",
       "6      cart_model_tuned  75.324675\n",
       "7        rf_model_tuned  76.190476\n",
       "8       gbm_model_tuned  74.891775\n",
       "9       xgb_model_tuned  75.757576\n",
       "10     lgbm_model_tuned  75.757576\n",
       "11       cb_model_tuned  75.324675"
      ]
     },
     "execution_count": 413,
     "metadata": {},
     "output_type": "execute_result"
    }
   ],
   "source": [
    "models_df"
   ]
  },
  {
   "cell_type": "code",
   "execution_count": 425,
   "metadata": {},
   "outputs": [
    {
     "data": {
      "text/plain": [
       "<matplotlib.axes._subplots.AxesSubplot at 0x1c283084e0>"
      ]
     },
     "execution_count": 425,
     "metadata": {},
     "output_type": "execute_result"
    },
    {
     "data": {
      "image/png": "[encoded data removed]",
      "text/plain": [
       "<Figure size 432x288 with 1 Axes>"
      ]
     },
     "metadata": {
      "needs_background": "light"
     },
     "output_type": "display_data"
    }
   ],
   "source": [
    "models_df.plot(kind='bar', x='Model', y='Accuracy', align='center')"
   ]
  },
  {
   "cell_type": "code",
   "execution_count": 472,
   "metadata": {},
   "outputs": [],
   "source": [
    "def draw_plot(df): \n",
    "    plt.rcdefaults()\n",
    "    fig, ax = plt.subplots()\n",
    "    ax.set_xlim([0, 100])\n",
    "    ax.barh(df.Model, df.Accuracy, align='center', color='red')\n",
    "    ax.invert_yaxis()\n",
    "    ax.set_xlabel('Accuracy')\n",
    "\n",
    "    plt.show()"
   ]
  },
  {
   "cell_type": "code",
   "execution_count": 473,
   "metadata": {},
   "outputs": [
    {
     "data": {
      "image/png": "[encoded data removed]",
      "text/plain": [
       "<Figure size 640x480 with 1 Axes>"
      ]
     },
     "metadata": {},
     "output_type": "display_data"
    }
   ],
   "source": [
    "draw_plot(models_df)"
   ]
  },
  {
   "cell_type": "code",
   "execution_count": 474,
   "metadata": {},
   "outputs": [],
   "source": [
    "models_df_sorted = models_df.sort_values(\n",
    "    by='Accuracy',\n",
    "    ascending=False\n",
    ")"
   ]
  },
  {
   "cell_type": "code",
   "execution_count": 475,
   "metadata": {},
   "outputs": [
    {
     "data": {
      "image/png": "[encoded data removed]",
      "text/plain": [
       "<Figure size 640x480 with 1 Axes>"
      ]
     },
     "metadata": {},
     "output_type": "display_data"
    }
   ],
   "source": [
    "draw_plot(models_df_sorted)"
   ]
  },
  {
   "cell_type": "code",
   "execution_count": null,
   "metadata": {},
   "outputs": [],
   "source": []
  }
 ],
 "metadata": {
  "kernelspec": {
   "display_name": "Python 3",
   "language": "python",
   "name": "python3"
  },
  "language_info": {
   "codemirror_mode": {
    "name": "ipython",
    "version": 3
   },
   "file_extension": ".py",
   "mimetype": "text/x-python",
   "name": "python",
   "nbconvert_exporter": "python",
   "pygments_lexer": "ipython3",
   "version": "3.7.3"
  }
 },
 "nbformat": 4,
 "nbformat_minor": 2
}
