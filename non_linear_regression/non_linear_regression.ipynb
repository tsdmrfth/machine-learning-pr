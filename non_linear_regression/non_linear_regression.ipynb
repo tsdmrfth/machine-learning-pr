{
 "cells": [
  {
   "cell_type": "markdown",
   "metadata": {},
   "source": [
    "# KNN model"
   ]
  },
  {
   "cell_type": "code",
   "execution_count": 1,
   "metadata": {},
   "outputs": [],
   "source": [
    "import numpy as np\n",
    "import pandas as pd\n",
    "from sklearn.model_selection import train_test_split\n",
    "from sklearn.metrics import r2_score, mean_squared_error\n",
    "from sklearn.preprocessing import scale\n",
    "from sklearn import model_selection\n",
    "from sklearn.neighbors import KNeighborsRegressor\n",
    "import warnings\n",
    "warnings.filterwarnings('ignore')"
   ]
  },
  {
   "cell_type": "markdown",
   "metadata": {},
   "source": [
    "### Prepare data"
   ]
  },
  {
   "cell_type": "code",
   "execution_count": 15,
   "metadata": {},
   "outputs": [],
   "source": [
    "hitters = pd.read_csv('Hitters.csv')\n",
    "df = hitters.copy()\n",
    "df.dropna(inplace=True)\n",
    "dummies = pd.get_dummies(df[['League', 'NewLeague', 'Division']])\n",
    "y = df['Salary']\n",
    "X_ = df.drop(['Salary', 'League', 'NewLeague', 'Division'], axis=1).astype('float64')\n",
    "X = pd.concat([X_, dummies[['League_N', 'Division_W', 'NewLeague_N']]], axis=1)"
   ]
  },
  {
   "cell_type": "markdown",
   "metadata": {},
   "source": [
    "### Create test train data"
   ]
  },
  {
   "cell_type": "code",
   "execution_count": null,
   "metadata": {},
   "outputs": [],
   "source": [
    "X_train, X_test, y_train, y_test = train_test_split(X, y, test_size=0.25, random_state=42)"
   ]
  },
  {
   "cell_type": "code",
   "execution_count": null,
   "metadata": {},
   "outputs": [],
   "source": []
  },
  {
   "cell_type": "markdown",
   "metadata": {},
   "source": [
    "### Create model"
   ]
  },
  {
   "cell_type": "code",
   "execution_count": 16,
   "metadata": {},
   "outputs": [],
   "source": [
    "knn_model = KNeighborsRegressor().fit(X_train, y_train)"
   ]
  },
  {
   "cell_type": "code",
   "execution_count": 19,
   "metadata": {},
   "outputs": [
    {
     "data": {
      "text/plain": [
       "array([ 510.3334,  808.3334,  772.5   ,  125.5   , 1005.    ,  325.5   ,\n",
       "        216.5   ,  101.5   ,  982.    ,  886.6666,  590.    ,  901.6666,\n",
       "        831.6666,  157.5   ,  393.    , 1005.    ,  735.5   ,   97.    ,\n",
       "        884.4   ,  302.    ,  450.    ,  817.6666,  832.6666,  392.3334,\n",
       "        528.    ,   81.6   ,  735.    ,  470.    ,  722.5   ,  101.    ,\n",
       "         90.5   ,   74.6   ,  748.3334,  217.    ,  280.5334, 1044.5   ,\n",
       "        955.    ,  232.    ,   78.6   ,  529.    ,   77.6   ,  106.5   ,\n",
       "        516.6666,  593.6666, 1005.    ,  649.1666,  715.    ,  101.5   ,\n",
       "        134.5   ,  810.    ,  743.    ,  521.3334,  664.3334,  195.    ,\n",
       "        102.4   ,  728.5   ,  488.    ,  962.5   ,  230.8334, 1040.    ,\n",
       "        885.    ,  542.    ,  720.4   ,  571.    ,  735.    ,   81.6   ])"
      ]
     },
     "execution_count": 19,
     "metadata": {},
     "output_type": "execute_result"
    }
   ],
   "source": [
    "knn_model.predict(X_test)"
   ]
  },
  {
   "cell_type": "code",
   "execution_count": null,
   "metadata": {},
   "outputs": [],
   "source": []
  },
  {
   "cell_type": "markdown",
   "metadata": {},
   "source": [
    "### Analyze differences between validated model and hard coded defined model."
   ]
  },
  {
   "cell_type": "code",
   "execution_count": 35,
   "metadata": {},
   "outputs": [],
   "source": [
    "from sklearn.model_selection import cross_val_score"
   ]
  },
  {
   "cell_type": "code",
   "execution_count": 45,
   "metadata": {},
   "outputs": [
    {
     "name": "stdout",
     "output_type": "stream",
     "text": [
      "k:  1 RMSE:  0.0 , RMSE_CV:  346.07307722447337\n",
      "k:  2 RMSE:  179.52761335480352 , RMSE_CV:  308.98084737929224\n",
      "k:  3 RMSE:  205.20157172291863 , RMSE_CV:  286.51051892002596\n",
      "k:  4 RMSE:  220.5139794876305 , RMSE_CV:  286.2869859874586\n",
      "k:  5 RMSE:  239.64671325413764 , RMSE_CV:  289.6292034852988\n",
      "k:  6 RMSE:  243.5904190007242 , RMSE_CV:  300.1901906442359\n",
      "k:  7 RMSE:  258.1478781634636 , RMSE_CV:  301.7311367411422\n",
      "k:  8 RMSE:  266.05374203349805 , RMSE_CV:  304.2703477242073\n",
      "k:  9 RMSE:  269.73782093553376 , RMSE_CV:  301.2484957122238\n",
      "k:  10 RMSE:  271.2798300436963 , RMSE_CV:  303.7765504213008\n"
     ]
    }
   ],
   "source": [
    "RMSE = []\n",
    "RMSE_CV = []\n",
    "\n",
    "for k in range(10):\n",
    "    k = k + 1\n",
    "    knn_model = KNeighborsRegressor(n_neighbors=k).fit(X_train, y_train)\n",
    "    y_pred = knn_model.predict(X_train)\n",
    "    rmse = np.sqrt(mean_squared_error(y_train, y_pred))\n",
    "    rmse_cv = np.sqrt(-1 * cross_val_score(knn_model, X_train, y_train, scoring='neg_mean_squared_error').mean())\n",
    "    RMSE.append(rmse)\n",
    "    RMSE_CV.append(rmse_cv)\n",
    "    print(\"k: \", k,  'RMSE: ', rmse, ', RMSE_CV: ', rmse_cv)"
   ]
  },
  {
   "cell_type": "code",
   "execution_count": null,
   "metadata": {},
   "outputs": [],
   "source": []
  },
  {
   "cell_type": "code",
   "execution_count": null,
   "metadata": {},
   "outputs": [],
   "source": []
  },
  {
   "cell_type": "markdown",
   "metadata": {},
   "source": [
    "### Model tuning"
   ]
  },
  {
   "cell_type": "code",
   "execution_count": 20,
   "metadata": {},
   "outputs": [],
   "source": [
    "from sklearn.model_selection import GridSearchCV"
   ]
  },
  {
   "cell_type": "code",
   "execution_count": 22,
   "metadata": {},
   "outputs": [],
   "source": [
    "knn_params = {\n",
    "    'n_neighbors': np.arange(1, 30, 1)\n",
    "}"
   ]
  },
  {
   "cell_type": "code",
   "execution_count": 24,
   "metadata": {},
   "outputs": [
    {
     "data": {
      "text/plain": [
       "{'n_neighbors': array([ 1,  2,  3,  4,  5,  6,  7,  8,  9, 10, 11, 12, 13, 14, 15, 16, 17,\n",
       "        18, 19, 20, 21, 22, 23, 24, 25, 26, 27, 28, 29])}"
      ]
     },
     "execution_count": 24,
     "metadata": {},
     "output_type": "execute_result"
    }
   ],
   "source": [
    "knn_params"
   ]
  },
  {
   "cell_type": "code",
   "execution_count": 25,
   "metadata": {},
   "outputs": [],
   "source": [
    "knn = KNeighborsRegressor()"
   ]
  },
  {
   "cell_type": "code",
   "execution_count": 26,
   "metadata": {},
   "outputs": [],
   "source": [
    "knn_cv_model = GridSearchCV(knn, knn_params, cv=10)"
   ]
  },
  {
   "cell_type": "code",
   "execution_count": 29,
   "metadata": {},
   "outputs": [
    {
     "data": {
      "text/plain": [
       "GridSearchCV(cv=10, error_score='raise-deprecating',\n",
       "             estimator=KNeighborsRegressor(algorithm='auto', leaf_size=30,\n",
       "                                           metric='minkowski',\n",
       "                                           metric_params=None, n_jobs=None,\n",
       "                                           n_neighbors=5, p=2,\n",
       "                                           weights='uniform'),\n",
       "             iid='warn', n_jobs=None,\n",
       "             param_grid={'n_neighbors': array([ 1,  2,  3,  4,  5,  6,  7,  8,  9, 10, 11, 12, 13, 14, 15, 16, 17,\n",
       "       18, 19, 20, 21, 22, 23, 24, 25, 26, 27, 28, 29])},\n",
       "             pre_dispatch='2*n_jobs', refit=True, return_train_score=False,\n",
       "             scoring=None, verbose=0)"
      ]
     },
     "execution_count": 29,
     "metadata": {},
     "output_type": "execute_result"
    }
   ],
   "source": [
    "knn_cv_model.fit(X_train, y_train)"
   ]
  },
  {
   "cell_type": "code",
   "execution_count": 32,
   "metadata": {},
   "outputs": [
    {
     "data": {
      "text/plain": [
       "{'n_neighbors': 8}"
      ]
     },
     "execution_count": 32,
     "metadata": {},
     "output_type": "execute_result"
    }
   ],
   "source": [
    "knn_cv_model.best_params_"
   ]
  },
  {
   "cell_type": "code",
   "execution_count": 46,
   "metadata": {},
   "outputs": [],
   "source": [
    "knn_model_tuned = KNeighborsRegressor(knn_cv_model.best_params_.get('n_neighbors'))"
   ]
  },
  {
   "cell_type": "code",
   "execution_count": 49,
   "metadata": {},
   "outputs": [
    {
     "data": {
      "text/plain": [
       "KNeighborsRegressor(algorithm='auto', leaf_size=30, metric='minkowski',\n",
       "                    metric_params=None, n_jobs=None, n_neighbors=8, p=2,\n",
       "                    weights='uniform')"
      ]
     },
     "execution_count": 49,
     "metadata": {},
     "output_type": "execute_result"
    }
   ],
   "source": [
    "knn_model_tuned.fit(X_train, y_train)"
   ]
  },
  {
   "cell_type": "code",
   "execution_count": 50,
   "metadata": {},
   "outputs": [],
   "source": [
    "y_predictions = knn_model_tuned.predict(X_test)"
   ]
  },
  {
   "cell_type": "code",
   "execution_count": 52,
   "metadata": {},
   "outputs": [],
   "source": [
    "knn_error = np.sqrt(mean_squared_error(y_test, y_predictions))"
   ]
  },
  {
   "cell_type": "code",
   "execution_count": 53,
   "metadata": {},
   "outputs": [
    {
     "data": {
      "text/plain": [
       "413.7094731463598"
      ]
     },
     "execution_count": 53,
     "metadata": {},
     "output_type": "execute_result"
    }
   ],
   "source": [
    "knn_error"
   ]
  },
  {
   "cell_type": "code",
   "execution_count": null,
   "metadata": {},
   "outputs": [],
   "source": []
  },
  {
   "cell_type": "markdown",
   "metadata": {},
   "source": [
    "# SVR model"
   ]
  },
  {
   "cell_type": "code",
   "execution_count": 90,
   "metadata": {},
   "outputs": [],
   "source": [
    "from sklearn.svm import SVR"
   ]
  },
  {
   "cell_type": "markdown",
   "metadata": {},
   "source": [
    "### Prepare data"
   ]
  },
  {
   "cell_type": "code",
   "execution_count": 102,
   "metadata": {},
   "outputs": [],
   "source": [
    "hitters = pd.read_csv('Hitters.csv')\n",
    "df = hitters.copy()\n",
    "df.dropna(inplace=True)\n",
    "dummies = pd.get_dummies(df[['League', 'NewLeague', 'Division']])\n",
    "y = df['Salary']\n",
    "X_ = df.drop(['Salary', 'League', 'NewLeague', 'Division'], axis=1).astype('float64')\n",
    "X = pd.concat([X_, dummies[['League_N', 'Division_W', 'NewLeague_N']]], axis=1)"
   ]
  },
  {
   "cell_type": "markdown",
   "metadata": {},
   "source": [
    "### Create test, train data"
   ]
  },
  {
   "cell_type": "code",
   "execution_count": 103,
   "metadata": {},
   "outputs": [],
   "source": [
    "X_train, X_test, y_train, y_test = train_test_split(X, y, test_size=0.25, random_state=42)"
   ]
  },
  {
   "cell_type": "code",
   "execution_count": 104,
   "metadata": {},
   "outputs": [],
   "source": [
    "X_train = pd.DataFrame(X_train.Hits)\n",
    "X_test = pd.DataFrame(X_test.Hits)"
   ]
  },
  {
   "cell_type": "code",
   "execution_count": 227,
   "metadata": {},
   "outputs": [],
   "source": [
    "svr_model = SVR(kernel='linear')"
   ]
  },
  {
   "cell_type": "code",
   "execution_count": 228,
   "metadata": {},
   "outputs": [
    {
     "data": {
      "text/plain": [
       "SVR(C=1.0, cache_size=200, coef0=0.0, degree=3, epsilon=0.1,\n",
       "    gamma='auto_deprecated', kernel='linear', max_iter=-1, shrinking=True,\n",
       "    tol=0.001, verbose=False)"
      ]
     },
     "execution_count": 228,
     "metadata": {},
     "output_type": "execute_result"
    }
   ],
   "source": [
    "svr_model.fit(X_train, y_train)"
   ]
  },
  {
   "cell_type": "code",
   "execution_count": 229,
   "metadata": {},
   "outputs": [],
   "source": [
    "y_pred = svr_model.predict(X_test)"
   ]
  },
  {
   "cell_type": "code",
   "execution_count": 230,
   "metadata": {},
   "outputs": [
    {
     "data": {
      "text/plain": [
       "array([627.15609756, 681.82073171, 627.15609756, 428.37560976,\n",
       "       155.05243902, 294.19878049, 781.21097561, 691.7597561 ,\n",
       "       741.45487805, 299.16829268])"
      ]
     },
     "execution_count": 230,
     "metadata": {},
     "output_type": "execute_result"
    }
   ],
   "source": [
    "y_pred[0:10]"
   ]
  },
  {
   "cell_type": "code",
   "execution_count": 231,
   "metadata": {},
   "outputs": [
    {
     "data": {
      "text/plain": [
       "459.0187960365147"
      ]
     },
     "execution_count": 231,
     "metadata": {},
     "output_type": "execute_result"
    }
   ],
   "source": [
    "svr_error = np.sqrt(mean_squared_error(y_test, y_pred))\n",
    "svr_error"
   ]
  },
  {
   "cell_type": "code",
   "execution_count": 232,
   "metadata": {},
   "outputs": [
    {
     "name": "stdout",
     "output_type": "stream",
     "text": [
      "y = -48.69756097561513 + 4.969512195122093 * x\n"
     ]
    }
   ],
   "source": [
    "interception = svr_model.intercept_[0]\n",
    "coefficient = svr_model.coef_[0][0]\n",
    "print('y = {0} + {1} * x'.format(interception, coefficient))"
   ]
  },
  {
   "cell_type": "code",
   "execution_count": null,
   "metadata": {},
   "outputs": [],
   "source": []
  },
  {
   "cell_type": "markdown",
   "metadata": {},
   "source": [
    "### Simply validate result for first prediction"
   ]
  },
  {
   "cell_type": "code",
   "execution_count": 233,
   "metadata": {},
   "outputs": [
    {
     "data": {
      "text/plain": [
       "403.5280487804953"
      ]
     },
     "execution_count": 233,
     "metadata": {},
     "output_type": "execute_result"
    }
   ],
   "source": [
    "first_obs = X_train['Hits'][0:1].values[0]\n",
    "result_from_equation = interception + coefficient * first_obs\n",
    "result_from_equation"
   ]
  },
  {
   "cell_type": "code",
   "execution_count": 234,
   "metadata": {},
   "outputs": [
    {
     "data": {
      "text/plain": [
       "627.1560975609794"
      ]
     },
     "execution_count": 234,
     "metadata": {},
     "output_type": "execute_result"
    }
   ],
   "source": [
    "y_pred[0]"
   ]
  },
  {
   "cell_type": "code",
   "execution_count": 235,
   "metadata": {},
   "outputs": [],
   "source": [
    "import matplotlib.pyplot as plt"
   ]
  },
  {
   "cell_type": "code",
   "execution_count": 236,
   "metadata": {},
   "outputs": [
    {
     "data": {
      "image/png": "[encoded data removed]",
      "text/plain": [
       "<Figure size 432x288 with 1 Axes>"
      ]
     },
     "metadata": {
      "needs_background": "light"
     },
     "output_type": "display_data"
    }
   ],
   "source": [
    "plt.scatter(X_train, y_train)\n",
    "plt.plot(X_test, y_pred, color = 'red');"
   ]
  },
  {
   "cell_type": "code",
   "execution_count": null,
   "metadata": {},
   "outputs": [],
   "source": []
  },
  {
   "cell_type": "markdown",
   "metadata": {},
   "source": [
    "### Get predictions from LinearRegression model"
   ]
  },
  {
   "cell_type": "code",
   "execution_count": 237,
   "metadata": {},
   "outputs": [],
   "source": [
    "from sklearn.linear_model import LinearRegression"
   ]
  },
  {
   "cell_type": "code",
   "execution_count": 238,
   "metadata": {},
   "outputs": [],
   "source": [
    "linear_model = LinearRegression().fit(X_train, y_train)"
   ]
  },
  {
   "cell_type": "code",
   "execution_count": 239,
   "metadata": {},
   "outputs": [],
   "source": [
    "lm_pred = linear_model.predict(X_test)"
   ]
  },
  {
   "cell_type": "code",
   "execution_count": 240,
   "metadata": {},
   "outputs": [
    {
     "data": {
      "text/plain": [
       "array([694.63993894, 751.53695643, 694.63993894, 487.74169352,\n",
       "       203.25660607, 348.08537787, 854.98607914, 761.8818687 ,\n",
       "       813.60643006, 353.257834  ])"
      ]
     },
     "execution_count": 240,
     "metadata": {},
     "output_type": "execute_result"
    }
   ],
   "source": [
    "lm_pred[0:10]"
   ]
  },
  {
   "cell_type": "code",
   "execution_count": 241,
   "metadata": {},
   "outputs": [
    {
     "name": "stdout",
     "output_type": "stream",
     "text": [
      "y = -8.814095480334572 + 5.1724561354706875 * x\n"
     ]
    }
   ],
   "source": [
    "lm_interception = linear_model.intercept_\n",
    "lm_coef = linear_model.coef_[0]\n",
    "print('y = {0} + {1} * x'.format(lm_interception, lm_coef))"
   ]
  },
  {
   "cell_type": "code",
   "execution_count": null,
   "metadata": {},
   "outputs": [],
   "source": []
  },
  {
   "cell_type": "markdown",
   "metadata": {},
   "source": [
    "### Reason of the difference betweeen SVR model and LinearRegression model is that SVR is not getting affected by outliers much"
   ]
  },
  {
   "cell_type": "code",
   "execution_count": 242,
   "metadata": {},
   "outputs": [
    {
     "data": {
      "text/plain": [
       "[<matplotlib.lines.Line2D at 0x1a255ff160>]"
      ]
     },
     "execution_count": 242,
     "metadata": {},
     "output_type": "execute_result"
    },
    {
     "data": {
      "image/png": "[encoded data removed]",
      "text/plain": [
       "<Figure size 432x288 with 1 Axes>"
      ]
     },
     "metadata": {
      "needs_background": "light"
     },
     "output_type": "display_data"
    }
   ],
   "source": [
    "plt.scatter(X_train, y_train)\n",
    "plt.plot(X_test, y_pred, color = 'red');\n",
    "plt.plot(X_test, lm_pred, color = 'yellow')"
   ]
  },
  {
   "cell_type": "code",
   "execution_count": null,
   "metadata": {},
   "outputs": [],
   "source": []
  },
  {
   "cell_type": "markdown",
   "metadata": {},
   "source": [
    "### Model tuning"
   ]
  },
  {
   "cell_type": "code",
   "execution_count": 243,
   "metadata": {},
   "outputs": [],
   "source": [
    "svr_params = {\n",
    "    'C': np.arange(0.1, 2, 0.1)\n",
    "}"
   ]
  },
  {
   "cell_type": "markdown",
   "metadata": {},
   "source": [
    "### GridSearchCV instance can be used as SVR model"
   ]
  },
  {
   "cell_type": "code",
   "execution_count": 244,
   "metadata": {},
   "outputs": [],
   "source": [
    "svr_model_cv = GridSearchCV(svr_model, svr_params, cv=10).fit(X_train, y_train)"
   ]
  },
  {
   "cell_type": "code",
   "execution_count": 245,
   "metadata": {},
   "outputs": [
    {
     "data": {
      "text/plain": [
       "array([620.26418033, 674.06202459, 620.26418033, 424.63565574,\n",
       "       155.64643443, 292.58640164, 771.87628689, 683.84345082,\n",
       "       732.75058197, 297.47711475])"
      ]
     },
     "execution_count": 245,
     "metadata": {},
     "output_type": "execute_result"
    }
   ],
   "source": [
    "svr_model_cv.predict(X_test)[0:10]"
   ]
  },
  {
   "cell_type": "code",
   "execution_count": 246,
   "metadata": {},
   "outputs": [
    {
     "data": {
      "text/plain": [
       "{'C': 0.1}"
      ]
     },
     "execution_count": 246,
     "metadata": {},
     "output_type": "execute_result"
    }
   ],
   "source": [
    "svr_model_cv.best_params_"
   ]
  },
  {
   "cell_type": "code",
   "execution_count": 257,
   "metadata": {},
   "outputs": [],
   "source": [
    "svr_model_tuned = SVR('linear', C=svr_model_cv.best_params_['C']).fit(X_train, y_train)"
   ]
  },
  {
   "cell_type": "code",
   "execution_count": 258,
   "metadata": {},
   "outputs": [],
   "source": [
    "y_tuned_pred = svr_model_tuned.predict(X_test)"
   ]
  },
  {
   "cell_type": "code",
   "execution_count": 261,
   "metadata": {},
   "outputs": [
    {
     "data": {
      "text/plain": [
       "458.198966781116"
      ]
     },
     "execution_count": 261,
     "metadata": {},
     "output_type": "execute_result"
    }
   ],
   "source": [
    "svr_tuned_error = np.sqrt(mean_squared_error(y_test, y_tuned_pred))\n",
    "svr_tuned_error"
   ]
  },
  {
   "cell_type": "code",
   "execution_count": null,
   "metadata": {},
   "outputs": [],
   "source": []
  },
  {
   "cell_type": "markdown",
   "metadata": {},
   "source": [
    "### Create model with all variables"
   ]
  },
  {
   "cell_type": "code",
   "execution_count": 262,
   "metadata": {},
   "outputs": [],
   "source": [
    "hitters = pd.read_csv('Hitters.csv')\n",
    "df = hitters.copy()\n",
    "df.dropna(inplace=True)\n",
    "dummies = pd.get_dummies(df[['League', 'NewLeague', 'Division']])\n",
    "y = df['Salary']\n",
    "X_ = df.drop(['Salary', 'League', 'NewLeague', 'Division'], axis=1).astype('float64')\n",
    "X = pd.concat([X_, dummies[['League_N', 'Division_W', 'NewLeague_N']]], axis=1)\n",
    "X_train, X_test, y_train, y_test = train_test_split(X, y, test_size=0.25, random_state=42)"
   ]
  },
  {
   "cell_type": "code",
   "execution_count": 268,
   "metadata": {},
   "outputs": [],
   "source": [
    "svr_model1 = SVR('linear')\n",
    "svr_params = {\n",
    "    'C': np.arange(0.1, 2, 0.1)\n",
    "}"
   ]
  },
  {
   "cell_type": "code",
   "execution_count": 271,
   "metadata": {},
   "outputs": [],
   "source": [
    "svr_model_cv = GridSearchCV(svr_model, svr_params, cv=10).fit(X_train, y_train)"
   ]
  },
  {
   "cell_type": "code",
   "execution_count": 272,
   "metadata": {},
   "outputs": [
    {
     "data": {
      "text/plain": [
       "{'C': 0.4}"
      ]
     },
     "execution_count": 272,
     "metadata": {},
     "output_type": "execute_result"
    }
   ],
   "source": [
    "svr_model_cv.best_params_"
   ]
  },
  {
   "cell_type": "code",
   "execution_count": 273,
   "metadata": {},
   "outputs": [],
   "source": [
    "svr_model_tuned1 = SVR('linear', C = svr_model_cv.best_params_['C']).fit(X_train, y_train)"
   ]
  },
  {
   "cell_type": "code",
   "execution_count": 274,
   "metadata": {},
   "outputs": [],
   "source": [
    "y_pred = svr_model_tuned1.predict(X_test)"
   ]
  },
  {
   "cell_type": "code",
   "execution_count": 275,
   "metadata": {},
   "outputs": [],
   "source": [
    "svr_error1 = np.sqrt(mean_squared_error(y_test, y_pred))"
   ]
  },
  {
   "cell_type": "code",
   "execution_count": 276,
   "metadata": {},
   "outputs": [
    {
     "data": {
      "text/plain": [
       "367.5385297249052"
      ]
     },
     "execution_count": 276,
     "metadata": {},
     "output_type": "execute_result"
    }
   ],
   "source": [
    "svr_error1"
   ]
  },
  {
   "cell_type": "code",
   "execution_count": null,
   "metadata": {},
   "outputs": [],
   "source": []
  },
  {
   "cell_type": "markdown",
   "metadata": {},
   "source": [
    "# Non-Linear SVR"
   ]
  },
  {
   "cell_type": "markdown",
   "metadata": {},
   "source": [
    "### Compare LinearRegression and Non-Linear SVR"
   ]
  },
  {
   "cell_type": "code",
   "execution_count": 311,
   "metadata": {},
   "outputs": [],
   "source": [
    "np.random.seed(3)\n",
    "\n",
    "x_rand = np.random.uniform(2, 10, 145)\n",
    "y_rand = np.sin(x_rand) + np.random.normal(0, 0.4, 145)\n",
    "\n",
    "x_outliers = np.arange(2.5, 5, 0.5)\n",
    "y_outliers = -5 * np.ones(5)\n",
    "\n",
    "x_sim_idx = np.argsort(np.concatenate([x_rand, x_outliers]))\n",
    "x_sim = np.concatenate([x_rand, x_outliers])[x_sim_idx]\n",
    "y_sim = np.concatenate([y_rand, y_outliers])[x_sim_idx]"
   ]
  },
  {
   "cell_type": "code",
   "execution_count": 333,
   "metadata": {},
   "outputs": [],
   "source": [
    "from sklearn.linear_model import LinearRegression\n",
    "\n",
    "lm = LinearRegression().fit(np.sin(x_sim[:, np.newaxis]), y_sim)\n",
    "lm_pred = lm.predict(np.sin(x_sim[:, np.newaxis]))\n",
    "\n",
    "from sklearn.svm import SVR\n",
    "\n",
    "svr_model = SVR('rbf').fit(x_sim[:, np.newaxis], y_sim)\n",
    "svr_pred = svr_model.predict(x_sim[:, np.newaxis])"
   ]
  },
  {
   "cell_type": "code",
   "execution_count": 346,
   "metadata": {},
   "outputs": [
    {
     "data": {
      "image/png": "[encoded data removed]",
      "text/plain": [
       "<Figure size 432x288 with 1 Axes>"
      ]
     },
     "metadata": {
      "needs_background": "light"
     },
     "output_type": "display_data"
    }
   ],
   "source": [
    "plt.rcParams['axes.facecolor'] = '#FFFFFF'\n",
    "plt.scatter(x_sim, y_sim)\n",
    "plt_lm = plt.plot(x_sim, lm_pred, color='yellow')\n",
    "plt_svr = plt.plot(x_sim, svr_pred, color='black')"
   ]
  },
  {
   "cell_type": "code",
   "execution_count": null,
   "metadata": {},
   "outputs": [],
   "source": []
  },
  {
   "cell_type": "markdown",
   "metadata": {},
   "source": [
    "### Create model"
   ]
  },
  {
   "cell_type": "code",
   "execution_count": 347,
   "metadata": {},
   "outputs": [],
   "source": [
    "hitters = pd.read_csv('Hitters.csv')\n",
    "df = hitters.copy()\n",
    "df.dropna(inplace=True)\n",
    "dummies = pd.get_dummies(df[['League', 'NewLeague', 'Division']])\n",
    "y = df['Salary']\n",
    "X_ = df.drop(['Salary', 'League', 'NewLeague', 'Division'], axis=1).astype('float64')\n",
    "X = pd.concat([X_, dummies[['League_N', 'Division_W', 'NewLeague_N']]], axis=1)\n",
    "X_train, X_test, y_train, y_test = train_test_split(X, y, test_size=0.25, random_state=42)"
   ]
  },
  {
   "cell_type": "code",
   "execution_count": 349,
   "metadata": {},
   "outputs": [],
   "source": [
    "svr_model_rbf = SVR('rbf').fit(X_train, y_train)"
   ]
  },
  {
   "cell_type": "code",
   "execution_count": 350,
   "metadata": {},
   "outputs": [],
   "source": [
    "y_pred = svr_model_rbf.predict(X_test)"
   ]
  },
  {
   "cell_type": "code",
   "execution_count": 352,
   "metadata": {},
   "outputs": [
    {
     "data": {
      "text/plain": [
       "473.4445984431814"
      ]
     },
     "execution_count": 352,
     "metadata": {},
     "output_type": "execute_result"
    }
   ],
   "source": [
    "svr_model_rbf_error = np.sqrt(mean_squared_error(y_test, y_pred))\n",
    "svr_model_rbf_error"
   ]
  },
  {
   "cell_type": "code",
   "execution_count": null,
   "metadata": {},
   "outputs": [],
   "source": []
  },
  {
   "cell_type": "markdown",
   "metadata": {},
   "source": [
    "### Model tuning"
   ]
  },
  {
   "cell_type": "code",
   "execution_count": 361,
   "metadata": {},
   "outputs": [
    {
     "data": {
      "text/plain": [
       "GridSearchCV(cv=10, error_score='raise-deprecating',\n",
       "             estimator=SVR(C=1.0, cache_size=200, coef0=0.0, degree=3,\n",
       "                           epsilon=0.1, gamma='auto_deprecated', kernel='rbf',\n",
       "                           max_iter=-1, shrinking=True, tol=0.001,\n",
       "                           verbose=False),\n",
       "             iid='warn', n_jobs=None,\n",
       "             param_grid={'C': array([ 0.1,  0.2,  0.3,  0.4,  0.5,  0.6,  0.7,  0.8,  0.9,  1. ,  1.1,\n",
       "        1.2,  1.3,  1.4,  1.5,  1.6,  1.7,  1.8,  1.9,  2. ,  2.1,  2.2,\n",
       "        2.3,  2.4,  2.5,...\n",
       "       93.6, 93.7, 93.8, 93.9, 94. , 94.1, 94.2, 94.3, 94.4, 94.5, 94.6,\n",
       "       94.7, 94.8, 94.9, 95. , 95.1, 95.2, 95.3, 95.4, 95.5, 95.6, 95.7,\n",
       "       95.8, 95.9, 96. , 96.1, 96.2, 96.3, 96.4, 96.5, 96.6, 96.7, 96.8,\n",
       "       96.9, 97. , 97.1, 97.2, 97.3, 97.4, 97.5, 97.6, 97.7, 97.8, 97.9,\n",
       "       98. , 98.1, 98.2, 98.3, 98.4, 98.5, 98.6, 98.7, 98.8, 98.9, 99. ,\n",
       "       99.1, 99.2, 99.3, 99.4, 99.5, 99.6, 99.7, 99.8, 99.9])},\n",
       "             pre_dispatch='2*n_jobs', refit=True, return_train_score=False,\n",
       "             scoring=None, verbose=0)"
      ]
     },
     "execution_count": 361,
     "metadata": {},
     "output_type": "execute_result"
    }
   ],
   "source": [
    "svr_params = {\n",
    "    'C': np.arange(0.1, 100, 0.1)\n",
    "}\n",
    "svr_model_rbf_cv = GridSearchCV(svr_model_rbf, svr_params, cv=10)\n",
    "svr_model_rbf_cv.fit(X_train, y_train)"
   ]
  },
  {
   "cell_type": "code",
   "execution_count": 363,
   "metadata": {},
   "outputs": [
    {
     "data": {
      "text/plain": [
       "{'C': 19.800000000000004}"
      ]
     },
     "execution_count": 363,
     "metadata": {},
     "output_type": "execute_result"
    }
   ],
   "source": [
    "svr_model_rbf_cv.best_params_"
   ]
  },
  {
   "cell_type": "code",
   "execution_count": 369,
   "metadata": {},
   "outputs": [],
   "source": [
    "svr_model_rbf_tuned = SVR('rbf', C=svr_model_rbf_cv.best_params_['C']).fit(X_train, y_train)"
   ]
  },
  {
   "cell_type": "code",
   "execution_count": 370,
   "metadata": {},
   "outputs": [],
   "source": [
    "y_pred = svr_model_rbf_tuned.predict(X_test)"
   ]
  },
  {
   "cell_type": "code",
   "execution_count": 371,
   "metadata": {},
   "outputs": [
    {
     "data": {
      "text/plain": [
       "472.2131619800523"
      ]
     },
     "execution_count": 371,
     "metadata": {},
     "output_type": "execute_result"
    }
   ],
   "source": [
    "svr_model_rbf_tuned_error = np.sqrt(mean_squared_error(y_test, y_pred))\n",
    "svr_model_rbf_tuned_error"
   ]
  },
  {
   "cell_type": "code",
   "execution_count": null,
   "metadata": {},
   "outputs": [],
   "source": []
  },
  {
   "cell_type": "markdown",
   "metadata": {},
   "source": [
    "# Artificial Neural Networks (ANN)"
   ]
  },
  {
   "cell_type": "markdown",
   "metadata": {},
   "source": [
    "### Create model"
   ]
  },
  {
   "cell_type": "code",
   "execution_count": 591,
   "metadata": {},
   "outputs": [],
   "source": [
    "hitters = pd.read_csv('Hitters.csv')\n",
    "df = hitters.copy()\n",
    "df = df.dropna()\n",
    "dummies = pd.get_dummies(df[['League', 'NewLeague', 'Division']])\n",
    "y = df['Salary']\n",
    "X_ = df.drop(['Salary', 'League', 'NewLeague', 'Division'], axis=1).astype('float64')\n",
    "X = pd.concat([X_, dummies[['League_N', 'Division_W', 'NewLeague_N']]], axis=1)\n",
    "X_train, X_test, y_train, y_test = train_test_split(X, y, test_size=0.25, random_state=42)"
   ]
  },
  {
   "cell_type": "code",
   "execution_count": 592,
   "metadata": {},
   "outputs": [
    {
     "data": {
      "text/plain": [
       "StandardScaler(copy=True, with_mean=True, with_std=True)"
      ]
     },
     "execution_count": 592,
     "metadata": {},
     "output_type": "execute_result"
    }
   ],
   "source": [
    "from sklearn.preprocessing import StandardScaler\n",
    "\n",
    "scaler = StandardScaler()\n",
    "scaler.fit(X_train)"
   ]
  },
  {
   "cell_type": "code",
   "execution_count": 625,
   "metadata": {},
   "outputs": [],
   "source": [
    "X_train_scaled = scaler.transform(X_train)"
   ]
  },
  {
   "cell_type": "code",
   "execution_count": 631,
   "metadata": {},
   "outputs": [],
   "source": [
    "X_test_scaled = scaler.transform(X_test)"
   ]
  },
  {
   "cell_type": "code",
   "execution_count": 632,
   "metadata": {},
   "outputs": [],
   "source": [
    "from sklearn.neural_network import MLPRegressor"
   ]
  },
  {
   "cell_type": "code",
   "execution_count": 633,
   "metadata": {},
   "outputs": [
    {
     "data": {
      "text/plain": [
       "MLPRegressor(activation='relu', alpha=0.0001, batch_size='auto', beta_1=0.9,\n",
       "             beta_2=0.999, early_stopping=False, epsilon=1e-08,\n",
       "             hidden_layer_sizes=(100,), learning_rate='constant',\n",
       "             learning_rate_init=0.001, max_iter=200, momentum=0.9,\n",
       "             n_iter_no_change=10, nesterovs_momentum=True, power_t=0.5,\n",
       "             random_state=None, shuffle=True, solver='adam', tol=0.0001,\n",
       "             validation_fraction=0.1, verbose=False, warm_start=False)"
      ]
     },
     "execution_count": 633,
     "metadata": {},
     "output_type": "execute_result"
    }
   ],
   "source": [
    "mlp_model = MLPRegressor().fit(X_train_scaled, y_train)\n",
    "mlp_model"
   ]
  },
  {
   "cell_type": "code",
   "execution_count": 634,
   "metadata": {},
   "outputs": [],
   "source": [
    "y_pred = mlp_model.predict(X_test_scaled)"
   ]
  },
  {
   "cell_type": "code",
   "execution_count": 635,
   "metadata": {},
   "outputs": [
    {
     "data": {
      "text/plain": [
       "657.8679789135332"
      ]
     },
     "execution_count": 635,
     "metadata": {},
     "output_type": "execute_result"
    }
   ],
   "source": [
    "mlp_model_error = np.sqrt(mean_squared_error(y_test, y_pred))\n",
    "mlp_model_error"
   ]
  },
  {
   "cell_type": "markdown",
   "metadata": {},
   "source": [
    "### Model tuning"
   ]
  },
  {
   "cell_type": "code",
   "execution_count": 515,
   "metadata": {},
   "outputs": [],
   "source": [
    "mlp_params = {\n",
    "    'activation': [\n",
    "        'identity', \n",
    "        'logistic', \n",
    "        'tanh',\n",
    "        'relu'\n",
    "    ],\n",
    "    'alpha': np.arange(0.0001, 0.5, 0.01),   \n",
    "}\n",
    "ann_model_cv = GridSearchCV(mlp_model, mlp_params, cv=10).fit(X_train_scaled, y_train)"
   ]
  },
  {
   "cell_type": "code",
   "execution_count": 516,
   "metadata": {},
   "outputs": [
    {
     "data": {
      "text/plain": [
       "{'activation': 'identity', 'alpha': 0.10010000000000001}"
      ]
     },
     "execution_count": 516,
     "metadata": {},
     "output_type": "execute_result"
    }
   ],
   "source": [
    "mlp_model_cv.best_params_"
   ]
  },
  {
   "cell_type": "code",
   "execution_count": 535,
   "metadata": {},
   "outputs": [],
   "source": [
    "mlp_model_tuned = MLPRegressor(activation='relu', alpha=0.02)"
   ]
  },
  {
   "cell_type": "code",
   "execution_count": 636,
   "metadata": {},
   "outputs": [
    {
     "data": {
      "text/plain": [
       "MLPRegressor(activation='relu', alpha=0.02, batch_size='auto', beta_1=0.9,\n",
       "             beta_2=0.999, early_stopping=False, epsilon=1e-08,\n",
       "             hidden_layer_sizes=(100,), learning_rate='constant',\n",
       "             learning_rate_init=0.001, max_iter=200, momentum=0.9,\n",
       "             n_iter_no_change=10, nesterovs_momentum=True, power_t=0.5,\n",
       "             random_state=None, shuffle=True, solver='adam', tol=0.0001,\n",
       "             validation_fraction=0.1, verbose=False, warm_start=False)"
      ]
     },
     "execution_count": 636,
     "metadata": {},
     "output_type": "execute_result"
    }
   ],
   "source": [
    "mlp_model_tuned.fit(X_train_scaled, y_train)"
   ]
  },
  {
   "cell_type": "code",
   "execution_count": 637,
   "metadata": {},
   "outputs": [],
   "source": [
    "y_pred = mlp_model_tuned.predict(X_test_scaled)"
   ]
  },
  {
   "cell_type": "code",
   "execution_count": 638,
   "metadata": {},
   "outputs": [
    {
     "data": {
      "text/plain": [
       "655.3066925543594"
      ]
     },
     "execution_count": 638,
     "metadata": {},
     "output_type": "execute_result"
    }
   ],
   "source": [
    "mlp_model_tuned_error = np.sqrt(mean_squared_error(y_test, y_pred))\n",
    "mlp_model_tuned_error"
   ]
  },
  {
   "cell_type": "code",
   "execution_count": null,
   "metadata": {},
   "outputs": [],
   "source": []
  },
  {
   "cell_type": "markdown",
   "metadata": {},
   "source": [
    "# Classification and Regression Trees (CART)"
   ]
  },
  {
   "cell_type": "markdown",
   "metadata": {},
   "source": [
    "### Create model"
   ]
  },
  {
   "cell_type": "code",
   "execution_count": 4,
   "metadata": {},
   "outputs": [],
   "source": [
    "hitters = pd.read_csv('Hitters.csv')\n",
    "df = hitters.copy()\n",
    "df = df.dropna()\n",
    "dummies = pd.get_dummies(df[['League', 'NewLeague', 'Division']])\n",
    "y = df['Salary']\n",
    "X_ = df.drop(['Salary', 'League', 'NewLeague', 'Division'], axis=1).astype('float64')\n",
    "X = pd.concat([X_, dummies[['League_N', 'Division_W', 'NewLeague_N']]], axis=1)\n",
    "X_train, X_test, y_train, y_test = train_test_split(X, y, test_size=0.25, random_state=42)"
   ]
  },
  {
   "cell_type": "code",
   "execution_count": 5,
   "metadata": {},
   "outputs": [],
   "source": [
    "from sklearn.tree import DecisionTreeRegressor"
   ]
  },
  {
   "cell_type": "code",
   "execution_count": 6,
   "metadata": {},
   "outputs": [],
   "source": [
    "cart_model = DecisionTreeRegressor()"
   ]
  },
  {
   "cell_type": "code",
   "execution_count": 7,
   "metadata": {},
   "outputs": [
    {
     "data": {
      "text/plain": [
       "DecisionTreeRegressor(criterion='mse', max_depth=None, max_features=None,\n",
       "                      max_leaf_nodes=None, min_impurity_decrease=0.0,\n",
       "                      min_impurity_split=None, min_samples_leaf=1,\n",
       "                      min_samples_split=2, min_weight_fraction_leaf=0.0,\n",
       "                      presort=False, random_state=None, splitter='best')"
      ]
     },
     "execution_count": 7,
     "metadata": {},
     "output_type": "execute_result"
    }
   ],
   "source": [
    "cart_model.fit(X_train, y_train)"
   ]
  },
  {
   "cell_type": "code",
   "execution_count": 8,
   "metadata": {},
   "outputs": [],
   "source": [
    "y_pred = cart_model.predict(X_test)"
   ]
  },
  {
   "cell_type": "code",
   "execution_count": 9,
   "metadata": {},
   "outputs": [
    {
     "data": {
      "text/plain": [
       "448.20593773993374"
      ]
     },
     "execution_count": 9,
     "metadata": {},
     "output_type": "execute_result"
    }
   ],
   "source": [
    "cart_model_error = np.sqrt(mean_squared_error(y_test, y_pred))\n",
    "cart_model_error"
   ]
  },
  {
   "cell_type": "code",
   "execution_count": null,
   "metadata": {},
   "outputs": [],
   "source": []
  },
  {
   "cell_type": "markdown",
   "metadata": {},
   "source": [
    "### Model tuning"
   ]
  },
  {
   "cell_type": "code",
   "execution_count": 15,
   "metadata": {},
   "outputs": [],
   "source": [
    "cart_params = {\n",
    "    'min_samples_split': range(2, 100),\n",
    "    'max_leaf_nodes': range(2, 100)\n",
    "}"
   ]
  },
  {
   "cell_type": "code",
   "execution_count": 16,
   "metadata": {},
   "outputs": [],
   "source": [
    "from sklearn.model_selection import GridSearchCV\n",
    "cart_model_cv = GridSearchCV(cart_model, cart_params, cv=10).fit(X_train, y_train)"
   ]
  },
  {
   "cell_type": "code",
   "execution_count": 17,
   "metadata": {},
   "outputs": [
    {
     "data": {
      "text/plain": [
       "{'max_leaf_nodes': 30, 'min_samples_split': 37}"
      ]
     },
     "execution_count": 17,
     "metadata": {},
     "output_type": "execute_result"
    }
   ],
   "source": [
    "cart_model_cv.best_params_"
   ]
  },
  {
   "cell_type": "code",
   "execution_count": 18,
   "metadata": {},
   "outputs": [],
   "source": [
    "min_samples_split = cart_model_cv.best_params_['min_samples_split']\n",
    "max_leaf_nodes = cart_model_cv.best_params_['max_leaf_nodes']\n",
    "cart_model_tuned = DecisionTreeRegressor(min_samples_split=min_samples_split, max_leaf_nodes=max_leaf_nodes)"
   ]
  },
  {
   "cell_type": "code",
   "execution_count": 19,
   "metadata": {},
   "outputs": [
    {
     "data": {
      "text/plain": [
       "DecisionTreeRegressor(criterion='mse', max_depth=None, max_features=None,\n",
       "                      max_leaf_nodes=30, min_impurity_decrease=0.0,\n",
       "                      min_impurity_split=None, min_samples_leaf=1,\n",
       "                      min_samples_split=37, min_weight_fraction_leaf=0.0,\n",
       "                      presort=False, random_state=None, splitter='best')"
      ]
     },
     "execution_count": 19,
     "metadata": {},
     "output_type": "execute_result"
    }
   ],
   "source": [
    "cart_model_tuned.fit(X_train, y_train)"
   ]
  },
  {
   "cell_type": "code",
   "execution_count": 20,
   "metadata": {},
   "outputs": [
    {
     "data": {
      "text/plain": [
       "375.01595709815194"
      ]
     },
     "execution_count": 20,
     "metadata": {},
     "output_type": "execute_result"
    }
   ],
   "source": [
    "y_pred = cart_model_tuned.predict(X_test)\n",
    "cart_model_tuned_error = np.sqrt(mean_squared_error(y_test, y_pred))\n",
    "cart_model_tuned_error"
   ]
  },
  {
   "cell_type": "code",
   "execution_count": null,
   "metadata": {},
   "outputs": [],
   "source": []
  },
  {
   "cell_type": "markdown",
   "metadata": {},
   "source": [
    "# Bagged Trees"
   ]
  },
  {
   "cell_type": "markdown",
   "metadata": {},
   "source": [
    "### Create model"
   ]
  },
  {
   "cell_type": "code",
   "execution_count": 37,
   "metadata": {},
   "outputs": [],
   "source": [
    "hitters = pd.read_csv('Hitters.csv')\n",
    "df = hitters.copy()\n",
    "df = df.dropna()\n",
    "dummies = pd.get_dummies(df[['League', 'NewLeague', 'Division']])\n",
    "y = df['Salary']\n",
    "X_ = df.drop(['Salary', 'League', 'NewLeague', 'Division'], axis=1).astype('float64')\n",
    "X = pd.concat([X_, dummies[['League_N', 'Division_W', 'NewLeague_N']]], axis=1)\n",
    "X_train, X_test, y_train, y_test = train_test_split(X, y, test_size=0.25, random_state=42)"
   ]
  },
  {
   "cell_type": "code",
   "execution_count": 23,
   "metadata": {},
   "outputs": [],
   "source": [
    "from sklearn.ensemble import BaggingRegressor"
   ]
  },
  {
   "cell_type": "code",
   "execution_count": 38,
   "metadata": {},
   "outputs": [],
   "source": [
    "bagging_model = BaggingRegressor(bootstrap_features = True)"
   ]
  },
  {
   "cell_type": "code",
   "execution_count": 39,
   "metadata": {},
   "outputs": [
    {
     "data": {
      "text/plain": [
       "BaggingRegressor(base_estimator=None, bootstrap=True, bootstrap_features=True,\n",
       "                 max_features=1.0, max_samples=1.0, n_estimators=10,\n",
       "                 n_jobs=None, oob_score=False, random_state=None, verbose=0,\n",
       "                 warm_start=False)"
      ]
     },
     "execution_count": 39,
     "metadata": {},
     "output_type": "execute_result"
    }
   ],
   "source": [
    "bagging_model.fit(X_train, y_train)"
   ]
  },
  {
   "cell_type": "code",
   "execution_count": 28,
   "metadata": {},
   "outputs": [
    {
     "data": {
      "text/plain": [
       "10"
      ]
     },
     "execution_count": 28,
     "metadata": {},
     "output_type": "execute_result"
    }
   ],
   "source": [
    "bagging_model.n_estimators"
   ]
  },
  {
   "cell_type": "code",
   "execution_count": 29,
   "metadata": {},
   "outputs": [
    {
     "data": {
      "text/plain": [
       "19"
      ]
     },
     "execution_count": 29,
     "metadata": {},
     "output_type": "execute_result"
    }
   ],
   "source": [
    "bagging_model.n_features_"
   ]
  },
  {
   "cell_type": "code",
   "execution_count": 30,
   "metadata": {},
   "outputs": [
    {
     "data": {
      "text/plain": [
       "[array([141, 113, 121,  12,  12, 118,  23, 157,  30,  12,  16,  49,  14,\n",
       "         57, 136, 115, 158, 182,  34,  72,  13,  79, 108,  18, 185, 163,\n",
       "         30, 149, 177,  92, 181,  25,  26,  98,  65, 101, 103, 167, 112,\n",
       "         24, 141,  72, 178, 174, 105,  94, 117,  72, 123, 139,  30, 159,\n",
       "         42, 178, 132, 193, 140,  95,  42,  24,  29, 141, 168, 192,  18,\n",
       "        137, 165, 113, 170, 105, 124,  39, 131,  32,  98,  71, 128,  14,\n",
       "         80,  97, 113,  39, 155,  31,  78, 173, 131, 192, 111, 108, 144,\n",
       "        173,  21,  59,  81, 122,   3,  36,   0,  85,  12,  38, 121, 173,\n",
       "         35, 135,  73, 120, 104,   9, 141,  81, 188,  72,  75, 171, 124,\n",
       "        175,  62, 137, 149,  64,  37, 146, 133,  92,  74,  34, 100,  82,\n",
       "         67,  43,  29, 136,  25,  92, 121, 159, 149,  87,  79, 154,  93,\n",
       "        102,  24, 196, 174,   5, 111,  80,  55,  34, 185,  70, 196, 101,\n",
       "        148, 155, 151,  11, 128, 169, 145, 129,  99, 120,  65, 106,  88,\n",
       "        126, 154,  56,   6, 145,  59,  42,  26, 157, 152,  94, 157,  72,\n",
       "        193,  43,  52, 176,  43,  80,  12, 196,  62, 133,  82,  29,  40,\n",
       "         58, 158]),\n",
       " array([161,  86, 161,  83, 196,  81, 180, 187,  60, 138, 110,  64, 157,\n",
       "         53,  93,  34, 105,  68, 150,  86, 179, 110,  57, 189, 169,  25,\n",
       "        163, 140,  49,  68,  52, 101,  52,  15, 114, 144, 123,   4, 118,\n",
       "        176, 117, 115, 173, 152, 172, 107, 122, 113,  37,  20,  38, 184,\n",
       "        182, 100, 121, 141, 166, 154, 128, 187,  74,  39,  11, 177,  89,\n",
       "        175,  70, 136, 110,  38,  69,  47,  30,  84,   9, 176,  49,  55,\n",
       "         67, 100, 123, 158, 112,  70,  51,  76,   4,  21,  65,  71, 181,\n",
       "        119, 169, 161, 162,  85, 139,  13,  67,  31, 151, 134,  43,  53,\n",
       "         99, 142,  95, 146, 158,  24, 100,  49,  21,  30,  44,  48,  35,\n",
       "         39, 128,  80, 117, 126, 131, 102,   1,  13, 146, 137,  38,  10,\n",
       "         59,  96,  58, 182, 186,  28,  15, 171, 110,  10,  19, 113,  32,\n",
       "        174, 135,  44, 142,  60,  36, 165,  32,  93,  60,  60,  18, 111,\n",
       "         72,   5,  47, 111,  98,  46, 157,  75, 100,  58,  20,  11, 121,\n",
       "        101,  17,  96, 148,  32,  99,  58, 184, 100,  26, 161, 103,  90,\n",
       "        138,  59, 134, 140,  19,  64,  73, 107, 122, 150,  87, 184, 105,\n",
       "        130,  72]),\n",
       " array([133,  92,  71, 115,  44,  97,  48,  81, 160, 104, 104,  56, 158,\n",
       "        196,  88,   0,  23,  57,  86,  68, 139,  48,  85,  75,  55, 173,\n",
       "        117,  36,  53,  52,  40, 133,  69, 148, 148, 133,  82, 108, 104,\n",
       "         23,  85,  85,  11,  38,  60,  81, 171,  20, 146,  22, 105, 153,\n",
       "         57,  18, 151, 194, 185, 166, 130,  56,  11,  13,   9, 135,  52,\n",
       "         19, 192, 149,  87,  32, 117,  25,  45, 172,   5,  63, 182,  90,\n",
       "         97,  69, 152,  80,  95,  66, 170, 161, 134,  18, 167,  11, 179,\n",
       "        116,  76,  99, 159,  13,  59,  88, 186, 184,  46, 189,  94, 196,\n",
       "        135,  46,  39,  81,  71, 166, 106, 153, 196, 168,  68,  94,  33,\n",
       "         93,  52,  19,   0, 194, 191,  48, 180, 164,  31,  56,  56, 118,\n",
       "         48,  20,   8,  73,  98,  63,   7,  51, 123,  63,  46, 190,   0,\n",
       "        100, 101, 163,  71,  58, 103, 159, 147,  51, 170, 117,  51, 184,\n",
       "        167,  68,  76,  24,  86,  46, 145,  84,  20, 144,  41,  67,  86,\n",
       "        121,  76,  52, 134,  76,  14, 143,  49, 159, 140,  90, 170, 168,\n",
       "        153, 131, 176, 143, 145,  28,  49, 147, 156,  97,   0,  72,  49,\n",
       "         67, 185]),\n",
       " array([ 58,  13, 104, 130,  63,  47,   7,  20,  72, 186,  14, 165, 122,\n",
       "          2,  74,  78, 103,  58, 156, 147,  28,  30, 118,  53,  64, 165,\n",
       "         40, 106, 138, 177,  80, 162,  58,  92, 156,  95, 112,  57, 194,\n",
       "         80, 190,  37,  83, 112,  52, 171,  31,  42, 132, 137,  44, 156,\n",
       "         30, 174,  72,  48,  44,  94, 155,  89,  33,  91,  26, 138, 195,\n",
       "        148,  62,  88,  38,  15,  88,  37, 102, 165, 144, 120,   1, 190,\n",
       "        131,  60, 196, 106,  89,  75,  64,  79,  30, 173, 113, 133, 107,\n",
       "        103,  88,  32,  35,  46, 153, 185, 145,  78, 190, 174,  45, 183,\n",
       "        170, 165, 128,  54,  65, 189, 166, 159, 182,   5, 123,   0, 127,\n",
       "         14,  97, 178, 168, 122,  53, 143, 164, 102,  68,  93,  55, 118,\n",
       "        158, 152,  60, 143, 149,  65, 104,  54,  79,  65, 187, 154, 140,\n",
       "         55,  47,  79, 166,  26,  49, 174,   2,  49,  53, 161, 160,  85,\n",
       "        119, 187,  76, 165,  63, 101,  74, 184,  98, 110, 127,  44,  97,\n",
       "        159, 106,  89,  83, 196,   2, 124,  71,  84, 118, 108,  39,  94,\n",
       "        174, 176,  15, 102,  26,  53,  51,  48,  83, 109, 112, 109,  43,\n",
       "        190, 191]),\n",
       " array([ 29,  27,  60,  26,  59,  71,  66,  75,  95, 171, 127,  59,  58,\n",
       "         32, 133,  16,  61,  55, 114,  19, 122,  84,  88, 106, 154,  89,\n",
       "         85,  13,  31, 117, 129, 194, 125,  57,  91,  68,  14,  85,  65,\n",
       "        114, 118,  79, 177, 180, 181, 182, 101,  42,  75,  95,   8, 187,\n",
       "         31, 108,  44,  94,  42, 158,  63, 120,  36,  38,   2, 195,  15,\n",
       "         79, 183,  92,   9, 142,  18, 114, 153, 156,  35,  88, 188, 149,\n",
       "        144,  71,   1,  64,  65, 179, 176,  96, 115,  31,  44,  28, 123,\n",
       "         32,  20, 183,  84, 110,  49, 174, 185,  34, 115,   4, 175, 195,\n",
       "         95, 110,  63, 193, 147, 114,  54,  35,  38,  39, 149,  86,  32,\n",
       "         83,  41,  12,  88,  76, 157,  72, 135, 180, 103,  50,  21, 161,\n",
       "         62, 196,  19,  59, 169,  12, 140,  76,  59,  19,  44,  22,  54,\n",
       "         64, 136, 195,  14, 151, 103, 192, 127, 102,  26, 192,  64, 151,\n",
       "         22,  55,  72, 185,  37,  17, 133, 158,  34, 123,  13,  88,  23,\n",
       "         18,  19, 141,  42, 169, 144,  55,  89, 188,  71,  41, 194, 116,\n",
       "        114, 150,  83,  19,  91,  98,  27,  77,  14,  75, 113, 166,  43,\n",
       "        122, 168]),\n",
       " array([ 20,  78,  21, 163, 108,  88,  75,  69,  50,  30,  90, 156,  10,\n",
       "        125, 152,  38,  21,  81, 182, 117, 110, 136,  69,  73,  13,  89,\n",
       "        128, 158, 188, 141,  64,  21,  56,  63,  97, 129, 104,  13,  15,\n",
       "        149,  33, 169, 193,  86,  27,  57, 178, 108,  68, 114,  81, 183,\n",
       "        173, 153, 161,  66, 107,  30,  64,  61,  61,  89, 114, 167, 188,\n",
       "        165, 174, 188, 191, 153,  83,  68, 170,  29, 183, 146, 168,  73,\n",
       "         76, 150,   4,  32,  55,  60,  87,  20,  17, 154,  86,  64, 185,\n",
       "         13, 132, 102,   6,  34,  47,  63,  14,   5, 185,  64,  91,  61,\n",
       "         80,   3, 122, 152, 117,  70, 154, 168, 130,  96,  11,  92,  57,\n",
       "         97, 190, 195, 155,  97,  44, 109,  31, 136,  22, 112, 159, 141,\n",
       "         80,  78,  12, 120,   3, 175, 106, 105, 150,  96, 153, 190,  80,\n",
       "        152,  82, 123, 145,  87, 154, 133, 139,  53,  69, 139, 180,  27,\n",
       "         48,  89, 182,  38, 157, 191, 159, 113, 134,  35, 155, 100, 192,\n",
       "        115,  87,  57,  78,  71, 179, 162,   3, 157, 146,  60, 151, 141,\n",
       "        176,  25, 152, 175,  72,  19,  86, 175, 118, 188, 162,  95, 139,\n",
       "        102,  78]),\n",
       " array([171, 170,  97, 180,  58, 112,  22, 103,  28, 133,  33, 105,  40,\n",
       "        162,  29, 160, 174, 161,  69,   3, 113, 174,  25,  80,  18, 115,\n",
       "         53,   3,  32, 147,  93, 176,   7,   9,  52,  36, 140, 187, 117,\n",
       "         41,  17,   4, 191,  91, 114, 166, 196,   3, 181, 191,  86, 114,\n",
       "        131, 108,  96, 136,  72, 135, 166, 103,  89, 147,  49, 174,  81,\n",
       "         15,  44, 104,  20, 154,  14,  55,  11, 104,  49, 146,  96,  38,\n",
       "        188, 121,  79,  90, 160,  65, 136,  47,  88,  32,  62, 121,   8,\n",
       "         99,  15, 176,  24,  63, 184, 163,  95,  97, 167,  52,  94,  66,\n",
       "         26,   9,  41,  69, 174, 153, 177, 106, 111,  68, 152,  48, 121,\n",
       "         71,  11,  16, 137, 112,  14,  60,  85,  33,  96, 194, 102,  30,\n",
       "        121,  65, 117, 117,  97, 190, 179, 146, 162,  11,  16, 150, 180,\n",
       "        172, 103,  39, 111, 111,  56,  62, 162, 175, 109, 162, 196, 153,\n",
       "          8, 138, 194,  22, 147,  73, 124, 132,  16, 125,  51,  69, 170,\n",
       "         76, 103, 138, 115,  13, 100, 106, 104,  76, 159,  29,  23, 149,\n",
       "        173,  34,  95,  58, 172,  31, 152,   9, 122,  31, 194,  62,  38,\n",
       "        149, 168]),\n",
       " array([132, 132, 192, 165,  24, 191,  63,  89, 144,  50, 154,  87, 157,\n",
       "        191, 101, 166, 117, 169, 154,  58,  71,  45,  97, 111,  91,   2,\n",
       "        105, 100, 180, 182, 108,  45, 158,  93, 153, 154,  66, 180,  42,\n",
       "        147,   5,  93, 118, 107, 188,  14, 159,  10, 161,  36,  37, 192,\n",
       "        147, 122, 120, 196, 153, 142,  86, 192,  86,  42, 140, 168,  97,\n",
       "        156, 140,  94, 124, 185,  18, 145, 178,  25,  49, 153, 177,  40,\n",
       "         18,  24, 130, 111,  47, 168,  44, 192, 114, 150,  81, 196, 173,\n",
       "        155, 134, 166,  48,  82,  79, 104,  79, 174, 178, 169, 134, 135,\n",
       "         63,  70,   8, 187, 186, 172, 181, 112,  66, 122,  34,  77,   2,\n",
       "        184,  99, 139, 134, 155, 176,  27,  91, 114, 180,  17,  57, 152,\n",
       "         18,  79,   0,  62, 107, 136,  86,  31, 150,  17, 165,  70, 186,\n",
       "        130, 129,  49,  90, 123, 143,  23,  27,  47, 124, 184, 128, 143,\n",
       "        192,  83, 103,  41,  68,  78,  51, 164,  29, 105,  99,  95, 160,\n",
       "        148, 168, 156, 183,  18,   9, 126,  23,  76,  89,  11,  65, 101,\n",
       "         78, 191, 155,  64,  12, 172, 192, 122, 140,  75,  35,  67, 169,\n",
       "        148,  87]),\n",
       " array([184, 165, 195,  37,  51,  87, 170,  32, 178,  40, 137, 148, 195,\n",
       "        125, 110,  83, 137,  29, 100,  79, 193,  39,  63, 184, 110, 165,\n",
       "        134,  70, 150, 106, 147,  91,  79, 160,  62,  88, 132, 108, 144,\n",
       "        141,  10,   1,  25,  39,  84,  14,   0,   1, 149,  74,  53,  14,\n",
       "        177, 107,  37,  66,  61,  77, 119, 112,  17,  88,   2,   2, 148,\n",
       "        132, 130, 178, 134, 177, 119, 173, 110, 148, 183, 134,  76,  82,\n",
       "         24,  36,   2,  54, 149,  19,  58,   3,  95,  91,  62,  92, 111,\n",
       "        191,  54, 119, 122, 138, 155, 115,  85, 167,  50, 170,  56, 139,\n",
       "        145, 100, 138, 181,  51,   5, 147,  63, 157,  84,  24,  80,  17,\n",
       "        109,  87,   4,  71, 142,   0,  73, 181, 112, 128, 156,  53,  11,\n",
       "         12,  48,  57,  40,  64, 164,   7, 165, 188,  77,  36,  36,  77,\n",
       "        130, 123, 160,  35, 110, 157,  55,  11, 168,  19,  42,  25, 113,\n",
       "         69,  46,  54, 158,  90,  17,  75, 191, 170,  15, 118,  39,  75,\n",
       "          9, 165, 113,  32, 124,  95,  39, 106,   3,   2, 105,  89, 144,\n",
       "        192,  65, 120,   9,  68,  51,  15, 130, 100,  35, 186,  55,   5,\n",
       "         45,   3]),\n",
       " array([125,  85, 185,  65,   6,  54,  68, 106,  92,   6,  35, 171,  21,\n",
       "         15,  48,   5, 106,  82,  15, 156,  32, 150,  56,  36, 158,  54,\n",
       "        170,  25,  79,  76, 189, 175,  56, 134, 111,  97, 120, 102, 130,\n",
       "         80, 126, 151,  23, 102, 103,  17, 175,   9,   8, 163,  69, 183,\n",
       "         57, 156, 147,  28,  20, 193, 135,  12,  54,  90,  50, 125, 177,\n",
       "        191,  14,  50,  61, 139,  15,  37, 177,  83, 184, 181,  99, 148,\n",
       "         39, 196, 157, 124,  97,  71,   5, 137, 122,  70, 137, 170,  17,\n",
       "        160,  13, 157, 183, 181, 110,  48,  23, 184, 180,  69,  68,  63,\n",
       "        105, 166, 173, 185, 161, 139, 165,  70,  79, 101,  74, 195,  62,\n",
       "        166,  51,  86, 157,  92,  22,   0,   5,  29,  73,  36,  21,   5,\n",
       "        128,  11, 104, 163,  77,  86,  53,  74,  75,  84, 105,  46, 151,\n",
       "         79, 179, 194,  45,  64, 182, 134, 164, 120,  86,  82, 147, 103,\n",
       "         73, 173,  40, 115, 108, 151, 101,  87,  96,  91, 115,  96, 167,\n",
       "        121,  30, 145, 117,  12,  34, 173,  65, 107,  26,  62, 194,  17,\n",
       "         60,  84,   6, 177,  74,  54, 143, 168, 168,  34, 111, 107, 168,\n",
       "          9, 175])]"
      ]
     },
     "execution_count": 30,
     "metadata": {},
     "output_type": "execute_result"
    }
   ],
   "source": [
    "bagging_model.estimators_samples_"
   ]
  },
  {
   "cell_type": "code",
   "execution_count": 33,
   "metadata": {},
   "outputs": [
    {
     "data": {
      "text/plain": [
       "[array([16,  6,  1, 13, 16, 13, 12, 12,  0,  9,  2, 17,  2,  9,  0,  2, 17,\n",
       "         3, 13]),\n",
       " array([ 8,  8, 14, 10,  5, 11,  8, 12,  3,  0,  6, 11,  2,  7,  0,  4, 14,\n",
       "        17,  1]),\n",
       " array([ 7,  7, 14, 11, 10, 16, 18,  9, 17, 15,  6,  2,  6,  5, 18, 13, 10,\n",
       "        15,  5]),\n",
       " array([10, 18, 14, 17, 11,  5,  6, 15, 10, 13,  9, 12,  4, 18,  9, 11, 13,\n",
       "         3,  5]),\n",
       " array([10,  3,  7,  8,  1, 14,  3,  2, 11,  4,  3,  5,  9,  7,  8, 18,  4,\n",
       "         3, 15]),\n",
       " array([ 5, 10, 16, 14, 18,  7,  5,  5, 10,  6,  0,  0,  8,  3,  8,  3, 10,\n",
       "        11,  6]),\n",
       " array([13, 15,  2, 18, 15, 12,  6, 14,  4, 18,  3,  3,  9, 15,  2,  5,  2,\n",
       "        18, 11]),\n",
       " array([ 8, 12,  9, 18, 12, 11,  4, 17,  8,  1, 17,  0,  5, 10, 18, 11, 13,\n",
       "        18, 13]),\n",
       " array([ 2, 17,  9,  0,  8,  1, 13,  1, 15, 11,  1, 16, 10,  0,  4, 17, 10,\n",
       "        12,  5]),\n",
       " array([ 6,  9,  7, 18,  0,  9,  4, 11, 10,  9, 16,  4, 15, 11,  6,  6,  5,\n",
       "         5,  9])]"
      ]
     },
     "execution_count": 33,
     "metadata": {},
     "output_type": "execute_result"
    }
   ],
   "source": [
    "bagging_model.estimators_features_"
   ]
  },
  {
   "cell_type": "code",
   "execution_count": 34,
   "metadata": {},
   "outputs": [
    {
     "data": {
      "text/plain": [
       "[DecisionTreeRegressor(criterion='mse', max_depth=None, max_features=None,\n",
       "                       max_leaf_nodes=None, min_impurity_decrease=0.0,\n",
       "                       min_impurity_split=None, min_samples_leaf=1,\n",
       "                       min_samples_split=2, min_weight_fraction_leaf=0.0,\n",
       "                       presort=False, random_state=1273515749, splitter='best'),\n",
       " DecisionTreeRegressor(criterion='mse', max_depth=None, max_features=None,\n",
       "                       max_leaf_nodes=None, min_impurity_decrease=0.0,\n",
       "                       min_impurity_split=None, min_samples_leaf=1,\n",
       "                       min_samples_split=2, min_weight_fraction_leaf=0.0,\n",
       "                       presort=False, random_state=273774533, splitter='best'),\n",
       " DecisionTreeRegressor(criterion='mse', max_depth=None, max_features=None,\n",
       "                       max_leaf_nodes=None, min_impurity_decrease=0.0,\n",
       "                       min_impurity_split=None, min_samples_leaf=1,\n",
       "                       min_samples_split=2, min_weight_fraction_leaf=0.0,\n",
       "                       presort=False, random_state=1152713760, splitter='best'),\n",
       " DecisionTreeRegressor(criterion='mse', max_depth=None, max_features=None,\n",
       "                       max_leaf_nodes=None, min_impurity_decrease=0.0,\n",
       "                       min_impurity_split=None, min_samples_leaf=1,\n",
       "                       min_samples_split=2, min_weight_fraction_leaf=0.0,\n",
       "                       presort=False, random_state=1719754231, splitter='best'),\n",
       " DecisionTreeRegressor(criterion='mse', max_depth=None, max_features=None,\n",
       "                       max_leaf_nodes=None, min_impurity_decrease=0.0,\n",
       "                       min_impurity_split=None, min_samples_leaf=1,\n",
       "                       min_samples_split=2, min_weight_fraction_leaf=0.0,\n",
       "                       presort=False, random_state=127276220, splitter='best'),\n",
       " DecisionTreeRegressor(criterion='mse', max_depth=None, max_features=None,\n",
       "                       max_leaf_nodes=None, min_impurity_decrease=0.0,\n",
       "                       min_impurity_split=None, min_samples_leaf=1,\n",
       "                       min_samples_split=2, min_weight_fraction_leaf=0.0,\n",
       "                       presort=False, random_state=1816442808, splitter='best'),\n",
       " DecisionTreeRegressor(criterion='mse', max_depth=None, max_features=None,\n",
       "                       max_leaf_nodes=None, min_impurity_decrease=0.0,\n",
       "                       min_impurity_split=None, min_samples_leaf=1,\n",
       "                       min_samples_split=2, min_weight_fraction_leaf=0.0,\n",
       "                       presort=False, random_state=304892162, splitter='best'),\n",
       " DecisionTreeRegressor(criterion='mse', max_depth=None, max_features=None,\n",
       "                       max_leaf_nodes=None, min_impurity_decrease=0.0,\n",
       "                       min_impurity_split=None, min_samples_leaf=1,\n",
       "                       min_samples_split=2, min_weight_fraction_leaf=0.0,\n",
       "                       presort=False, random_state=1750893294, splitter='best'),\n",
       " DecisionTreeRegressor(criterion='mse', max_depth=None, max_features=None,\n",
       "                       max_leaf_nodes=None, min_impurity_decrease=0.0,\n",
       "                       min_impurity_split=None, min_samples_leaf=1,\n",
       "                       min_samples_split=2, min_weight_fraction_leaf=0.0,\n",
       "                       presort=False, random_state=1299662669, splitter='best'),\n",
       " DecisionTreeRegressor(criterion='mse', max_depth=None, max_features=None,\n",
       "                       max_leaf_nodes=None, min_impurity_decrease=0.0,\n",
       "                       min_impurity_split=None, min_samples_leaf=1,\n",
       "                       min_samples_split=2, min_weight_fraction_leaf=0.0,\n",
       "                       presort=False, random_state=998130497, splitter='best')]"
      ]
     },
     "execution_count": 34,
     "metadata": {},
     "output_type": "execute_result"
    }
   ],
   "source": [
    "bagging_model.estimators_"
   ]
  },
  {
   "cell_type": "code",
   "execution_count": 40,
   "metadata": {},
   "outputs": [],
   "source": [
    "y_pred = bagging_model.predict(X_test)"
   ]
  },
  {
   "cell_type": "code",
   "execution_count": 41,
   "metadata": {},
   "outputs": [
    {
     "data": {
      "text/plain": [
       "364.10531204991423"
      ]
     },
     "execution_count": 41,
     "metadata": {},
     "output_type": "execute_result"
    }
   ],
   "source": [
    "bagging_model_error = np.sqrt(mean_squared_error(y_test, y_pred))\n",
    "bagging_model_error"
   ]
  },
  {
   "cell_type": "code",
   "execution_count": 42,
   "metadata": {},
   "outputs": [],
   "source": [
    "y_pred_2 = bagging_model.estimators_[1].fit(X_train, y_train).predict(X_test)"
   ]
  },
  {
   "cell_type": "code",
   "execution_count": 44,
   "metadata": {},
   "outputs": [
    {
     "data": {
      "text/plain": [
       "461.35000070691746"
      ]
     },
     "execution_count": 44,
     "metadata": {},
     "output_type": "execute_result"
    }
   ],
   "source": [
    "np.sqrt(mean_squared_error(y_test, y_pred_2))"
   ]
  },
  {
   "cell_type": "code",
   "execution_count": 45,
   "metadata": {},
   "outputs": [],
   "source": [
    "y_pred_3 = bagging_model.estimators_[2].fit(X_train, y_train).predict(X_test)"
   ]
  },
  {
   "cell_type": "code",
   "execution_count": 46,
   "metadata": {},
   "outputs": [
    {
     "data": {
      "text/plain": [
       "529.1185031110706"
      ]
     },
     "execution_count": 46,
     "metadata": {},
     "output_type": "execute_result"
    }
   ],
   "source": [
    "np.sqrt(mean_squared_error(y_test, y_pred_3))"
   ]
  },
  {
   "cell_type": "code",
   "execution_count": 53,
   "metadata": {},
   "outputs": [
    {
     "name": "stdout",
     "output_type": "stream",
     "text": [
      "Model 1`s error: 533.1550151389681\n",
      "Model 2`s error: 461.35000070691746\n",
      "Model 3`s error: 529.1185031110706\n",
      "Model 4`s error: 443.05404587379223\n",
      "Model 5`s error: 519.7134566483378\n",
      "Model 6`s error: 527.3292100003622\n",
      "Model 7`s error: 526.4176396574302\n",
      "Model 8`s error: 527.9266234560271\n",
      "Model 9`s error: 510.3062406720432\n",
      "Model 10`s error: 476.48089007516154\n"
     ]
    }
   ],
   "source": [
    "for i in range(10):\n",
    "        model = bagging_model.estimators_[i].fit(X_train, y_train)\n",
    "        predictions = model.predict(X_test)\n",
    "        model_error = np.sqrt(mean_squared_error(y_test, predictions))\n",
    "        total += model_error\n",
    "        print('Model {0}`s error: {1}'.format(i + 1, model_error))    "
   ]
  },
  {
   "cell_type": "code",
   "execution_count": null,
   "metadata": {},
   "outputs": [],
   "source": []
  },
  {
   "cell_type": "markdown",
   "metadata": {},
   "source": [
    "### Model tuning"
   ]
  },
  {
   "cell_type": "code",
   "execution_count": 54,
   "metadata": {},
   "outputs": [],
   "source": [
    "bagging_params = {\n",
    "    'n_estimators': range(2, 40)\n",
    "}"
   ]
  },
  {
   "cell_type": "code",
   "execution_count": 55,
   "metadata": {},
   "outputs": [],
   "source": [
    "bagging_model_cv = GridSearchCV(bagging_model, bagging_params, cv = 10)"
   ]
  },
  {
   "cell_type": "code",
   "execution_count": 56,
   "metadata": {},
   "outputs": [
    {
     "data": {
      "text/plain": [
       "GridSearchCV(cv=10, error_score='raise-deprecating',\n",
       "             estimator=BaggingRegressor(base_estimator=None, bootstrap=True,\n",
       "                                        bootstrap_features=True,\n",
       "                                        max_features=1.0, max_samples=1.0,\n",
       "                                        n_estimators=10, n_jobs=None,\n",
       "                                        oob_score=False, random_state=None,\n",
       "                                        verbose=0, warm_start=False),\n",
       "             iid='warn', n_jobs=None, param_grid={'n_estimators': range(2, 40)},\n",
       "             pre_dispatch='2*n_jobs', refit=True, return_train_score=False,\n",
       "             scoring=None, verbose=0)"
      ]
     },
     "execution_count": 56,
     "metadata": {},
     "output_type": "execute_result"
    }
   ],
   "source": [
    "bagging_model_cv.fit(X_train, y_train)"
   ]
  },
  {
   "cell_type": "code",
   "execution_count": 57,
   "metadata": {},
   "outputs": [
    {
     "data": {
      "text/plain": [
       "{'n_estimators': 14}"
      ]
     },
     "execution_count": 57,
     "metadata": {},
     "output_type": "execute_result"
    }
   ],
   "source": [
    "bagging_model_cv.best_params_"
   ]
  },
  {
   "cell_type": "code",
   "execution_count": 58,
   "metadata": {},
   "outputs": [],
   "source": [
    "bagging_model_tuned = BaggingRegressor(n_estimators=bagging_model_cv.best_params_['n_estimators']).fit(X_train, y_train)"
   ]
  },
  {
   "cell_type": "code",
   "execution_count": 59,
   "metadata": {},
   "outputs": [],
   "source": [
    "y_pred = bagging_model_tuned.predict(X_test)"
   ]
  },
  {
   "cell_type": "code",
   "execution_count": 61,
   "metadata": {},
   "outputs": [
    {
     "data": {
      "text/plain": [
       "350.171296642062"
      ]
     },
     "execution_count": 61,
     "metadata": {},
     "output_type": "execute_result"
    }
   ],
   "source": [
    "bagging_model_tuned_error = np.sqrt(mean_squared_error(y_test, y_pred))\n",
    "bagging_model_tuned_error"
   ]
  },
  {
   "cell_type": "code",
   "execution_count": null,
   "metadata": {},
   "outputs": [],
   "source": []
  },
  {
   "cell_type": "markdown",
   "metadata": {},
   "source": [
    "# Random Forests"
   ]
  },
  {
   "cell_type": "markdown",
   "metadata": {},
   "source": [
    "### Create model"
   ]
  },
  {
   "cell_type": "code",
   "execution_count": 69,
   "metadata": {},
   "outputs": [],
   "source": [
    "hitters = pd.read_csv('Hitters.csv')\n",
    "df = hitters.copy()\n",
    "df = df.dropna()\n",
    "dummies = pd.get_dummies(df[['League', 'NewLeague', 'Division']])\n",
    "y = df['Salary']\n",
    "X_ = df.drop(['Salary', 'League', 'NewLeague', 'Division'], axis=1).astype('float64')\n",
    "X = pd.concat([X_, dummies[['League_N', 'Division_W', 'NewLeague_N']]], axis=1)\n",
    "X_train, X_test, y_train, y_test = train_test_split(X, y, test_size=0.25, random_state=42)"
   ]
  },
  {
   "cell_type": "code",
   "execution_count": 70,
   "metadata": {},
   "outputs": [],
   "source": [
    "from sklearn.ensemble import RandomForestRegressor"
   ]
  },
  {
   "cell_type": "code",
   "execution_count": 72,
   "metadata": {},
   "outputs": [],
   "source": [
    "rf_model = RandomForestRegressor(random_state=42)"
   ]
  },
  {
   "cell_type": "code",
   "execution_count": 73,
   "metadata": {},
   "outputs": [
    {
     "data": {
      "text/plain": [
       "RandomForestRegressor(bootstrap=True, criterion='mse', max_depth=None,\n",
       "                      max_features='auto', max_leaf_nodes=None,\n",
       "                      min_impurity_decrease=0.0, min_impurity_split=None,\n",
       "                      min_samples_leaf=1, min_samples_split=2,\n",
       "                      min_weight_fraction_leaf=0.0, n_estimators=10,\n",
       "                      n_jobs=None, oob_score=False, random_state=42, verbose=0,\n",
       "                      warm_start=False)"
      ]
     },
     "execution_count": 73,
     "metadata": {},
     "output_type": "execute_result"
    }
   ],
   "source": [
    "rf_model.fit(X_train, y_train)"
   ]
  },
  {
   "cell_type": "code",
   "execution_count": 74,
   "metadata": {},
   "outputs": [],
   "source": [
    "y_pred = rf_model.predict(X_test)"
   ]
  },
  {
   "cell_type": "code",
   "execution_count": 76,
   "metadata": {},
   "outputs": [
    {
     "data": {
      "text/plain": [
       "373.04044281427"
      ]
     },
     "execution_count": 76,
     "metadata": {},
     "output_type": "execute_result"
    }
   ],
   "source": [
    "rf_model_error = np.sqrt(mean_squared_error(y_test, y_pred))\n",
    "rf_model_error"
   ]
  },
  {
   "cell_type": "code",
   "execution_count": null,
   "metadata": {},
   "outputs": [],
   "source": []
  },
  {
   "cell_type": "markdown",
   "metadata": {},
   "source": [
    "### Model tuning"
   ]
  },
  {
   "cell_type": "code",
   "execution_count": 93,
   "metadata": {},
   "outputs": [],
   "source": [
    "rf_params = {\n",
    "    'max_depth': list(range(2, 40)),\n",
    "    'max_features': list(range(3, 19, 3)),\n",
    "    'n_estimators': [100, 200, 500, 1000, 2000]\n",
    "}"
   ]
  },
  {
   "cell_type": "code",
   "execution_count": 94,
   "metadata": {},
   "outputs": [],
   "source": [
    "rf_model_cv = GridSearchCV(rf_model, rf_params, cv=10, n_jobs=-1).fit(X_train, y_train)"
   ]
  },
  {
   "cell_type": "code",
   "execution_count": 95,
   "metadata": {},
   "outputs": [
    {
     "data": {
      "text/plain": [
       "{'max_depth': 11, 'max_features': 3, 'n_estimators': 100}"
      ]
     },
     "execution_count": 95,
     "metadata": {},
     "output_type": "execute_result"
    }
   ],
   "source": [
    "rf_model_cv.best_params_"
   ]
  },
  {
   "cell_type": "code",
   "execution_count": 99,
   "metadata": {},
   "outputs": [
    {
     "data": {
      "text/plain": [
       "RandomForestRegressor(bootstrap=True, criterion='mse', max_depth=11,\n",
       "                      max_features=3, max_leaf_nodes=None,\n",
       "                      min_impurity_decrease=0.0, min_impurity_split=None,\n",
       "                      min_samples_leaf=1, min_samples_split=2,\n",
       "                      min_weight_fraction_leaf=0.0, n_estimators=100,\n",
       "                      n_jobs=None, oob_score=False, random_state=42, verbose=0,\n",
       "                      warm_start=False)"
      ]
     },
     "execution_count": 99,
     "metadata": {},
     "output_type": "execute_result"
    }
   ],
   "source": [
    "best_params = rf_model_cv.best_params_\n",
    "\n",
    "rf_model_tuned = RandomForestRegressor(\n",
    "    random_state=42,\n",
    "    max_depth=best_params['max_depth'],\n",
    "    max_features=best_params['max_features'],\n",
    "    n_estimators=best_params['n_estimators']\n",
    ")\n",
    "rf_model_tuned.fit(X_train, y_train)"
   ]
  },
  {
   "cell_type": "code",
   "execution_count": 100,
   "metadata": {},
   "outputs": [],
   "source": [
    "y_pred = rf_model_tuned.predict(X_test)"
   ]
  },
  {
   "cell_type": "code",
   "execution_count": 101,
   "metadata": {},
   "outputs": [
    {
     "data": {
      "text/plain": [
       "338.61994085292304"
      ]
     },
     "execution_count": 101,
     "metadata": {},
     "output_type": "execute_result"
    }
   ],
   "source": [
    "rf_model_tuned_error = np.sqrt(mean_squared_error(y_test, y_pred))\n",
    "rf_model_tuned_error"
   ]
  },
  {
   "cell_type": "code",
   "execution_count": 109,
   "metadata": {},
   "outputs": [],
   "source": [
    "importances = pd.DataFrame({'Importance': rf_model_tuned.feature_importances_}, index=X_train.columns)"
   ]
  },
  {
   "cell_type": "code",
   "execution_count": 131,
   "metadata": {},
   "outputs": [],
   "source": [
    "importances.sort_values(by='Importance', ascending=True, inplace=True)"
   ]
  },
  {
   "cell_type": "code",
   "execution_count": 133,
   "metadata": {},
   "outputs": [
    {
     "data": {
      "text/plain": [
       "<matplotlib.axes._subplots.AxesSubplot at 0x1a29360b38>"
      ]
     },
     "execution_count": 133,
     "metadata": {},
     "output_type": "execute_result"
    },
    {
     "data": {
      "image/png": "[encoded data removed]",
      "text/plain": [
       "<Figure size 432x288 with 1 Axes>"
      ]
     },
     "metadata": {
      "needs_background": "light"
     },
     "output_type": "display_data"
    }
   ],
   "source": [
    "importances.plot.barh()"
   ]
  },
  {
   "cell_type": "code",
   "execution_count": null,
   "metadata": {},
   "outputs": [],
   "source": []
  },
  {
   "cell_type": "markdown",
   "metadata": {},
   "source": [
    "# Gradient Boosting Machines (GBM)"
   ]
  },
  {
   "cell_type": "markdown",
   "metadata": {},
   "source": [
    "### Create model"
   ]
  },
  {
   "cell_type": "code",
   "execution_count": 134,
   "metadata": {},
   "outputs": [],
   "source": [
    "hitters = pd.read_csv('Hitters.csv')\n",
    "df = hitters.copy()\n",
    "df = df.dropna()\n",
    "dummies = pd.get_dummies(df[['League', 'NewLeague', 'Division']])\n",
    "y = df['Salary']\n",
    "X_ = df.drop(['Salary', 'League', 'NewLeague', 'Division'], axis=1).astype('float64')\n",
    "X = pd.concat([X_, dummies[['League_N', 'Division_W', 'NewLeague_N']]], axis=1)\n",
    "X_train, X_test, y_train, y_test = train_test_split(X, y, test_size=0.25, random_state=42)"
   ]
  },
  {
   "cell_type": "code",
   "execution_count": 135,
   "metadata": {},
   "outputs": [],
   "source": [
    "from sklearn.ensemble import GradientBoostingRegressor"
   ]
  },
  {
   "cell_type": "code",
   "execution_count": 142,
   "metadata": {},
   "outputs": [],
   "source": [
    "gbm_model = GradientBoostingRegressor()"
   ]
  },
  {
   "cell_type": "code",
   "execution_count": 143,
   "metadata": {},
   "outputs": [
    {
     "data": {
      "text/plain": [
       "GradientBoostingRegressor(alpha=0.9, criterion='friedman_mse', init=None,\n",
       "                          learning_rate=0.1, loss='ls', max_depth=3,\n",
       "                          max_features=None, max_leaf_nodes=None,\n",
       "                          min_impurity_decrease=0.0, min_impurity_split=None,\n",
       "                          min_samples_leaf=1, min_samples_split=2,\n",
       "                          min_weight_fraction_leaf=0.0, n_estimators=100,\n",
       "                          n_iter_no_change=None, presort='auto',\n",
       "                          random_state=None, subsample=1.0, tol=0.0001,\n",
       "                          validation_fraction=0.1, verbose=0, warm_start=False)"
      ]
     },
     "execution_count": 143,
     "metadata": {},
     "output_type": "execute_result"
    }
   ],
   "source": [
    "gbm_model.fit(X_train, y_train)"
   ]
  },
  {
   "cell_type": "code",
   "execution_count": 144,
   "metadata": {},
   "outputs": [],
   "source": [
    "y_pred = gbm_model.predict(X_test)"
   ]
  },
  {
   "cell_type": "code",
   "execution_count": 146,
   "metadata": {},
   "outputs": [
    {
     "data": {
      "text/plain": [
       "348.36693700162056"
      ]
     },
     "execution_count": 146,
     "metadata": {},
     "output_type": "execute_result"
    }
   ],
   "source": [
    "gmb_model_error = np.sqrt(mean_squared_error(y_test, y_pred))\n",
    "gmb_model_error"
   ]
  },
  {
   "cell_type": "code",
   "execution_count": null,
   "metadata": {},
   "outputs": [],
   "source": []
  },
  {
   "cell_type": "markdown",
   "metadata": {},
   "source": [
    "### Model tuning"
   ]
  },
  {
   "cell_type": "code",
   "execution_count": 148,
   "metadata": {},
   "outputs": [],
   "source": [
    "gbm_params = {\n",
    "    'learning_rate': [0.1, 0.01, 0.001, 0.2, 0.0001],\n",
    "    'max_depth': [3, 5, 8, 10, 20, 40, 50, 100, 200],\n",
    "    'n_estimators': [200, 500, 1000, 2000],\n",
    "    'subsample': [1, 0.75, 0.5]\n",
    "}"
   ]
  },
  {
   "cell_type": "code",
   "execution_count": 149,
   "metadata": {},
   "outputs": [],
   "source": [
    "gbm_model = GradientBoostingRegressor()"
   ]
  },
  {
   "cell_type": "code",
   "execution_count": 152,
   "metadata": {},
   "outputs": [],
   "source": [
    "gbm_model_cv = GridSearchCV(gbm_model, gbm_params, cv=10, n_jobs=-1, verbose=True)"
   ]
  },
  {
   "cell_type": "code",
   "execution_count": 153,
   "metadata": {},
   "outputs": [
    {
     "name": "stdout",
     "output_type": "stream",
     "text": [
      "Fitting 10 folds for each of 540 candidates, totalling 5400 fits\n"
     ]
    },
    {
     "name": "stderr",
     "output_type": "stream",
     "text": [
      "[Parallel(n_jobs=-1)]: Using backend LokyBackend with 4 concurrent workers.\n",
      "[Parallel(n_jobs=-1)]: Done  42 tasks      | elapsed:    5.5s\n",
      "[Parallel(n_jobs=-1)]: Done 192 tasks      | elapsed:   26.1s\n",
      "[Parallel(n_jobs=-1)]: Done 442 tasks      | elapsed:  1.0min\n",
      "[Parallel(n_jobs=-1)]: Done 792 tasks      | elapsed:  1.9min\n",
      "[Parallel(n_jobs=-1)]: Done 1242 tasks      | elapsed:  3.1min\n",
      "[Parallel(n_jobs=-1)]: Done 1792 tasks      | elapsed:  7.0min\n",
      "[Parallel(n_jobs=-1)]: Done 2442 tasks      | elapsed: 11.1min\n",
      "[Parallel(n_jobs=-1)]: Done 3192 tasks      | elapsed: 17.1min\n",
      "[Parallel(n_jobs=-1)]: Done 4042 tasks      | elapsed: 19.5min\n",
      "[Parallel(n_jobs=-1)]: Done 4992 tasks      | elapsed: 24.2min\n",
      "[Parallel(n_jobs=-1)]: Done 5400 out of 5400 | elapsed: 28.1min finished\n"
     ]
    },
    {
     "data": {
      "text/plain": [
       "GridSearchCV(cv=10, error_score='raise-deprecating',\n",
       "             estimator=GradientBoostingRegressor(alpha=0.9,\n",
       "                                                 criterion='friedman_mse',\n",
       "                                                 init=None, learning_rate=0.1,\n",
       "                                                 loss='ls', max_depth=3,\n",
       "                                                 max_features=None,\n",
       "                                                 max_leaf_nodes=None,\n",
       "                                                 min_impurity_decrease=0.0,\n",
       "                                                 min_impurity_split=None,\n",
       "                                                 min_samples_leaf=1,\n",
       "                                                 min_samples_split=2,\n",
       "                                                 min_weight_fraction_leaf=0.0,\n",
       "                                                 n_estimators=100,\n",
       "                                                 n_ite...\n",
       "                                                 random_state=None,\n",
       "                                                 subsample=1.0, tol=0.0001,\n",
       "                                                 validation_fraction=0.1,\n",
       "                                                 verbose=0, warm_start=False),\n",
       "             iid='warn', n_jobs=-1,\n",
       "             param_grid={'learning_rate': [0.1, 0.01, 0.001, 0.2, 0.0001],\n",
       "                         'max_depth': [3, 5, 8, 10, 20, 40, 50, 100, 200],\n",
       "                         'n_estimators': [200, 500, 1000, 2000],\n",
       "                         'subsample': [1, 0.75, 0.5]},\n",
       "             pre_dispatch='2*n_jobs', refit=True, return_train_score=False,\n",
       "             scoring=None, verbose=True)"
      ]
     },
     "execution_count": 153,
     "metadata": {},
     "output_type": "execute_result"
    }
   ],
   "source": [
    "gbm_model_cv.fit(X_train, y_train)"
   ]
  },
  {
   "cell_type": "code",
   "execution_count": 154,
   "metadata": {},
   "outputs": [
    {
     "data": {
      "text/plain": [
       "{'learning_rate': 0.2, 'max_depth': 3, 'n_estimators': 500, 'subsample': 0.5}"
      ]
     },
     "execution_count": 154,
     "metadata": {},
     "output_type": "execute_result"
    }
   ],
   "source": [
    "gbm_model_cv.best_params_"
   ]
  },
  {
   "cell_type": "code",
   "execution_count": 155,
   "metadata": {},
   "outputs": [],
   "source": [
    "best_params = gbm_model_cv.best_params_"
   ]
  },
  {
   "cell_type": "code",
   "execution_count": 172,
   "metadata": {},
   "outputs": [],
   "source": [
    "gbm_model_tuned = GradientBoostingRegressor(\n",
    "    learning_rate=best_params['learning_rate'],\n",
    "    max_depth=best_params['max_depth'],\n",
    "    n_estimators=best_params['n_estimators'],\n",
    "    subsample=best_params['subsample']\n",
    ").fit(X_train, y_train)"
   ]
  },
  {
   "cell_type": "code",
   "execution_count": 173,
   "metadata": {},
   "outputs": [],
   "source": [
    "y_pred = gbm_model_tuned.predict(X_test)"
   ]
  },
  {
   "cell_type": "code",
   "execution_count": 174,
   "metadata": {},
   "outputs": [
    {
     "data": {
      "text/plain": [
       "345.10370517486166"
      ]
     },
     "execution_count": 174,
     "metadata": {},
     "output_type": "execute_result"
    }
   ],
   "source": [
    "gbm_model_tuned_error = np.sqrt(mean_squared_error(y_test, y_pred))\n",
    "gbm_model_tuned_error"
   ]
  },
  {
   "cell_type": "code",
   "execution_count": null,
   "metadata": {},
   "outputs": [],
   "source": []
  },
  {
   "cell_type": "markdown",
   "metadata": {},
   "source": [
    "# XGBoost"
   ]
  },
  {
   "cell_type": "markdown",
   "metadata": {},
   "source": [
    "### Create model"
   ]
  },
  {
   "cell_type": "code",
   "execution_count": 7,
   "metadata": {},
   "outputs": [],
   "source": [
    "hitters = pd.read_csv('Hitters.csv')\n",
    "df = hitters.copy()\n",
    "df = df.dropna()\n",
    "dummies = pd.get_dummies(df[['League', 'NewLeague', 'Division']])\n",
    "y = df['Salary']\n",
    "X_ = df.drop(['Salary', 'League', 'NewLeague', 'Division'], axis=1).astype('float64')\n",
    "X = pd.concat([X_, dummies[['League_N', 'Division_W', 'NewLeague_N']]], axis=1)\n",
    "X_train, X_test, y_train, y_test = train_test_split(X, y, test_size=0.25, random_state=42)"
   ]
  },
  {
   "cell_type": "code",
   "execution_count": null,
   "metadata": {},
   "outputs": [
    {
     "name": "stdout",
     "output_type": "stream",
     "text": [
      "Collecting xgboost\n",
      "\u001b[?25l  Downloading https://files.pythonhosted.org/packages/96/84/4e2cae6247f397f83d8adc5c2a2a0c5d7d790a14a4c7400ff6574586f589/xgboost-0.90.tar.gz (676kB)\n",
      "\u001b[K    100% |████████████████████████████████| 686kB 1.8MB/s \n",
      "\u001b[?25hRequirement already satisfied: numpy in /anaconda3/lib/python3.7/site-packages (from xgboost) (1.16.2)\n",
      "Requirement already satisfied: scipy in /anaconda3/lib/python3.7/site-packages (from xgboost) (1.2.1)\n",
      "Building wheels for collected packages: xgboost\n",
      "  Building wheel for xgboost (setup.py) ... \u001b[?25l|"
     ]
    }
   ],
   "source": [
    "# !pip install xgboost"
   ]
  },
  {
   "cell_type": "code",
   "execution_count": 8,
   "metadata": {},
   "outputs": [],
   "source": [
    "import xgboost as xgb\n",
    "from xgboost import XGBRegressor"
   ]
  },
  {
   "cell_type": "code",
   "execution_count": 19,
   "metadata": {},
   "outputs": [
    {
     "name": "stdout",
     "output_type": "stream",
     "text": [
      "[14:47:55] WARNING: src/objective/regression_obj.cu:152: reg:linear is now deprecated in favor of reg:squarederror.\n"
     ]
    }
   ],
   "source": [
    "xgb_model = XGBRegressor().fit(X_train, y_train)"
   ]
  },
  {
   "cell_type": "code",
   "execution_count": 20,
   "metadata": {},
   "outputs": [],
   "source": [
    "y_pred = xgb_model.predict(X_test)"
   ]
  },
  {
   "cell_type": "code",
   "execution_count": 22,
   "metadata": {},
   "outputs": [
    {
     "data": {
      "text/plain": [
       "359.91750599447033"
      ]
     },
     "execution_count": 22,
     "metadata": {},
     "output_type": "execute_result"
    }
   ],
   "source": [
    "xgb_error = np.sqrt(mean_squared_error(y_test, y_pred))\n",
    "xgb_error"
   ]
  },
  {
   "cell_type": "code",
   "execution_count": 26,
   "metadata": {},
   "outputs": [],
   "source": [
    "xgb_params = {\n",
    "    'colsample_bytree': [0.3, 0.4, 0.5, 0.6, 0.7, 0.9, 1],\n",
    "    'n_estimators': [100, 200, 500, 1000],\n",
    "    'max_depth': [2,3,4,5,6],\n",
    "    'learning_rate': [0.1, 0.001, 0.0001, 0.5]\n",
    "}"
   ]
  },
  {
   "cell_type": "code",
   "execution_count": 27,
   "metadata": {},
   "outputs": [],
   "source": [
    "from sklearn.model_selection import GridSearchCV\n",
    "xgb_model_cv = GridSearchCV(xgb_model, xgb_params, cv=10, n_jobs=-1, verbose=1)"
   ]
  },
  {
   "cell_type": "code",
   "execution_count": 28,
   "metadata": {},
   "outputs": [
    {
     "name": "stdout",
     "output_type": "stream",
     "text": [
      "Fitting 10 folds for each of 560 candidates, totalling 5600 fits\n"
     ]
    },
    {
     "name": "stderr",
     "output_type": "stream",
     "text": [
      "[Parallel(n_jobs=-1)]: Using backend LokyBackend with 4 concurrent workers.\n",
      "[Parallel(n_jobs=-1)]: Done  42 tasks      | elapsed:    4.2s\n",
      "[Parallel(n_jobs=-1)]: Done 331 tasks      | elapsed:   16.9s\n",
      "[Parallel(n_jobs=-1)]: Done 831 tasks      | elapsed:   38.0s\n",
      "[Parallel(n_jobs=-1)]: Done 1531 tasks      | elapsed:  1.1min\n",
      "[Parallel(n_jobs=-1)]: Done 2431 tasks      | elapsed:  1.9min\n",
      "[Parallel(n_jobs=-1)]: Done 3473 tasks      | elapsed:  2.9min\n",
      "[Parallel(n_jobs=-1)]: Done 4362 tasks      | elapsed:  4.0min\n",
      "[Parallel(n_jobs=-1)]: Done 5115 tasks      | elapsed:  4.9min\n",
      "[Parallel(n_jobs=-1)]: Done 5600 out of 5600 | elapsed:  5.5min finished\n"
     ]
    },
    {
     "name": "stdout",
     "output_type": "stream",
     "text": [
      "[15:01:33] WARNING: src/objective/regression_obj.cu:152: reg:linear is now deprecated in favor of reg:squarederror.\n"
     ]
    },
    {
     "data": {
      "text/plain": [
       "GridSearchCV(cv=10, error_score='raise-deprecating',\n",
       "             estimator=XGBRegressor(base_score=0.5, booster='gbtree',\n",
       "                                    colsample_bylevel=1, colsample_bynode=1,\n",
       "                                    colsample_bytree=1, gamma=0,\n",
       "                                    importance_type='gain', learning_rate=0.1,\n",
       "                                    max_delta_step=0, max_depth=3,\n",
       "                                    min_child_weight=1, missing=None,\n",
       "                                    n_estimators=100, n_jobs=1, nthread=None,\n",
       "                                    objective='reg:linear', random_state=0,\n",
       "                                    reg_alpha=0, reg_lambda=1,\n",
       "                                    scale_pos_weight=1, seed=None, silent=None,\n",
       "                                    subsample=1, verbosity=1),\n",
       "             iid='warn', n_jobs=-1,\n",
       "             param_grid={'colsample_bytree': [0.3, 0.4, 0.5, 0.6, 0.7, 0.9, 1],\n",
       "                         'learning_rate': [0.1, 0.001, 0.0001, 0.5],\n",
       "                         'max_depth': [2, 3, 4, 5, 6],\n",
       "                         'n_estimators': [100, 200, 500, 1000]},\n",
       "             pre_dispatch='2*n_jobs', refit=True, return_train_score=False,\n",
       "             scoring=None, verbose=1)"
      ]
     },
     "execution_count": 28,
     "metadata": {},
     "output_type": "execute_result"
    }
   ],
   "source": [
    "xgb_model_cv.fit(X_train, y_train)"
   ]
  },
  {
   "cell_type": "code",
   "execution_count": 29,
   "metadata": {},
   "outputs": [
    {
     "data": {
      "text/plain": [
       "{'colsample_bytree': 0.5,\n",
       " 'learning_rate': 0.1,\n",
       " 'max_depth': 2,\n",
       " 'n_estimators': 1000}"
      ]
     },
     "execution_count": 29,
     "metadata": {},
     "output_type": "execute_result"
    }
   ],
   "source": [
    "xgb_model_cv.best_params_"
   ]
  },
  {
   "cell_type": "code",
   "execution_count": 48,
   "metadata": {},
   "outputs": [
    {
     "name": "stdout",
     "output_type": "stream",
     "text": [
      "[15:05:17] WARNING: src/objective/regression_obj.cu:152: reg:linear is now deprecated in favor of reg:squarederror.\n"
     ]
    }
   ],
   "source": [
    "xgb_model_tuned = XGBRegressor(\n",
    "    colsample_bytree=0.5,\n",
    "    learning_rate=0.01,\n",
    "    max_depth=2,\n",
    "    n_estimators=1000\n",
    ").fit(X_train,y_train)"
   ]
  },
  {
   "cell_type": "code",
   "execution_count": 49,
   "metadata": {},
   "outputs": [],
   "source": [
    "y_pred = xgb_model_tuned.predict(X_test)"
   ]
  },
  {
   "cell_type": "code",
   "execution_count": 50,
   "metadata": {},
   "outputs": [
    {
     "data": {
      "text/plain": [
       "350.90539627458753"
      ]
     },
     "execution_count": 50,
     "metadata": {},
     "output_type": "execute_result"
    }
   ],
   "source": [
    "xgb_tuned_error = np.sqrt(mean_squared_error(y_test, y_pred))\n",
    "xgb_tuned_error"
   ]
  },
  {
   "cell_type": "code",
   "execution_count": null,
   "metadata": {},
   "outputs": [],
   "source": []
  },
  {
   "cell_type": "markdown",
   "metadata": {},
   "source": [
    "# LightGBM"
   ]
  },
  {
   "cell_type": "markdown",
   "metadata": {},
   "source": [
    "### Create model"
   ]
  },
  {
   "cell_type": "code",
   "execution_count": 2,
   "metadata": {},
   "outputs": [],
   "source": [
    "hitters = pd.read_csv('Hitters.csv')\n",
    "df = hitters.copy()\n",
    "df = df.dropna()\n",
    "dummies = pd.get_dummies(df[['League', 'NewLeague', 'Division']])\n",
    "y = df['Salary']\n",
    "X_ = df.drop(['Salary', 'League', 'NewLeague', 'Division'], axis=1).astype('float64')\n",
    "X = pd.concat([X_, dummies[['League_N', 'Division_W', 'NewLeague_N']]], axis=1)\n",
    "X_train, X_test, y_train, y_test = train_test_split(X, y, test_size=0.25, random_state=42)"
   ]
  },
  {
   "cell_type": "code",
   "execution_count": 53,
   "metadata": {},
   "outputs": [],
   "source": [
    "#!pip install lightgbm"
   ]
  },
  {
   "cell_type": "code",
   "execution_count": 52,
   "metadata": {},
   "outputs": [
    {
     "ename": "OSError",
     "evalue": "dlopen(/anaconda3/lib/python3.7/site-packages/lightgbm/lib_lightgbm.so, 6): Library not loaded: /usr/local/opt/libomp/lib/libomp.dylib\n  Referenced from: /anaconda3/lib/python3.7/site-packages/lightgbm/lib_lightgbm.so\n  Reason: image not found",
     "output_type": "error",
     "traceback": [
      "\u001b[0;31m---------------------------------------------------------------------------\u001b[0m",
      "\u001b[0;31mOSError\u001b[0m                                   Traceback (most recent call last)",
      "\u001b[0;32m<ipython-input-52-237e8b2a5f63>\u001b[0m in \u001b[0;36m<module>\u001b[0;34m\u001b[0m\n\u001b[0;32m----> 1\u001b[0;31m \u001b[0;32mfrom\u001b[0m \u001b[0mlightgbm\u001b[0m \u001b[0;32mimport\u001b[0m \u001b[0mLGBMRegressor\u001b[0m\u001b[0;34m\u001b[0m\u001b[0;34m\u001b[0m\u001b[0m\n\u001b[0m",
      "\u001b[0;32m/anaconda3/lib/python3.7/site-packages/lightgbm/__init__.py\u001b[0m in \u001b[0;36m<module>\u001b[0;34m\u001b[0m\n\u001b[1;32m      6\u001b[0m \u001b[0;32mfrom\u001b[0m \u001b[0m__future__\u001b[0m \u001b[0;32mimport\u001b[0m \u001b[0mabsolute_import\u001b[0m\u001b[0;34m\u001b[0m\u001b[0;34m\u001b[0m\u001b[0m\n\u001b[1;32m      7\u001b[0m \u001b[0;34m\u001b[0m\u001b[0m\n\u001b[0;32m----> 8\u001b[0;31m \u001b[0;32mfrom\u001b[0m \u001b[0;34m.\u001b[0m\u001b[0mbasic\u001b[0m \u001b[0;32mimport\u001b[0m \u001b[0mBooster\u001b[0m\u001b[0;34m,\u001b[0m \u001b[0mDataset\u001b[0m\u001b[0;34m\u001b[0m\u001b[0;34m\u001b[0m\u001b[0m\n\u001b[0m\u001b[1;32m      9\u001b[0m from .callback import (early_stopping, print_evaluation, record_evaluation,\n\u001b[1;32m     10\u001b[0m                        reset_parameter)\n",
      "\u001b[0;32m/anaconda3/lib/python3.7/site-packages/lightgbm/basic.py\u001b[0m in \u001b[0;36m<module>\u001b[0;34m\u001b[0m\n\u001b[1;32m     32\u001b[0m \u001b[0;34m\u001b[0m\u001b[0m\n\u001b[1;32m     33\u001b[0m \u001b[0;34m\u001b[0m\u001b[0m\n\u001b[0;32m---> 34\u001b[0;31m \u001b[0m_LIB\u001b[0m \u001b[0;34m=\u001b[0m \u001b[0m_load_lib\u001b[0m\u001b[0;34m(\u001b[0m\u001b[0;34m)\u001b[0m\u001b[0;34m\u001b[0m\u001b[0;34m\u001b[0m\u001b[0m\n\u001b[0m\u001b[1;32m     35\u001b[0m \u001b[0;34m\u001b[0m\u001b[0m\n\u001b[1;32m     36\u001b[0m \u001b[0;34m\u001b[0m\u001b[0m\n",
      "\u001b[0;32m/anaconda3/lib/python3.7/site-packages/lightgbm/basic.py\u001b[0m in \u001b[0;36m_load_lib\u001b[0;34m()\u001b[0m\n\u001b[1;32m     27\u001b[0m     \u001b[0;32mif\u001b[0m \u001b[0mlen\u001b[0m\u001b[0;34m(\u001b[0m\u001b[0mlib_path\u001b[0m\u001b[0;34m)\u001b[0m \u001b[0;34m==\u001b[0m \u001b[0;36m0\u001b[0m\u001b[0;34m:\u001b[0m\u001b[0;34m\u001b[0m\u001b[0;34m\u001b[0m\u001b[0m\n\u001b[1;32m     28\u001b[0m         \u001b[0;32mreturn\u001b[0m \u001b[0;32mNone\u001b[0m\u001b[0;34m\u001b[0m\u001b[0;34m\u001b[0m\u001b[0m\n\u001b[0;32m---> 29\u001b[0;31m     \u001b[0mlib\u001b[0m \u001b[0;34m=\u001b[0m \u001b[0mctypes\u001b[0m\u001b[0;34m.\u001b[0m\u001b[0mcdll\u001b[0m\u001b[0;34m.\u001b[0m\u001b[0mLoadLibrary\u001b[0m\u001b[0;34m(\u001b[0m\u001b[0mlib_path\u001b[0m\u001b[0;34m[\u001b[0m\u001b[0;36m0\u001b[0m\u001b[0;34m]\u001b[0m\u001b[0;34m)\u001b[0m\u001b[0;34m\u001b[0m\u001b[0;34m\u001b[0m\u001b[0m\n\u001b[0m\u001b[1;32m     30\u001b[0m     \u001b[0mlib\u001b[0m\u001b[0;34m.\u001b[0m\u001b[0mLGBM_GetLastError\u001b[0m\u001b[0;34m.\u001b[0m\u001b[0mrestype\u001b[0m \u001b[0;34m=\u001b[0m \u001b[0mctypes\u001b[0m\u001b[0;34m.\u001b[0m\u001b[0mc_char_p\u001b[0m\u001b[0;34m\u001b[0m\u001b[0;34m\u001b[0m\u001b[0m\n\u001b[1;32m     31\u001b[0m     \u001b[0;32mreturn\u001b[0m \u001b[0mlib\u001b[0m\u001b[0;34m\u001b[0m\u001b[0;34m\u001b[0m\u001b[0m\n",
      "\u001b[0;32m/anaconda3/lib/python3.7/ctypes/__init__.py\u001b[0m in \u001b[0;36mLoadLibrary\u001b[0;34m(self, name)\u001b[0m\n\u001b[1;32m    432\u001b[0m \u001b[0;34m\u001b[0m\u001b[0m\n\u001b[1;32m    433\u001b[0m     \u001b[0;32mdef\u001b[0m \u001b[0mLoadLibrary\u001b[0m\u001b[0;34m(\u001b[0m\u001b[0mself\u001b[0m\u001b[0;34m,\u001b[0m \u001b[0mname\u001b[0m\u001b[0;34m)\u001b[0m\u001b[0;34m:\u001b[0m\u001b[0;34m\u001b[0m\u001b[0;34m\u001b[0m\u001b[0m\n\u001b[0;32m--> 434\u001b[0;31m         \u001b[0;32mreturn\u001b[0m \u001b[0mself\u001b[0m\u001b[0;34m.\u001b[0m\u001b[0m_dlltype\u001b[0m\u001b[0;34m(\u001b[0m\u001b[0mname\u001b[0m\u001b[0;34m)\u001b[0m\u001b[0;34m\u001b[0m\u001b[0;34m\u001b[0m\u001b[0m\n\u001b[0m\u001b[1;32m    435\u001b[0m \u001b[0;34m\u001b[0m\u001b[0m\n\u001b[1;32m    436\u001b[0m \u001b[0mcdll\u001b[0m \u001b[0;34m=\u001b[0m \u001b[0mLibraryLoader\u001b[0m\u001b[0;34m(\u001b[0m\u001b[0mCDLL\u001b[0m\u001b[0;34m)\u001b[0m\u001b[0;34m\u001b[0m\u001b[0;34m\u001b[0m\u001b[0m\n",
      "\u001b[0;32m/anaconda3/lib/python3.7/ctypes/__init__.py\u001b[0m in \u001b[0;36m__init__\u001b[0;34m(self, name, mode, handle, use_errno, use_last_error)\u001b[0m\n\u001b[1;32m    354\u001b[0m \u001b[0;34m\u001b[0m\u001b[0m\n\u001b[1;32m    355\u001b[0m         \u001b[0;32mif\u001b[0m \u001b[0mhandle\u001b[0m \u001b[0;32mis\u001b[0m \u001b[0;32mNone\u001b[0m\u001b[0;34m:\u001b[0m\u001b[0;34m\u001b[0m\u001b[0;34m\u001b[0m\u001b[0m\n\u001b[0;32m--> 356\u001b[0;31m             \u001b[0mself\u001b[0m\u001b[0;34m.\u001b[0m\u001b[0m_handle\u001b[0m \u001b[0;34m=\u001b[0m \u001b[0m_dlopen\u001b[0m\u001b[0;34m(\u001b[0m\u001b[0mself\u001b[0m\u001b[0;34m.\u001b[0m\u001b[0m_name\u001b[0m\u001b[0;34m,\u001b[0m \u001b[0mmode\u001b[0m\u001b[0;34m)\u001b[0m\u001b[0;34m\u001b[0m\u001b[0;34m\u001b[0m\u001b[0m\n\u001b[0m\u001b[1;32m    357\u001b[0m         \u001b[0;32melse\u001b[0m\u001b[0;34m:\u001b[0m\u001b[0;34m\u001b[0m\u001b[0;34m\u001b[0m\u001b[0m\n\u001b[1;32m    358\u001b[0m             \u001b[0mself\u001b[0m\u001b[0;34m.\u001b[0m\u001b[0m_handle\u001b[0m \u001b[0;34m=\u001b[0m \u001b[0mhandle\u001b[0m\u001b[0;34m\u001b[0m\u001b[0;34m\u001b[0m\u001b[0m\n",
      "\u001b[0;31mOSError\u001b[0m: dlopen(/anaconda3/lib/python3.7/site-packages/lightgbm/lib_lightgbm.so, 6): Library not loaded: /usr/local/opt/libomp/lib/libomp.dylib\n  Referenced from: /anaconda3/lib/python3.7/site-packages/lightgbm/lib_lightgbm.so\n  Reason: image not found"
     ]
    }
   ],
   "source": [
    "from lightgbm import LGBMRegressor"
   ]
  },
  {
   "cell_type": "code",
   "execution_count": 4,
   "metadata": {},
   "outputs": [
    {
     "name": "stdout",
     "output_type": "stream",
     "text": [
      "WARNING conda.base.context:use_only_tar_bz2(632): Conda is constrained to only using the old .tar.bz2 file format because you have conda-build installed, and it is <3.18.3.  Update or remove conda-build to get smaller downloads and faster extractions.\n",
      "Collecting package metadata (repodata.json): done\n",
      "Solving environment: done\n",
      "WARNING conda.core.package_cache_data:_make_single_record(350): Encountered corrupt package tarball at /anaconda3/pkgs/clangdev-4.0.0-default_0.tar.bz2. Conda has removed it, but you need to re-run conda to download it again.\n",
      "\n",
      "## Package Plan ##\n",
      "\n",
      "  environment location: /anaconda3\n",
      "\n",
      "  added / updated specs:\n",
      "    - lightgbm\n",
      "\n",
      "\n",
      "The following packages will be downloaded:\n",
      "\n",
      "    package                    |            build\n",
      "    ---------------------------|-----------------\n",
      "    clangdev-4.0.0             |        default_0        62.8 MB  conda-forge\n",
      "    conda-4.7.11               |           py37_0         3.0 MB  conda-forge\n",
      "    lightgbm-2.2.3             |   py37h0a44026_0         645 KB  conda-forge\n",
      "    llvmdev-4.0.0              |        default_0       100.9 MB  conda-forge\n",
      "    openmp-4.0.0               |                1         195 KB  conda-forge\n",
      "    ------------------------------------------------------------\n",
      "                                           Total:       167.5 MB\n",
      "\n",
      "The following NEW packages will be INSTALLED:\n",
      "\n",
      "  clangdev           conda-forge/osx-64::clangdev-4.0.0-default_0\n",
      "  lightgbm           conda-forge/osx-64::lightgbm-2.2.3-py37h0a44026_0\n",
      "  llvmdev            conda-forge/osx-64::llvmdev-4.0.0-default_0\n",
      "  openmp             conda-forge/osx-64::openmp-4.0.0-1\n",
      "\n",
      "The following packages will be UPDATED:\n",
      "\n",
      "  conda                                        4.7.5-py37_0 --> 4.7.11-py37_0\n",
      "\n",
      "\n",
      "\n",
      "Downloading and Extracting Packages\n",
      "openmp-4.0.0         | 195 KB    | ##################################### | 100% \n",
      "lightgbm-2.2.3       | 645 KB    | ##################################### | 100% \n",
      "clangdev-4.0.0       | 62.8 MB   | ##################################### | 100% \n",
      "conda-4.7.11         | 3.0 MB    | ##################################### | 100% \n",
      "llvmdev-4.0.0        | 100.9 MB  | ##################################### | 100% \n",
      "Preparing transaction: done\n",
      "Verifying transaction: done\n",
      "Executing transaction: done\n",
      "\n",
      "Note: you may need to restart the kernel to use updated packages.\n"
     ]
    }
   ],
   "source": [
    "# conda install -c conda-forge lightgbm"
   ]
  },
  {
   "cell_type": "code",
   "execution_count": 3,
   "metadata": {},
   "outputs": [],
   "source": [
    "from lightgbm import LGBMRegressor"
   ]
  },
  {
   "cell_type": "code",
   "execution_count": 5,
   "metadata": {},
   "outputs": [],
   "source": [
    "lgbm_model = LGBMRegressor().fit(X_train, y_train)"
   ]
  },
  {
   "cell_type": "code",
   "execution_count": 12,
   "metadata": {},
   "outputs": [],
   "source": [
    "y_pred = lgbm_model.predict(X_test, num_iteration=lgbm_model.best_iteration_)"
   ]
  },
  {
   "cell_type": "code",
   "execution_count": 13,
   "metadata": {},
   "outputs": [
    {
     "data": {
      "text/plain": [
       "363.8712087611089"
      ]
     },
     "execution_count": 13,
     "metadata": {},
     "output_type": "execute_result"
    }
   ],
   "source": [
    "lgbm_error = np.sqrt(mean_squared_error(y_test, y_pred))\n",
    "lgbm_error"
   ]
  },
  {
   "cell_type": "code",
   "execution_count": null,
   "metadata": {},
   "outputs": [],
   "source": []
  },
  {
   "cell_type": "markdown",
   "metadata": {},
   "source": [
    "# Model tuning"
   ]
  },
  {
   "cell_type": "code",
   "execution_count": 15,
   "metadata": {},
   "outputs": [],
   "source": [
    "lgbm_params = {\n",
    "    'colsample_bytree': [0.3, 0.4, 0.5, 0.6, 0.7, 0.9, 1],\n",
    "    'n_estimators': [100, 200, 500, 1000, 2000],\n",
    "    'max_depth': [2,3,4,5,6, 7, 8],\n",
    "    'learning_rate': [0.1, 0.01, 0.001, 0.0001, 0.5]\n",
    "}"
   ]
  },
  {
   "cell_type": "code",
   "execution_count": 17,
   "metadata": {},
   "outputs": [],
   "source": [
    "from sklearn.model_selection import GridSearchCV\n",
    "lgbm_model_cv = GridSearchCV(lgbm_model, lgbm_params, cv=10, n_jobs=-1, verbose=True)"
   ]
  },
  {
   "cell_type": "code",
   "execution_count": 18,
   "metadata": {},
   "outputs": [
    {
     "name": "stdout",
     "output_type": "stream",
     "text": [
      "Fitting 10 folds for each of 1225 candidates, totalling 12250 fits\n"
     ]
    },
    {
     "name": "stderr",
     "output_type": "stream",
     "text": [
      "[Parallel(n_jobs=-1)]: Using backend LokyBackend with 4 concurrent workers.\n",
      "[Parallel(n_jobs=-1)]: Done  52 tasks      | elapsed:    4.0s\n",
      "[Parallel(n_jobs=-1)]: Done 352 tasks      | elapsed:   17.3s\n",
      "[Parallel(n_jobs=-1)]: Done 852 tasks      | elapsed:   37.7s\n",
      "[Parallel(n_jobs=-1)]: Done 1552 tasks      | elapsed:  1.0min\n",
      "[Parallel(n_jobs=-1)]: Done 2452 tasks      | elapsed:  1.7min\n",
      "[Parallel(n_jobs=-1)]: Done 3552 tasks      | elapsed:  2.5min\n",
      "[Parallel(n_jobs=-1)]: Done 4852 tasks      | elapsed:  3.4min\n",
      "[Parallel(n_jobs=-1)]: Done 6352 tasks      | elapsed:  4.5min\n",
      "[Parallel(n_jobs=-1)]: Done 8040 tasks      | elapsed:  5.9min\n",
      "[Parallel(n_jobs=-1)]: Done 9940 tasks      | elapsed:  7.4min\n",
      "[Parallel(n_jobs=-1)]: Done 12040 tasks      | elapsed:  9.1min\n",
      "[Parallel(n_jobs=-1)]: Done 12250 out of 12250 | elapsed:  9.3min finished\n"
     ]
    },
    {
     "data": {
      "text/plain": [
       "GridSearchCV(cv=10, error_score='raise-deprecating',\n",
       "             estimator=LGBMRegressor(boosting_type='gbdt', class_weight=None,\n",
       "                                     colsample_bytree=1.0,\n",
       "                                     importance_type='split', learning_rate=0.1,\n",
       "                                     max_depth=-1, min_child_samples=20,\n",
       "                                     min_child_weight=0.001, min_split_gain=0.0,\n",
       "                                     n_estimators=100, n_jobs=-1, num_leaves=31,\n",
       "                                     objective=None, random_state=None,\n",
       "                                     reg_alpha=0.0, reg_lambda=0.0, silent=True,\n",
       "                                     subsample=1.0, subsample_for_bin=200000,\n",
       "                                     subsample_freq=0),\n",
       "             iid='warn', n_jobs=-1,\n",
       "             param_grid={'colsample_bytree': [0.3, 0.4, 0.5, 0.6, 0.7, 0.9, 1],\n",
       "                         'learning_rate': [0.1, 0.01, 0.001, 0.0001, 0.5],\n",
       "                         'max_depth': [2, 3, 4, 5, 6, 7, 8],\n",
       "                         'n_estimators': [100, 200, 500, 1000, 2000]},\n",
       "             pre_dispatch='2*n_jobs', refit=True, return_train_score=False,\n",
       "             scoring=None, verbose=True)"
      ]
     },
     "execution_count": 18,
     "metadata": {},
     "output_type": "execute_result"
    }
   ],
   "source": [
    "lgbm_model_cv.fit(X_train, y_train)"
   ]
  },
  {
   "cell_type": "code",
   "execution_count": 19,
   "metadata": {},
   "outputs": [
    {
     "data": {
      "text/plain": [
       "{'colsample_bytree': 0.4,\n",
       " 'learning_rate': 0.01,\n",
       " 'max_depth': 4,\n",
       " 'n_estimators': 200}"
      ]
     },
     "execution_count": 19,
     "metadata": {},
     "output_type": "execute_result"
    }
   ],
   "source": [
    "lgbm_model_cv.best_params_"
   ]
  },
  {
   "cell_type": "code",
   "execution_count": 41,
   "metadata": {},
   "outputs": [],
   "source": [
    "lgbm_model_tuned = LGBMRegressor(\n",
    "    colsample_bytree=0.4,\n",
    "    learning_rate=0.01,\n",
    "    max_depth=4,\n",
    "    n_estimators=200\n",
    ").fit(X_train, y_train)"
   ]
  },
  {
   "cell_type": "code",
   "execution_count": 42,
   "metadata": {},
   "outputs": [],
   "source": [
    "y_pred = lgbm_model_tuned.predict(X_test)"
   ]
  },
  {
   "cell_type": "code",
   "execution_count": 43,
   "metadata": {},
   "outputs": [
    {
     "data": {
      "text/plain": [
       "374.4807740101549"
      ]
     },
     "execution_count": 43,
     "metadata": {},
     "output_type": "execute_result"
    }
   ],
   "source": [
    "lgbm_tuned_error = np.sqrt(mean_squared_error(y_test, y_pred))\n",
    "lgbm_tuned_error"
   ]
  },
  {
   "cell_type": "code",
   "execution_count": null,
   "metadata": {},
   "outputs": [],
   "source": []
  },
  {
   "cell_type": "markdown",
   "metadata": {},
   "source": [
    "# CatBoost"
   ]
  },
  {
   "cell_type": "markdown",
   "metadata": {},
   "source": [
    "### Create model"
   ]
  },
  {
   "cell_type": "code",
   "execution_count": 44,
   "metadata": {},
   "outputs": [],
   "source": [
    "hitters = pd.read_csv('Hitters.csv')\n",
    "df = hitters.copy()\n",
    "df = df.dropna()\n",
    "dummies = pd.get_dummies(df[['League', 'NewLeague', 'Division']])\n",
    "y = df['Salary']\n",
    "X_ = df.drop(['Salary', 'League', 'NewLeague', 'Division'], axis=1).astype('float64')\n",
    "X = pd.concat([X_, dummies[['League_N', 'Division_W', 'NewLeague_N']]], axis=1)\n",
    "X_train, X_test, y_train, y_test = train_test_split(X, y, test_size=0.25, random_state=42)"
   ]
  },
  {
   "cell_type": "code",
   "execution_count": 45,
   "metadata": {},
   "outputs": [
    {
     "name": "stdout",
     "output_type": "stream",
     "text": [
      "Collecting catboost\n",
      "\u001b[?25l  Downloading https://files.pythonhosted.org/packages/4f/bd/7cbd09fe181733f5bc53ab0523d0bfeb66991519e430bc4d8eb792673b55/catboost-0.16.2-cp37-none-macosx_10_6_intel.macosx_10_9_intel.macosx_10_9_x86_64.macosx_10_10_intel.macosx_10_10_x86_64.whl (8.8MB)\n",
      "\u001b[K    100% |████████████████████████████████| 8.8MB 627kB/s \n",
      "\u001b[?25hRequirement already satisfied: numpy>=1.16.0 in /anaconda3/lib/python3.7/site-packages (from catboost) (1.16.2)\n",
      "Requirement already satisfied: six in /anaconda3/lib/python3.7/site-packages (from catboost) (1.12.0)\n",
      "Requirement already satisfied: matplotlib in /anaconda3/lib/python3.7/site-packages (from catboost) (3.0.3)\n",
      "Requirement already satisfied: graphviz in /anaconda3/lib/python3.7/site-packages (from catboost) (0.11.1)\n",
      "Collecting plotly (from catboost)\n",
      "\u001b[?25l  Downloading https://files.pythonhosted.org/packages/63/2b/4ca10995bfbdefd65c4238f9a2d3fde33705d18dd50914dd13302ec1daf1/plotly-4.1.0-py2.py3-none-any.whl (7.1MB)\n",
      "\u001b[K    100% |████████████████████████████████| 7.1MB 551kB/s \n",
      "\u001b[?25hRequirement already satisfied: pandas>=0.19.1 in /anaconda3/lib/python3.7/site-packages (from catboost) (0.24.2)\n",
      "Requirement already satisfied: cycler>=0.10 in /anaconda3/lib/python3.7/site-packages (from matplotlib->catboost) (0.10.0)\n",
      "Requirement already satisfied: kiwisolver>=1.0.1 in /anaconda3/lib/python3.7/site-packages (from matplotlib->catboost) (1.0.1)\n",
      "Requirement already satisfied: pyparsing!=2.0.4,!=2.1.2,!=2.1.6,>=2.0.1 in /anaconda3/lib/python3.7/site-packages (from matplotlib->catboost) (2.3.1)\n",
      "Requirement already satisfied: python-dateutil>=2.1 in /anaconda3/lib/python3.7/site-packages (from matplotlib->catboost) (2.8.0)\n",
      "Collecting retrying>=1.3.3 (from plotly->catboost)\n",
      "  Downloading https://files.pythonhosted.org/packages/44/ef/beae4b4ef80902f22e3af073397f079c96969c69b2c7d52a57ea9ae61c9d/retrying-1.3.3.tar.gz\n",
      "Requirement already satisfied: pytz>=2011k in /anaconda3/lib/python3.7/site-packages (from pandas>=0.19.1->catboost) (2018.9)\n",
      "Requirement already satisfied: setuptools in /anaconda3/lib/python3.7/site-packages (from kiwisolver>=1.0.1->matplotlib->catboost) (40.8.0)\n",
      "Building wheels for collected packages: retrying\n",
      "  Building wheel for retrying (setup.py) ... \u001b[?25ldone\n",
      "\u001b[?25h  Stored in directory: /Users/fatihtasdemir/Library/Caches/pip/wheels/d7/a9/33/acc7b709e2a35caa7d4cae442f6fe6fbf2c43f80823d46460c\n",
      "Successfully built retrying\n",
      "Installing collected packages: retrying, plotly, catboost\n",
      "Successfully installed catboost-0.16.2 plotly-4.1.0 retrying-1.3.3\n"
     ]
    }
   ],
   "source": [
    "!pip install catboost"
   ]
  },
  {
   "cell_type": "code",
   "execution_count": 46,
   "metadata": {},
   "outputs": [],
   "source": [
    "from catboost import CatBoostRegressor"
   ]
  },
  {
   "cell_type": "code",
   "execution_count": 48,
   "metadata": {},
   "outputs": [],
   "source": [
    "cb_model = CatBoostRegressor()"
   ]
  },
  {
   "cell_type": "code",
   "execution_count": 50,
   "metadata": {},
   "outputs": [
    {
     "name": "stdout",
     "output_type": "stream",
     "text": [
      "0:\tlearn: 686.2351167\ttotal: 88.5ms\tremaining: 1m 28s\n",
      "1:\tlearn: 671.7599381\ttotal: 99.8ms\tremaining: 49.8s\n",
      "2:\tlearn: 657.1239780\ttotal: 114ms\tremaining: 37.7s\n",
      "3:\tlearn: 642.9998682\ttotal: 123ms\tremaining: 30.5s\n",
      "4:\tlearn: 629.3138969\ttotal: 129ms\tremaining: 25.8s\n",
      "5:\tlearn: 617.1061810\ttotal: 135ms\tremaining: 22.4s\n",
      "6:\tlearn: 605.0849481\ttotal: 142ms\tremaining: 20.1s\n",
      "7:\tlearn: 592.9415155\ttotal: 148ms\tremaining: 18.3s\n",
      "8:\tlearn: 581.2389124\ttotal: 154ms\tremaining: 16.9s\n",
      "9:\tlearn: 570.5121852\ttotal: 163ms\tremaining: 16.2s\n",
      "10:\tlearn: 558.9986321\ttotal: 168ms\tremaining: 15.1s\n",
      "11:\tlearn: 548.5626983\ttotal: 174ms\tremaining: 14.3s\n",
      "12:\tlearn: 538.3997512\ttotal: 181ms\tremaining: 13.7s\n",
      "13:\tlearn: 528.4630274\ttotal: 187ms\tremaining: 13.2s\n",
      "14:\tlearn: 519.0707472\ttotal: 193ms\tremaining: 12.7s\n",
      "15:\tlearn: 510.0098430\ttotal: 204ms\tremaining: 12.5s\n",
      "16:\tlearn: 500.5200699\ttotal: 214ms\tremaining: 12.4s\n",
      "17:\tlearn: 491.1284764\ttotal: 222ms\tremaining: 12.1s\n",
      "18:\tlearn: 482.9560161\ttotal: 229ms\tremaining: 11.8s\n",
      "19:\tlearn: 474.1639738\ttotal: 233ms\tremaining: 11.4s\n",
      "20:\tlearn: 466.5595417\ttotal: 238ms\tremaining: 11.1s\n",
      "21:\tlearn: 458.1795057\ttotal: 245ms\tremaining: 10.9s\n",
      "22:\tlearn: 450.3925630\ttotal: 248ms\tremaining: 10.6s\n",
      "23:\tlearn: 443.0889683\ttotal: 254ms\tremaining: 10.3s\n",
      "24:\tlearn: 435.8604478\ttotal: 260ms\tremaining: 10.1s\n",
      "25:\tlearn: 429.3290133\ttotal: 263ms\tremaining: 9.83s\n",
      "26:\tlearn: 422.0066143\ttotal: 268ms\tremaining: 9.67s\n",
      "27:\tlearn: 414.9548814\ttotal: 273ms\tremaining: 9.47s\n",
      "28:\tlearn: 408.4325959\ttotal: 278ms\tremaining: 9.32s\n",
      "29:\tlearn: 402.2130489\ttotal: 288ms\tremaining: 9.3s\n",
      "30:\tlearn: 395.9631365\ttotal: 297ms\tremaining: 9.28s\n",
      "31:\tlearn: 389.9851119\ttotal: 307ms\tremaining: 9.28s\n",
      "32:\tlearn: 384.1194904\ttotal: 315ms\tremaining: 9.24s\n",
      "33:\tlearn: 378.7561123\ttotal: 321ms\tremaining: 9.13s\n",
      "34:\tlearn: 373.4568600\ttotal: 328ms\tremaining: 9.03s\n",
      "35:\tlearn: 368.3878265\ttotal: 334ms\tremaining: 8.94s\n",
      "36:\tlearn: 363.2991955\ttotal: 339ms\tremaining: 8.82s\n",
      "37:\tlearn: 358.5901244\ttotal: 344ms\tremaining: 8.72s\n",
      "38:\tlearn: 354.4010629\ttotal: 350ms\tremaining: 8.61s\n",
      "39:\tlearn: 350.2813602\ttotal: 354ms\tremaining: 8.51s\n",
      "40:\tlearn: 345.7745046\ttotal: 360ms\tremaining: 8.42s\n",
      "41:\tlearn: 341.7011412\ttotal: 366ms\tremaining: 8.35s\n",
      "42:\tlearn: 337.5010990\ttotal: 370ms\tremaining: 8.24s\n",
      "43:\tlearn: 333.7740171\ttotal: 375ms\tremaining: 8.15s\n",
      "44:\tlearn: 330.1128983\ttotal: 379ms\tremaining: 8.04s\n",
      "45:\tlearn: 326.5424652\ttotal: 384ms\tremaining: 7.97s\n",
      "46:\tlearn: 323.1176176\ttotal: 390ms\tremaining: 7.91s\n",
      "47:\tlearn: 319.8259230\ttotal: 394ms\tremaining: 7.81s\n",
      "48:\tlearn: 316.4250301\ttotal: 401ms\tremaining: 7.78s\n",
      "49:\tlearn: 313.6158596\ttotal: 407ms\tremaining: 7.73s\n",
      "50:\tlearn: 310.2560357\ttotal: 412ms\tremaining: 7.67s\n",
      "51:\tlearn: 307.2134670\ttotal: 417ms\tremaining: 7.59s\n",
      "52:\tlearn: 304.6381780\ttotal: 424ms\tremaining: 7.58s\n",
      "53:\tlearn: 301.8765917\ttotal: 430ms\tremaining: 7.54s\n",
      "54:\tlearn: 299.0606273\ttotal: 437ms\tremaining: 7.51s\n",
      "55:\tlearn: 296.3920954\ttotal: 441ms\tremaining: 7.43s\n",
      "56:\tlearn: 294.1307984\ttotal: 446ms\tremaining: 7.38s\n",
      "57:\tlearn: 291.9832288\ttotal: 452ms\tremaining: 7.34s\n",
      "58:\tlearn: 290.3136780\ttotal: 453ms\tremaining: 7.23s\n",
      "59:\tlearn: 288.1530393\ttotal: 459ms\tremaining: 7.19s\n",
      "60:\tlearn: 285.4165321\ttotal: 463ms\tremaining: 7.12s\n",
      "61:\tlearn: 282.8351653\ttotal: 468ms\tremaining: 7.08s\n",
      "62:\tlearn: 280.8831189\ttotal: 472ms\tremaining: 7.01s\n",
      "63:\tlearn: 278.8884058\ttotal: 477ms\tremaining: 6.97s\n",
      "64:\tlearn: 276.6307384\ttotal: 486ms\tremaining: 6.99s\n",
      "65:\tlearn: 274.1337351\ttotal: 495ms\tremaining: 7s\n",
      "66:\tlearn: 272.5007011\ttotal: 506ms\tremaining: 7.05s\n",
      "67:\tlearn: 270.6994763\ttotal: 513ms\tremaining: 7.04s\n",
      "68:\tlearn: 269.3217268\ttotal: 530ms\tremaining: 7.15s\n",
      "69:\tlearn: 267.9747847\ttotal: 537ms\tremaining: 7.13s\n",
      "70:\tlearn: 266.2679396\ttotal: 548ms\tremaining: 7.17s\n",
      "71:\tlearn: 264.5468091\ttotal: 559ms\tremaining: 7.21s\n",
      "72:\tlearn: 262.9707829\ttotal: 563ms\tremaining: 7.15s\n",
      "73:\tlearn: 261.2079757\ttotal: 570ms\tremaining: 7.13s\n",
      "74:\tlearn: 259.8210468\ttotal: 580ms\tremaining: 7.15s\n",
      "75:\tlearn: 258.3580542\ttotal: 591ms\tremaining: 7.18s\n",
      "76:\tlearn: 257.1632475\ttotal: 595ms\tremaining: 7.13s\n",
      "77:\tlearn: 256.0045653\ttotal: 602ms\tremaining: 7.11s\n",
      "78:\tlearn: 254.8483226\ttotal: 612ms\tremaining: 7.13s\n",
      "79:\tlearn: 252.8853197\ttotal: 622ms\tremaining: 7.15s\n",
      "80:\tlearn: 251.9151789\ttotal: 632ms\tremaining: 7.17s\n",
      "81:\tlearn: 250.8140396\ttotal: 641ms\tremaining: 7.18s\n",
      "82:\tlearn: 249.5735652\ttotal: 651ms\tremaining: 7.19s\n",
      "83:\tlearn: 248.5972290\ttotal: 658ms\tremaining: 7.17s\n",
      "84:\tlearn: 247.4886421\ttotal: 669ms\tremaining: 7.2s\n",
      "85:\tlearn: 246.4508142\ttotal: 677ms\tremaining: 7.2s\n",
      "86:\tlearn: 245.7170044\ttotal: 690ms\tremaining: 7.24s\n",
      "87:\tlearn: 244.5790573\ttotal: 701ms\tremaining: 7.27s\n",
      "88:\tlearn: 243.2912289\ttotal: 712ms\tremaining: 7.29s\n",
      "89:\tlearn: 242.3214958\ttotal: 723ms\tremaining: 7.31s\n",
      "90:\tlearn: 241.0253512\ttotal: 726ms\tremaining: 7.25s\n",
      "91:\tlearn: 240.4998607\ttotal: 736ms\tremaining: 7.26s\n",
      "92:\tlearn: 239.6580116\ttotal: 749ms\tremaining: 7.3s\n",
      "93:\tlearn: 238.7541454\ttotal: 758ms\tremaining: 7.31s\n",
      "94:\tlearn: 237.2697614\ttotal: 766ms\tremaining: 7.29s\n",
      "95:\tlearn: 235.8505112\ttotal: 773ms\tremaining: 7.28s\n",
      "96:\tlearn: 235.3260519\ttotal: 778ms\tremaining: 7.24s\n",
      "97:\tlearn: 234.3641073\ttotal: 782ms\tremaining: 7.2s\n",
      "98:\tlearn: 233.4715122\ttotal: 786ms\tremaining: 7.15s\n",
      "99:\tlearn: 232.2705397\ttotal: 790ms\tremaining: 7.11s\n",
      "100:\tlearn: 231.5329537\ttotal: 796ms\tremaining: 7.08s\n",
      "101:\tlearn: 230.8702408\ttotal: 802ms\tremaining: 7.06s\n",
      "102:\tlearn: 229.7006921\ttotal: 806ms\tremaining: 7.02s\n",
      "103:\tlearn: 228.9239665\ttotal: 811ms\tremaining: 6.99s\n",
      "104:\tlearn: 227.9335225\ttotal: 817ms\tremaining: 6.96s\n",
      "105:\tlearn: 227.2149457\ttotal: 821ms\tremaining: 6.92s\n",
      "106:\tlearn: 225.6828141\ttotal: 827ms\tremaining: 6.9s\n",
      "107:\tlearn: 224.7655082\ttotal: 833ms\tremaining: 6.88s\n",
      "108:\tlearn: 224.2281270\ttotal: 837ms\tremaining: 6.84s\n",
      "109:\tlearn: 222.9153388\ttotal: 842ms\tremaining: 6.81s\n",
      "110:\tlearn: 221.9327180\ttotal: 848ms\tremaining: 6.79s\n",
      "111:\tlearn: 221.6436595\ttotal: 853ms\tremaining: 6.76s\n",
      "112:\tlearn: 220.8158982\ttotal: 858ms\tremaining: 6.73s\n",
      "113:\tlearn: 220.0675142\ttotal: 863ms\tremaining: 6.71s\n",
      "114:\tlearn: 219.3782989\ttotal: 867ms\tremaining: 6.67s\n",
      "115:\tlearn: 218.8541523\ttotal: 872ms\tremaining: 6.65s\n",
      "116:\tlearn: 218.4333320\ttotal: 876ms\tremaining: 6.61s\n",
      "117:\tlearn: 218.0189169\ttotal: 881ms\tremaining: 6.58s\n",
      "118:\tlearn: 217.5754181\ttotal: 892ms\tremaining: 6.61s\n",
      "119:\tlearn: 216.9295885\ttotal: 903ms\tremaining: 6.62s\n",
      "120:\tlearn: 216.5876887\ttotal: 912ms\tremaining: 6.63s\n",
      "121:\tlearn: 215.8769305\ttotal: 916ms\tremaining: 6.59s\n",
      "122:\tlearn: 215.3380481\ttotal: 920ms\tremaining: 6.56s\n",
      "123:\tlearn: 215.1359483\ttotal: 927ms\tremaining: 6.54s\n",
      "124:\tlearn: 214.1308963\ttotal: 930ms\tremaining: 6.51s\n",
      "125:\tlearn: 213.9289961\ttotal: 935ms\tremaining: 6.48s\n",
      "126:\tlearn: 213.6011905\ttotal: 939ms\tremaining: 6.45s\n",
      "127:\tlearn: 212.9400348\ttotal: 943ms\tremaining: 6.42s\n",
      "128:\tlearn: 212.7392617\ttotal: 947ms\tremaining: 6.39s\n",
      "129:\tlearn: 211.6519747\ttotal: 951ms\tremaining: 6.36s\n",
      "130:\tlearn: 211.0798220\ttotal: 955ms\tremaining: 6.33s\n",
      "131:\tlearn: 210.2639582\ttotal: 960ms\tremaining: 6.31s\n",
      "132:\tlearn: 210.0184498\ttotal: 961ms\tremaining: 6.27s\n",
      "133:\tlearn: 209.2999618\ttotal: 970ms\tremaining: 6.27s\n",
      "134:\tlearn: 208.4166455\ttotal: 982ms\tremaining: 6.29s\n",
      "135:\tlearn: 208.2577018\ttotal: 1s\tremaining: 6.37s\n",
      "136:\tlearn: 207.6650113\ttotal: 1.02s\tremaining: 6.41s\n",
      "137:\tlearn: 207.1384920\ttotal: 1.03s\tremaining: 6.44s\n",
      "138:\tlearn: 206.5830255\ttotal: 1.04s\tremaining: 6.47s\n",
      "139:\tlearn: 206.1124556\ttotal: 1.06s\tremaining: 6.5s\n",
      "140:\tlearn: 205.7840516\ttotal: 1.07s\tremaining: 6.52s\n",
      "141:\tlearn: 205.5376079\ttotal: 1.08s\tremaining: 6.53s\n",
      "142:\tlearn: 205.2146086\ttotal: 1.1s\tremaining: 6.58s\n",
      "143:\tlearn: 204.3347033\ttotal: 1.11s\tremaining: 6.59s\n",
      "144:\tlearn: 203.8925898\ttotal: 1.12s\tremaining: 6.62s\n",
      "145:\tlearn: 203.3369826\ttotal: 1.13s\tremaining: 6.63s\n",
      "146:\tlearn: 202.4870886\ttotal: 1.15s\tremaining: 6.65s\n",
      "147:\tlearn: 202.2439282\ttotal: 1.16s\tremaining: 6.68s\n",
      "148:\tlearn: 202.0495116\ttotal: 1.18s\tremaining: 6.71s\n",
      "149:\tlearn: 201.8444613\ttotal: 1.18s\tremaining: 6.69s\n",
      "150:\tlearn: 201.6993607\ttotal: 1.19s\tremaining: 6.68s\n",
      "151:\tlearn: 201.4161285\ttotal: 1.19s\tremaining: 6.66s\n",
      "152:\tlearn: 201.3023970\ttotal: 1.2s\tremaining: 6.63s\n",
      "153:\tlearn: 200.7827821\ttotal: 1.2s\tremaining: 6.61s\n",
      "154:\tlearn: 200.6514965\ttotal: 1.21s\tremaining: 6.59s\n",
      "155:\tlearn: 200.2782521\ttotal: 1.22s\tremaining: 6.59s\n",
      "156:\tlearn: 199.8184651\ttotal: 1.22s\tremaining: 6.57s\n",
      "157:\tlearn: 199.6629404\ttotal: 1.23s\tremaining: 6.54s\n",
      "158:\tlearn: 199.4256582\ttotal: 1.23s\tremaining: 6.52s\n",
      "159:\tlearn: 199.1378777\ttotal: 1.24s\tremaining: 6.49s\n",
      "160:\tlearn: 198.8597355\ttotal: 1.24s\tremaining: 6.46s\n",
      "161:\tlearn: 198.4911145\ttotal: 1.24s\tremaining: 6.44s\n",
      "162:\tlearn: 198.2546801\ttotal: 1.25s\tremaining: 6.41s\n",
      "163:\tlearn: 197.9698394\ttotal: 1.25s\tremaining: 6.38s\n",
      "164:\tlearn: 197.5235170\ttotal: 1.25s\tremaining: 6.36s\n",
      "165:\tlearn: 197.1050799\ttotal: 1.26s\tremaining: 6.33s\n",
      "166:\tlearn: 196.9058053\ttotal: 1.26s\tremaining: 6.3s\n",
      "167:\tlearn: 196.6940911\ttotal: 1.27s\tremaining: 6.28s\n",
      "168:\tlearn: 196.3816515\ttotal: 1.27s\tremaining: 6.25s\n",
      "169:\tlearn: 195.9967517\ttotal: 1.27s\tremaining: 6.23s\n",
      "170:\tlearn: 195.8103122\ttotal: 1.28s\tremaining: 6.2s\n",
      "171:\tlearn: 195.3148570\ttotal: 1.28s\tremaining: 6.17s\n",
      "172:\tlearn: 194.8165206\ttotal: 1.29s\tremaining: 6.15s\n",
      "173:\tlearn: 193.9598444\ttotal: 1.29s\tremaining: 6.13s\n",
      "174:\tlearn: 193.5547347\ttotal: 1.3s\tremaining: 6.13s\n",
      "175:\tlearn: 192.9871908\ttotal: 1.31s\tremaining: 6.15s\n",
      "176:\tlearn: 192.7801316\ttotal: 1.32s\tremaining: 6.12s\n",
      "177:\tlearn: 192.6930106\ttotal: 1.32s\tremaining: 6.1s\n",
      "178:\tlearn: 192.5870884\ttotal: 1.32s\tremaining: 6.08s\n",
      "179:\tlearn: 192.3676050\ttotal: 1.33s\tremaining: 6.06s\n",
      "180:\tlearn: 192.1344457\ttotal: 1.34s\tremaining: 6.05s\n",
      "181:\tlearn: 192.0731860\ttotal: 1.34s\tremaining: 6.03s\n",
      "182:\tlearn: 191.3258668\ttotal: 1.34s\tremaining: 6.01s\n",
      "183:\tlearn: 191.1200137\ttotal: 1.35s\tremaining: 5.98s\n",
      "184:\tlearn: 190.4889567\ttotal: 1.35s\tremaining: 5.96s\n",
      "185:\tlearn: 190.1984703\ttotal: 1.36s\tremaining: 5.94s\n",
      "186:\tlearn: 190.1036789\ttotal: 1.36s\tremaining: 5.92s\n",
      "187:\tlearn: 189.9672909\ttotal: 1.36s\tremaining: 5.89s\n",
      "188:\tlearn: 189.7643616\ttotal: 1.37s\tremaining: 5.87s\n",
      "189:\tlearn: 189.6345993\ttotal: 1.37s\tremaining: 5.85s\n",
      "190:\tlearn: 189.3863011\ttotal: 1.38s\tremaining: 5.83s\n",
      "191:\tlearn: 188.4713561\ttotal: 1.38s\tremaining: 5.81s\n",
      "192:\tlearn: 188.3143435\ttotal: 1.38s\tremaining: 5.79s\n",
      "193:\tlearn: 188.0535831\ttotal: 1.39s\tremaining: 5.77s\n",
      "194:\tlearn: 187.6111350\ttotal: 1.39s\tremaining: 5.75s\n",
      "195:\tlearn: 187.5777273\ttotal: 1.4s\tremaining: 5.73s\n",
      "196:\tlearn: 187.1855096\ttotal: 1.4s\tremaining: 5.7s\n",
      "197:\tlearn: 186.9540058\ttotal: 1.4s\tremaining: 5.69s\n",
      "198:\tlearn: 186.5872675\ttotal: 1.41s\tremaining: 5.67s\n",
      "199:\tlearn: 186.4549309\ttotal: 1.41s\tremaining: 5.65s\n",
      "200:\tlearn: 185.7711514\ttotal: 1.42s\tremaining: 5.63s\n",
      "201:\tlearn: 185.4131797\ttotal: 1.42s\tremaining: 5.62s\n",
      "202:\tlearn: 185.1122579\ttotal: 1.43s\tremaining: 5.6s\n",
      "203:\tlearn: 184.7558646\ttotal: 1.43s\tremaining: 5.58s\n",
      "204:\tlearn: 184.5908343\ttotal: 1.43s\tremaining: 5.56s\n",
      "205:\tlearn: 184.2278213\ttotal: 1.44s\tremaining: 5.54s\n",
      "206:\tlearn: 184.0970092\ttotal: 1.44s\tremaining: 5.52s\n",
      "207:\tlearn: 183.6852164\ttotal: 1.44s\tremaining: 5.5s\n",
      "208:\tlearn: 183.5771332\ttotal: 1.45s\tremaining: 5.48s\n",
      "209:\tlearn: 182.9225636\ttotal: 1.45s\tremaining: 5.46s\n",
      "210:\tlearn: 182.4494732\ttotal: 1.46s\tremaining: 5.45s\n",
      "211:\tlearn: 182.3177186\ttotal: 1.46s\tremaining: 5.43s\n",
      "212:\tlearn: 182.2149305\ttotal: 1.46s\tremaining: 5.41s\n",
      "213:\tlearn: 182.0201938\ttotal: 1.47s\tremaining: 5.39s\n",
      "214:\tlearn: 181.9145791\ttotal: 1.47s\tremaining: 5.37s\n",
      "215:\tlearn: 181.7991784\ttotal: 1.48s\tremaining: 5.36s\n",
      "216:\tlearn: 181.3027992\ttotal: 1.48s\tremaining: 5.34s\n",
      "217:\tlearn: 181.2057966\ttotal: 1.48s\tremaining: 5.32s\n",
      "218:\tlearn: 181.0335977\ttotal: 1.49s\tremaining: 5.3s\n",
      "219:\tlearn: 180.8533709\ttotal: 1.49s\tremaining: 5.29s\n",
      "220:\tlearn: 180.1680361\ttotal: 1.5s\tremaining: 5.29s\n",
      "221:\tlearn: 180.0471767\ttotal: 1.51s\tremaining: 5.29s\n",
      "222:\tlearn: 180.0077021\ttotal: 1.52s\tremaining: 5.28s\n",
      "223:\tlearn: 179.8502209\ttotal: 1.52s\tremaining: 5.27s\n",
      "224:\tlearn: 179.4531760\ttotal: 1.52s\tremaining: 5.25s\n",
      "225:\tlearn: 179.3833040\ttotal: 1.53s\tremaining: 5.23s\n",
      "226:\tlearn: 179.2720951\ttotal: 1.53s\tremaining: 5.22s\n",
      "227:\tlearn: 179.0901461\ttotal: 1.53s\tremaining: 5.19s\n",
      "228:\tlearn: 178.8158637\ttotal: 1.54s\tremaining: 5.18s\n",
      "229:\tlearn: 178.1559067\ttotal: 1.54s\tremaining: 5.16s\n",
      "230:\tlearn: 178.1106050\ttotal: 1.54s\tremaining: 5.14s\n",
      "231:\tlearn: 178.0618558\ttotal: 1.55s\tremaining: 5.12s\n",
      "232:\tlearn: 177.5238655\ttotal: 1.55s\tremaining: 5.11s\n",
      "233:\tlearn: 177.1301038\ttotal: 1.55s\tremaining: 5.09s\n",
      "234:\tlearn: 176.6205970\ttotal: 1.56s\tremaining: 5.07s\n",
      "235:\tlearn: 176.3947429\ttotal: 1.56s\tremaining: 5.06s\n",
      "236:\tlearn: 175.9819051\ttotal: 1.56s\tremaining: 5.04s\n",
      "237:\tlearn: 175.8008130\ttotal: 1.57s\tremaining: 5.03s\n",
      "238:\tlearn: 175.6769968\ttotal: 1.57s\tremaining: 5.01s\n",
      "239:\tlearn: 175.5427973\ttotal: 1.58s\tremaining: 4.99s\n",
      "240:\tlearn: 174.7386815\ttotal: 1.58s\tremaining: 4.98s\n",
      "241:\tlearn: 174.5707544\ttotal: 1.58s\tremaining: 4.96s\n",
      "242:\tlearn: 174.3885290\ttotal: 1.59s\tremaining: 4.95s\n",
      "243:\tlearn: 174.2085919\ttotal: 1.59s\tremaining: 4.93s\n",
      "244:\tlearn: 174.1935409\ttotal: 1.6s\tremaining: 4.92s\n",
      "245:\tlearn: 174.1051550\ttotal: 1.6s\tremaining: 4.9s\n",
      "246:\tlearn: 173.6770457\ttotal: 1.6s\tremaining: 4.89s\n",
      "247:\tlearn: 173.6514582\ttotal: 1.61s\tremaining: 4.88s\n",
      "248:\tlearn: 173.4985823\ttotal: 1.61s\tremaining: 4.86s\n",
      "249:\tlearn: 173.4438244\ttotal: 1.61s\tremaining: 4.85s\n",
      "250:\tlearn: 173.4195024\ttotal: 1.62s\tremaining: 4.83s\n",
      "251:\tlearn: 173.3665751\ttotal: 1.62s\tremaining: 4.82s\n",
      "252:\tlearn: 173.1853793\ttotal: 1.63s\tremaining: 4.8s\n",
      "253:\tlearn: 173.1133018\ttotal: 1.63s\tremaining: 4.79s\n",
      "254:\tlearn: 172.8190383\ttotal: 1.63s\tremaining: 4.77s\n",
      "255:\tlearn: 172.7697404\ttotal: 1.64s\tremaining: 4.76s\n",
      "256:\tlearn: 172.1935669\ttotal: 1.65s\tremaining: 4.76s\n",
      "257:\tlearn: 172.0227165\ttotal: 1.66s\tremaining: 4.76s\n",
      "258:\tlearn: 171.5159571\ttotal: 1.67s\tremaining: 4.79s\n",
      "259:\tlearn: 171.4382248\ttotal: 1.68s\tremaining: 4.79s\n",
      "260:\tlearn: 171.2034765\ttotal: 1.69s\tremaining: 4.79s\n",
      "261:\tlearn: 171.1019509\ttotal: 1.71s\tremaining: 4.81s\n",
      "262:\tlearn: 171.0548853\ttotal: 1.72s\tremaining: 4.81s\n",
      "263:\tlearn: 170.8902614\ttotal: 1.73s\tremaining: 4.81s\n",
      "264:\tlearn: 170.8061089\ttotal: 1.74s\tremaining: 4.82s\n",
      "265:\tlearn: 170.4981057\ttotal: 1.74s\tremaining: 4.81s\n",
      "266:\tlearn: 169.9867567\ttotal: 1.75s\tremaining: 4.8s\n",
      "267:\tlearn: 169.9422979\ttotal: 1.76s\tremaining: 4.8s\n",
      "268:\tlearn: 169.5086686\ttotal: 1.77s\tremaining: 4.8s\n",
      "269:\tlearn: 169.3556582\ttotal: 1.77s\tremaining: 4.8s\n",
      "270:\tlearn: 169.3518120\ttotal: 1.78s\tremaining: 4.79s\n",
      "271:\tlearn: 169.0428391\ttotal: 1.79s\tremaining: 4.78s\n",
      "272:\tlearn: 168.8082725\ttotal: 1.79s\tremaining: 4.78s\n",
      "273:\tlearn: 168.7471918\ttotal: 1.82s\tremaining: 4.81s\n",
      "274:\tlearn: 168.2116831\ttotal: 1.84s\tremaining: 4.85s\n",
      "275:\tlearn: 168.2029243\ttotal: 1.86s\tremaining: 4.87s\n",
      "276:\tlearn: 168.1842472\ttotal: 1.86s\tremaining: 4.87s\n",
      "277:\tlearn: 168.0262657\ttotal: 1.87s\tremaining: 4.86s\n",
      "278:\tlearn: 167.8578663\ttotal: 1.88s\tremaining: 4.85s\n",
      "279:\tlearn: 167.8283014\ttotal: 1.88s\tremaining: 4.85s\n",
      "280:\tlearn: 167.8111918\ttotal: 1.89s\tremaining: 4.84s\n",
      "281:\tlearn: 167.6846546\ttotal: 1.9s\tremaining: 4.83s\n",
      "282:\tlearn: 167.6719295\ttotal: 1.9s\tremaining: 4.81s\n",
      "283:\tlearn: 166.9883978\ttotal: 1.91s\tremaining: 4.81s\n",
      "284:\tlearn: 166.4012857\ttotal: 1.92s\tremaining: 4.8s\n",
      "285:\tlearn: 165.7928998\ttotal: 1.92s\tremaining: 4.8s\n",
      "286:\tlearn: 165.5389688\ttotal: 1.93s\tremaining: 4.79s\n",
      "287:\tlearn: 165.4738404\ttotal: 1.93s\tremaining: 4.77s\n",
      "288:\tlearn: 165.2313712\ttotal: 1.95s\tremaining: 4.79s\n",
      "289:\tlearn: 164.2852277\ttotal: 1.95s\tremaining: 4.78s\n",
      "290:\tlearn: 163.9364359\ttotal: 1.95s\tremaining: 4.76s\n",
      "291:\tlearn: 163.8224975\ttotal: 1.96s\tremaining: 4.75s\n",
      "292:\tlearn: 163.7211837\ttotal: 1.96s\tremaining: 4.73s\n",
      "293:\tlearn: 163.4449668\ttotal: 1.97s\tremaining: 4.72s\n",
      "294:\tlearn: 163.3981155\ttotal: 1.97s\tremaining: 4.71s\n",
      "295:\tlearn: 163.3964960\ttotal: 1.97s\tremaining: 4.69s\n",
      "296:\tlearn: 162.6540511\ttotal: 1.98s\tremaining: 4.67s\n",
      "297:\tlearn: 162.6132420\ttotal: 1.98s\tremaining: 4.66s\n",
      "298:\tlearn: 162.2477575\ttotal: 1.98s\tremaining: 4.64s\n",
      "299:\tlearn: 162.0822724\ttotal: 1.99s\tremaining: 4.63s\n",
      "300:\tlearn: 161.9376986\ttotal: 1.99s\tremaining: 4.62s\n",
      "301:\tlearn: 161.9348034\ttotal: 1.99s\tremaining: 4.6s\n",
      "302:\tlearn: 161.9216593\ttotal: 1.99s\tremaining: 4.58s\n",
      "303:\tlearn: 161.9141342\ttotal: 1.99s\tremaining: 4.57s\n",
      "304:\tlearn: 161.3448141\ttotal: 2s\tremaining: 4.55s\n",
      "305:\tlearn: 161.0415695\ttotal: 2s\tremaining: 4.54s\n",
      "306:\tlearn: 160.8976673\ttotal: 2.01s\tremaining: 4.53s\n",
      "307:\tlearn: 160.8927142\ttotal: 2.01s\tremaining: 4.52s\n",
      "308:\tlearn: 160.8878751\ttotal: 2.01s\tremaining: 4.5s\n",
      "309:\tlearn: 160.7406818\ttotal: 2.02s\tremaining: 4.49s\n",
      "310:\tlearn: 160.7327028\ttotal: 2.02s\tremaining: 4.47s\n",
      "311:\tlearn: 160.6527392\ttotal: 2.02s\tremaining: 4.46s\n",
      "312:\tlearn: 160.1440401\ttotal: 2.03s\tremaining: 4.45s\n",
      "313:\tlearn: 159.4945835\ttotal: 2.03s\tremaining: 4.44s\n",
      "314:\tlearn: 158.8852051\ttotal: 2.04s\tremaining: 4.43s\n",
      "315:\tlearn: 158.7947253\ttotal: 2.04s\tremaining: 4.41s\n",
      "316:\tlearn: 158.6672242\ttotal: 2.04s\tremaining: 4.4s\n",
      "317:\tlearn: 158.5900633\ttotal: 2.05s\tremaining: 4.39s\n",
      "318:\tlearn: 158.5204718\ttotal: 2.05s\tremaining: 4.38s\n",
      "319:\tlearn: 158.4769401\ttotal: 2.05s\tremaining: 4.36s\n",
      "320:\tlearn: 157.8553134\ttotal: 2.06s\tremaining: 4.35s\n",
      "321:\tlearn: 157.8531453\ttotal: 2.06s\tremaining: 4.34s\n",
      "322:\tlearn: 157.8301707\ttotal: 2.06s\tremaining: 4.33s\n",
      "323:\tlearn: 157.6485144\ttotal: 2.07s\tremaining: 4.31s\n",
      "324:\tlearn: 157.5142455\ttotal: 2.07s\tremaining: 4.3s\n",
      "325:\tlearn: 156.8549506\ttotal: 2.07s\tremaining: 4.29s\n",
      "326:\tlearn: 156.6673361\ttotal: 2.08s\tremaining: 4.28s\n",
      "327:\tlearn: 156.4803017\ttotal: 2.08s\tremaining: 4.26s\n",
      "328:\tlearn: 156.4362655\ttotal: 2.08s\tremaining: 4.25s\n",
      "329:\tlearn: 156.3318052\ttotal: 2.09s\tremaining: 4.24s\n",
      "330:\tlearn: 155.9141523\ttotal: 2.09s\tremaining: 4.23s\n",
      "331:\tlearn: 155.8149109\ttotal: 2.1s\tremaining: 4.22s\n",
      "332:\tlearn: 155.6650797\ttotal: 2.1s\tremaining: 4.22s\n",
      "333:\tlearn: 155.5328556\ttotal: 2.12s\tremaining: 4.22s\n",
      "334:\tlearn: 155.5196983\ttotal: 2.12s\tremaining: 4.21s\n",
      "335:\tlearn: 155.1753732\ttotal: 2.13s\tremaining: 4.2s\n",
      "336:\tlearn: 155.0580918\ttotal: 2.13s\tremaining: 4.2s\n",
      "337:\tlearn: 154.5268047\ttotal: 2.14s\tremaining: 4.19s\n",
      "338:\tlearn: 154.1045639\ttotal: 2.14s\tremaining: 4.18s\n",
      "339:\tlearn: 154.0053184\ttotal: 2.15s\tremaining: 4.17s\n",
      "340:\tlearn: 153.8095427\ttotal: 2.15s\tremaining: 4.16s\n",
      "341:\tlearn: 153.6543309\ttotal: 2.15s\tremaining: 4.14s\n",
      "342:\tlearn: 153.6089289\ttotal: 2.16s\tremaining: 4.13s\n",
      "343:\tlearn: 153.5898848\ttotal: 2.16s\tremaining: 4.12s\n",
      "344:\tlearn: 153.2906475\ttotal: 2.17s\tremaining: 4.11s\n",
      "345:\tlearn: 152.9163339\ttotal: 2.17s\tremaining: 4.1s\n",
      "346:\tlearn: 152.6446795\ttotal: 2.17s\tremaining: 4.09s\n",
      "347:\tlearn: 152.6224549\ttotal: 2.18s\tremaining: 4.08s\n",
      "348:\tlearn: 152.4953227\ttotal: 2.18s\tremaining: 4.07s\n",
      "349:\tlearn: 152.3603578\ttotal: 2.18s\tremaining: 4.06s\n",
      "350:\tlearn: 152.0968987\ttotal: 2.19s\tremaining: 4.05s\n",
      "351:\tlearn: 151.8571800\ttotal: 2.19s\tremaining: 4.04s\n",
      "352:\tlearn: 151.6082015\ttotal: 2.2s\tremaining: 4.03s\n",
      "353:\tlearn: 151.4341132\ttotal: 2.2s\tremaining: 4.01s\n",
      "354:\tlearn: 151.1693112\ttotal: 2.2s\tremaining: 4s\n",
      "355:\tlearn: 151.0438054\ttotal: 2.21s\tremaining: 3.99s\n",
      "356:\tlearn: 150.4083238\ttotal: 2.21s\tremaining: 3.98s\n",
      "357:\tlearn: 150.3100567\ttotal: 2.21s\tremaining: 3.97s\n",
      "358:\tlearn: 149.6680966\ttotal: 2.22s\tremaining: 3.96s\n",
      "359:\tlearn: 149.4918947\ttotal: 2.22s\tremaining: 3.95s\n",
      "360:\tlearn: 149.3280352\ttotal: 2.23s\tremaining: 3.94s\n",
      "361:\tlearn: 149.3156673\ttotal: 2.23s\tremaining: 3.93s\n",
      "362:\tlearn: 148.6381083\ttotal: 2.23s\tremaining: 3.92s\n",
      "363:\tlearn: 148.6054811\ttotal: 2.24s\tremaining: 3.91s\n",
      "364:\tlearn: 148.5605312\ttotal: 2.24s\tremaining: 3.9s\n",
      "365:\tlearn: 148.1955792\ttotal: 2.25s\tremaining: 3.89s\n",
      "366:\tlearn: 148.1414604\ttotal: 2.25s\tremaining: 3.88s\n",
      "367:\tlearn: 147.9133233\ttotal: 2.25s\tremaining: 3.87s\n",
      "368:\tlearn: 147.8607588\ttotal: 2.26s\tremaining: 3.86s\n",
      "369:\tlearn: 147.8570338\ttotal: 2.26s\tremaining: 3.85s\n",
      "370:\tlearn: 147.2266267\ttotal: 2.27s\tremaining: 3.84s\n",
      "371:\tlearn: 146.9152970\ttotal: 2.27s\tremaining: 3.83s\n",
      "372:\tlearn: 146.8528820\ttotal: 2.27s\tremaining: 3.82s\n",
      "373:\tlearn: 146.6921020\ttotal: 2.28s\tremaining: 3.81s\n",
      "374:\tlearn: 146.5958390\ttotal: 2.28s\tremaining: 3.8s\n",
      "375:\tlearn: 146.3689314\ttotal: 2.29s\tremaining: 3.79s\n",
      "376:\tlearn: 145.9192020\ttotal: 2.29s\tremaining: 3.78s\n",
      "377:\tlearn: 145.8469324\ttotal: 2.29s\tremaining: 3.77s\n",
      "378:\tlearn: 145.7192179\ttotal: 2.3s\tremaining: 3.77s\n",
      "379:\tlearn: 145.6565215\ttotal: 2.3s\tremaining: 3.76s\n",
      "380:\tlearn: 145.5767775\ttotal: 2.31s\tremaining: 3.76s\n",
      "381:\tlearn: 145.5012682\ttotal: 2.32s\tremaining: 3.76s\n",
      "382:\tlearn: 145.0712314\ttotal: 2.33s\tremaining: 3.75s\n",
      "383:\tlearn: 144.6579421\ttotal: 2.33s\tremaining: 3.74s\n",
      "384:\tlearn: 144.5415981\ttotal: 2.34s\tremaining: 3.73s\n",
      "385:\tlearn: 144.3462091\ttotal: 2.34s\tremaining: 3.73s\n",
      "386:\tlearn: 143.9522825\ttotal: 2.35s\tremaining: 3.72s\n",
      "387:\tlearn: 143.8398470\ttotal: 2.35s\tremaining: 3.71s\n",
      "388:\tlearn: 143.6815126\ttotal: 2.36s\tremaining: 3.7s\n",
      "389:\tlearn: 143.6542855\ttotal: 2.36s\tremaining: 3.69s\n",
      "390:\tlearn: 143.1439302\ttotal: 2.36s\tremaining: 3.68s\n",
      "391:\tlearn: 142.7845858\ttotal: 2.37s\tremaining: 3.67s\n",
      "392:\tlearn: 142.7330394\ttotal: 2.37s\tremaining: 3.67s\n",
      "393:\tlearn: 142.3827379\ttotal: 2.38s\tremaining: 3.66s\n",
      "394:\tlearn: 142.1759137\ttotal: 2.39s\tremaining: 3.66s\n",
      "395:\tlearn: 142.1245633\ttotal: 2.4s\tremaining: 3.66s\n",
      "396:\tlearn: 141.7267623\ttotal: 2.42s\tremaining: 3.67s\n",
      "397:\tlearn: 141.6815897\ttotal: 2.43s\tremaining: 3.67s\n",
      "398:\tlearn: 141.6219226\ttotal: 2.44s\tremaining: 3.68s\n",
      "399:\tlearn: 141.3572839\ttotal: 2.46s\tremaining: 3.69s\n",
      "400:\tlearn: 140.9539536\ttotal: 2.47s\tremaining: 3.69s\n",
      "401:\tlearn: 140.8376296\ttotal: 2.48s\tremaining: 3.69s\n",
      "402:\tlearn: 140.6710627\ttotal: 2.5s\tremaining: 3.7s\n",
      "403:\tlearn: 140.1698080\ttotal: 2.51s\tremaining: 3.71s\n",
      "404:\tlearn: 140.1407754\ttotal: 2.53s\tremaining: 3.71s\n",
      "405:\tlearn: 140.1025255\ttotal: 2.54s\tremaining: 3.71s\n",
      "406:\tlearn: 140.0738540\ttotal: 2.55s\tremaining: 3.71s\n",
      "407:\tlearn: 140.0324329\ttotal: 2.56s\tremaining: 3.72s\n",
      "408:\tlearn: 139.7696721\ttotal: 2.57s\tremaining: 3.72s\n",
      "409:\tlearn: 139.3773752\ttotal: 2.59s\tremaining: 3.73s\n",
      "410:\tlearn: 139.1208673\ttotal: 2.61s\tremaining: 3.73s\n",
      "411:\tlearn: 139.0940801\ttotal: 2.62s\tremaining: 3.73s\n",
      "412:\tlearn: 139.0864452\ttotal: 2.62s\tremaining: 3.73s\n",
      "413:\tlearn: 139.0478792\ttotal: 2.63s\tremaining: 3.72s\n",
      "414:\tlearn: 139.0161577\ttotal: 2.63s\tremaining: 3.71s\n",
      "415:\tlearn: 138.8784653\ttotal: 2.64s\tremaining: 3.7s\n",
      "416:\tlearn: 138.1633536\ttotal: 2.64s\tremaining: 3.69s\n",
      "417:\tlearn: 138.0981518\ttotal: 2.64s\tremaining: 3.68s\n",
      "418:\tlearn: 138.0285798\ttotal: 2.65s\tremaining: 3.67s\n",
      "419:\tlearn: 137.9340517\ttotal: 2.65s\tremaining: 3.66s\n",
      "420:\tlearn: 137.8516955\ttotal: 2.66s\tremaining: 3.65s\n",
      "421:\tlearn: 137.3549871\ttotal: 2.66s\tremaining: 3.64s\n",
      "422:\tlearn: 137.0986576\ttotal: 2.66s\tremaining: 3.63s\n",
      "423:\tlearn: 137.0895304\ttotal: 2.67s\tremaining: 3.63s\n",
      "424:\tlearn: 136.9570913\ttotal: 2.68s\tremaining: 3.63s\n",
      "425:\tlearn: 136.8575617\ttotal: 2.69s\tremaining: 3.63s\n",
      "426:\tlearn: 136.4997019\ttotal: 2.7s\tremaining: 3.63s\n",
      "427:\tlearn: 136.4109585\ttotal: 2.72s\tremaining: 3.63s\n",
      "428:\tlearn: 136.1333779\ttotal: 2.73s\tremaining: 3.63s\n",
      "429:\tlearn: 135.6644532\ttotal: 2.74s\tremaining: 3.63s\n",
      "430:\tlearn: 135.3120410\ttotal: 2.75s\tremaining: 3.63s\n",
      "431:\tlearn: 135.1831781\ttotal: 2.75s\tremaining: 3.62s\n",
      "432:\tlearn: 135.0813828\ttotal: 2.75s\tremaining: 3.61s\n",
      "433:\tlearn: 135.0379707\ttotal: 2.76s\tremaining: 3.6s\n",
      "434:\tlearn: 134.9340189\ttotal: 2.76s\tremaining: 3.59s\n",
      "435:\tlearn: 134.8153432\ttotal: 2.77s\tremaining: 3.58s\n",
      "436:\tlearn: 134.3072887\ttotal: 2.77s\tremaining: 3.57s\n",
      "437:\tlearn: 134.2433307\ttotal: 2.77s\tremaining: 3.56s\n",
      "438:\tlearn: 134.1796318\ttotal: 2.78s\tremaining: 3.55s\n",
      "439:\tlearn: 134.0408313\ttotal: 2.78s\tremaining: 3.54s\n",
      "440:\tlearn: 133.6639720\ttotal: 2.79s\tremaining: 3.53s\n",
      "441:\tlearn: 133.1460267\ttotal: 2.79s\tremaining: 3.52s\n",
      "442:\tlearn: 133.0428499\ttotal: 2.79s\tremaining: 3.51s\n",
      "443:\tlearn: 132.8883326\ttotal: 2.8s\tremaining: 3.5s\n",
      "444:\tlearn: 132.2951989\ttotal: 2.8s\tremaining: 3.49s\n",
      "445:\tlearn: 132.0366010\ttotal: 2.8s\tremaining: 3.48s\n",
      "446:\tlearn: 131.8569140\ttotal: 2.81s\tremaining: 3.47s\n",
      "447:\tlearn: 131.7498597\ttotal: 2.81s\tremaining: 3.46s\n",
      "448:\tlearn: 131.7238986\ttotal: 2.81s\tremaining: 3.46s\n",
      "449:\tlearn: 131.0805939\ttotal: 2.82s\tremaining: 3.45s\n",
      "450:\tlearn: 130.9208702\ttotal: 2.83s\tremaining: 3.44s\n",
      "451:\tlearn: 130.7086990\ttotal: 2.83s\tremaining: 3.43s\n",
      "452:\tlearn: 130.7074078\ttotal: 2.83s\tremaining: 3.42s\n",
      "453:\tlearn: 130.6606764\ttotal: 2.84s\tremaining: 3.41s\n",
      "454:\tlearn: 130.2527074\ttotal: 2.84s\tremaining: 3.4s\n",
      "455:\tlearn: 130.1695984\ttotal: 2.84s\tremaining: 3.39s\n",
      "456:\tlearn: 130.1554668\ttotal: 2.85s\tremaining: 3.38s\n",
      "457:\tlearn: 130.1425884\ttotal: 2.85s\tremaining: 3.38s\n",
      "458:\tlearn: 129.9918349\ttotal: 2.86s\tremaining: 3.37s\n",
      "459:\tlearn: 129.9117691\ttotal: 2.86s\tremaining: 3.36s\n",
      "460:\tlearn: 129.8515182\ttotal: 2.87s\tremaining: 3.35s\n",
      "461:\tlearn: 129.1958312\ttotal: 2.87s\tremaining: 3.34s\n",
      "462:\tlearn: 129.0756007\ttotal: 2.87s\tremaining: 3.33s\n",
      "463:\tlearn: 129.0476224\ttotal: 2.88s\tremaining: 3.32s\n",
      "464:\tlearn: 128.8883490\ttotal: 2.88s\tremaining: 3.31s\n",
      "465:\tlearn: 128.8491500\ttotal: 2.88s\tremaining: 3.31s\n",
      "466:\tlearn: 128.8001478\ttotal: 2.89s\tremaining: 3.3s\n",
      "467:\tlearn: 128.7897074\ttotal: 2.89s\tremaining: 3.29s\n",
      "468:\tlearn: 128.6464803\ttotal: 2.9s\tremaining: 3.28s\n",
      "469:\tlearn: 128.4827756\ttotal: 2.9s\tremaining: 3.27s\n",
      "470:\tlearn: 128.3934955\ttotal: 2.9s\tremaining: 3.26s\n",
      "471:\tlearn: 128.2933116\ttotal: 2.91s\tremaining: 3.25s\n",
      "472:\tlearn: 128.1191651\ttotal: 2.91s\tremaining: 3.25s\n",
      "473:\tlearn: 127.9705816\ttotal: 2.92s\tremaining: 3.24s\n",
      "474:\tlearn: 127.8724423\ttotal: 2.93s\tremaining: 3.24s\n",
      "475:\tlearn: 127.7848720\ttotal: 2.94s\tremaining: 3.23s\n",
      "476:\tlearn: 127.6229922\ttotal: 2.95s\tremaining: 3.23s\n",
      "477:\tlearn: 127.4436449\ttotal: 2.95s\tremaining: 3.22s\n",
      "478:\tlearn: 127.2657062\ttotal: 2.96s\tremaining: 3.21s\n",
      "479:\tlearn: 127.1319375\ttotal: 2.96s\tremaining: 3.21s\n",
      "480:\tlearn: 127.1083872\ttotal: 2.96s\tremaining: 3.2s\n",
      "481:\tlearn: 126.9100453\ttotal: 2.97s\tremaining: 3.19s\n",
      "482:\tlearn: 126.8048256\ttotal: 2.97s\tremaining: 3.18s\n",
      "483:\tlearn: 126.6224470\ttotal: 2.98s\tremaining: 3.17s\n",
      "484:\tlearn: 126.5093979\ttotal: 2.98s\tremaining: 3.16s\n",
      "485:\tlearn: 126.4209420\ttotal: 2.98s\tremaining: 3.15s\n",
      "486:\tlearn: 126.2871492\ttotal: 2.99s\tremaining: 3.15s\n",
      "487:\tlearn: 125.9683292\ttotal: 2.99s\tremaining: 3.14s\n",
      "488:\tlearn: 125.7943823\ttotal: 3s\tremaining: 3.13s\n",
      "489:\tlearn: 125.7197974\ttotal: 3s\tremaining: 3.12s\n",
      "490:\tlearn: 125.4898391\ttotal: 3s\tremaining: 3.11s\n",
      "491:\tlearn: 125.4235009\ttotal: 3.01s\tremaining: 3.1s\n",
      "492:\tlearn: 125.3152523\ttotal: 3.01s\tremaining: 3.1s\n",
      "493:\tlearn: 125.2920070\ttotal: 3.02s\tremaining: 3.09s\n",
      "494:\tlearn: 125.2764533\ttotal: 3.02s\tremaining: 3.08s\n",
      "495:\tlearn: 125.1277735\ttotal: 3.02s\tremaining: 3.07s\n",
      "496:\tlearn: 124.8996276\ttotal: 3.03s\tremaining: 3.06s\n",
      "497:\tlearn: 124.5373655\ttotal: 3.03s\tremaining: 3.05s\n",
      "498:\tlearn: 124.3315890\ttotal: 3.03s\tremaining: 3.05s\n",
      "499:\tlearn: 124.3128915\ttotal: 3.04s\tremaining: 3.04s\n",
      "500:\tlearn: 124.0867739\ttotal: 3.04s\tremaining: 3.03s\n",
      "501:\tlearn: 123.8820511\ttotal: 3.04s\tremaining: 3.02s\n",
      "502:\tlearn: 123.8548489\ttotal: 3.05s\tremaining: 3.01s\n",
      "503:\tlearn: 123.4798130\ttotal: 3.05s\tremaining: 3s\n",
      "504:\tlearn: 123.2782450\ttotal: 3.06s\tremaining: 3s\n",
      "505:\tlearn: 123.2539418\ttotal: 3.06s\tremaining: 2.99s\n",
      "506:\tlearn: 123.1608927\ttotal: 3.06s\tremaining: 2.98s\n",
      "507:\tlearn: 123.0773276\ttotal: 3.07s\tremaining: 2.97s\n",
      "508:\tlearn: 122.9637350\ttotal: 3.07s\tremaining: 2.96s\n",
      "509:\tlearn: 122.9366757\ttotal: 3.08s\tremaining: 2.96s\n",
      "510:\tlearn: 122.5410699\ttotal: 3.08s\tremaining: 2.95s\n",
      "511:\tlearn: 122.5208061\ttotal: 3.08s\tremaining: 2.94s\n",
      "512:\tlearn: 122.1758856\ttotal: 3.09s\tremaining: 2.93s\n",
      "513:\tlearn: 122.1501598\ttotal: 3.09s\tremaining: 2.92s\n",
      "514:\tlearn: 122.0993980\ttotal: 3.1s\tremaining: 2.92s\n",
      "515:\tlearn: 122.0936616\ttotal: 3.1s\tremaining: 2.91s\n",
      "516:\tlearn: 121.9946551\ttotal: 3.1s\tremaining: 2.9s\n",
      "517:\tlearn: 121.9352249\ttotal: 3.11s\tremaining: 2.89s\n",
      "518:\tlearn: 121.7703302\ttotal: 3.11s\tremaining: 2.88s\n",
      "519:\tlearn: 121.6644607\ttotal: 3.12s\tremaining: 2.88s\n",
      "520:\tlearn: 121.5820622\ttotal: 3.13s\tremaining: 2.88s\n",
      "521:\tlearn: 121.1152024\ttotal: 3.15s\tremaining: 2.88s\n",
      "522:\tlearn: 120.8937835\ttotal: 3.15s\tremaining: 2.88s\n",
      "523:\tlearn: 120.8804212\ttotal: 3.16s\tremaining: 2.87s\n",
      "524:\tlearn: 120.7809501\ttotal: 3.16s\tremaining: 2.86s\n",
      "525:\tlearn: 120.7326502\ttotal: 3.17s\tremaining: 2.85s\n",
      "526:\tlearn: 120.6599811\ttotal: 3.17s\tremaining: 2.85s\n",
      "527:\tlearn: 120.5610805\ttotal: 3.18s\tremaining: 2.84s\n",
      "528:\tlearn: 120.5054547\ttotal: 3.18s\tremaining: 2.83s\n",
      "529:\tlearn: 120.3651525\ttotal: 3.19s\tremaining: 2.83s\n",
      "530:\tlearn: 120.2901809\ttotal: 3.19s\tremaining: 2.82s\n",
      "531:\tlearn: 120.2831868\ttotal: 3.2s\tremaining: 2.81s\n",
      "532:\tlearn: 120.2665738\ttotal: 3.21s\tremaining: 2.81s\n",
      "533:\tlearn: 120.2439263\ttotal: 3.22s\tremaining: 2.81s\n",
      "534:\tlearn: 120.1641617\ttotal: 3.23s\tremaining: 2.81s\n",
      "535:\tlearn: 120.0740732\ttotal: 3.23s\tremaining: 2.8s\n",
      "536:\tlearn: 119.8301927\ttotal: 3.24s\tremaining: 2.79s\n",
      "537:\tlearn: 119.4866942\ttotal: 3.26s\tremaining: 2.8s\n",
      "538:\tlearn: 119.4104354\ttotal: 3.27s\tremaining: 2.8s\n",
      "539:\tlearn: 119.3156184\ttotal: 3.27s\tremaining: 2.79s\n",
      "540:\tlearn: 119.2859550\ttotal: 3.28s\tremaining: 2.79s\n",
      "541:\tlearn: 119.2641168\ttotal: 3.29s\tremaining: 2.78s\n",
      "542:\tlearn: 119.1096735\ttotal: 3.29s\tremaining: 2.77s\n",
      "543:\tlearn: 118.8347165\ttotal: 3.3s\tremaining: 2.77s\n",
      "544:\tlearn: 118.6701960\ttotal: 3.31s\tremaining: 2.76s\n",
      "545:\tlearn: 118.4811640\ttotal: 3.32s\tremaining: 2.76s\n",
      "546:\tlearn: 118.4582608\ttotal: 3.33s\tremaining: 2.76s\n",
      "547:\tlearn: 118.2058751\ttotal: 3.34s\tremaining: 2.75s\n",
      "548:\tlearn: 117.9643870\ttotal: 3.35s\tremaining: 2.75s\n",
      "549:\tlearn: 117.8348623\ttotal: 3.36s\tremaining: 2.75s\n",
      "550:\tlearn: 117.5141397\ttotal: 3.37s\tremaining: 2.75s\n",
      "551:\tlearn: 117.0616399\ttotal: 3.38s\tremaining: 2.74s\n",
      "552:\tlearn: 117.0110443\ttotal: 3.39s\tremaining: 2.74s\n",
      "553:\tlearn: 116.9882063\ttotal: 3.39s\tremaining: 2.73s\n",
      "554:\tlearn: 116.9659004\ttotal: 3.4s\tremaining: 2.73s\n",
      "555:\tlearn: 116.8792444\ttotal: 3.41s\tremaining: 2.72s\n",
      "556:\tlearn: 116.8174000\ttotal: 3.42s\tremaining: 2.72s\n",
      "557:\tlearn: 116.7078941\ttotal: 3.42s\tremaining: 2.71s\n",
      "558:\tlearn: 116.6919486\ttotal: 3.43s\tremaining: 2.71s\n",
      "559:\tlearn: 116.6460363\ttotal: 3.44s\tremaining: 2.7s\n",
      "560:\tlearn: 116.4989407\ttotal: 3.44s\tremaining: 2.69s\n",
      "561:\tlearn: 116.4173646\ttotal: 3.45s\tremaining: 2.69s\n",
      "562:\tlearn: 116.3825903\ttotal: 3.45s\tremaining: 2.68s\n",
      "563:\tlearn: 116.3301170\ttotal: 3.46s\tremaining: 2.67s\n",
      "564:\tlearn: 115.9897130\ttotal: 3.46s\tremaining: 2.67s\n",
      "565:\tlearn: 115.9312209\ttotal: 3.47s\tremaining: 2.66s\n",
      "566:\tlearn: 115.8524578\ttotal: 3.47s\tremaining: 2.65s\n",
      "567:\tlearn: 115.7191106\ttotal: 3.47s\tremaining: 2.64s\n",
      "568:\tlearn: 115.6780853\ttotal: 3.48s\tremaining: 2.63s\n",
      "569:\tlearn: 115.5952971\ttotal: 3.48s\tremaining: 2.63s\n",
      "570:\tlearn: 115.5470867\ttotal: 3.48s\tremaining: 2.62s\n",
      "571:\tlearn: 115.5035264\ttotal: 3.49s\tremaining: 2.61s\n",
      "572:\tlearn: 115.4129436\ttotal: 3.49s\tremaining: 2.6s\n",
      "573:\tlearn: 115.3908702\ttotal: 3.5s\tremaining: 2.6s\n",
      "574:\tlearn: 115.1745344\ttotal: 3.5s\tremaining: 2.59s\n",
      "575:\tlearn: 115.1564381\ttotal: 3.5s\tremaining: 2.58s\n",
      "576:\tlearn: 115.0858455\ttotal: 3.51s\tremaining: 2.57s\n",
      "577:\tlearn: 115.0603946\ttotal: 3.51s\tremaining: 2.56s\n",
      "578:\tlearn: 115.0445540\ttotal: 3.52s\tremaining: 2.56s\n",
      "579:\tlearn: 115.0071450\ttotal: 3.53s\tremaining: 2.56s\n",
      "580:\tlearn: 114.9946197\ttotal: 3.54s\tremaining: 2.55s\n",
      "581:\tlearn: 114.8841719\ttotal: 3.54s\tremaining: 2.54s\n",
      "582:\tlearn: 114.8165908\ttotal: 3.55s\tremaining: 2.54s\n",
      "583:\tlearn: 114.7993226\ttotal: 3.55s\tremaining: 2.53s\n",
      "584:\tlearn: 114.7730028\ttotal: 3.56s\tremaining: 2.52s\n",
      "585:\tlearn: 114.7585505\ttotal: 3.56s\tremaining: 2.52s\n",
      "586:\tlearn: 114.7561101\ttotal: 3.56s\tremaining: 2.51s\n",
      "587:\tlearn: 114.6991498\ttotal: 3.57s\tremaining: 2.5s\n",
      "588:\tlearn: 114.6839871\ttotal: 3.57s\tremaining: 2.49s\n",
      "589:\tlearn: 114.6325927\ttotal: 3.58s\tremaining: 2.48s\n",
      "590:\tlearn: 114.6321899\ttotal: 3.58s\tremaining: 2.48s\n",
      "591:\tlearn: 114.3313054\ttotal: 3.58s\tremaining: 2.47s\n",
      "592:\tlearn: 114.3058240\ttotal: 3.59s\tremaining: 2.46s\n",
      "593:\tlearn: 113.9884364\ttotal: 3.59s\tremaining: 2.46s\n",
      "594:\tlearn: 113.9638854\ttotal: 3.6s\tremaining: 2.45s\n",
      "595:\tlearn: 113.9422860\ttotal: 3.6s\tremaining: 2.44s\n",
      "596:\tlearn: 113.9217401\ttotal: 3.6s\tremaining: 2.43s\n",
      "597:\tlearn: 113.8135722\ttotal: 3.61s\tremaining: 2.42s\n",
      "598:\tlearn: 113.8035065\ttotal: 3.61s\tremaining: 2.42s\n",
      "599:\tlearn: 113.7274702\ttotal: 3.62s\tremaining: 2.41s\n",
      "600:\tlearn: 113.6830538\ttotal: 3.62s\tremaining: 2.4s\n",
      "601:\tlearn: 113.6693083\ttotal: 3.62s\tremaining: 2.4s\n",
      "602:\tlearn: 113.6061174\ttotal: 3.63s\tremaining: 2.39s\n",
      "603:\tlearn: 113.5227874\ttotal: 3.63s\tremaining: 2.38s\n",
      "604:\tlearn: 113.5200859\ttotal: 3.63s\tremaining: 2.37s\n",
      "605:\tlearn: 113.4591161\ttotal: 3.64s\tremaining: 2.36s\n",
      "606:\tlearn: 113.4550085\ttotal: 3.64s\tremaining: 2.36s\n",
      "607:\tlearn: 113.4316054\ttotal: 3.64s\tremaining: 2.35s\n",
      "608:\tlearn: 113.0671551\ttotal: 3.65s\tremaining: 2.34s\n",
      "609:\tlearn: 113.0371116\ttotal: 3.65s\tremaining: 2.33s\n",
      "610:\tlearn: 112.9820418\ttotal: 3.66s\tremaining: 2.33s\n",
      "611:\tlearn: 112.9343835\ttotal: 3.66s\tremaining: 2.32s\n",
      "612:\tlearn: 112.8785870\ttotal: 3.66s\tremaining: 2.31s\n",
      "613:\tlearn: 112.8220254\ttotal: 3.67s\tremaining: 2.31s\n",
      "614:\tlearn: 112.8007067\ttotal: 3.67s\tremaining: 2.3s\n",
      "615:\tlearn: 112.7414793\ttotal: 3.67s\tremaining: 2.29s\n",
      "616:\tlearn: 112.6735301\ttotal: 3.68s\tremaining: 2.28s\n",
      "617:\tlearn: 112.6612450\ttotal: 3.68s\tremaining: 2.28s\n",
      "618:\tlearn: 112.6093393\ttotal: 3.69s\tremaining: 2.27s\n",
      "619:\tlearn: 112.5397464\ttotal: 3.69s\tremaining: 2.26s\n",
      "620:\tlearn: 112.4826250\ttotal: 3.69s\tremaining: 2.25s\n",
      "621:\tlearn: 112.2673789\ttotal: 3.7s\tremaining: 2.25s\n",
      "622:\tlearn: 112.2590963\ttotal: 3.7s\tremaining: 2.24s\n",
      "623:\tlearn: 112.2379920\ttotal: 3.71s\tremaining: 2.23s\n",
      "624:\tlearn: 112.1203415\ttotal: 3.71s\tremaining: 2.23s\n",
      "625:\tlearn: 112.0279839\ttotal: 3.71s\tremaining: 2.22s\n",
      "626:\tlearn: 111.9726780\ttotal: 3.72s\tremaining: 2.21s\n",
      "627:\tlearn: 111.5140299\ttotal: 3.73s\tremaining: 2.21s\n",
      "628:\tlearn: 111.5069028\ttotal: 3.74s\tremaining: 2.21s\n",
      "629:\tlearn: 111.5026385\ttotal: 3.75s\tremaining: 2.2s\n",
      "630:\tlearn: 111.4536241\ttotal: 3.75s\tremaining: 2.19s\n",
      "631:\tlearn: 111.3455577\ttotal: 3.76s\tremaining: 2.19s\n",
      "632:\tlearn: 111.3258075\ttotal: 3.76s\tremaining: 2.18s\n",
      "633:\tlearn: 111.1037255\ttotal: 3.76s\tremaining: 2.17s\n",
      "634:\tlearn: 111.0471448\ttotal: 3.77s\tremaining: 2.17s\n",
      "635:\tlearn: 111.0353961\ttotal: 3.77s\tremaining: 2.16s\n",
      "636:\tlearn: 111.0244892\ttotal: 3.77s\tremaining: 2.15s\n",
      "637:\tlearn: 111.0208404\ttotal: 3.78s\tremaining: 2.14s\n",
      "638:\tlearn: 111.0182549\ttotal: 3.78s\tremaining: 2.14s\n",
      "639:\tlearn: 110.9944556\ttotal: 3.79s\tremaining: 2.13s\n",
      "640:\tlearn: 110.9348885\ttotal: 3.79s\tremaining: 2.12s\n",
      "641:\tlearn: 110.8211477\ttotal: 3.8s\tremaining: 2.12s\n",
      "642:\tlearn: 110.7259310\ttotal: 3.8s\tremaining: 2.11s\n",
      "643:\tlearn: 110.6933438\ttotal: 3.8s\tremaining: 2.1s\n",
      "644:\tlearn: 110.4580540\ttotal: 3.81s\tremaining: 2.1s\n",
      "645:\tlearn: 110.4356638\ttotal: 3.81s\tremaining: 2.09s\n",
      "646:\tlearn: 110.4331542\ttotal: 3.81s\tremaining: 2.08s\n",
      "647:\tlearn: 110.3318711\ttotal: 3.82s\tremaining: 2.07s\n",
      "648:\tlearn: 110.2799421\ttotal: 3.82s\tremaining: 2.07s\n",
      "649:\tlearn: 110.0647187\ttotal: 3.83s\tremaining: 2.06s\n",
      "650:\tlearn: 110.0059316\ttotal: 3.83s\tremaining: 2.05s\n",
      "651:\tlearn: 109.9561782\ttotal: 3.83s\tremaining: 2.05s\n",
      "652:\tlearn: 109.9118181\ttotal: 3.84s\tremaining: 2.04s\n",
      "653:\tlearn: 109.8538484\ttotal: 3.84s\tremaining: 2.03s\n",
      "654:\tlearn: 109.7678052\ttotal: 3.85s\tremaining: 2.02s\n",
      "655:\tlearn: 109.7153569\ttotal: 3.85s\tremaining: 2.02s\n",
      "656:\tlearn: 109.6509770\ttotal: 3.85s\tremaining: 2.01s\n",
      "657:\tlearn: 109.5228306\ttotal: 3.86s\tremaining: 2s\n",
      "658:\tlearn: 109.4343731\ttotal: 3.86s\tremaining: 2s\n",
      "659:\tlearn: 109.3864906\ttotal: 3.87s\tremaining: 1.99s\n",
      "660:\tlearn: 109.2781011\ttotal: 3.87s\tremaining: 1.98s\n",
      "661:\tlearn: 109.1425406\ttotal: 3.87s\tremaining: 1.98s\n",
      "662:\tlearn: 109.0164348\ttotal: 3.88s\tremaining: 1.97s\n",
      "663:\tlearn: 109.0131853\ttotal: 3.88s\tremaining: 1.96s\n",
      "664:\tlearn: 108.8181996\ttotal: 3.88s\tremaining: 1.96s\n",
      "665:\tlearn: 108.7159628\ttotal: 3.89s\tremaining: 1.95s\n",
      "666:\tlearn: 108.6793610\ttotal: 3.89s\tremaining: 1.94s\n",
      "667:\tlearn: 108.6496039\ttotal: 3.9s\tremaining: 1.94s\n",
      "668:\tlearn: 108.4315185\ttotal: 3.9s\tremaining: 1.93s\n",
      "669:\tlearn: 108.3729384\ttotal: 3.9s\tremaining: 1.92s\n",
      "670:\tlearn: 108.3012405\ttotal: 3.91s\tremaining: 1.92s\n",
      "671:\tlearn: 108.1991598\ttotal: 3.91s\tremaining: 1.91s\n",
      "672:\tlearn: 108.1105148\ttotal: 3.92s\tremaining: 1.91s\n",
      "673:\tlearn: 108.0771005\ttotal: 3.93s\tremaining: 1.9s\n",
      "674:\tlearn: 107.6637616\ttotal: 3.94s\tremaining: 1.9s\n",
      "675:\tlearn: 107.6130242\ttotal: 3.94s\tremaining: 1.89s\n",
      "676:\tlearn: 107.6116644\ttotal: 3.95s\tremaining: 1.88s\n",
      "677:\tlearn: 107.2214480\ttotal: 3.95s\tremaining: 1.88s\n",
      "678:\tlearn: 107.1574339\ttotal: 3.96s\tremaining: 1.87s\n",
      "679:\tlearn: 106.8221029\ttotal: 3.96s\tremaining: 1.86s\n",
      "680:\tlearn: 106.7772460\ttotal: 3.97s\tremaining: 1.86s\n",
      "681:\tlearn: 106.7672500\ttotal: 3.97s\tremaining: 1.85s\n",
      "682:\tlearn: 106.6059331\ttotal: 3.97s\tremaining: 1.84s\n",
      "683:\tlearn: 106.5725402\ttotal: 3.98s\tremaining: 1.84s\n",
      "684:\tlearn: 106.5665948\ttotal: 3.98s\tremaining: 1.83s\n",
      "685:\tlearn: 106.2515587\ttotal: 3.98s\tremaining: 1.82s\n",
      "686:\tlearn: 106.1910450\ttotal: 3.99s\tremaining: 1.82s\n",
      "687:\tlearn: 105.9460097\ttotal: 3.99s\tremaining: 1.81s\n",
      "688:\tlearn: 105.9389577\ttotal: 4s\tremaining: 1.8s\n",
      "689:\tlearn: 105.5186113\ttotal: 4s\tremaining: 1.8s\n",
      "690:\tlearn: 105.3703611\ttotal: 4s\tremaining: 1.79s\n",
      "691:\tlearn: 105.3652416\ttotal: 4.01s\tremaining: 1.78s\n",
      "692:\tlearn: 105.3459568\ttotal: 4.01s\tremaining: 1.78s\n",
      "693:\tlearn: 105.3253528\ttotal: 4.01s\tremaining: 1.77s\n",
      "694:\tlearn: 105.3052191\ttotal: 4.02s\tremaining: 1.76s\n",
      "695:\tlearn: 105.1673202\ttotal: 4.02s\tremaining: 1.76s\n",
      "696:\tlearn: 105.1131513\ttotal: 4.03s\tremaining: 1.75s\n",
      "697:\tlearn: 104.7736106\ttotal: 4.03s\tremaining: 1.74s\n",
      "698:\tlearn: 104.6689811\ttotal: 4.04s\tremaining: 1.74s\n",
      "699:\tlearn: 104.6660698\ttotal: 4.04s\tremaining: 1.73s\n",
      "700:\tlearn: 104.6620892\ttotal: 4.04s\tremaining: 1.72s\n",
      "701:\tlearn: 104.5233570\ttotal: 4.05s\tremaining: 1.72s\n",
      "702:\tlearn: 104.4979648\ttotal: 4.05s\tremaining: 1.71s\n",
      "703:\tlearn: 104.4703746\ttotal: 4.05s\tremaining: 1.7s\n",
      "704:\tlearn: 104.1339612\ttotal: 4.06s\tremaining: 1.7s\n",
      "705:\tlearn: 104.0535582\ttotal: 4.06s\tremaining: 1.69s\n",
      "706:\tlearn: 103.9616752\ttotal: 4.07s\tremaining: 1.69s\n",
      "707:\tlearn: 103.7550649\ttotal: 4.07s\tremaining: 1.68s\n",
      "708:\tlearn: 103.6817081\ttotal: 4.07s\tremaining: 1.67s\n",
      "709:\tlearn: 103.6267690\ttotal: 4.08s\tremaining: 1.67s\n",
      "710:\tlearn: 103.5887131\ttotal: 4.08s\tremaining: 1.66s\n",
      "711:\tlearn: 103.5483452\ttotal: 4.09s\tremaining: 1.65s\n",
      "712:\tlearn: 103.4364603\ttotal: 4.09s\tremaining: 1.65s\n",
      "713:\tlearn: 103.1559307\ttotal: 4.09s\tremaining: 1.64s\n",
      "714:\tlearn: 103.0927738\ttotal: 4.1s\tremaining: 1.63s\n",
      "715:\tlearn: 102.8932793\ttotal: 4.1s\tremaining: 1.63s\n",
      "716:\tlearn: 102.7272967\ttotal: 4.11s\tremaining: 1.62s\n",
      "717:\tlearn: 102.6737460\ttotal: 4.11s\tremaining: 1.61s\n",
      "718:\tlearn: 102.5845730\ttotal: 4.12s\tremaining: 1.61s\n",
      "719:\tlearn: 102.5407084\ttotal: 4.13s\tremaining: 1.6s\n",
      "720:\tlearn: 102.4902027\ttotal: 4.14s\tremaining: 1.6s\n",
      "721:\tlearn: 102.4877327\ttotal: 4.14s\tremaining: 1.59s\n",
      "722:\tlearn: 102.4659838\ttotal: 4.15s\tremaining: 1.59s\n",
      "723:\tlearn: 102.4273713\ttotal: 4.15s\tremaining: 1.58s\n",
      "724:\tlearn: 102.1783763\ttotal: 4.16s\tremaining: 1.58s\n",
      "725:\tlearn: 102.1680715\ttotal: 4.16s\tremaining: 1.57s\n",
      "726:\tlearn: 102.1506626\ttotal: 4.16s\tremaining: 1.56s\n",
      "727:\tlearn: 102.1220959\ttotal: 4.17s\tremaining: 1.56s\n",
      "728:\tlearn: 102.1168994\ttotal: 4.17s\tremaining: 1.55s\n",
      "729:\tlearn: 102.1129347\ttotal: 4.17s\tremaining: 1.54s\n",
      "730:\tlearn: 101.9801873\ttotal: 4.18s\tremaining: 1.54s\n",
      "731:\tlearn: 101.9359185\ttotal: 4.18s\tremaining: 1.53s\n",
      "732:\tlearn: 101.9262673\ttotal: 4.19s\tremaining: 1.52s\n",
      "733:\tlearn: 101.9007074\ttotal: 4.19s\tremaining: 1.52s\n",
      "734:\tlearn: 101.6850125\ttotal: 4.19s\tremaining: 1.51s\n",
      "735:\tlearn: 101.5506448\ttotal: 4.2s\tremaining: 1.5s\n",
      "736:\tlearn: 101.5431533\ttotal: 4.2s\tremaining: 1.5s\n",
      "737:\tlearn: 101.4807785\ttotal: 4.21s\tremaining: 1.49s\n",
      "738:\tlearn: 101.3523446\ttotal: 4.21s\tremaining: 1.49s\n",
      "739:\tlearn: 101.1514939\ttotal: 4.21s\tremaining: 1.48s\n",
      "740:\tlearn: 101.1134197\ttotal: 4.22s\tremaining: 1.47s\n",
      "741:\tlearn: 101.0955541\ttotal: 4.22s\tremaining: 1.47s\n",
      "742:\tlearn: 101.0749748\ttotal: 4.22s\tremaining: 1.46s\n",
      "743:\tlearn: 101.0337454\ttotal: 4.23s\tremaining: 1.46s\n",
      "744:\tlearn: 100.9094352\ttotal: 4.23s\tremaining: 1.45s\n",
      "745:\tlearn: 100.8953950\ttotal: 4.24s\tremaining: 1.44s\n",
      "746:\tlearn: 100.8938353\ttotal: 4.24s\tremaining: 1.44s\n",
      "747:\tlearn: 100.3200523\ttotal: 4.24s\tremaining: 1.43s\n",
      "748:\tlearn: 100.1942492\ttotal: 4.25s\tremaining: 1.42s\n",
      "749:\tlearn: 100.1864200\ttotal: 4.25s\tremaining: 1.42s\n",
      "750:\tlearn: 100.1733543\ttotal: 4.25s\tremaining: 1.41s\n",
      "751:\tlearn: 100.1187739\ttotal: 4.26s\tremaining: 1.4s\n",
      "752:\tlearn: 100.1166168\ttotal: 4.26s\tremaining: 1.4s\n",
      "753:\tlearn: 100.0496594\ttotal: 4.27s\tremaining: 1.39s\n",
      "754:\tlearn: 99.9484332\ttotal: 4.27s\tremaining: 1.39s\n",
      "755:\tlearn: 99.9259839\ttotal: 4.28s\tremaining: 1.38s\n",
      "756:\tlearn: 99.9118645\ttotal: 4.28s\tremaining: 1.37s\n",
      "757:\tlearn: 99.8518744\ttotal: 4.28s\tremaining: 1.37s\n",
      "758:\tlearn: 99.7733433\ttotal: 4.29s\tremaining: 1.36s\n",
      "759:\tlearn: 99.7566668\ttotal: 4.29s\tremaining: 1.35s\n",
      "760:\tlearn: 99.7401776\ttotal: 4.29s\tremaining: 1.35s\n",
      "761:\tlearn: 99.7024484\ttotal: 4.3s\tremaining: 1.34s\n",
      "762:\tlearn: 99.6687483\ttotal: 4.3s\tremaining: 1.34s\n",
      "763:\tlearn: 99.6598195\ttotal: 4.31s\tremaining: 1.33s\n",
      "764:\tlearn: 99.6070121\ttotal: 4.32s\tremaining: 1.33s\n",
      "765:\tlearn: 99.5845699\ttotal: 4.33s\tremaining: 1.32s\n",
      "766:\tlearn: 99.5678847\ttotal: 4.34s\tremaining: 1.32s\n",
      "767:\tlearn: 99.5645301\ttotal: 4.34s\tremaining: 1.31s\n",
      "768:\tlearn: 99.3356805\ttotal: 4.34s\tremaining: 1.3s\n",
      "769:\tlearn: 99.3321655\ttotal: 4.35s\tremaining: 1.3s\n",
      "770:\tlearn: 99.2851922\ttotal: 4.35s\tremaining: 1.29s\n",
      "771:\tlearn: 99.1559592\ttotal: 4.36s\tremaining: 1.29s\n",
      "772:\tlearn: 99.1017715\ttotal: 4.36s\tremaining: 1.28s\n",
      "773:\tlearn: 99.0505375\ttotal: 4.37s\tremaining: 1.27s\n",
      "774:\tlearn: 99.0467005\ttotal: 4.37s\tremaining: 1.27s\n",
      "775:\tlearn: 99.0099988\ttotal: 4.37s\tremaining: 1.26s\n",
      "776:\tlearn: 98.9797929\ttotal: 4.38s\tremaining: 1.26s\n",
      "777:\tlearn: 98.9615516\ttotal: 4.38s\tremaining: 1.25s\n",
      "778:\tlearn: 98.7426145\ttotal: 4.39s\tremaining: 1.24s\n",
      "779:\tlearn: 98.7160614\ttotal: 4.39s\tremaining: 1.24s\n",
      "780:\tlearn: 98.6469740\ttotal: 4.39s\tremaining: 1.23s\n",
      "781:\tlearn: 98.4944033\ttotal: 4.4s\tremaining: 1.23s\n",
      "782:\tlearn: 98.4167669\ttotal: 4.4s\tremaining: 1.22s\n",
      "783:\tlearn: 98.3630761\ttotal: 4.4s\tremaining: 1.21s\n",
      "784:\tlearn: 98.3556456\ttotal: 4.41s\tremaining: 1.21s\n",
      "785:\tlearn: 98.1496183\ttotal: 4.41s\tremaining: 1.2s\n",
      "786:\tlearn: 98.0784437\ttotal: 4.42s\tremaining: 1.2s\n",
      "787:\tlearn: 97.8437254\ttotal: 4.42s\tremaining: 1.19s\n",
      "788:\tlearn: 97.8326811\ttotal: 4.42s\tremaining: 1.18s\n",
      "789:\tlearn: 97.7296076\ttotal: 4.43s\tremaining: 1.18s\n",
      "790:\tlearn: 97.6857762\ttotal: 4.43s\tremaining: 1.17s\n",
      "791:\tlearn: 97.6184115\ttotal: 4.43s\tremaining: 1.16s\n",
      "792:\tlearn: 97.5355930\ttotal: 4.44s\tremaining: 1.16s\n",
      "793:\tlearn: 97.4854866\ttotal: 4.44s\tremaining: 1.15s\n",
      "794:\tlearn: 97.4782137\ttotal: 4.45s\tremaining: 1.15s\n",
      "795:\tlearn: 97.4645004\ttotal: 4.45s\tremaining: 1.14s\n",
      "796:\tlearn: 97.4176545\ttotal: 4.45s\tremaining: 1.13s\n",
      "797:\tlearn: 97.3635306\ttotal: 4.46s\tremaining: 1.13s\n",
      "798:\tlearn: 97.3136395\ttotal: 4.46s\tremaining: 1.12s\n",
      "799:\tlearn: 97.2432207\ttotal: 4.46s\tremaining: 1.12s\n",
      "800:\tlearn: 97.1986379\ttotal: 4.47s\tremaining: 1.11s\n",
      "801:\tlearn: 97.1819524\ttotal: 4.47s\tremaining: 1.1s\n",
      "802:\tlearn: 97.1420963\ttotal: 4.48s\tremaining: 1.1s\n",
      "803:\tlearn: 97.0428380\ttotal: 4.48s\tremaining: 1.09s\n",
      "804:\tlearn: 97.0284871\ttotal: 4.48s\tremaining: 1.09s\n",
      "805:\tlearn: 96.8355162\ttotal: 4.49s\tremaining: 1.08s\n",
      "806:\tlearn: 96.7388592\ttotal: 4.49s\tremaining: 1.07s\n",
      "807:\tlearn: 96.6707360\ttotal: 4.5s\tremaining: 1.07s\n",
      "808:\tlearn: 96.4980992\ttotal: 4.5s\tremaining: 1.06s\n",
      "809:\tlearn: 96.3784709\ttotal: 4.5s\tremaining: 1.06s\n",
      "810:\tlearn: 96.3418961\ttotal: 4.51s\tremaining: 1.05s\n",
      "811:\tlearn: 96.2973538\ttotal: 4.52s\tremaining: 1.05s\n",
      "812:\tlearn: 96.2725727\ttotal: 4.53s\tremaining: 1.04s\n",
      "813:\tlearn: 96.2520895\ttotal: 4.54s\tremaining: 1.04s\n",
      "814:\tlearn: 96.2036797\ttotal: 4.54s\tremaining: 1.03s\n",
      "815:\tlearn: 96.2005041\ttotal: 4.55s\tremaining: 1.02s\n",
      "816:\tlearn: 96.0721446\ttotal: 4.55s\tremaining: 1.02s\n",
      "817:\tlearn: 95.9130763\ttotal: 4.56s\tremaining: 1.01s\n",
      "818:\tlearn: 95.8673388\ttotal: 4.56s\tremaining: 1.01s\n",
      "819:\tlearn: 95.6371254\ttotal: 4.57s\tremaining: 1s\n",
      "820:\tlearn: 95.6260339\ttotal: 4.57s\tremaining: 996ms\n",
      "821:\tlearn: 95.5740392\ttotal: 4.57s\tremaining: 990ms\n",
      "822:\tlearn: 95.4191690\ttotal: 4.58s\tremaining: 984ms\n",
      "823:\tlearn: 95.3867443\ttotal: 4.58s\tremaining: 978ms\n",
      "824:\tlearn: 95.2561274\ttotal: 4.58s\tremaining: 972ms\n",
      "825:\tlearn: 95.2375960\ttotal: 4.59s\tremaining: 966ms\n",
      "826:\tlearn: 94.9596011\ttotal: 4.59s\tremaining: 961ms\n",
      "827:\tlearn: 94.5809991\ttotal: 4.59s\tremaining: 955ms\n",
      "828:\tlearn: 94.3556292\ttotal: 4.6s\tremaining: 949ms\n",
      "829:\tlearn: 94.3430438\ttotal: 4.6s\tremaining: 943ms\n",
      "830:\tlearn: 94.3374859\ttotal: 4.61s\tremaining: 937ms\n",
      "831:\tlearn: 94.2774467\ttotal: 4.61s\tremaining: 931ms\n",
      "832:\tlearn: 94.2129167\ttotal: 4.62s\tremaining: 925ms\n",
      "833:\tlearn: 93.9280682\ttotal: 4.62s\tremaining: 919ms\n",
      "834:\tlearn: 93.8836965\ttotal: 4.62s\tremaining: 914ms\n",
      "835:\tlearn: 93.8100626\ttotal: 4.63s\tremaining: 908ms\n",
      "836:\tlearn: 93.7982173\ttotal: 4.63s\tremaining: 902ms\n",
      "837:\tlearn: 93.7600804\ttotal: 4.63s\tremaining: 896ms\n",
      "838:\tlearn: 93.7392883\ttotal: 4.64s\tremaining: 890ms\n",
      "839:\tlearn: 93.6718385\ttotal: 4.64s\tremaining: 884ms\n",
      "840:\tlearn: 93.5878437\ttotal: 4.65s\tremaining: 878ms\n",
      "841:\tlearn: 93.2286665\ttotal: 4.65s\tremaining: 873ms\n",
      "842:\tlearn: 93.1261383\ttotal: 4.65s\tremaining: 867ms\n",
      "843:\tlearn: 93.0806528\ttotal: 4.66s\tremaining: 861ms\n",
      "844:\tlearn: 93.0358584\ttotal: 4.66s\tremaining: 855ms\n",
      "845:\tlearn: 92.9491073\ttotal: 4.67s\tremaining: 849ms\n",
      "846:\tlearn: 92.9335365\ttotal: 4.67s\tremaining: 843ms\n",
      "847:\tlearn: 92.8462409\ttotal: 4.67s\tremaining: 838ms\n",
      "848:\tlearn: 92.7955906\ttotal: 4.68s\tremaining: 832ms\n",
      "849:\tlearn: 92.7899626\ttotal: 4.68s\tremaining: 826ms\n",
      "850:\tlearn: 92.7547443\ttotal: 4.68s\tremaining: 820ms\n",
      "851:\tlearn: 92.7135552\ttotal: 4.69s\tremaining: 814ms\n",
      "852:\tlearn: 92.7126379\ttotal: 4.69s\tremaining: 809ms\n",
      "853:\tlearn: 92.6516185\ttotal: 4.7s\tremaining: 803ms\n",
      "854:\tlearn: 92.6380191\ttotal: 4.7s\tremaining: 797ms\n",
      "855:\tlearn: 92.6307735\ttotal: 4.7s\tremaining: 791ms\n",
      "856:\tlearn: 92.4752930\ttotal: 4.71s\tremaining: 786ms\n",
      "857:\tlearn: 92.4639872\ttotal: 4.72s\tremaining: 781ms\n",
      "858:\tlearn: 92.4415944\ttotal: 4.73s\tremaining: 776ms\n",
      "859:\tlearn: 92.3469270\ttotal: 4.74s\tremaining: 771ms\n",
      "860:\tlearn: 92.0037450\ttotal: 4.74s\tremaining: 766ms\n",
      "861:\tlearn: 91.9543742\ttotal: 4.75s\tremaining: 760ms\n",
      "862:\tlearn: 91.9191023\ttotal: 4.75s\tremaining: 755ms\n",
      "863:\tlearn: 91.9039508\ttotal: 4.76s\tremaining: 749ms\n",
      "864:\tlearn: 91.8488278\ttotal: 4.76s\tremaining: 743ms\n",
      "865:\tlearn: 91.7225146\ttotal: 4.76s\tremaining: 737ms\n",
      "866:\tlearn: 91.6815755\ttotal: 4.77s\tremaining: 732ms\n",
      "867:\tlearn: 91.6791123\ttotal: 4.77s\tremaining: 726ms\n",
      "868:\tlearn: 91.2577468\ttotal: 4.78s\tremaining: 720ms\n",
      "869:\tlearn: 91.1380663\ttotal: 4.78s\tremaining: 714ms\n",
      "870:\tlearn: 91.0759424\ttotal: 4.78s\tremaining: 709ms\n",
      "871:\tlearn: 91.0706804\ttotal: 4.79s\tremaining: 703ms\n",
      "872:\tlearn: 90.8772951\ttotal: 4.79s\tremaining: 697ms\n",
      "873:\tlearn: 90.7387241\ttotal: 4.79s\tremaining: 691ms\n",
      "874:\tlearn: 90.6880994\ttotal: 4.8s\tremaining: 686ms\n",
      "875:\tlearn: 90.6706381\ttotal: 4.8s\tremaining: 680ms\n",
      "876:\tlearn: 90.4931986\ttotal: 4.81s\tremaining: 674ms\n",
      "877:\tlearn: 90.3810316\ttotal: 4.81s\tremaining: 669ms\n",
      "878:\tlearn: 90.2787677\ttotal: 4.82s\tremaining: 663ms\n",
      "879:\tlearn: 90.1893694\ttotal: 4.82s\tremaining: 657ms\n",
      "880:\tlearn: 90.1726467\ttotal: 4.82s\tremaining: 652ms\n",
      "881:\tlearn: 90.1675783\ttotal: 4.83s\tremaining: 646ms\n",
      "882:\tlearn: 90.1437311\ttotal: 4.83s\tremaining: 640ms\n",
      "883:\tlearn: 90.0768909\ttotal: 4.83s\tremaining: 634ms\n",
      "884:\tlearn: 89.9993613\ttotal: 4.84s\tremaining: 629ms\n",
      "885:\tlearn: 89.7900230\ttotal: 4.84s\tremaining: 623ms\n",
      "886:\tlearn: 89.7786801\ttotal: 4.85s\tremaining: 617ms\n",
      "887:\tlearn: 89.7202561\ttotal: 4.85s\tremaining: 612ms\n",
      "888:\tlearn: 89.5486458\ttotal: 4.85s\tremaining: 606ms\n",
      "889:\tlearn: 89.4886457\ttotal: 4.86s\tremaining: 600ms\n",
      "890:\tlearn: 89.4872853\ttotal: 4.86s\tremaining: 595ms\n",
      "891:\tlearn: 89.4723396\ttotal: 4.87s\tremaining: 589ms\n",
      "892:\tlearn: 89.4412721\ttotal: 4.87s\tremaining: 583ms\n",
      "893:\tlearn: 89.4353740\ttotal: 4.87s\tremaining: 578ms\n",
      "894:\tlearn: 89.4337603\ttotal: 4.88s\tremaining: 572ms\n",
      "895:\tlearn: 89.2932786\ttotal: 4.88s\tremaining: 566ms\n",
      "896:\tlearn: 88.9074727\ttotal: 4.88s\tremaining: 561ms\n",
      "897:\tlearn: 88.8618819\ttotal: 4.89s\tremaining: 555ms\n",
      "898:\tlearn: 88.8411379\ttotal: 4.89s\tremaining: 550ms\n",
      "899:\tlearn: 88.7306615\ttotal: 4.89s\tremaining: 544ms\n",
      "900:\tlearn: 88.7246208\ttotal: 4.9s\tremaining: 538ms\n",
      "901:\tlearn: 88.6470597\ttotal: 4.9s\tremaining: 533ms\n",
      "902:\tlearn: 88.6276916\ttotal: 4.92s\tremaining: 528ms\n",
      "903:\tlearn: 88.6048951\ttotal: 4.93s\tremaining: 524ms\n",
      "904:\tlearn: 88.5677845\ttotal: 4.94s\tremaining: 519ms\n",
      "905:\tlearn: 88.5439074\ttotal: 4.95s\tremaining: 513ms\n",
      "906:\tlearn: 88.4332106\ttotal: 4.95s\tremaining: 508ms\n",
      "907:\tlearn: 88.3780789\ttotal: 4.96s\tremaining: 503ms\n",
      "908:\tlearn: 88.3526668\ttotal: 4.97s\tremaining: 497ms\n",
      "909:\tlearn: 88.3057168\ttotal: 4.97s\tremaining: 492ms\n",
      "910:\tlearn: 88.2152833\ttotal: 4.98s\tremaining: 486ms\n",
      "911:\tlearn: 88.1980477\ttotal: 4.98s\tremaining: 481ms\n",
      "912:\tlearn: 88.1832987\ttotal: 4.99s\tremaining: 475ms\n",
      "913:\tlearn: 87.9246517\ttotal: 5s\tremaining: 470ms\n",
      "914:\tlearn: 87.8905427\ttotal: 5s\tremaining: 465ms\n",
      "915:\tlearn: 87.8313210\ttotal: 5.01s\tremaining: 459ms\n",
      "916:\tlearn: 87.8140780\ttotal: 5.01s\tremaining: 454ms\n",
      "917:\tlearn: 87.7200883\ttotal: 5.02s\tremaining: 448ms\n",
      "918:\tlearn: 87.7161219\ttotal: 5.03s\tremaining: 443ms\n",
      "919:\tlearn: 87.3672044\ttotal: 5.03s\tremaining: 438ms\n",
      "920:\tlearn: 87.3531634\ttotal: 5.04s\tremaining: 432ms\n",
      "921:\tlearn: 87.2920208\ttotal: 5.04s\tremaining: 427ms\n",
      "922:\tlearn: 87.1953940\ttotal: 5.05s\tremaining: 421ms\n",
      "923:\tlearn: 87.1715228\ttotal: 5.06s\tremaining: 416ms\n",
      "924:\tlearn: 87.0936536\ttotal: 5.06s\tremaining: 410ms\n",
      "925:\tlearn: 87.0844086\ttotal: 5.06s\tremaining: 405ms\n",
      "926:\tlearn: 86.8899446\ttotal: 5.07s\tremaining: 399ms\n",
      "927:\tlearn: 86.8583865\ttotal: 5.07s\tremaining: 394ms\n",
      "928:\tlearn: 86.8552754\ttotal: 5.08s\tremaining: 388ms\n",
      "929:\tlearn: 86.8476433\ttotal: 5.08s\tremaining: 382ms\n",
      "930:\tlearn: 86.8464740\ttotal: 5.08s\tremaining: 377ms\n",
      "931:\tlearn: 86.7854943\ttotal: 5.09s\tremaining: 371ms\n",
      "932:\tlearn: 86.7846200\ttotal: 5.09s\tremaining: 366ms\n",
      "933:\tlearn: 86.7097339\ttotal: 5.1s\tremaining: 360ms\n",
      "934:\tlearn: 86.6598427\ttotal: 5.1s\tremaining: 355ms\n",
      "935:\tlearn: 86.6543573\ttotal: 5.1s\tremaining: 349ms\n",
      "936:\tlearn: 86.6255819\ttotal: 5.11s\tremaining: 343ms\n",
      "937:\tlearn: 86.5758665\ttotal: 5.11s\tremaining: 338ms\n",
      "938:\tlearn: 86.4297321\ttotal: 5.12s\tremaining: 333ms\n",
      "939:\tlearn: 86.2072111\ttotal: 5.13s\tremaining: 328ms\n",
      "940:\tlearn: 86.1909248\ttotal: 5.14s\tremaining: 322ms\n",
      "941:\tlearn: 86.1370578\ttotal: 5.15s\tremaining: 317ms\n",
      "942:\tlearn: 86.0655137\ttotal: 5.15s\tremaining: 311ms\n",
      "943:\tlearn: 86.0494602\ttotal: 5.15s\tremaining: 306ms\n",
      "944:\tlearn: 86.0198377\ttotal: 5.16s\tremaining: 300ms\n",
      "945:\tlearn: 85.9916026\ttotal: 5.17s\tremaining: 295ms\n",
      "946:\tlearn: 85.9781268\ttotal: 5.17s\tremaining: 289ms\n",
      "947:\tlearn: 85.9498875\ttotal: 5.17s\tremaining: 284ms\n",
      "948:\tlearn: 85.9352111\ttotal: 5.18s\tremaining: 278ms\n",
      "949:\tlearn: 85.9169852\ttotal: 5.18s\tremaining: 273ms\n",
      "950:\tlearn: 85.8682704\ttotal: 5.18s\tremaining: 267ms\n",
      "951:\tlearn: 85.8372671\ttotal: 5.19s\tremaining: 262ms\n",
      "952:\tlearn: 85.8323163\ttotal: 5.19s\tremaining: 256ms\n",
      "953:\tlearn: 85.7440069\ttotal: 5.2s\tremaining: 251ms\n",
      "954:\tlearn: 85.7223258\ttotal: 5.2s\tremaining: 245ms\n",
      "955:\tlearn: 85.7137148\ttotal: 5.21s\tremaining: 240ms\n",
      "956:\tlearn: 85.6850409\ttotal: 5.21s\tremaining: 234ms\n",
      "957:\tlearn: 85.6572005\ttotal: 5.21s\tremaining: 229ms\n",
      "958:\tlearn: 85.6441798\ttotal: 5.22s\tremaining: 223ms\n",
      "959:\tlearn: 85.4160406\ttotal: 5.22s\tremaining: 218ms\n",
      "960:\tlearn: 85.3900050\ttotal: 5.23s\tremaining: 212ms\n",
      "961:\tlearn: 85.3404059\ttotal: 5.23s\tremaining: 207ms\n",
      "962:\tlearn: 85.3371242\ttotal: 5.24s\tremaining: 201ms\n",
      "963:\tlearn: 85.2245254\ttotal: 5.24s\tremaining: 196ms\n",
      "964:\tlearn: 85.0934867\ttotal: 5.24s\tremaining: 190ms\n",
      "965:\tlearn: 85.0905982\ttotal: 5.25s\tremaining: 185ms\n",
      "966:\tlearn: 85.0599067\ttotal: 5.25s\tremaining: 179ms\n",
      "967:\tlearn: 85.0353895\ttotal: 5.25s\tremaining: 174ms\n",
      "968:\tlearn: 85.0297756\ttotal: 5.26s\tremaining: 168ms\n",
      "969:\tlearn: 85.0276164\ttotal: 5.26s\tremaining: 163ms\n",
      "970:\tlearn: 84.9749847\ttotal: 5.27s\tremaining: 157ms\n",
      "971:\tlearn: 84.9717627\ttotal: 5.27s\tremaining: 152ms\n",
      "972:\tlearn: 84.9375709\ttotal: 5.28s\tremaining: 146ms\n",
      "973:\tlearn: 84.7619166\ttotal: 5.28s\tremaining: 141ms\n",
      "974:\tlearn: 84.7609030\ttotal: 5.28s\tremaining: 135ms\n",
      "975:\tlearn: 84.6559468\ttotal: 5.29s\tremaining: 130ms\n",
      "976:\tlearn: 84.5921086\ttotal: 5.29s\tremaining: 125ms\n",
      "977:\tlearn: 84.5886650\ttotal: 5.29s\tremaining: 119ms\n",
      "978:\tlearn: 84.5753920\ttotal: 5.3s\tremaining: 114ms\n",
      "979:\tlearn: 84.5543807\ttotal: 5.3s\tremaining: 108ms\n",
      "980:\tlearn: 84.5409624\ttotal: 5.31s\tremaining: 103ms\n",
      "981:\tlearn: 84.5328159\ttotal: 5.32s\tremaining: 97.5ms\n",
      "982:\tlearn: 84.5044693\ttotal: 5.33s\tremaining: 92.1ms\n",
      "983:\tlearn: 84.4988433\ttotal: 5.34s\tremaining: 86.8ms\n",
      "984:\tlearn: 84.4707205\ttotal: 5.34s\tremaining: 81.4ms\n",
      "985:\tlearn: 84.4656920\ttotal: 5.35s\tremaining: 75.9ms\n",
      "986:\tlearn: 84.4534288\ttotal: 5.35s\tremaining: 70.5ms\n",
      "987:\tlearn: 84.4499039\ttotal: 5.36s\tremaining: 65.1ms\n",
      "988:\tlearn: 84.4384490\ttotal: 5.36s\tremaining: 59.6ms\n",
      "989:\tlearn: 84.4295091\ttotal: 5.36s\tremaining: 54.2ms\n",
      "990:\tlearn: 84.3602049\ttotal: 5.37s\tremaining: 48.8ms\n",
      "991:\tlearn: 84.3283705\ttotal: 5.37s\tremaining: 43.3ms\n",
      "992:\tlearn: 84.3026432\ttotal: 5.38s\tremaining: 37.9ms\n",
      "993:\tlearn: 84.2710204\ttotal: 5.38s\tremaining: 32.5ms\n",
      "994:\tlearn: 84.2489674\ttotal: 5.38s\tremaining: 27.1ms\n",
      "995:\tlearn: 84.2068234\ttotal: 5.39s\tremaining: 21.6ms\n",
      "996:\tlearn: 84.2020602\ttotal: 5.39s\tremaining: 16.2ms\n",
      "997:\tlearn: 83.9636149\ttotal: 5.39s\tremaining: 10.8ms\n",
      "998:\tlearn: 83.9607384\ttotal: 5.4s\tremaining: 5.4ms\n",
      "999:\tlearn: 83.9457734\ttotal: 5.4s\tremaining: 0us\n"
     ]
    },
    {
     "data": {
      "text/plain": [
       "<catboost.core.CatBoostRegressor at 0x1a26bfbfd0>"
      ]
     },
     "execution_count": 50,
     "metadata": {},
     "output_type": "execute_result"
    }
   ],
   "source": [
    "cb_model.fit(X_train, y_train)"
   ]
  },
  {
   "cell_type": "code",
   "execution_count": 51,
   "metadata": {},
   "outputs": [],
   "source": [
    "y_pred = cb_model.predict(X_test)"
   ]
  },
  {
   "cell_type": "code",
   "execution_count": 53,
   "metadata": {},
   "outputs": [
    {
     "data": {
      "text/plain": [
       "338.6057180276713"
      ]
     },
     "execution_count": 53,
     "metadata": {},
     "output_type": "execute_result"
    }
   ],
   "source": [
    "cb_error = np.sqrt(mean_squared_error(y_test, y_pred))\n",
    "cb_error"
   ]
  },
  {
   "cell_type": "code",
   "execution_count": null,
   "metadata": {},
   "outputs": [],
   "source": []
  },
  {
   "cell_type": "markdown",
   "metadata": {},
   "source": [
    "### Model tuning"
   ]
  },
  {
   "cell_type": "markdown",
   "metadata": {},
   "source": [
    "##### Use best params from course because cross-validation will take so long time"
   ]
  },
  {
   "cell_type": "code",
   "execution_count": 62,
   "metadata": {},
   "outputs": [
    {
     "name": "stdout",
     "output_type": "stream",
     "text": [
      "0:\tlearn: 697.2881432\ttotal: 169ms\tremaining: 4m 30s\n",
      "1:\tlearn: 692.6413251\ttotal: 292ms\tremaining: 3m 53s\n",
      "2:\tlearn: 688.4535918\ttotal: 428ms\tremaining: 3m 47s\n",
      "3:\tlearn: 684.9356878\ttotal: 549ms\tremaining: 3m 39s\n",
      "4:\tlearn: 679.9945396\ttotal: 686ms\tremaining: 3m 38s\n",
      "5:\tlearn: 675.6610999\ttotal: 804ms\tremaining: 3m 33s\n",
      "6:\tlearn: 671.9192964\ttotal: 947ms\tremaining: 3m 35s\n",
      "7:\tlearn: 667.6462543\ttotal: 1.07s\tremaining: 3m 32s\n",
      "8:\tlearn: 664.0228775\ttotal: 1.2s\tremaining: 3m 31s\n",
      "9:\tlearn: 659.7682542\ttotal: 1.31s\tremaining: 3m 29s\n",
      "10:\tlearn: 655.6785360\ttotal: 1.45s\tremaining: 3m 28s\n",
      "11:\tlearn: 651.4467333\ttotal: 1.51s\tremaining: 3m 19s\n",
      "12:\tlearn: 647.4659948\ttotal: 1.63s\tremaining: 3m 18s\n",
      "13:\tlearn: 642.9196705\ttotal: 1.76s\tremaining: 3m 19s\n",
      "14:\tlearn: 638.6757200\ttotal: 1.88s\tremaining: 3m 18s\n",
      "15:\tlearn: 634.9261854\ttotal: 2.01s\tremaining: 3m 19s\n",
      "16:\tlearn: 630.5540804\ttotal: 2.13s\tremaining: 3m 18s\n",
      "17:\tlearn: 626.5798364\ttotal: 2.28s\tremaining: 3m 20s\n",
      "18:\tlearn: 622.5078957\ttotal: 2.42s\tremaining: 3m 21s\n",
      "19:\tlearn: 618.4257987\ttotal: 2.55s\tremaining: 3m 21s\n",
      "20:\tlearn: 614.5616696\ttotal: 2.66s\tremaining: 3m 20s\n",
      "21:\tlearn: 610.8018667\ttotal: 2.8s\tremaining: 3m 20s\n",
      "22:\tlearn: 606.6214150\ttotal: 2.82s\tremaining: 3m 13s\n",
      "23:\tlearn: 602.5965175\ttotal: 2.94s\tremaining: 3m 12s\n",
      "24:\tlearn: 599.0530268\ttotal: 3.07s\tremaining: 3m 13s\n",
      "25:\tlearn: 594.9468588\ttotal: 3.19s\tremaining: 3m 13s\n",
      "26:\tlearn: 591.0855956\ttotal: 3.32s\tremaining: 3m 13s\n",
      "27:\tlearn: 587.4826959\ttotal: 3.45s\tremaining: 3m 13s\n",
      "28:\tlearn: 584.1531777\ttotal: 3.58s\tremaining: 3m 13s\n",
      "29:\tlearn: 580.2721334\ttotal: 3.69s\tremaining: 3m 13s\n",
      "30:\tlearn: 576.5729171\ttotal: 3.82s\tremaining: 3m 13s\n",
      "31:\tlearn: 573.0763078\ttotal: 3.95s\tremaining: 3m 13s\n",
      "32:\tlearn: 570.4504759\ttotal: 4.08s\tremaining: 3m 13s\n",
      "33:\tlearn: 567.2206730\ttotal: 4.2s\tremaining: 3m 13s\n",
      "34:\tlearn: 563.7099711\ttotal: 4.33s\tremaining: 3m 13s\n",
      "35:\tlearn: 560.3319708\ttotal: 4.39s\tremaining: 3m 10s\n",
      "36:\tlearn: 556.8249155\ttotal: 4.5s\tremaining: 3m 10s\n",
      "37:\tlearn: 553.6893563\ttotal: 4.63s\tremaining: 3m 10s\n",
      "38:\tlearn: 550.2436167\ttotal: 4.74s\tremaining: 3m 9s\n",
      "39:\tlearn: 547.0140712\ttotal: 4.87s\tremaining: 3m 10s\n",
      "40:\tlearn: 543.7735365\ttotal: 5s\tremaining: 3m 10s\n",
      "41:\tlearn: 540.1222628\ttotal: 5.07s\tremaining: 3m 8s\n",
      "42:\tlearn: 536.5752950\ttotal: 5.22s\tremaining: 3m 9s\n",
      "43:\tlearn: 533.9943790\ttotal: 5.35s\tremaining: 3m 9s\n",
      "44:\tlearn: 530.9335102\ttotal: 5.49s\tremaining: 3m 9s\n",
      "45:\tlearn: 527.6569645\ttotal: 5.61s\tremaining: 3m 9s\n",
      "46:\tlearn: 524.0628282\ttotal: 5.75s\tremaining: 3m 9s\n",
      "47:\tlearn: 521.3729712\ttotal: 5.87s\tremaining: 3m 9s\n",
      "48:\tlearn: 518.3850235\ttotal: 5.99s\tremaining: 3m 9s\n",
      "49:\tlearn: 515.1199506\ttotal: 6.11s\tremaining: 3m 9s\n",
      "50:\tlearn: 512.1337229\ttotal: 6.24s\tremaining: 3m 9s\n",
      "51:\tlearn: 509.2025640\ttotal: 6.27s\tremaining: 3m 6s\n",
      "52:\tlearn: 506.1676934\ttotal: 6.38s\tremaining: 3m 6s\n",
      "53:\tlearn: 503.0551326\ttotal: 6.51s\tremaining: 3m 6s\n",
      "54:\tlearn: 500.0430560\ttotal: 6.63s\tremaining: 3m 6s\n",
      "55:\tlearn: 497.1281463\ttotal: 6.76s\tremaining: 3m 6s\n",
      "56:\tlearn: 494.1638918\ttotal: 6.82s\tremaining: 3m 4s\n",
      "57:\tlearn: 491.7244512\ttotal: 6.93s\tremaining: 3m 4s\n",
      "58:\tlearn: 488.9526258\ttotal: 7.06s\tremaining: 3m 4s\n",
      "59:\tlearn: 486.3582799\ttotal: 7.18s\tremaining: 3m 4s\n",
      "60:\tlearn: 483.3253407\ttotal: 7.2s\tremaining: 3m 1s\n",
      "61:\tlearn: 480.2841364\ttotal: 7.34s\tremaining: 3m 2s\n",
      "62:\tlearn: 477.6243845\ttotal: 7.46s\tremaining: 3m 1s\n",
      "63:\tlearn: 475.0349645\ttotal: 7.58s\tremaining: 3m 2s\n",
      "64:\tlearn: 472.3569127\ttotal: 7.71s\tremaining: 3m 2s\n",
      "65:\tlearn: 469.8627186\ttotal: 7.84s\tremaining: 3m 2s\n",
      "66:\tlearn: 467.1384421\ttotal: 7.97s\tremaining: 3m 2s\n",
      "67:\tlearn: 464.5499127\ttotal: 8.11s\tremaining: 3m 2s\n",
      "68:\tlearn: 462.1952019\ttotal: 8.14s\tremaining: 3m\n",
      "69:\tlearn: 459.7324322\ttotal: 8.25s\tremaining: 3m\n",
      "70:\tlearn: 457.0377047\ttotal: 8.38s\tremaining: 3m\n",
      "71:\tlearn: 454.4394913\ttotal: 8.51s\tremaining: 3m\n",
      "72:\tlearn: 451.7814693\ttotal: 8.65s\tremaining: 3m\n",
      "73:\tlearn: 449.2787761\ttotal: 8.76s\tremaining: 3m\n",
      "74:\tlearn: 446.9383066\ttotal: 8.9s\tremaining: 3m\n",
      "75:\tlearn: 444.4857124\ttotal: 9.01s\tremaining: 3m\n",
      "76:\tlearn: 442.2034288\ttotal: 9.14s\tremaining: 3m\n",
      "77:\tlearn: 439.8550998\ttotal: 9.16s\tremaining: 2m 58s\n",
      "78:\tlearn: 438.0318181\ttotal: 9.27s\tremaining: 2m 58s\n",
      "79:\tlearn: 436.0091702\ttotal: 9.39s\tremaining: 2m 58s\n",
      "80:\tlearn: 434.1327051\ttotal: 9.51s\tremaining: 2m 58s\n",
      "81:\tlearn: 431.6268519\ttotal: 9.63s\tremaining: 2m 58s\n",
      "82:\tlearn: 429.5885294\ttotal: 9.75s\tremaining: 2m 58s\n",
      "83:\tlearn: 427.2379288\ttotal: 9.88s\tremaining: 2m 58s\n",
      "84:\tlearn: 425.0630571\ttotal: 9.99s\tremaining: 2m 58s\n",
      "85:\tlearn: 422.7393325\ttotal: 10.1s\tremaining: 2m 58s\n",
      "86:\tlearn: 420.4664432\ttotal: 10.3s\tremaining: 2m 58s\n",
      "87:\tlearn: 418.1856304\ttotal: 10.4s\tremaining: 2m 58s\n",
      "88:\tlearn: 416.0078190\ttotal: 10.4s\tremaining: 2m 56s\n",
      "89:\tlearn: 413.6791526\ttotal: 10.5s\tremaining: 2m 56s\n",
      "90:\tlearn: 411.5314792\ttotal: 10.5s\tremaining: 2m 54s\n",
      "91:\tlearn: 409.7789890\ttotal: 10.5s\tremaining: 2m 52s\n",
      "92:\tlearn: 407.6655161\ttotal: 10.7s\tremaining: 2m 53s\n",
      "93:\tlearn: 405.8544577\ttotal: 10.8s\tremaining: 2m 53s\n",
      "94:\tlearn: 403.8044667\ttotal: 10.9s\tremaining: 2m 53s\n",
      "95:\tlearn: 401.9285582\ttotal: 11s\tremaining: 2m 53s\n",
      "96:\tlearn: 399.7222229\ttotal: 11.2s\tremaining: 2m 53s\n",
      "97:\tlearn: 397.6166562\ttotal: 11.2s\tremaining: 2m 52s\n",
      "98:\tlearn: 395.4281076\ttotal: 11.4s\tremaining: 2m 52s\n",
      "99:\tlearn: 393.2679749\ttotal: 11.5s\tremaining: 2m 52s\n",
      "100:\tlearn: 391.4914173\ttotal: 11.6s\tremaining: 2m 52s\n",
      "101:\tlearn: 389.5570388\ttotal: 11.8s\tremaining: 2m 52s\n",
      "102:\tlearn: 387.8301012\ttotal: 11.9s\tremaining: 2m 52s\n",
      "103:\tlearn: 386.0654451\ttotal: 12s\tremaining: 2m 52s\n",
      "104:\tlearn: 384.1483329\ttotal: 12s\tremaining: 2m 51s\n",
      "105:\tlearn: 382.2342307\ttotal: 12.1s\tremaining: 2m 49s\n",
      "106:\tlearn: 380.3825770\ttotal: 12.2s\tremaining: 2m 49s\n",
      "107:\tlearn: 378.6873350\ttotal: 12.3s\tremaining: 2m 49s\n",
      "108:\tlearn: 376.7372868\ttotal: 12.3s\tremaining: 2m 48s\n",
      "109:\tlearn: 375.1026005\ttotal: 12.4s\tremaining: 2m 48s\n",
      "110:\tlearn: 373.1780395\ttotal: 12.6s\tremaining: 2m 48s\n",
      "111:\tlearn: 371.6038112\ttotal: 12.7s\tremaining: 2m 48s\n",
      "112:\tlearn: 369.8753962\ttotal: 12.8s\tremaining: 2m 48s\n",
      "113:\tlearn: 368.2661349\ttotal: 12.9s\tremaining: 2m 48s\n",
      "114:\tlearn: 366.4350693\ttotal: 13.1s\tremaining: 2m 48s\n",
      "115:\tlearn: 364.9111366\ttotal: 13.2s\tremaining: 2m 48s\n",
      "116:\tlearn: 363.4490879\ttotal: 13.3s\tremaining: 2m 48s\n",
      "117:\tlearn: 361.6723613\ttotal: 13.4s\tremaining: 2m 48s\n",
      "118:\tlearn: 360.2192838\ttotal: 13.6s\tremaining: 2m 48s\n",
      "119:\tlearn: 358.7043245\ttotal: 13.7s\tremaining: 2m 48s\n",
      "120:\tlearn: 357.0174117\ttotal: 13.8s\tremaining: 2m 48s\n",
      "121:\tlearn: 355.3365955\ttotal: 13.9s\tremaining: 2m 48s\n",
      "122:\tlearn: 353.7463594\ttotal: 14.1s\tremaining: 2m 48s\n",
      "123:\tlearn: 352.1526880\ttotal: 14.2s\tremaining: 2m 48s\n",
      "124:\tlearn: 350.5334295\ttotal: 14.3s\tremaining: 2m 48s\n",
      "125:\tlearn: 348.9533915\ttotal: 14.4s\tremaining: 2m 48s\n",
      "126:\tlearn: 347.2817552\ttotal: 14.6s\tremaining: 2m 48s\n",
      "127:\tlearn: 345.6688476\ttotal: 14.7s\tremaining: 2m 49s\n",
      "128:\tlearn: 344.3070165\ttotal: 14.8s\tremaining: 2m 49s\n",
      "129:\tlearn: 343.0193238\ttotal: 14.9s\tremaining: 2m 48s\n",
      "130:\tlearn: 341.4431948\ttotal: 15.1s\tremaining: 2m 49s\n",
      "131:\tlearn: 339.9756290\ttotal: 15.1s\tremaining: 2m 48s\n",
      "132:\tlearn: 338.6122850\ttotal: 15.3s\tremaining: 2m 49s\n",
      "133:\tlearn: 337.3826288\ttotal: 15.5s\tremaining: 2m 49s\n",
      "134:\tlearn: 335.9997718\ttotal: 15.8s\tremaining: 2m 51s\n",
      "135:\tlearn: 334.6884802\ttotal: 16s\tremaining: 2m 52s\n",
      "136:\tlearn: 333.2989699\ttotal: 16.2s\tremaining: 2m 52s\n",
      "137:\tlearn: 331.9917872\ttotal: 16.3s\tremaining: 2m 53s\n",
      "138:\tlearn: 330.6608398\ttotal: 16.5s\tremaining: 2m 52s\n",
      "139:\tlearn: 329.4261531\ttotal: 16.6s\tremaining: 2m 53s\n",
      "140:\tlearn: 328.0794558\ttotal: 16.7s\tremaining: 2m 53s\n",
      "141:\tlearn: 326.8342343\ttotal: 16.9s\tremaining: 2m 53s\n",
      "142:\tlearn: 325.5056140\ttotal: 17s\tremaining: 2m 53s\n",
      "143:\tlearn: 324.2981097\ttotal: 17.2s\tremaining: 2m 54s\n",
      "144:\tlearn: 322.9354735\ttotal: 17.4s\tremaining: 2m 54s\n",
      "145:\tlearn: 321.5916896\ttotal: 17.5s\tremaining: 2m 54s\n",
      "146:\tlearn: 320.4135295\ttotal: 17.7s\tremaining: 2m 54s\n",
      "147:\tlearn: 319.1177251\ttotal: 17.8s\tremaining: 2m 54s\n",
      "148:\tlearn: 317.9049917\ttotal: 17.9s\tremaining: 2m 54s\n",
      "149:\tlearn: 316.6958339\ttotal: 18.1s\tremaining: 2m 55s\n",
      "150:\tlearn: 315.4381572\ttotal: 18.4s\tremaining: 2m 56s\n",
      "151:\tlearn: 314.3269890\ttotal: 18.6s\tremaining: 2m 57s\n",
      "152:\tlearn: 313.0924018\ttotal: 18.8s\tremaining: 2m 58s\n",
      "153:\tlearn: 311.9700349\ttotal: 18.9s\tremaining: 2m 57s\n",
      "154:\tlearn: 310.7713736\ttotal: 19.1s\tremaining: 2m 58s\n",
      "155:\tlearn: 309.6169783\ttotal: 19.2s\tremaining: 2m 58s\n",
      "156:\tlearn: 308.5996713\ttotal: 19.4s\tremaining: 2m 58s\n",
      "157:\tlearn: 307.5703785\ttotal: 19.4s\tremaining: 2m 57s\n",
      "158:\tlearn: 306.4169686\ttotal: 19.4s\tremaining: 2m 56s\n",
      "159:\tlearn: 305.2928601\ttotal: 19.6s\tremaining: 2m 56s\n",
      "160:\tlearn: 304.1198084\ttotal: 19.7s\tremaining: 2m 55s\n",
      "161:\tlearn: 303.1720961\ttotal: 19.7s\tremaining: 2m 54s\n",
      "162:\tlearn: 302.0588657\ttotal: 19.8s\tremaining: 2m 54s\n",
      "163:\tlearn: 301.1179885\ttotal: 19.9s\tremaining: 2m 54s\n",
      "164:\tlearn: 300.1397078\ttotal: 20s\tremaining: 2m 54s\n",
      "165:\tlearn: 299.0433634\ttotal: 20.2s\tremaining: 2m 54s\n",
      "166:\tlearn: 297.9969556\ttotal: 20.5s\tremaining: 2m 55s\n",
      "167:\tlearn: 297.0167451\ttotal: 20.7s\tremaining: 2m 56s\n",
      "168:\tlearn: 295.9783480\ttotal: 20.9s\tremaining: 2m 56s\n",
      "169:\tlearn: 294.9830106\ttotal: 21.1s\tremaining: 2m 57s\n",
      "170:\tlearn: 293.8864262\ttotal: 21.1s\tremaining: 2m 56s\n",
      "171:\tlearn: 292.7778639\ttotal: 21.2s\tremaining: 2m 55s\n",
      "172:\tlearn: 291.6841741\ttotal: 21.3s\tremaining: 2m 56s\n",
      "173:\tlearn: 290.7595128\ttotal: 21.4s\tremaining: 2m 55s\n",
      "174:\tlearn: 289.8034678\ttotal: 21.5s\tremaining: 2m 55s\n",
      "175:\tlearn: 288.8358347\ttotal: 21.7s\tremaining: 2m 55s\n",
      "176:\tlearn: 287.8796274\ttotal: 21.9s\tremaining: 2m 56s\n",
      "177:\tlearn: 286.9522748\ttotal: 22.1s\tremaining: 2m 56s\n",
      "178:\tlearn: 286.1123232\ttotal: 22.3s\tremaining: 2m 57s\n",
      "179:\tlearn: 285.1358186\ttotal: 22.5s\tremaining: 2m 57s\n",
      "180:\tlearn: 284.2867600\ttotal: 22.6s\tremaining: 2m 57s\n",
      "181:\tlearn: 283.2712567\ttotal: 22.7s\tremaining: 2m 57s\n",
      "182:\tlearn: 282.2458124\ttotal: 22.9s\tremaining: 2m 57s\n",
      "183:\tlearn: 281.3598210\ttotal: 23.1s\tremaining: 2m 57s\n",
      "184:\tlearn: 280.4847753\ttotal: 23.1s\tremaining: 2m 56s\n",
      "185:\tlearn: 279.6051834\ttotal: 23.2s\tremaining: 2m 56s\n",
      "186:\tlearn: 278.7178721\ttotal: 23.3s\tremaining: 2m 56s\n",
      "187:\tlearn: 277.7412202\ttotal: 23.4s\tremaining: 2m 55s\n",
      "188:\tlearn: 277.0530402\ttotal: 23.6s\tremaining: 2m 55s\n",
      "189:\tlearn: 276.0259315\ttotal: 23.7s\tremaining: 2m 55s\n",
      "190:\tlearn: 275.2831935\ttotal: 23.8s\tremaining: 2m 55s\n",
      "191:\tlearn: 274.3935491\ttotal: 24s\tremaining: 2m 55s\n",
      "192:\tlearn: 273.6472584\ttotal: 24.1s\tremaining: 2m 56s\n",
      "193:\tlearn: 272.7739633\ttotal: 24.4s\tremaining: 2m 56s\n",
      "194:\tlearn: 271.9572199\ttotal: 24.5s\tremaining: 2m 56s\n",
      "195:\tlearn: 271.0842898\ttotal: 24.7s\tremaining: 2m 56s\n",
      "196:\tlearn: 270.3951759\ttotal: 24.8s\tremaining: 2m 56s\n",
      "197:\tlearn: 269.7025786\ttotal: 25s\tremaining: 2m 56s\n",
      "198:\tlearn: 268.8995781\ttotal: 25.1s\tremaining: 2m 56s\n",
      "199:\tlearn: 268.1457841\ttotal: 25.3s\tremaining: 2m 57s\n",
      "200:\tlearn: 267.4120285\ttotal: 25.5s\tremaining: 2m 57s\n",
      "201:\tlearn: 266.7140931\ttotal: 25.8s\tremaining: 2m 58s\n",
      "202:\tlearn: 265.9004709\ttotal: 25.9s\tremaining: 2m 58s\n",
      "203:\tlearn: 265.1858419\ttotal: 26.1s\tremaining: 2m 58s\n",
      "204:\tlearn: 264.4627088\ttotal: 26.2s\tremaining: 2m 58s\n",
      "205:\tlearn: 263.4877559\ttotal: 26.4s\tremaining: 2m 58s\n",
      "206:\tlearn: 262.7908756\ttotal: 26.6s\tremaining: 2m 58s\n",
      "207:\tlearn: 262.1193395\ttotal: 26.7s\tremaining: 2m 58s\n",
      "208:\tlearn: 261.4624911\ttotal: 26.9s\tremaining: 2m 58s\n",
      "209:\tlearn: 260.7968467\ttotal: 27s\tremaining: 2m 58s\n",
      "210:\tlearn: 260.0429707\ttotal: 27.3s\tremaining: 2m 59s\n",
      "211:\tlearn: 259.2502610\ttotal: 27.5s\tremaining: 3m\n",
      "212:\tlearn: 258.6244665\ttotal: 27.7s\tremaining: 3m\n",
      "213:\tlearn: 258.0701667\ttotal: 27.8s\tremaining: 3m\n",
      "214:\tlearn: 257.2816624\ttotal: 28s\tremaining: 3m\n",
      "215:\tlearn: 256.6773462\ttotal: 28.3s\tremaining: 3m 1s\n",
      "216:\tlearn: 256.0078825\ttotal: 28.4s\tremaining: 3m 1s\n",
      "217:\tlearn: 255.3173268\ttotal: 28.6s\tremaining: 3m 1s\n",
      "218:\tlearn: 254.6964030\ttotal: 28.7s\tremaining: 3m 1s\n",
      "219:\tlearn: 253.9792051\ttotal: 28.9s\tremaining: 3m 1s\n",
      "220:\tlearn: 253.3613012\ttotal: 29.1s\tremaining: 3m 1s\n",
      "221:\tlearn: 252.7359288\ttotal: 29.2s\tremaining: 3m 1s\n",
      "222:\tlearn: 252.0868867\ttotal: 29.4s\tremaining: 3m 1s\n",
      "223:\tlearn: 251.2772308\ttotal: 29.5s\tremaining: 3m 1s\n",
      "224:\tlearn: 250.7082224\ttotal: 29.7s\tremaining: 3m 1s\n",
      "225:\tlearn: 250.0401484\ttotal: 29.9s\tremaining: 3m 1s\n",
      "226:\tlearn: 249.4986229\ttotal: 30s\tremaining: 3m 1s\n",
      "227:\tlearn: 248.7962241\ttotal: 30.2s\tremaining: 3m 1s\n",
      "228:\tlearn: 248.1727003\ttotal: 30.3s\tremaining: 3m 1s\n",
      "229:\tlearn: 247.5452381\ttotal: 30.5s\tremaining: 3m 1s\n",
      "230:\tlearn: 246.9720930\ttotal: 30.6s\tremaining: 3m 1s\n",
      "231:\tlearn: 246.4196642\ttotal: 30.7s\tremaining: 3m 1s\n",
      "232:\tlearn: 245.7511326\ttotal: 30.9s\tremaining: 3m 1s\n",
      "233:\tlearn: 245.2089521\ttotal: 31s\tremaining: 3m 1s\n",
      "234:\tlearn: 244.6219363\ttotal: 31.3s\tremaining: 3m 1s\n",
      "235:\tlearn: 244.0429435\ttotal: 31.4s\tremaining: 3m 1s\n",
      "236:\tlearn: 243.4204181\ttotal: 31.6s\tremaining: 3m 1s\n",
      "237:\tlearn: 242.9489619\ttotal: 31.8s\tremaining: 3m 1s\n",
      "238:\tlearn: 242.2986105\ttotal: 32s\tremaining: 3m 2s\n",
      "239:\tlearn: 241.7043219\ttotal: 32.2s\tremaining: 3m 2s\n",
      "240:\tlearn: 241.2686050\ttotal: 32.4s\tremaining: 3m 2s\n",
      "241:\tlearn: 240.5687782\ttotal: 32.5s\tremaining: 3m 2s\n",
      "242:\tlearn: 240.0787472\ttotal: 32.6s\tremaining: 3m 2s\n",
      "243:\tlearn: 239.4922712\ttotal: 32.7s\tremaining: 3m 1s\n",
      "244:\tlearn: 239.0156431\ttotal: 32.8s\tremaining: 3m 1s\n",
      "245:\tlearn: 238.5079074\ttotal: 32.9s\tremaining: 3m 1s\n",
      "246:\tlearn: 237.8783381\ttotal: 32.9s\tremaining: 3m\n",
      "247:\tlearn: 237.1627389\ttotal: 33.1s\tremaining: 3m\n",
      "248:\tlearn: 236.6710743\ttotal: 33.2s\tremaining: 3m\n",
      "249:\tlearn: 236.1779264\ttotal: 33.3s\tremaining: 2m 59s\n",
      "250:\tlearn: 235.6624813\ttotal: 33.4s\tremaining: 2m 59s\n",
      "251:\tlearn: 235.1607019\ttotal: 33.6s\tremaining: 2m 59s\n",
      "252:\tlearn: 234.7536977\ttotal: 33.6s\tremaining: 2m 58s\n",
      "253:\tlearn: 234.3542103\ttotal: 33.7s\tremaining: 2m 58s\n",
      "254:\tlearn: 233.9947808\ttotal: 33.8s\tremaining: 2m 58s\n",
      "255:\tlearn: 233.5376293\ttotal: 33.9s\tremaining: 2m 58s\n",
      "256:\tlearn: 232.9901229\ttotal: 34.1s\tremaining: 2m 57s\n",
      "257:\tlearn: 232.4909441\ttotal: 34.2s\tremaining: 2m 57s\n",
      "258:\tlearn: 232.0989397\ttotal: 34.3s\tremaining: 2m 57s\n",
      "259:\tlearn: 231.6125656\ttotal: 34.4s\tremaining: 2m 57s\n",
      "260:\tlearn: 231.1512480\ttotal: 34.5s\tremaining: 2m 57s\n",
      "261:\tlearn: 230.4933871\ttotal: 34.7s\tremaining: 2m 57s\n",
      "262:\tlearn: 230.1114701\ttotal: 34.8s\tremaining: 2m 56s\n",
      "263:\tlearn: 229.5824259\ttotal: 34.9s\tremaining: 2m 56s\n",
      "264:\tlearn: 229.1800666\ttotal: 35s\tremaining: 2m 56s\n",
      "265:\tlearn: 228.7132492\ttotal: 35.1s\tremaining: 2m 56s\n",
      "266:\tlearn: 228.3173235\ttotal: 35.3s\tremaining: 2m 56s\n",
      "267:\tlearn: 227.9184036\ttotal: 35.3s\tremaining: 2m 55s\n",
      "268:\tlearn: 227.5500744\ttotal: 35.4s\tremaining: 2m 55s\n",
      "269:\tlearn: 227.0820277\ttotal: 35.5s\tremaining: 2m 54s\n",
      "270:\tlearn: 226.6897763\ttotal: 35.6s\tremaining: 2m 54s\n",
      "271:\tlearn: 226.2368695\ttotal: 35.8s\tremaining: 2m 54s\n",
      "272:\tlearn: 225.7443582\ttotal: 35.9s\tremaining: 2m 54s\n",
      "273:\tlearn: 225.2927016\ttotal: 36s\tremaining: 2m 54s\n",
      "274:\tlearn: 225.0216684\ttotal: 36.1s\tremaining: 2m 54s\n",
      "275:\tlearn: 224.6090719\ttotal: 36.2s\tremaining: 2m 53s\n",
      "276:\tlearn: 224.0563857\ttotal: 36.4s\tremaining: 2m 53s\n",
      "277:\tlearn: 223.5819581\ttotal: 36.5s\tremaining: 2m 53s\n",
      "278:\tlearn: 223.2146712\ttotal: 36.5s\tremaining: 2m 52s\n",
      "279:\tlearn: 222.7444109\ttotal: 36.6s\tremaining: 2m 52s\n",
      "280:\tlearn: 222.2828405\ttotal: 36.7s\tremaining: 2m 52s\n",
      "281:\tlearn: 221.7527789\ttotal: 36.9s\tremaining: 2m 52s\n",
      "282:\tlearn: 221.3505078\ttotal: 37s\tremaining: 2m 52s\n",
      "283:\tlearn: 220.9685673\ttotal: 37.1s\tremaining: 2m 51s\n",
      "284:\tlearn: 220.5861572\ttotal: 37.2s\tremaining: 2m 51s\n",
      "285:\tlearn: 220.3131824\ttotal: 37.3s\tremaining: 2m 51s\n",
      "286:\tlearn: 219.8630352\ttotal: 37.4s\tremaining: 2m 51s\n",
      "287:\tlearn: 219.3998933\ttotal: 37.5s\tremaining: 2m 50s\n",
      "288:\tlearn: 218.8867779\ttotal: 37.6s\tremaining: 2m 50s\n",
      "289:\tlearn: 218.4535045\ttotal: 37.7s\tremaining: 2m 50s\n",
      "290:\tlearn: 218.0218241\ttotal: 37.8s\tremaining: 2m 50s\n",
      "291:\tlearn: 217.6529143\ttotal: 38s\tremaining: 2m 50s\n",
      "292:\tlearn: 217.3315127\ttotal: 38s\tremaining: 2m 49s\n",
      "293:\tlearn: 217.0716824\ttotal: 38.2s\tremaining: 2m 49s\n",
      "294:\tlearn: 216.7403774\ttotal: 38.4s\tremaining: 2m 49s\n",
      "295:\tlearn: 216.4439844\ttotal: 38.5s\tremaining: 2m 49s\n",
      "296:\tlearn: 216.1212016\ttotal: 38.7s\tremaining: 2m 49s\n",
      "297:\tlearn: 215.7765439\ttotal: 38.8s\tremaining: 2m 49s\n",
      "298:\tlearn: 215.4379847\ttotal: 39s\tremaining: 2m 49s\n",
      "299:\tlearn: 215.2441096\ttotal: 39.1s\tremaining: 2m 49s\n",
      "300:\tlearn: 214.8178308\ttotal: 39.3s\tremaining: 2m 49s\n",
      "301:\tlearn: 214.3594054\ttotal: 39.4s\tremaining: 2m 49s\n",
      "302:\tlearn: 213.9837521\ttotal: 39.4s\tremaining: 2m 48s\n",
      "303:\tlearn: 213.5815615\ttotal: 39.6s\tremaining: 2m 48s\n",
      "304:\tlearn: 213.1275425\ttotal: 39.7s\tremaining: 2m 48s\n",
      "305:\tlearn: 212.7594553\ttotal: 39.8s\tremaining: 2m 48s\n",
      "306:\tlearn: 212.3915267\ttotal: 39.9s\tremaining: 2m 48s\n",
      "307:\tlearn: 212.0575743\ttotal: 40.1s\tremaining: 2m 48s\n",
      "308:\tlearn: 211.7283781\ttotal: 40.2s\tremaining: 2m 47s\n",
      "309:\tlearn: 211.3653296\ttotal: 40.3s\tremaining: 2m 47s\n",
      "310:\tlearn: 211.0754948\ttotal: 40.3s\tremaining: 2m 47s\n",
      "311:\tlearn: 210.7692173\ttotal: 40.4s\tremaining: 2m 46s\n",
      "312:\tlearn: 210.4958609\ttotal: 40.5s\tremaining: 2m 46s\n",
      "313:\tlearn: 210.2785714\ttotal: 40.7s\tremaining: 2m 46s\n",
      "314:\tlearn: 210.0482180\ttotal: 40.8s\tremaining: 2m 46s\n",
      "315:\tlearn: 209.8293748\ttotal: 40.9s\tremaining: 2m 46s\n",
      "316:\tlearn: 209.4064946\ttotal: 41s\tremaining: 2m 46s\n",
      "317:\tlearn: 209.1759690\ttotal: 41.2s\tremaining: 2m 46s\n",
      "318:\tlearn: 208.9748791\ttotal: 41.3s\tremaining: 2m 45s\n",
      "319:\tlearn: 208.6730881\ttotal: 41.5s\tremaining: 2m 45s\n",
      "320:\tlearn: 208.4202514\ttotal: 41.6s\tremaining: 2m 45s\n",
      "321:\tlearn: 208.1581886\ttotal: 41.7s\tremaining: 2m 45s\n",
      "322:\tlearn: 207.8722262\ttotal: 41.8s\tremaining: 2m 45s\n",
      "323:\tlearn: 207.5472016\ttotal: 42s\tremaining: 2m 45s\n",
      "324:\tlearn: 207.3167656\ttotal: 42.1s\tremaining: 2m 45s\n",
      "325:\tlearn: 207.0563478\ttotal: 42.2s\tremaining: 2m 45s\n",
      "326:\tlearn: 206.7492485\ttotal: 42.4s\tremaining: 2m 44s\n",
      "327:\tlearn: 206.3917468\ttotal: 42.5s\tremaining: 2m 44s\n",
      "328:\tlearn: 206.0810691\ttotal: 42.6s\tremaining: 2m 44s\n",
      "329:\tlearn: 205.7708021\ttotal: 42.7s\tremaining: 2m 44s\n",
      "330:\tlearn: 205.5159905\ttotal: 42.8s\tremaining: 2m 44s\n",
      "331:\tlearn: 205.3548710\ttotal: 42.9s\tremaining: 2m 43s\n",
      "332:\tlearn: 205.1127940\ttotal: 42.9s\tremaining: 2m 43s\n",
      "333:\tlearn: 204.8519563\ttotal: 43s\tremaining: 2m 42s\n",
      "334:\tlearn: 204.6252144\ttotal: 43.1s\tremaining: 2m 42s\n",
      "335:\tlearn: 204.3881138\ttotal: 43.2s\tremaining: 2m 42s\n",
      "336:\tlearn: 204.0970298\ttotal: 43.3s\tremaining: 2m 42s\n",
      "337:\tlearn: 203.9120422\ttotal: 43.4s\tremaining: 2m 42s\n",
      "338:\tlearn: 203.6424054\ttotal: 43.6s\tremaining: 2m 42s\n",
      "339:\tlearn: 203.3125625\ttotal: 43.7s\tremaining: 2m 41s\n",
      "340:\tlearn: 202.9482700\ttotal: 43.8s\tremaining: 2m 41s\n",
      "341:\tlearn: 202.7514573\ttotal: 43.9s\tremaining: 2m 41s\n",
      "342:\tlearn: 202.3989022\ttotal: 44.1s\tremaining: 2m 41s\n",
      "343:\tlearn: 202.0873011\ttotal: 44.2s\tremaining: 2m 41s\n",
      "344:\tlearn: 201.8813355\ttotal: 44.2s\tremaining: 2m 40s\n",
      "345:\tlearn: 201.5390866\ttotal: 44.3s\tremaining: 2m 40s\n",
      "346:\tlearn: 201.1615456\ttotal: 44.4s\tremaining: 2m 40s\n",
      "347:\tlearn: 201.0484893\ttotal: 44.5s\tremaining: 2m 39s\n",
      "348:\tlearn: 200.8757512\ttotal: 44.6s\tremaining: 2m 39s\n",
      "349:\tlearn: 200.5523769\ttotal: 44.7s\tremaining: 2m 39s\n",
      "350:\tlearn: 200.4271026\ttotal: 44.7s\tremaining: 2m 39s\n",
      "351:\tlearn: 200.0618474\ttotal: 44.8s\tremaining: 2m 38s\n",
      "352:\tlearn: 199.8313447\ttotal: 45s\tremaining: 2m 38s\n",
      "353:\tlearn: 199.7150723\ttotal: 45s\tremaining: 2m 38s\n",
      "354:\tlearn: 199.5256467\ttotal: 45.1s\tremaining: 2m 38s\n",
      "355:\tlearn: 199.3675234\ttotal: 45.2s\tremaining: 2m 38s\n",
      "356:\tlearn: 199.2346352\ttotal: 45.3s\tremaining: 2m 37s\n",
      "357:\tlearn: 199.0490167\ttotal: 45.5s\tremaining: 2m 37s\n",
      "358:\tlearn: 198.6261956\ttotal: 45.5s\tremaining: 2m 37s\n",
      "359:\tlearn: 198.3940195\ttotal: 45.5s\tremaining: 2m 36s\n",
      "360:\tlearn: 198.0977570\ttotal: 45.7s\tremaining: 2m 36s\n",
      "361:\tlearn: 197.9667592\ttotal: 45.7s\tremaining: 2m 36s\n",
      "362:\tlearn: 197.7356410\ttotal: 45.8s\tremaining: 2m 35s\n",
      "363:\tlearn: 197.2933896\ttotal: 45.9s\tremaining: 2m 35s\n",
      "364:\tlearn: 197.1088698\ttotal: 46s\tremaining: 2m 35s\n",
      "365:\tlearn: 196.8305337\ttotal: 46.1s\tremaining: 2m 35s\n",
      "366:\tlearn: 196.7246828\ttotal: 46.2s\tremaining: 2m 35s\n",
      "367:\tlearn: 196.6314284\ttotal: 46.4s\tremaining: 2m 35s\n",
      "368:\tlearn: 196.4603386\ttotal: 46.5s\tremaining: 2m 35s\n",
      "369:\tlearn: 196.1806967\ttotal: 46.6s\tremaining: 2m 34s\n",
      "370:\tlearn: 195.9471445\ttotal: 46.7s\tremaining: 2m 34s\n",
      "371:\tlearn: 195.6374831\ttotal: 46.9s\tremaining: 2m 34s\n",
      "372:\tlearn: 195.1876725\ttotal: 47s\tremaining: 2m 34s\n",
      "373:\tlearn: 194.9963630\ttotal: 47.1s\tremaining: 2m 34s\n",
      "374:\tlearn: 194.7970882\ttotal: 47.2s\tremaining: 2m 34s\n",
      "375:\tlearn: 194.6911271\ttotal: 47.2s\tremaining: 2m 33s\n",
      "376:\tlearn: 194.4903555\ttotal: 47.4s\tremaining: 2m 33s\n",
      "377:\tlearn: 194.2618428\ttotal: 47.4s\tremaining: 2m 33s\n",
      "378:\tlearn: 194.0195176\ttotal: 47.6s\tremaining: 2m 33s\n",
      "379:\tlearn: 193.8953363\ttotal: 47.7s\tremaining: 2m 33s\n",
      "380:\tlearn: 193.7075311\ttotal: 47.8s\tremaining: 2m 32s\n",
      "381:\tlearn: 193.4959215\ttotal: 47.9s\tremaining: 2m 32s\n",
      "382:\tlearn: 193.4020019\ttotal: 47.9s\tremaining: 2m 32s\n",
      "383:\tlearn: 193.1788640\ttotal: 48s\tremaining: 2m 32s\n",
      "384:\tlearn: 193.0073457\ttotal: 48.1s\tremaining: 2m 31s\n",
      "385:\tlearn: 192.7889024\ttotal: 48.3s\tremaining: 2m 31s\n",
      "386:\tlearn: 192.6679407\ttotal: 48.4s\tremaining: 2m 31s\n",
      "387:\tlearn: 192.4255515\ttotal: 48.5s\tremaining: 2m 31s\n",
      "388:\tlearn: 192.1061741\ttotal: 48.7s\tremaining: 2m 31s\n",
      "389:\tlearn: 191.9628993\ttotal: 48.8s\tremaining: 2m 31s\n",
      "390:\tlearn: 191.5333821\ttotal: 48.9s\tremaining: 2m 31s\n",
      "391:\tlearn: 191.2774994\ttotal: 49s\tremaining: 2m 30s\n",
      "392:\tlearn: 191.0686161\ttotal: 49.1s\tremaining: 2m 30s\n",
      "393:\tlearn: 190.9327832\ttotal: 49.2s\tremaining: 2m 30s\n",
      "394:\tlearn: 190.8256913\ttotal: 49.3s\tremaining: 2m 30s\n",
      "395:\tlearn: 190.7210259\ttotal: 49.4s\tremaining: 2m 30s\n",
      "396:\tlearn: 190.6183302\ttotal: 49.6s\tremaining: 2m 30s\n",
      "397:\tlearn: 190.4305492\ttotal: 49.7s\tremaining: 2m 30s\n",
      "398:\tlearn: 190.2332504\ttotal: 49.8s\tremaining: 2m 29s\n",
      "399:\tlearn: 189.9641228\ttotal: 49.9s\tremaining: 2m 29s\n",
      "400:\tlearn: 189.7496065\ttotal: 50.1s\tremaining: 2m 29s\n",
      "401:\tlearn: 189.5290805\ttotal: 50.2s\tremaining: 2m 29s\n",
      "402:\tlearn: 189.4215411\ttotal: 50.3s\tremaining: 2m 29s\n",
      "403:\tlearn: 189.2830937\ttotal: 50.4s\tremaining: 2m 29s\n",
      "404:\tlearn: 189.0704823\ttotal: 50.6s\tremaining: 2m 29s\n",
      "405:\tlearn: 188.8912924\ttotal: 50.7s\tremaining: 2m 29s\n",
      "406:\tlearn: 188.7001426\ttotal: 50.8s\tremaining: 2m 28s\n",
      "407:\tlearn: 188.5276516\ttotal: 50.9s\tremaining: 2m 28s\n",
      "408:\tlearn: 188.4660107\ttotal: 50.9s\tremaining: 2m 28s\n",
      "409:\tlearn: 188.3441178\ttotal: 51.1s\tremaining: 2m 28s\n",
      "410:\tlearn: 188.2359594\ttotal: 51.2s\tremaining: 2m 28s\n",
      "411:\tlearn: 188.0650558\ttotal: 51.3s\tremaining: 2m 27s\n",
      "412:\tlearn: 187.9555666\ttotal: 51.4s\tremaining: 2m 27s\n",
      "413:\tlearn: 187.7628163\ttotal: 51.5s\tremaining: 2m 27s\n",
      "414:\tlearn: 187.6100970\ttotal: 51.5s\tremaining: 2m 27s\n",
      "415:\tlearn: 187.5343206\ttotal: 51.6s\tremaining: 2m 26s\n",
      "416:\tlearn: 187.4152241\ttotal: 51.8s\tremaining: 2m 26s\n",
      "417:\tlearn: 187.1842943\ttotal: 51.9s\tremaining: 2m 26s\n",
      "418:\tlearn: 187.0973088\ttotal: 52s\tremaining: 2m 26s\n",
      "419:\tlearn: 186.9464759\ttotal: 52s\tremaining: 2m 26s\n",
      "420:\tlearn: 186.8449563\ttotal: 52.1s\tremaining: 2m 25s\n",
      "421:\tlearn: 186.6829092\ttotal: 52.2s\tremaining: 2m 25s\n",
      "422:\tlearn: 186.5501436\ttotal: 52.4s\tremaining: 2m 25s\n",
      "423:\tlearn: 186.4733629\ttotal: 52.7s\tremaining: 2m 26s\n",
      "424:\tlearn: 186.4072578\ttotal: 52.7s\tremaining: 2m 25s\n",
      "425:\tlearn: 186.0318484\ttotal: 52.8s\tremaining: 2m 25s\n",
      "426:\tlearn: 185.8790097\ttotal: 52.9s\tremaining: 2m 25s\n",
      "427:\tlearn: 185.7790346\ttotal: 53.1s\tremaining: 2m 25s\n",
      "428:\tlearn: 185.6060265\ttotal: 53.2s\tremaining: 2m 25s\n",
      "429:\tlearn: 185.3993674\ttotal: 53.3s\tremaining: 2m 25s\n",
      "430:\tlearn: 185.1520198\ttotal: 53.5s\tremaining: 2m 24s\n",
      "431:\tlearn: 185.0294072\ttotal: 53.6s\tremaining: 2m 24s\n",
      "432:\tlearn: 184.8600192\ttotal: 53.7s\tremaining: 2m 24s\n",
      "433:\tlearn: 184.7688046\ttotal: 53.9s\tremaining: 2m 24s\n",
      "434:\tlearn: 184.5945105\ttotal: 54s\tremaining: 2m 24s\n",
      "435:\tlearn: 184.3536643\ttotal: 54.1s\tremaining: 2m 24s\n",
      "436:\tlearn: 184.2024990\ttotal: 54.3s\tremaining: 2m 24s\n",
      "437:\tlearn: 184.0993880\ttotal: 54.3s\tremaining: 2m 24s\n",
      "438:\tlearn: 184.0164917\ttotal: 54.5s\tremaining: 2m 24s\n",
      "439:\tlearn: 183.5989292\ttotal: 54.6s\tremaining: 2m 23s\n",
      "440:\tlearn: 183.4559755\ttotal: 54.7s\tremaining: 2m 23s\n",
      "441:\tlearn: 183.3480439\ttotal: 54.9s\tremaining: 2m 23s\n",
      "442:\tlearn: 183.2267452\ttotal: 55s\tremaining: 2m 23s\n",
      "443:\tlearn: 183.1163066\ttotal: 55.1s\tremaining: 2m 23s\n",
      "444:\tlearn: 182.8631101\ttotal: 55.2s\tremaining: 2m 23s\n",
      "445:\tlearn: 182.7906598\ttotal: 55.4s\tremaining: 2m 23s\n",
      "446:\tlearn: 182.6794647\ttotal: 55.6s\tremaining: 2m 23s\n",
      "447:\tlearn: 182.5971049\ttotal: 55.9s\tremaining: 2m 23s\n",
      "448:\tlearn: 182.4990347\ttotal: 56.1s\tremaining: 2m 23s\n",
      "449:\tlearn: 182.3929302\ttotal: 56.3s\tremaining: 2m 23s\n",
      "450:\tlearn: 182.1502900\ttotal: 56.5s\tremaining: 2m 24s\n",
      "451:\tlearn: 181.8657073\ttotal: 56.7s\tremaining: 2m 24s\n",
      "452:\tlearn: 181.6903629\ttotal: 56.8s\tremaining: 2m 23s\n",
      "453:\tlearn: 181.5129408\ttotal: 56.9s\tremaining: 2m 23s\n",
      "454:\tlearn: 181.3911965\ttotal: 57.1s\tremaining: 2m 23s\n",
      "455:\tlearn: 181.2848003\ttotal: 57.2s\tremaining: 2m 23s\n",
      "456:\tlearn: 181.1077104\ttotal: 57.3s\tremaining: 2m 23s\n",
      "457:\tlearn: 181.0162302\ttotal: 57.5s\tremaining: 2m 23s\n",
      "458:\tlearn: 180.7990257\ttotal: 57.7s\tremaining: 2m 23s\n",
      "459:\tlearn: 180.6950695\ttotal: 57.8s\tremaining: 2m 23s\n",
      "460:\tlearn: 180.3569459\ttotal: 58s\tremaining: 2m 23s\n",
      "461:\tlearn: 180.2814587\ttotal: 58.1s\tremaining: 2m 23s\n",
      "462:\tlearn: 180.0415405\ttotal: 58.2s\tremaining: 2m 22s\n",
      "463:\tlearn: 179.9816293\ttotal: 58.3s\tremaining: 2m 22s\n",
      "464:\tlearn: 179.6629018\ttotal: 58.4s\tremaining: 2m 22s\n",
      "465:\tlearn: 179.3349864\ttotal: 58.5s\tremaining: 2m 22s\n",
      "466:\tlearn: 179.1465711\ttotal: 58.6s\tremaining: 2m 22s\n",
      "467:\tlearn: 179.0041889\ttotal: 58.7s\tremaining: 2m 22s\n",
      "468:\tlearn: 178.7754411\ttotal: 58.8s\tremaining: 2m 21s\n",
      "469:\tlearn: 178.5636852\ttotal: 59s\tremaining: 2m 21s\n",
      "470:\tlearn: 178.5122356\ttotal: 59.1s\tremaining: 2m 21s\n",
      "471:\tlearn: 178.3840772\ttotal: 59.1s\tremaining: 2m 21s\n",
      "472:\tlearn: 178.3362831\ttotal: 59.3s\tremaining: 2m 21s\n",
      "473:\tlearn: 178.2791895\ttotal: 59.4s\tremaining: 2m 21s\n",
      "474:\tlearn: 178.1662548\ttotal: 59.5s\tremaining: 2m 21s\n",
      "475:\tlearn: 177.9881431\ttotal: 59.7s\tremaining: 2m 20s\n",
      "476:\tlearn: 177.8262954\ttotal: 59.8s\tremaining: 2m 20s\n",
      "477:\tlearn: 177.6778499\ttotal: 59.9s\tremaining: 2m 20s\n",
      "478:\tlearn: 177.6044267\ttotal: 1m\tremaining: 2m 20s\n",
      "479:\tlearn: 177.5334520\ttotal: 1m\tremaining: 2m 20s\n",
      "480:\tlearn: 177.4741751\ttotal: 1m\tremaining: 2m 20s\n",
      "481:\tlearn: 177.1547513\ttotal: 1m\tremaining: 2m 20s\n",
      "482:\tlearn: 177.1259630\ttotal: 1m\tremaining: 2m 19s\n",
      "483:\tlearn: 177.0334073\ttotal: 1m\tremaining: 2m 19s\n",
      "484:\tlearn: 176.8734772\ttotal: 1m\tremaining: 2m 19s\n",
      "485:\tlearn: 176.8418840\ttotal: 1m\tremaining: 2m 19s\n",
      "486:\tlearn: 176.7351253\ttotal: 1m\tremaining: 2m 19s\n",
      "487:\tlearn: 176.5763497\ttotal: 1m 1s\tremaining: 2m 19s\n",
      "488:\tlearn: 176.5013459\ttotal: 1m 1s\tremaining: 2m 19s\n",
      "489:\tlearn: 176.3317190\ttotal: 1m 1s\tremaining: 2m 19s\n",
      "490:\tlearn: 176.2576540\ttotal: 1m 1s\tremaining: 2m 19s\n",
      "491:\tlearn: 176.2032418\ttotal: 1m 1s\tremaining: 2m 19s\n",
      "492:\tlearn: 176.1087304\ttotal: 1m 1s\tremaining: 2m 19s\n",
      "493:\tlearn: 176.0991408\ttotal: 1m 1s\tremaining: 2m 18s\n",
      "494:\tlearn: 176.0890257\ttotal: 1m 1s\tremaining: 2m 18s\n",
      "495:\tlearn: 176.0381672\ttotal: 1m 2s\tremaining: 2m 18s\n",
      "496:\tlearn: 175.9825929\ttotal: 1m 2s\tremaining: 2m 18s\n",
      "497:\tlearn: 175.7639407\ttotal: 1m 2s\tremaining: 2m 18s\n",
      "498:\tlearn: 175.7108325\ttotal: 1m 2s\tremaining: 2m 18s\n",
      "499:\tlearn: 175.5881743\ttotal: 1m 2s\tremaining: 2m 18s\n",
      "500:\tlearn: 175.4266841\ttotal: 1m 3s\tremaining: 2m 18s\n",
      "501:\tlearn: 175.3831414\ttotal: 1m 3s\tremaining: 2m 18s\n",
      "502:\tlearn: 175.3464408\ttotal: 1m 3s\tremaining: 2m 18s\n",
      "503:\tlearn: 175.2484281\ttotal: 1m 3s\tremaining: 2m 17s\n",
      "504:\tlearn: 175.1157320\ttotal: 1m 3s\tremaining: 2m 17s\n",
      "505:\tlearn: 175.0613389\ttotal: 1m 3s\tremaining: 2m 17s\n",
      "506:\tlearn: 174.9813538\ttotal: 1m 3s\tremaining: 2m 17s\n",
      "507:\tlearn: 174.9074391\ttotal: 1m 4s\tremaining: 2m 18s\n",
      "508:\tlearn: 174.7403535\ttotal: 1m 4s\tremaining: 2m 18s\n",
      "509:\tlearn: 174.4335850\ttotal: 1m 4s\tremaining: 2m 18s\n",
      "510:\tlearn: 174.3531218\ttotal: 1m 4s\tremaining: 2m 18s\n",
      "511:\tlearn: 174.2752935\ttotal: 1m 4s\tremaining: 2m 17s\n",
      "512:\tlearn: 174.1057251\ttotal: 1m 5s\tremaining: 2m 17s\n",
      "513:\tlearn: 174.0361892\ttotal: 1m 5s\tremaining: 2m 17s\n",
      "514:\tlearn: 173.9408944\ttotal: 1m 5s\tremaining: 2m 17s\n",
      "515:\tlearn: 173.7006471\ttotal: 1m 5s\tremaining: 2m 17s\n",
      "516:\tlearn: 173.6303360\ttotal: 1m 5s\tremaining: 2m 17s\n",
      "517:\tlearn: 173.4081123\ttotal: 1m 5s\tremaining: 2m 17s\n",
      "518:\tlearn: 173.1531982\ttotal: 1m 5s\tremaining: 2m 17s\n",
      "519:\tlearn: 173.1094803\ttotal: 1m 6s\tremaining: 2m 17s\n",
      "520:\tlearn: 173.0343526\ttotal: 1m 6s\tremaining: 2m 17s\n",
      "521:\tlearn: 172.8624467\ttotal: 1m 6s\tremaining: 2m 17s\n",
      "522:\tlearn: 172.7831157\ttotal: 1m 6s\tremaining: 2m 17s\n",
      "523:\tlearn: 172.6525624\ttotal: 1m 6s\tremaining: 2m 17s\n",
      "524:\tlearn: 172.5089478\ttotal: 1m 6s\tremaining: 2m 16s\n",
      "525:\tlearn: 172.4133798\ttotal: 1m 7s\tremaining: 2m 16s\n",
      "526:\tlearn: 172.1238043\ttotal: 1m 7s\tremaining: 2m 16s\n",
      "527:\tlearn: 171.9323290\ttotal: 1m 7s\tremaining: 2m 17s\n",
      "528:\tlearn: 171.7864086\ttotal: 1m 7s\tremaining: 2m 16s\n",
      "529:\tlearn: 171.7628150\ttotal: 1m 7s\tremaining: 2m 16s\n",
      "530:\tlearn: 171.6856594\ttotal: 1m 7s\tremaining: 2m 16s\n",
      "531:\tlearn: 171.6218489\ttotal: 1m 7s\tremaining: 2m 16s\n",
      "532:\tlearn: 171.5628249\ttotal: 1m 7s\tremaining: 2m 15s\n",
      "533:\tlearn: 171.4540156\ttotal: 1m 8s\tremaining: 2m 15s\n",
      "534:\tlearn: 171.3855976\ttotal: 1m 8s\tremaining: 2m 15s\n",
      "535:\tlearn: 171.3473809\ttotal: 1m 8s\tremaining: 2m 15s\n",
      "536:\tlearn: 171.1825999\ttotal: 1m 8s\tremaining: 2m 15s\n",
      "537:\tlearn: 171.0964552\ttotal: 1m 8s\tremaining: 2m 15s\n",
      "538:\tlearn: 170.9865226\ttotal: 1m 8s\tremaining: 2m 15s\n",
      "539:\tlearn: 170.7242386\ttotal: 1m 9s\tremaining: 2m 15s\n",
      "540:\tlearn: 170.6026082\ttotal: 1m 9s\tremaining: 2m 15s\n",
      "541:\tlearn: 170.5654436\ttotal: 1m 9s\tremaining: 2m 15s\n",
      "542:\tlearn: 170.4074297\ttotal: 1m 9s\tremaining: 2m 15s\n",
      "543:\tlearn: 170.1175433\ttotal: 1m 9s\tremaining: 2m 14s\n",
      "544:\tlearn: 170.0999888\ttotal: 1m 9s\tremaining: 2m 14s\n",
      "545:\tlearn: 169.9473855\ttotal: 1m 9s\tremaining: 2m 14s\n",
      "546:\tlearn: 169.9276151\ttotal: 1m 9s\tremaining: 2m 14s\n",
      "547:\tlearn: 169.8430947\ttotal: 1m 9s\tremaining: 2m 14s\n",
      "548:\tlearn: 169.7143986\ttotal: 1m 9s\tremaining: 2m 13s\n",
      "549:\tlearn: 169.5223872\ttotal: 1m 10s\tremaining: 2m 13s\n",
      "550:\tlearn: 169.4891194\ttotal: 1m 10s\tremaining: 2m 13s\n",
      "551:\tlearn: 169.3200031\ttotal: 1m 10s\tremaining: 2m 13s\n",
      "552:\tlearn: 169.2238068\ttotal: 1m 10s\tremaining: 2m 13s\n",
      "553:\tlearn: 169.0792036\ttotal: 1m 10s\tremaining: 2m 13s\n",
      "554:\tlearn: 169.0063760\ttotal: 1m 10s\tremaining: 2m 13s\n",
      "555:\tlearn: 168.9616843\ttotal: 1m 10s\tremaining: 2m 12s\n",
      "556:\tlearn: 168.8839954\ttotal: 1m 10s\tremaining: 2m 12s\n",
      "557:\tlearn: 168.7999650\ttotal: 1m 10s\tremaining: 2m 12s\n",
      "558:\tlearn: 168.7094419\ttotal: 1m 11s\tremaining: 2m 12s\n",
      "559:\tlearn: 168.6318582\ttotal: 1m 11s\tremaining: 2m 12s\n",
      "560:\tlearn: 168.5888505\ttotal: 1m 11s\tremaining: 2m 12s\n",
      "561:\tlearn: 168.5728297\ttotal: 1m 11s\tremaining: 2m 11s\n",
      "562:\tlearn: 168.5188704\ttotal: 1m 11s\tremaining: 2m 11s\n",
      "563:\tlearn: 168.4830793\ttotal: 1m 11s\tremaining: 2m 11s\n",
      "564:\tlearn: 168.3891907\ttotal: 1m 11s\tremaining: 2m 11s\n",
      "565:\tlearn: 168.1891114\ttotal: 1m 11s\tremaining: 2m 11s\n",
      "566:\tlearn: 168.1211387\ttotal: 1m 12s\tremaining: 2m 11s\n",
      "567:\tlearn: 167.9951529\ttotal: 1m 12s\tremaining: 2m 11s\n",
      "568:\tlearn: 167.6360426\ttotal: 1m 12s\tremaining: 2m 11s\n",
      "569:\tlearn: 167.5950399\ttotal: 1m 12s\tremaining: 2m 10s\n",
      "570:\tlearn: 167.5176388\ttotal: 1m 12s\tremaining: 2m 10s\n",
      "571:\tlearn: 167.4674899\ttotal: 1m 12s\tremaining: 2m 10s\n",
      "572:\tlearn: 167.3846363\ttotal: 1m 12s\tremaining: 2m 10s\n",
      "573:\tlearn: 167.3696959\ttotal: 1m 12s\tremaining: 2m 10s\n",
      "574:\tlearn: 167.2572817\ttotal: 1m 12s\tremaining: 2m 9s\n",
      "575:\tlearn: 167.0323457\ttotal: 1m 13s\tremaining: 2m 9s\n",
      "576:\tlearn: 166.7919378\ttotal: 1m 13s\tremaining: 2m 9s\n",
      "577:\tlearn: 166.7527683\ttotal: 1m 13s\tremaining: 2m 9s\n",
      "578:\tlearn: 166.6100708\ttotal: 1m 13s\tremaining: 2m 9s\n",
      "579:\tlearn: 166.5687776\ttotal: 1m 13s\tremaining: 2m 9s\n",
      "580:\tlearn: 166.4860257\ttotal: 1m 13s\tremaining: 2m 8s\n",
      "581:\tlearn: 166.3874256\ttotal: 1m 13s\tremaining: 2m 8s\n",
      "582:\tlearn: 166.1902176\ttotal: 1m 13s\tremaining: 2m 8s\n",
      "583:\tlearn: 166.1202964\ttotal: 1m 13s\tremaining: 2m 8s\n",
      "584:\tlearn: 165.9633043\ttotal: 1m 13s\tremaining: 2m 8s\n",
      "585:\tlearn: 165.8858843\ttotal: 1m 14s\tremaining: 2m 8s\n",
      "586:\tlearn: 165.8605761\ttotal: 1m 14s\tremaining: 2m 7s\n",
      "587:\tlearn: 165.8156007\ttotal: 1m 14s\tremaining: 2m 7s\n",
      "588:\tlearn: 165.7635240\ttotal: 1m 14s\tremaining: 2m 7s\n",
      "589:\tlearn: 165.7081995\ttotal: 1m 14s\tremaining: 2m 7s\n",
      "590:\tlearn: 165.6541456\ttotal: 1m 14s\tremaining: 2m 6s\n",
      "591:\tlearn: 165.5970326\ttotal: 1m 14s\tremaining: 2m 6s\n",
      "592:\tlearn: 165.5638177\ttotal: 1m 14s\tremaining: 2m 6s\n",
      "593:\tlearn: 165.5159091\ttotal: 1m 14s\tremaining: 2m 6s\n",
      "594:\tlearn: 165.4669412\ttotal: 1m 14s\tremaining: 2m 5s\n",
      "595:\tlearn: 165.3289808\ttotal: 1m 14s\tremaining: 2m 5s\n",
      "596:\tlearn: 165.2134104\ttotal: 1m 14s\tremaining: 2m 5s\n",
      "597:\tlearn: 165.1167044\ttotal: 1m 14s\tremaining: 2m 5s\n",
      "598:\tlearn: 164.9560001\ttotal: 1m 14s\tremaining: 2m 5s\n",
      "599:\tlearn: 164.7736106\ttotal: 1m 14s\tremaining: 2m 4s\n",
      "600:\tlearn: 164.7538942\ttotal: 1m 14s\tremaining: 2m 4s\n",
      "601:\tlearn: 164.6473874\ttotal: 1m 14s\tremaining: 2m 4s\n",
      "602:\tlearn: 164.5909848\ttotal: 1m 15s\tremaining: 2m 4s\n",
      "603:\tlearn: 164.5750180\ttotal: 1m 15s\tremaining: 2m 3s\n",
      "604:\tlearn: 164.5013858\ttotal: 1m 15s\tremaining: 2m 3s\n",
      "605:\tlearn: 164.4825030\ttotal: 1m 15s\tremaining: 2m 3s\n",
      "606:\tlearn: 164.4463591\ttotal: 1m 15s\tremaining: 2m 3s\n",
      "607:\tlearn: 164.3381928\ttotal: 1m 15s\tremaining: 2m 3s\n",
      "608:\tlearn: 164.2086724\ttotal: 1m 15s\tremaining: 2m 2s\n",
      "609:\tlearn: 164.1678109\ttotal: 1m 15s\tremaining: 2m 2s\n",
      "610:\tlearn: 164.0892573\ttotal: 1m 15s\tremaining: 2m 2s\n",
      "611:\tlearn: 163.7978862\ttotal: 1m 15s\tremaining: 2m 2s\n",
      "612:\tlearn: 163.6364746\ttotal: 1m 16s\tremaining: 2m 2s\n",
      "613:\tlearn: 163.5651658\ttotal: 1m 16s\tremaining: 2m 2s\n",
      "614:\tlearn: 163.5630212\ttotal: 1m 16s\tremaining: 2m 2s\n",
      "615:\tlearn: 163.5187138\ttotal: 1m 16s\tremaining: 2m 1s\n",
      "616:\tlearn: 163.4900611\ttotal: 1m 16s\tremaining: 2m 1s\n",
      "617:\tlearn: 163.4651712\ttotal: 1m 16s\tremaining: 2m 1s\n",
      "618:\tlearn: 163.4533216\ttotal: 1m 16s\tremaining: 2m 1s\n",
      "619:\tlearn: 163.1701269\ttotal: 1m 16s\tremaining: 2m 1s\n",
      "620:\tlearn: 163.0525088\ttotal: 1m 16s\tremaining: 2m 1s\n",
      "621:\tlearn: 162.9190659\ttotal: 1m 17s\tremaining: 2m 1s\n",
      "622:\tlearn: 162.8449474\ttotal: 1m 17s\tremaining: 2m\n",
      "623:\tlearn: 162.8057758\ttotal: 1m 17s\tremaining: 2m\n",
      "624:\tlearn: 162.7207441\ttotal: 1m 17s\tremaining: 2m\n",
      "625:\tlearn: 162.6782309\ttotal: 1m 17s\tremaining: 2m\n",
      "626:\tlearn: 162.6239586\ttotal: 1m 17s\tremaining: 2m\n",
      "627:\tlearn: 162.5557908\ttotal: 1m 17s\tremaining: 2m\n",
      "628:\tlearn: 162.5326516\ttotal: 1m 17s\tremaining: 2m\n",
      "629:\tlearn: 162.4981755\ttotal: 1m 17s\tremaining: 1m 59s\n",
      "630:\tlearn: 162.4326356\ttotal: 1m 18s\tremaining: 1m 59s\n",
      "631:\tlearn: 162.3961129\ttotal: 1m 18s\tremaining: 1m 59s\n",
      "632:\tlearn: 162.3794062\ttotal: 1m 18s\tremaining: 1m 59s\n",
      "633:\tlearn: 162.3388391\ttotal: 1m 18s\tremaining: 1m 59s\n",
      "634:\tlearn: 162.3140492\ttotal: 1m 18s\tremaining: 1m 59s\n",
      "635:\tlearn: 162.2934716\ttotal: 1m 18s\tremaining: 1m 59s\n",
      "636:\tlearn: 162.2552348\ttotal: 1m 19s\tremaining: 1m 59s\n",
      "637:\tlearn: 162.2180328\ttotal: 1m 19s\tremaining: 1m 59s\n",
      "638:\tlearn: 162.1287016\ttotal: 1m 19s\tremaining: 1m 59s\n",
      "639:\tlearn: 162.0209097\ttotal: 1m 19s\tremaining: 1m 59s\n",
      "640:\tlearn: 161.9585854\ttotal: 1m 19s\tremaining: 1m 59s\n",
      "641:\tlearn: 161.9223409\ttotal: 1m 20s\tremaining: 1m 59s\n",
      "642:\tlearn: 161.8048181\ttotal: 1m 20s\tremaining: 1m 59s\n",
      "643:\tlearn: 161.7863259\ttotal: 1m 20s\tremaining: 1m 59s\n",
      "644:\tlearn: 161.7684652\ttotal: 1m 20s\tremaining: 1m 59s\n",
      "645:\tlearn: 161.7307587\ttotal: 1m 20s\tremaining: 1m 58s\n",
      "646:\tlearn: 161.6982714\ttotal: 1m 20s\tremaining: 1m 58s\n",
      "647:\tlearn: 161.6602313\ttotal: 1m 20s\tremaining: 1m 58s\n",
      "648:\tlearn: 161.4561892\ttotal: 1m 21s\tremaining: 1m 58s\n",
      "649:\tlearn: 161.4423716\ttotal: 1m 21s\tremaining: 1m 58s\n",
      "650:\tlearn: 161.3365754\ttotal: 1m 21s\tremaining: 1m 58s\n",
      "651:\tlearn: 161.2242046\ttotal: 1m 21s\tremaining: 1m 58s\n",
      "652:\tlearn: 161.2138957\ttotal: 1m 21s\tremaining: 1m 57s\n",
      "653:\tlearn: 161.1949080\ttotal: 1m 21s\tremaining: 1m 57s\n",
      "654:\tlearn: 161.1288847\ttotal: 1m 21s\tremaining: 1m 57s\n",
      "655:\tlearn: 161.0533035\ttotal: 1m 21s\tremaining: 1m 57s\n",
      "656:\tlearn: 160.9848437\ttotal: 1m 21s\tremaining: 1m 57s\n",
      "657:\tlearn: 160.8324190\ttotal: 1m 21s\tremaining: 1m 57s\n",
      "658:\tlearn: 160.7245346\ttotal: 1m 21s\tremaining: 1m 56s\n",
      "659:\tlearn: 160.6531013\ttotal: 1m 21s\tremaining: 1m 56s\n",
      "660:\tlearn: 160.4540097\ttotal: 1m 22s\tremaining: 1m 56s\n",
      "661:\tlearn: 160.4074830\ttotal: 1m 22s\tremaining: 1m 56s\n",
      "662:\tlearn: 160.3111585\ttotal: 1m 22s\tremaining: 1m 56s\n",
      "663:\tlearn: 160.2779459\ttotal: 1m 22s\tremaining: 1m 56s\n",
      "664:\tlearn: 160.2345682\ttotal: 1m 22s\tremaining: 1m 56s\n",
      "665:\tlearn: 160.2199005\ttotal: 1m 22s\tremaining: 1m 55s\n",
      "666:\tlearn: 160.1559413\ttotal: 1m 22s\tremaining: 1m 55s\n",
      "667:\tlearn: 160.1216208\ttotal: 1m 22s\tremaining: 1m 55s\n",
      "668:\tlearn: 160.0941667\ttotal: 1m 22s\tremaining: 1m 55s\n",
      "669:\tlearn: 160.0716293\ttotal: 1m 23s\tremaining: 1m 55s\n",
      "670:\tlearn: 159.9473752\ttotal: 1m 23s\tremaining: 1m 55s\n",
      "671:\tlearn: 159.8600258\ttotal: 1m 23s\tremaining: 1m 55s\n",
      "672:\tlearn: 159.8389252\ttotal: 1m 23s\tremaining: 1m 54s\n",
      "673:\tlearn: 159.7752034\ttotal: 1m 23s\tremaining: 1m 54s\n",
      "674:\tlearn: 159.7031321\ttotal: 1m 23s\tremaining: 1m 54s\n",
      "675:\tlearn: 159.4710469\ttotal: 1m 23s\tremaining: 1m 54s\n",
      "676:\tlearn: 159.1931632\ttotal: 1m 24s\tremaining: 1m 54s\n",
      "677:\tlearn: 159.1442999\ttotal: 1m 24s\tremaining: 1m 54s\n",
      "678:\tlearn: 159.0132023\ttotal: 1m 24s\tremaining: 1m 54s\n",
      "679:\tlearn: 158.9870138\ttotal: 1m 24s\tremaining: 1m 53s\n",
      "680:\tlearn: 158.8716617\ttotal: 1m 24s\tremaining: 1m 53s\n",
      "681:\tlearn: 158.8089052\ttotal: 1m 24s\tremaining: 1m 53s\n",
      "682:\tlearn: 158.7665892\ttotal: 1m 24s\tremaining: 1m 53s\n",
      "683:\tlearn: 158.6278666\ttotal: 1m 25s\tremaining: 1m 53s\n",
      "684:\tlearn: 158.6024384\ttotal: 1m 25s\tremaining: 1m 54s\n",
      "685:\tlearn: 158.5494178\ttotal: 1m 25s\tremaining: 1m 53s\n",
      "686:\tlearn: 158.5081666\ttotal: 1m 25s\tremaining: 1m 53s\n",
      "687:\tlearn: 158.4945271\ttotal: 1m 25s\tremaining: 1m 53s\n",
      "688:\tlearn: 158.4279352\ttotal: 1m 25s\tremaining: 1m 53s\n",
      "689:\tlearn: 158.4079103\ttotal: 1m 26s\tremaining: 1m 53s\n",
      "690:\tlearn: 158.3759617\ttotal: 1m 26s\tremaining: 1m 53s\n",
      "691:\tlearn: 158.2944899\ttotal: 1m 26s\tremaining: 1m 53s\n",
      "692:\tlearn: 158.2493593\ttotal: 1m 26s\tremaining: 1m 53s\n",
      "693:\tlearn: 158.2343571\ttotal: 1m 26s\tremaining: 1m 53s\n",
      "694:\tlearn: 158.1942597\ttotal: 1m 26s\tremaining: 1m 52s\n",
      "695:\tlearn: 158.1373376\ttotal: 1m 26s\tremaining: 1m 52s\n",
      "696:\tlearn: 158.1036964\ttotal: 1m 27s\tremaining: 1m 52s\n",
      "697:\tlearn: 157.9720070\ttotal: 1m 27s\tremaining: 1m 52s\n",
      "698:\tlearn: 157.9252455\ttotal: 1m 27s\tremaining: 1m 52s\n",
      "699:\tlearn: 157.7701426\ttotal: 1m 27s\tremaining: 1m 52s\n",
      "700:\tlearn: 157.7282297\ttotal: 1m 27s\tremaining: 1m 52s\n",
      "701:\tlearn: 157.7112164\ttotal: 1m 27s\tremaining: 1m 52s\n",
      "702:\tlearn: 157.5629387\ttotal: 1m 27s\tremaining: 1m 52s\n",
      "703:\tlearn: 157.5388071\ttotal: 1m 28s\tremaining: 1m 52s\n",
      "704:\tlearn: 157.5253377\ttotal: 1m 28s\tremaining: 1m 51s\n",
      "705:\tlearn: 157.4918719\ttotal: 1m 28s\tremaining: 1m 51s\n",
      "706:\tlearn: 157.4599469\ttotal: 1m 28s\tremaining: 1m 51s\n",
      "707:\tlearn: 157.4278598\ttotal: 1m 28s\tremaining: 1m 51s\n",
      "708:\tlearn: 157.3818916\ttotal: 1m 28s\tremaining: 1m 51s\n",
      "709:\tlearn: 157.3738724\ttotal: 1m 28s\tremaining: 1m 51s\n",
      "710:\tlearn: 157.3633314\ttotal: 1m 28s\tremaining: 1m 50s\n",
      "711:\tlearn: 157.3524038\ttotal: 1m 28s\tremaining: 1m 50s\n",
      "712:\tlearn: 157.2904373\ttotal: 1m 28s\tremaining: 1m 50s\n",
      "713:\tlearn: 157.2091040\ttotal: 1m 28s\tremaining: 1m 50s\n",
      "714:\tlearn: 157.1682194\ttotal: 1m 28s\tremaining: 1m 50s\n",
      "715:\tlearn: 157.1575927\ttotal: 1m 28s\tremaining: 1m 49s\n",
      "716:\tlearn: 157.1329347\ttotal: 1m 29s\tremaining: 1m 49s\n",
      "717:\tlearn: 156.9384791\ttotal: 1m 29s\tremaining: 1m 49s\n",
      "718:\tlearn: 156.8904980\ttotal: 1m 29s\tremaining: 1m 49s\n",
      "719:\tlearn: 156.8274260\ttotal: 1m 29s\tremaining: 1m 49s\n",
      "720:\tlearn: 156.8166707\ttotal: 1m 29s\tremaining: 1m 49s\n",
      "721:\tlearn: 156.7325180\ttotal: 1m 29s\tremaining: 1m 49s\n",
      "722:\tlearn: 156.6756104\ttotal: 1m 29s\tremaining: 1m 48s\n",
      "723:\tlearn: 156.6487817\ttotal: 1m 29s\tremaining: 1m 48s\n",
      "724:\tlearn: 156.6460043\ttotal: 1m 29s\tremaining: 1m 48s\n",
      "725:\tlearn: 156.5991444\ttotal: 1m 29s\tremaining: 1m 48s\n",
      "726:\tlearn: 156.5725697\ttotal: 1m 29s\tremaining: 1m 47s\n",
      "727:\tlearn: 156.5556943\ttotal: 1m 29s\tremaining: 1m 47s\n",
      "728:\tlearn: 156.5477974\ttotal: 1m 29s\tremaining: 1m 47s\n",
      "729:\tlearn: 156.5182787\ttotal: 1m 29s\tremaining: 1m 47s\n",
      "730:\tlearn: 156.4641022\ttotal: 1m 30s\tremaining: 1m 47s\n",
      "731:\tlearn: 156.4571014\ttotal: 1m 30s\tremaining: 1m 46s\n",
      "732:\tlearn: 156.4119124\ttotal: 1m 30s\tremaining: 1m 46s\n",
      "733:\tlearn: 156.2957865\ttotal: 1m 30s\tremaining: 1m 46s\n",
      "734:\tlearn: 156.2631811\ttotal: 1m 30s\tremaining: 1m 46s\n",
      "735:\tlearn: 156.2390502\ttotal: 1m 30s\tremaining: 1m 46s\n",
      "736:\tlearn: 156.1484788\ttotal: 1m 30s\tremaining: 1m 46s\n",
      "737:\tlearn: 156.1162320\ttotal: 1m 30s\tremaining: 1m 45s\n",
      "738:\tlearn: 156.0924791\ttotal: 1m 30s\tremaining: 1m 45s\n",
      "739:\tlearn: 155.9240845\ttotal: 1m 31s\tremaining: 1m 45s\n",
      "740:\tlearn: 155.7900129\ttotal: 1m 31s\tremaining: 1m 45s\n",
      "741:\tlearn: 155.7632055\ttotal: 1m 31s\tremaining: 1m 45s\n",
      "742:\tlearn: 155.5010461\ttotal: 1m 31s\tremaining: 1m 45s\n",
      "743:\tlearn: 155.3975785\ttotal: 1m 31s\tremaining: 1m 45s\n",
      "744:\tlearn: 155.3953105\ttotal: 1m 31s\tremaining: 1m 45s\n",
      "745:\tlearn: 155.3459885\ttotal: 1m 31s\tremaining: 1m 44s\n",
      "746:\tlearn: 155.1481916\ttotal: 1m 31s\tremaining: 1m 44s\n",
      "747:\tlearn: 155.1195350\ttotal: 1m 31s\tremaining: 1m 44s\n",
      "748:\tlearn: 155.0603743\ttotal: 1m 32s\tremaining: 1m 44s\n",
      "749:\tlearn: 155.0119515\ttotal: 1m 32s\tremaining: 1m 44s\n",
      "750:\tlearn: 154.9428941\ttotal: 1m 32s\tremaining: 1m 44s\n",
      "751:\tlearn: 154.8849285\ttotal: 1m 32s\tremaining: 1m 44s\n",
      "752:\tlearn: 154.8712062\ttotal: 1m 32s\tremaining: 1m 43s\n",
      "753:\tlearn: 154.8247528\ttotal: 1m 32s\tremaining: 1m 43s\n",
      "754:\tlearn: 154.8024043\ttotal: 1m 32s\tremaining: 1m 43s\n",
      "755:\tlearn: 154.7401651\ttotal: 1m 32s\tremaining: 1m 43s\n",
      "756:\tlearn: 154.6295783\ttotal: 1m 32s\tremaining: 1m 43s\n",
      "757:\tlearn: 154.6203308\ttotal: 1m 32s\tremaining: 1m 43s\n",
      "758:\tlearn: 154.5615967\ttotal: 1m 32s\tremaining: 1m 43s\n",
      "759:\tlearn: 154.5067918\ttotal: 1m 33s\tremaining: 1m 42s\n",
      "760:\tlearn: 154.4784333\ttotal: 1m 33s\tremaining: 1m 42s\n",
      "761:\tlearn: 154.4575886\ttotal: 1m 33s\tremaining: 1m 42s\n",
      "762:\tlearn: 154.4465592\ttotal: 1m 33s\tremaining: 1m 42s\n",
      "763:\tlearn: 154.4220470\ttotal: 1m 33s\tremaining: 1m 42s\n",
      "764:\tlearn: 154.3435693\ttotal: 1m 33s\tremaining: 1m 42s\n",
      "765:\tlearn: 154.3270894\ttotal: 1m 33s\tremaining: 1m 42s\n",
      "766:\tlearn: 154.2894794\ttotal: 1m 33s\tremaining: 1m 42s\n",
      "767:\tlearn: 154.2580509\ttotal: 1m 34s\tremaining: 1m 41s\n",
      "768:\tlearn: 154.1836332\ttotal: 1m 34s\tremaining: 1m 41s\n",
      "769:\tlearn: 154.1422999\ttotal: 1m 34s\tremaining: 1m 41s\n",
      "770:\tlearn: 154.1095288\ttotal: 1m 34s\tremaining: 1m 41s\n",
      "771:\tlearn: 154.0889421\ttotal: 1m 34s\tremaining: 1m 41s\n",
      "772:\tlearn: 154.0561280\ttotal: 1m 34s\tremaining: 1m 41s\n",
      "773:\tlearn: 153.9756218\ttotal: 1m 34s\tremaining: 1m 40s\n",
      "774:\tlearn: 153.8497958\ttotal: 1m 34s\tremaining: 1m 40s\n",
      "775:\tlearn: 153.7780394\ttotal: 1m 34s\tremaining: 1m 40s\n",
      "776:\tlearn: 153.7682405\ttotal: 1m 34s\tremaining: 1m 40s\n",
      "777:\tlearn: 153.7556954\ttotal: 1m 34s\tremaining: 1m 40s\n",
      "778:\tlearn: 153.7315040\ttotal: 1m 35s\tremaining: 1m 40s\n",
      "779:\tlearn: 153.6342500\ttotal: 1m 35s\tremaining: 1m 40s\n",
      "780:\tlearn: 153.6110290\ttotal: 1m 35s\tremaining: 1m 39s\n",
      "781:\tlearn: 153.5931753\ttotal: 1m 35s\tremaining: 1m 39s\n",
      "782:\tlearn: 153.4908811\ttotal: 1m 35s\tremaining: 1m 39s\n",
      "783:\tlearn: 153.4027594\ttotal: 1m 35s\tremaining: 1m 39s\n",
      "784:\tlearn: 153.3832563\ttotal: 1m 35s\tremaining: 1m 39s\n",
      "785:\tlearn: 153.3591374\ttotal: 1m 35s\tremaining: 1m 39s\n",
      "786:\tlearn: 153.3044361\ttotal: 1m 35s\tremaining: 1m 38s\n",
      "787:\tlearn: 153.2367178\ttotal: 1m 35s\tremaining: 1m 38s\n",
      "788:\tlearn: 153.2147097\ttotal: 1m 35s\tremaining: 1m 38s\n",
      "789:\tlearn: 153.2127507\ttotal: 1m 36s\tremaining: 1m 38s\n",
      "790:\tlearn: 153.0896104\ttotal: 1m 36s\tremaining: 1m 38s\n",
      "791:\tlearn: 153.0803370\ttotal: 1m 36s\tremaining: 1m 38s\n",
      "792:\tlearn: 153.0738392\ttotal: 1m 36s\tremaining: 1m 37s\n",
      "793:\tlearn: 153.0516715\ttotal: 1m 36s\tremaining: 1m 37s\n",
      "794:\tlearn: 153.0335805\ttotal: 1m 36s\tremaining: 1m 37s\n",
      "795:\tlearn: 152.8575948\ttotal: 1m 36s\tremaining: 1m 37s\n",
      "796:\tlearn: 152.8406560\ttotal: 1m 36s\tremaining: 1m 37s\n",
      "797:\tlearn: 152.7701614\ttotal: 1m 36s\tremaining: 1m 36s\n",
      "798:\tlearn: 152.7243906\ttotal: 1m 36s\tremaining: 1m 36s\n",
      "799:\tlearn: 152.7170645\ttotal: 1m 36s\tremaining: 1m 36s\n",
      "800:\tlearn: 152.6926258\ttotal: 1m 36s\tremaining: 1m 36s\n",
      "801:\tlearn: 152.6619449\ttotal: 1m 36s\tremaining: 1m 36s\n",
      "802:\tlearn: 152.4956516\ttotal: 1m 36s\tremaining: 1m 35s\n",
      "803:\tlearn: 152.4739292\ttotal: 1m 36s\tremaining: 1m 35s\n",
      "804:\tlearn: 152.3945625\ttotal: 1m 36s\tremaining: 1m 35s\n",
      "805:\tlearn: 152.3380040\ttotal: 1m 36s\tremaining: 1m 35s\n",
      "806:\tlearn: 152.3292982\ttotal: 1m 36s\tremaining: 1m 35s\n",
      "807:\tlearn: 152.3239128\ttotal: 1m 36s\tremaining: 1m 34s\n",
      "808:\tlearn: 152.2675681\ttotal: 1m 36s\tremaining: 1m 34s\n",
      "809:\tlearn: 152.2541910\ttotal: 1m 36s\tremaining: 1m 34s\n",
      "810:\tlearn: 152.1935285\ttotal: 1m 37s\tremaining: 1m 34s\n",
      "811:\tlearn: 152.0921293\ttotal: 1m 37s\tremaining: 1m 34s\n",
      "812:\tlearn: 152.0496644\ttotal: 1m 37s\tremaining: 1m 33s\n",
      "813:\tlearn: 152.0065896\ttotal: 1m 37s\tremaining: 1m 33s\n",
      "814:\tlearn: 151.8963548\ttotal: 1m 37s\tremaining: 1m 33s\n",
      "815:\tlearn: 151.8104803\ttotal: 1m 37s\tremaining: 1m 33s\n",
      "816:\tlearn: 151.7751164\ttotal: 1m 37s\tremaining: 1m 33s\n",
      "817:\tlearn: 151.4539142\ttotal: 1m 37s\tremaining: 1m 33s\n",
      "818:\tlearn: 151.3889843\ttotal: 1m 37s\tremaining: 1m 33s\n",
      "819:\tlearn: 151.3475428\ttotal: 1m 37s\tremaining: 1m 33s\n",
      "820:\tlearn: 151.3323270\ttotal: 1m 38s\tremaining: 1m 33s\n",
      "821:\tlearn: 151.3107318\ttotal: 1m 38s\tremaining: 1m 32s\n",
      "822:\tlearn: 151.0854802\ttotal: 1m 38s\tremaining: 1m 32s\n",
      "823:\tlearn: 151.0530323\ttotal: 1m 38s\tremaining: 1m 32s\n",
      "824:\tlearn: 150.9609911\ttotal: 1m 38s\tremaining: 1m 32s\n",
      "825:\tlearn: 150.9259530\ttotal: 1m 38s\tremaining: 1m 32s\n",
      "826:\tlearn: 150.9158884\ttotal: 1m 38s\tremaining: 1m 32s\n",
      "827:\tlearn: 150.8597524\ttotal: 1m 38s\tremaining: 1m 32s\n",
      "828:\tlearn: 150.8418452\ttotal: 1m 38s\tremaining: 1m 31s\n",
      "829:\tlearn: 150.7840531\ttotal: 1m 39s\tremaining: 1m 31s\n",
      "830:\tlearn: 150.7575523\ttotal: 1m 39s\tremaining: 1m 31s\n",
      "831:\tlearn: 150.6956875\ttotal: 1m 39s\tremaining: 1m 31s\n",
      "832:\tlearn: 150.6602135\ttotal: 1m 39s\tremaining: 1m 31s\n",
      "833:\tlearn: 150.6091045\ttotal: 1m 39s\tremaining: 1m 31s\n",
      "834:\tlearn: 150.5696338\ttotal: 1m 39s\tremaining: 1m 31s\n",
      "835:\tlearn: 150.5467973\ttotal: 1m 39s\tremaining: 1m 30s\n",
      "836:\tlearn: 150.5344501\ttotal: 1m 39s\tremaining: 1m 30s\n",
      "837:\tlearn: 150.4959246\ttotal: 1m 39s\tremaining: 1m 30s\n",
      "838:\tlearn: 150.4551025\ttotal: 1m 39s\tremaining: 1m 30s\n",
      "839:\tlearn: 150.3990301\ttotal: 1m 39s\tremaining: 1m 30s\n",
      "840:\tlearn: 150.3599734\ttotal: 1m 39s\tremaining: 1m 29s\n",
      "841:\tlearn: 150.3133748\ttotal: 1m 39s\tremaining: 1m 29s\n",
      "842:\tlearn: 150.3132152\ttotal: 1m 39s\tremaining: 1m 29s\n",
      "843:\tlearn: 150.1805502\ttotal: 1m 39s\tremaining: 1m 29s\n",
      "844:\tlearn: 150.1795854\ttotal: 1m 39s\tremaining: 1m 29s\n",
      "845:\tlearn: 150.1557308\ttotal: 1m 39s\tremaining: 1m 28s\n",
      "846:\tlearn: 149.9678682\ttotal: 1m 39s\tremaining: 1m 28s\n",
      "847:\tlearn: 149.9475451\ttotal: 1m 39s\tremaining: 1m 28s\n",
      "848:\tlearn: 149.9334180\ttotal: 1m 40s\tremaining: 1m 28s\n",
      "849:\tlearn: 149.8534710\ttotal: 1m 40s\tremaining: 1m 28s\n",
      "850:\tlearn: 149.8260802\ttotal: 1m 40s\tremaining: 1m 28s\n",
      "851:\tlearn: 149.7670975\ttotal: 1m 40s\tremaining: 1m 28s\n",
      "852:\tlearn: 149.6699426\ttotal: 1m 40s\tremaining: 1m 28s\n",
      "853:\tlearn: 149.6157369\ttotal: 1m 40s\tremaining: 1m 28s\n",
      "854:\tlearn: 149.6084897\ttotal: 1m 40s\tremaining: 1m 27s\n",
      "855:\tlearn: 149.6072789\ttotal: 1m 40s\tremaining: 1m 27s\n",
      "856:\tlearn: 149.6010238\ttotal: 1m 40s\tremaining: 1m 27s\n",
      "857:\tlearn: 149.5996166\ttotal: 1m 40s\tremaining: 1m 27s\n",
      "858:\tlearn: 149.5893186\ttotal: 1m 40s\tremaining: 1m 27s\n",
      "859:\tlearn: 149.5574779\ttotal: 1m 40s\tremaining: 1m 26s\n",
      "860:\tlearn: 149.5416880\ttotal: 1m 41s\tremaining: 1m 26s\n",
      "861:\tlearn: 149.5336584\ttotal: 1m 41s\tremaining: 1m 26s\n",
      "862:\tlearn: 149.5269878\ttotal: 1m 41s\tremaining: 1m 26s\n",
      "863:\tlearn: 149.5217442\ttotal: 1m 41s\tremaining: 1m 26s\n",
      "864:\tlearn: 149.5211791\ttotal: 1m 41s\tremaining: 1m 25s\n",
      "865:\tlearn: 149.5066051\ttotal: 1m 41s\tremaining: 1m 25s\n",
      "866:\tlearn: 149.4864737\ttotal: 1m 41s\tremaining: 1m 25s\n",
      "867:\tlearn: 149.2094163\ttotal: 1m 41s\tremaining: 1m 25s\n",
      "868:\tlearn: 149.2086415\ttotal: 1m 41s\tremaining: 1m 25s\n",
      "869:\tlearn: 149.0846074\ttotal: 1m 41s\tremaining: 1m 25s\n",
      "870:\tlearn: 148.9319213\ttotal: 1m 41s\tremaining: 1m 25s\n",
      "871:\tlearn: 148.7397688\ttotal: 1m 41s\tremaining: 1m 25s\n",
      "872:\tlearn: 148.7368040\ttotal: 1m 41s\tremaining: 1m 24s\n",
      "873:\tlearn: 148.7359158\ttotal: 1m 41s\tremaining: 1m 24s\n",
      "874:\tlearn: 148.7356313\ttotal: 1m 42s\tremaining: 1m 24s\n",
      "875:\tlearn: 148.6926563\ttotal: 1m 42s\tremaining: 1m 24s\n",
      "876:\tlearn: 148.6726292\ttotal: 1m 42s\tremaining: 1m 24s\n",
      "877:\tlearn: 148.6676259\ttotal: 1m 42s\tremaining: 1m 23s\n",
      "878:\tlearn: 148.6674103\ttotal: 1m 42s\tremaining: 1m 23s\n",
      "879:\tlearn: 148.6641460\ttotal: 1m 42s\tremaining: 1m 23s\n",
      "880:\tlearn: 148.5932745\ttotal: 1m 42s\tremaining: 1m 23s\n",
      "881:\tlearn: 148.5535100\ttotal: 1m 42s\tremaining: 1m 23s\n",
      "882:\tlearn: 148.5526298\ttotal: 1m 42s\tremaining: 1m 23s\n",
      "883:\tlearn: 148.5298772\ttotal: 1m 42s\tremaining: 1m 22s\n",
      "884:\tlearn: 148.5069559\ttotal: 1m 42s\tremaining: 1m 22s\n",
      "885:\tlearn: 148.5004199\ttotal: 1m 42s\tremaining: 1m 22s\n",
      "886:\tlearn: 148.4024342\ttotal: 1m 42s\tremaining: 1m 22s\n",
      "887:\tlearn: 148.4015751\ttotal: 1m 42s\tremaining: 1m 22s\n",
      "888:\tlearn: 148.3661953\ttotal: 1m 42s\tremaining: 1m 22s\n",
      "889:\tlearn: 148.3130031\ttotal: 1m 42s\tremaining: 1m 22s\n",
      "890:\tlearn: 148.3089637\ttotal: 1m 42s\tremaining: 1m 21s\n",
      "891:\tlearn: 148.3034574\ttotal: 1m 42s\tremaining: 1m 21s\n",
      "892:\tlearn: 148.2950438\ttotal: 1m 42s\tremaining: 1m 21s\n",
      "893:\tlearn: 148.2751638\ttotal: 1m 42s\tremaining: 1m 21s\n",
      "894:\tlearn: 148.2554827\ttotal: 1m 42s\tremaining: 1m 21s\n",
      "895:\tlearn: 148.2554130\ttotal: 1m 42s\tremaining: 1m 20s\n",
      "896:\tlearn: 148.2547523\ttotal: 1m 42s\tremaining: 1m 20s\n",
      "897:\tlearn: 148.1917309\ttotal: 1m 42s\tremaining: 1m 20s\n",
      "898:\tlearn: 148.1583446\ttotal: 1m 42s\tremaining: 1m 20s\n",
      "899:\tlearn: 148.1577267\ttotal: 1m 43s\tremaining: 1m 20s\n",
      "900:\tlearn: 148.1554021\ttotal: 1m 43s\tremaining: 1m 19s\n",
      "901:\tlearn: 148.1211486\ttotal: 1m 43s\tremaining: 1m 19s\n",
      "902:\tlearn: 148.1004617\ttotal: 1m 43s\tremaining: 1m 19s\n",
      "903:\tlearn: 148.0910475\ttotal: 1m 43s\tremaining: 1m 19s\n",
      "904:\tlearn: 148.0577928\ttotal: 1m 43s\tremaining: 1m 19s\n",
      "905:\tlearn: 147.9020724\ttotal: 1m 43s\tremaining: 1m 19s\n",
      "906:\tlearn: 147.9013373\ttotal: 1m 43s\tremaining: 1m 18s\n",
      "907:\tlearn: 147.8063542\ttotal: 1m 43s\tremaining: 1m 18s\n",
      "908:\tlearn: 147.8045006\ttotal: 1m 43s\tremaining: 1m 18s\n",
      "909:\tlearn: 147.6777176\ttotal: 1m 43s\tremaining: 1m 18s\n",
      "910:\tlearn: 147.6769076\ttotal: 1m 43s\tremaining: 1m 18s\n",
      "911:\tlearn: 147.6728550\ttotal: 1m 43s\tremaining: 1m 18s\n",
      "912:\tlearn: 147.5877731\ttotal: 1m 43s\tremaining: 1m 18s\n",
      "913:\tlearn: 147.5807942\ttotal: 1m 43s\tremaining: 1m 17s\n",
      "914:\tlearn: 147.5723254\ttotal: 1m 43s\tremaining: 1m 17s\n",
      "915:\tlearn: 147.5461775\ttotal: 1m 43s\tremaining: 1m 17s\n",
      "916:\tlearn: 147.4835720\ttotal: 1m 44s\tremaining: 1m 17s\n",
      "917:\tlearn: 147.4345966\ttotal: 1m 44s\tremaining: 1m 17s\n",
      "918:\tlearn: 147.4345416\ttotal: 1m 44s\tremaining: 1m 17s\n",
      "919:\tlearn: 147.4337615\ttotal: 1m 44s\tremaining: 1m 16s\n",
      "920:\tlearn: 147.4094600\ttotal: 1m 44s\tremaining: 1m 16s\n",
      "921:\tlearn: 147.2284286\ttotal: 1m 44s\tremaining: 1m 16s\n",
      "922:\tlearn: 147.2136664\ttotal: 1m 44s\tremaining: 1m 16s\n",
      "923:\tlearn: 147.2131403\ttotal: 1m 44s\tremaining: 1m 16s\n",
      "924:\tlearn: 147.1327063\ttotal: 1m 44s\tremaining: 1m 16s\n",
      "925:\tlearn: 147.1324673\ttotal: 1m 44s\tremaining: 1m 16s\n",
      "926:\tlearn: 147.1308367\ttotal: 1m 44s\tremaining: 1m 15s\n",
      "927:\tlearn: 147.1306670\ttotal: 1m 44s\tremaining: 1m 15s\n",
      "928:\tlearn: 147.1053734\ttotal: 1m 44s\tremaining: 1m 15s\n",
      "929:\tlearn: 147.0800267\ttotal: 1m 44s\tremaining: 1m 15s\n",
      "930:\tlearn: 147.0647687\ttotal: 1m 44s\tremaining: 1m 15s\n",
      "931:\tlearn: 146.9834819\ttotal: 1m 44s\tremaining: 1m 15s\n",
      "932:\tlearn: 146.9820109\ttotal: 1m 44s\tremaining: 1m 15s\n",
      "933:\tlearn: 146.9813061\ttotal: 1m 44s\tremaining: 1m 14s\n",
      "934:\tlearn: 146.9799337\ttotal: 1m 45s\tremaining: 1m 14s\n",
      "935:\tlearn: 146.9576724\ttotal: 1m 45s\tremaining: 1m 14s\n",
      "936:\tlearn: 146.7595467\ttotal: 1m 45s\tremaining: 1m 14s\n",
      "937:\tlearn: 146.7587989\ttotal: 1m 45s\tremaining: 1m 14s\n",
      "938:\tlearn: 146.7586629\ttotal: 1m 45s\tremaining: 1m 14s\n",
      "939:\tlearn: 146.7586355\ttotal: 1m 45s\tremaining: 1m 14s\n",
      "940:\tlearn: 146.6272908\ttotal: 1m 45s\tremaining: 1m 14s\n",
      "941:\tlearn: 146.5559770\ttotal: 1m 45s\tremaining: 1m 13s\n",
      "942:\tlearn: 146.4801705\ttotal: 1m 45s\tremaining: 1m 13s\n",
      "943:\tlearn: 146.2123357\ttotal: 1m 46s\tremaining: 1m 13s\n",
      "944:\tlearn: 146.2116149\ttotal: 1m 46s\tremaining: 1m 13s\n",
      "945:\tlearn: 146.2066041\ttotal: 1m 46s\tremaining: 1m 13s\n",
      "946:\tlearn: 146.2018521\ttotal: 1m 46s\tremaining: 1m 13s\n",
      "947:\tlearn: 146.1758262\ttotal: 1m 46s\tremaining: 1m 13s\n",
      "948:\tlearn: 146.1391275\ttotal: 1m 46s\tremaining: 1m 12s\n",
      "949:\tlearn: 145.9253908\ttotal: 1m 46s\tremaining: 1m 12s\n",
      "950:\tlearn: 145.9242482\ttotal: 1m 46s\tremaining: 1m 12s\n",
      "951:\tlearn: 145.9240032\ttotal: 1m 46s\tremaining: 1m 12s\n",
      "952:\tlearn: 145.8085945\ttotal: 1m 46s\tremaining: 1m 12s\n",
      "953:\tlearn: 145.7858825\ttotal: 1m 46s\tremaining: 1m 12s\n",
      "954:\tlearn: 145.6850240\ttotal: 1m 46s\tremaining: 1m 12s\n",
      "955:\tlearn: 145.6594245\ttotal: 1m 47s\tremaining: 1m 12s\n",
      "956:\tlearn: 145.6571267\ttotal: 1m 47s\tremaining: 1m 11s\n",
      "957:\tlearn: 145.5769535\ttotal: 1m 47s\tremaining: 1m 11s\n",
      "958:\tlearn: 145.4945820\ttotal: 1m 47s\tremaining: 1m 11s\n",
      "959:\tlearn: 145.4895244\ttotal: 1m 47s\tremaining: 1m 11s\n",
      "960:\tlearn: 145.4831889\ttotal: 1m 47s\tremaining: 1m 11s\n",
      "961:\tlearn: 145.4179575\ttotal: 1m 47s\tremaining: 1m 11s\n",
      "962:\tlearn: 145.4130250\ttotal: 1m 47s\tremaining: 1m 11s\n",
      "963:\tlearn: 145.4070144\ttotal: 1m 47s\tremaining: 1m 11s\n",
      "964:\tlearn: 145.4033550\ttotal: 1m 47s\tremaining: 1m 10s\n",
      "965:\tlearn: 145.3860336\ttotal: 1m 47s\tremaining: 1m 10s\n",
      "966:\tlearn: 145.3714853\ttotal: 1m 47s\tremaining: 1m 10s\n",
      "967:\tlearn: 145.2907568\ttotal: 1m 47s\tremaining: 1m 10s\n",
      "968:\tlearn: 145.2897021\ttotal: 1m 47s\tremaining: 1m 10s\n",
      "969:\tlearn: 145.2559171\ttotal: 1m 47s\tremaining: 1m 10s\n",
      "970:\tlearn: 145.2558986\ttotal: 1m 47s\tremaining: 1m 9s\n",
      "971:\tlearn: 145.2411434\ttotal: 1m 47s\tremaining: 1m 9s\n",
      "972:\tlearn: 145.2404670\ttotal: 1m 47s\tremaining: 1m 9s\n",
      "973:\tlearn: 145.2335020\ttotal: 1m 47s\tremaining: 1m 9s\n",
      "974:\tlearn: 145.1009795\ttotal: 1m 48s\tremaining: 1m 9s\n",
      "975:\tlearn: 144.9587560\ttotal: 1m 48s\tremaining: 1m 9s\n",
      "976:\tlearn: 144.9581175\ttotal: 1m 48s\tremaining: 1m 9s\n",
      "977:\tlearn: 144.7598924\ttotal: 1m 48s\tremaining: 1m 8s\n",
      "978:\tlearn: 144.7453483\ttotal: 1m 48s\tremaining: 1m 8s\n",
      "979:\tlearn: 144.7436879\ttotal: 1m 48s\tremaining: 1m 8s\n",
      "980:\tlearn: 144.5095099\ttotal: 1m 48s\tremaining: 1m 8s\n",
      "981:\tlearn: 144.5091220\ttotal: 1m 48s\tremaining: 1m 8s\n",
      "982:\tlearn: 144.4934466\ttotal: 1m 48s\tremaining: 1m 8s\n",
      "983:\tlearn: 144.4806079\ttotal: 1m 48s\tremaining: 1m 8s\n",
      "984:\tlearn: 144.4434620\ttotal: 1m 48s\tremaining: 1m 7s\n",
      "985:\tlearn: 144.2415730\ttotal: 1m 48s\tremaining: 1m 7s\n",
      "986:\tlearn: 144.0249755\ttotal: 1m 49s\tremaining: 1m 7s\n",
      "987:\tlearn: 144.0198757\ttotal: 1m 49s\tremaining: 1m 7s\n",
      "988:\tlearn: 143.9442439\ttotal: 1m 49s\tremaining: 1m 7s\n",
      "989:\tlearn: 143.8934100\ttotal: 1m 49s\tremaining: 1m 7s\n",
      "990:\tlearn: 143.8898836\ttotal: 1m 49s\tremaining: 1m 7s\n",
      "991:\tlearn: 143.8861828\ttotal: 1m 49s\tremaining: 1m 7s\n",
      "992:\tlearn: 143.8548590\ttotal: 1m 49s\tremaining: 1m 6s\n",
      "993:\tlearn: 143.8543804\ttotal: 1m 49s\tremaining: 1m 6s\n",
      "994:\tlearn: 143.7047592\ttotal: 1m 49s\tremaining: 1m 6s\n",
      "995:\tlearn: 143.7036170\ttotal: 1m 49s\tremaining: 1m 6s\n",
      "996:\tlearn: 143.5481356\ttotal: 1m 49s\tremaining: 1m 6s\n",
      "997:\tlearn: 143.5253547\ttotal: 1m 49s\tremaining: 1m 6s\n",
      "998:\tlearn: 143.3959738\ttotal: 1m 49s\tremaining: 1m 6s\n",
      "999:\tlearn: 143.3765505\ttotal: 1m 50s\tremaining: 1m 6s\n",
      "1000:\tlearn: 143.2838872\ttotal: 1m 50s\tremaining: 1m 5s\n",
      "1001:\tlearn: 143.2660751\ttotal: 1m 50s\tremaining: 1m 5s\n",
      "1002:\tlearn: 143.2598009\ttotal: 1m 50s\tremaining: 1m 5s\n",
      "1003:\tlearn: 143.2586200\ttotal: 1m 50s\tremaining: 1m 5s\n",
      "1004:\tlearn: 143.2007909\ttotal: 1m 50s\tremaining: 1m 5s\n",
      "1005:\tlearn: 143.1955683\ttotal: 1m 50s\tremaining: 1m 5s\n",
      "1006:\tlearn: 143.1937191\ttotal: 1m 50s\tremaining: 1m 4s\n",
      "1007:\tlearn: 143.1900702\ttotal: 1m 50s\tremaining: 1m 4s\n",
      "1008:\tlearn: 143.1864474\ttotal: 1m 50s\tremaining: 1m 4s\n",
      "1009:\tlearn: 143.1451586\ttotal: 1m 50s\tremaining: 1m 4s\n",
      "1010:\tlearn: 143.0599082\ttotal: 1m 50s\tremaining: 1m 4s\n",
      "1011:\tlearn: 143.0427611\ttotal: 1m 50s\tremaining: 1m 4s\n",
      "1012:\tlearn: 143.0392530\ttotal: 1m 50s\tremaining: 1m 4s\n",
      "1013:\tlearn: 143.0276699\ttotal: 1m 50s\tremaining: 1m 4s\n",
      "1014:\tlearn: 143.0220997\ttotal: 1m 50s\tremaining: 1m 3s\n",
      "1015:\tlearn: 143.0027287\ttotal: 1m 51s\tremaining: 1m 3s\n",
      "1016:\tlearn: 142.7470399\ttotal: 1m 51s\tremaining: 1m 3s\n",
      "1017:\tlearn: 142.4928303\ttotal: 1m 51s\tremaining: 1m 3s\n",
      "1018:\tlearn: 142.2123686\ttotal: 1m 51s\tremaining: 1m 3s\n",
      "1019:\tlearn: 142.2098020\ttotal: 1m 51s\tremaining: 1m 3s\n",
      "1020:\tlearn: 142.2097907\ttotal: 1m 51s\tremaining: 1m 3s\n",
      "1021:\tlearn: 142.2044497\ttotal: 1m 51s\tremaining: 1m 3s\n",
      "1022:\tlearn: 142.2041674\ttotal: 1m 51s\tremaining: 1m 2s\n",
      "1023:\tlearn: 142.2013217\ttotal: 1m 51s\tremaining: 1m 2s\n",
      "1024:\tlearn: 141.8855163\ttotal: 1m 51s\tremaining: 1m 2s\n",
      "1025:\tlearn: 141.6631485\ttotal: 1m 51s\tremaining: 1m 2s\n",
      "1026:\tlearn: 141.6456314\ttotal: 1m 51s\tremaining: 1m 2s\n",
      "1027:\tlearn: 141.6432588\ttotal: 1m 51s\tremaining: 1m 2s\n",
      "1028:\tlearn: 141.6407326\ttotal: 1m 51s\tremaining: 1m 2s\n",
      "1029:\tlearn: 141.5708746\ttotal: 1m 51s\tremaining: 1m 1s\n",
      "1030:\tlearn: 141.5696206\ttotal: 1m 52s\tremaining: 1m 1s\n",
      "1031:\tlearn: 141.5688686\ttotal: 1m 52s\tremaining: 1m 1s\n",
      "1032:\tlearn: 141.5495070\ttotal: 1m 52s\tremaining: 1m 1s\n",
      "1033:\tlearn: 141.4394702\ttotal: 1m 52s\tremaining: 1m 1s\n",
      "1034:\tlearn: 141.1818222\ttotal: 1m 52s\tremaining: 1m 1s\n",
      "1035:\tlearn: 141.1384084\ttotal: 1m 52s\tremaining: 1m 1s\n",
      "1036:\tlearn: 140.8300418\ttotal: 1m 52s\tremaining: 1m 1s\n",
      "1037:\tlearn: 140.8104927\ttotal: 1m 52s\tremaining: 1m 1s\n",
      "1038:\tlearn: 140.7846758\ttotal: 1m 52s\tremaining: 1m\n",
      "1039:\tlearn: 140.7550939\ttotal: 1m 52s\tremaining: 1m\n",
      "1040:\tlearn: 140.6575480\ttotal: 1m 53s\tremaining: 1m\n",
      "1041:\tlearn: 140.6573315\ttotal: 1m 53s\tremaining: 1m\n",
      "1042:\tlearn: 140.6285671\ttotal: 1m 53s\tremaining: 1m\n",
      "1043:\tlearn: 140.6265701\ttotal: 1m 53s\tremaining: 1m\n",
      "1044:\tlearn: 140.6069254\ttotal: 1m 53s\tremaining: 1m\n",
      "1045:\tlearn: 140.6064968\ttotal: 1m 53s\tremaining: 59.9s\n",
      "1046:\tlearn: 140.6013825\ttotal: 1m 53s\tremaining: 59.8s\n",
      "1047:\tlearn: 140.5324278\ttotal: 1m 53s\tremaining: 59.7s\n",
      "1048:\tlearn: 140.5291519\ttotal: 1m 53s\tremaining: 59.5s\n",
      "1049:\tlearn: 140.5258673\ttotal: 1m 53s\tremaining: 59.4s\n",
      "1050:\tlearn: 140.5195419\ttotal: 1m 53s\tremaining: 59.2s\n",
      "1051:\tlearn: 140.5151118\ttotal: 1m 53s\tremaining: 59s\n",
      "1052:\tlearn: 140.5092006\ttotal: 1m 53s\tremaining: 58.9s\n",
      "1053:\tlearn: 140.5053014\ttotal: 1m 53s\tremaining: 58.8s\n",
      "1054:\tlearn: 140.5050853\ttotal: 1m 53s\tremaining: 58.6s\n",
      "1055:\tlearn: 140.2151469\ttotal: 1m 53s\tremaining: 58.5s\n",
      "1056:\tlearn: 140.1567710\ttotal: 1m 53s\tremaining: 58.4s\n",
      "1057:\tlearn: 140.1420926\ttotal: 1m 53s\tremaining: 58.3s\n",
      "1058:\tlearn: 140.0705951\ttotal: 1m 53s\tremaining: 58.2s\n",
      "1059:\tlearn: 140.0558627\ttotal: 1m 53s\tremaining: 58s\n",
      "1060:\tlearn: 140.0526550\ttotal: 1m 53s\tremaining: 57.9s\n",
      "1061:\tlearn: 140.0477185\ttotal: 1m 53s\tremaining: 57.7s\n",
      "1062:\tlearn: 140.0449152\ttotal: 1m 53s\tremaining: 57.5s\n",
      "1063:\tlearn: 139.9123236\ttotal: 1m 54s\tremaining: 57.5s\n",
      "1064:\tlearn: 139.8880686\ttotal: 1m 54s\tremaining: 57.4s\n",
      "1065:\tlearn: 139.8838218\ttotal: 1m 54s\tremaining: 57.3s\n",
      "1066:\tlearn: 139.7938510\ttotal: 1m 54s\tremaining: 57.2s\n",
      "1067:\tlearn: 139.7033748\ttotal: 1m 54s\tremaining: 57.1s\n",
      "1068:\tlearn: 139.5619168\ttotal: 1m 54s\tremaining: 57s\n",
      "1069:\tlearn: 139.5519704\ttotal: 1m 54s\tremaining: 57s\n",
      "1070:\tlearn: 139.4777472\ttotal: 1m 55s\tremaining: 56.9s\n",
      "1071:\tlearn: 139.4357016\ttotal: 1m 55s\tremaining: 56.8s\n",
      "1072:\tlearn: 139.3422959\ttotal: 1m 55s\tremaining: 56.7s\n",
      "1073:\tlearn: 139.3418693\ttotal: 1m 55s\tremaining: 56.5s\n",
      "1074:\tlearn: 139.3404324\ttotal: 1m 55s\tremaining: 56.4s\n",
      "1075:\tlearn: 139.3280959\ttotal: 1m 55s\tremaining: 56.2s\n",
      "1076:\tlearn: 139.3249498\ttotal: 1m 55s\tremaining: 56.1s\n",
      "1077:\tlearn: 139.3245297\ttotal: 1m 55s\tremaining: 55.9s\n",
      "1078:\tlearn: 139.3006615\ttotal: 1m 55s\tremaining: 55.8s\n",
      "1079:\tlearn: 139.2797125\ttotal: 1m 55s\tremaining: 55.7s\n",
      "1080:\tlearn: 139.2787440\ttotal: 1m 55s\tremaining: 55.6s\n",
      "1081:\tlearn: 139.0556577\ttotal: 1m 55s\tremaining: 55.5s\n",
      "1082:\tlearn: 139.0548666\ttotal: 1m 55s\tremaining: 55.3s\n",
      "1083:\tlearn: 138.9932704\ttotal: 1m 56s\tremaining: 55.3s\n",
      "1084:\tlearn: 138.9842129\ttotal: 1m 56s\tremaining: 55.1s\n",
      "1085:\tlearn: 138.9495255\ttotal: 1m 56s\tremaining: 55s\n",
      "1086:\tlearn: 138.9258771\ttotal: 1m 56s\tremaining: 54.9s\n",
      "1087:\tlearn: 138.9036664\ttotal: 1m 56s\tremaining: 54.8s\n",
      "1088:\tlearn: 138.8045205\ttotal: 1m 56s\tremaining: 54.7s\n",
      "1089:\tlearn: 138.8042385\ttotal: 1m 56s\tremaining: 54.5s\n",
      "1090:\tlearn: 138.8002782\ttotal: 1m 56s\tremaining: 54.4s\n",
      "1091:\tlearn: 138.6841552\ttotal: 1m 56s\tremaining: 54.3s\n",
      "1092:\tlearn: 138.3701764\ttotal: 1m 56s\tremaining: 54.2s\n",
      "1093:\tlearn: 138.3677257\ttotal: 1m 56s\tremaining: 54.1s\n",
      "1094:\tlearn: 138.3676101\ttotal: 1m 56s\tremaining: 53.9s\n",
      "1095:\tlearn: 138.3363468\ttotal: 1m 57s\tremaining: 53.8s\n",
      "1096:\tlearn: 138.3080959\ttotal: 1m 57s\tremaining: 53.7s\n",
      "1097:\tlearn: 138.2743768\ttotal: 1m 57s\tremaining: 53.6s\n",
      "1098:\tlearn: 138.2739786\ttotal: 1m 57s\tremaining: 53.5s\n",
      "1099:\tlearn: 138.2680175\ttotal: 1m 57s\tremaining: 53.4s\n",
      "1100:\tlearn: 137.9896233\ttotal: 1m 57s\tremaining: 53.4s\n",
      "1101:\tlearn: 137.9849996\ttotal: 1m 57s\tremaining: 53.2s\n",
      "1102:\tlearn: 137.7052958\ttotal: 1m 57s\tremaining: 53.2s\n",
      "1103:\tlearn: 137.5560468\ttotal: 1m 58s\tremaining: 53.1s\n",
      "1104:\tlearn: 137.4717536\ttotal: 1m 58s\tremaining: 53s\n",
      "1105:\tlearn: 137.4672599\ttotal: 1m 58s\tremaining: 52.8s\n",
      "1106:\tlearn: 137.4630604\ttotal: 1m 58s\tremaining: 52.7s\n",
      "1107:\tlearn: 137.4569620\ttotal: 1m 58s\tremaining: 52.6s\n",
      "1108:\tlearn: 137.4270474\ttotal: 1m 58s\tremaining: 52.5s\n",
      "1109:\tlearn: 137.4174424\ttotal: 1m 58s\tremaining: 52.5s\n",
      "1110:\tlearn: 137.4156581\ttotal: 1m 58s\tremaining: 52.3s\n",
      "1111:\tlearn: 137.3697136\ttotal: 1m 58s\tremaining: 52.2s\n",
      "1112:\tlearn: 137.3408199\ttotal: 1m 59s\tremaining: 52.1s\n",
      "1113:\tlearn: 137.3378613\ttotal: 1m 59s\tremaining: 52s\n",
      "1114:\tlearn: 137.0850693\ttotal: 1m 59s\tremaining: 51.9s\n",
      "1115:\tlearn: 137.0714155\ttotal: 1m 59s\tremaining: 51.8s\n",
      "1116:\tlearn: 136.8576308\ttotal: 1m 59s\tremaining: 51.7s\n",
      "1117:\tlearn: 136.8533048\ttotal: 1m 59s\tremaining: 51.5s\n",
      "1118:\tlearn: 136.8480595\ttotal: 1m 59s\tremaining: 51.4s\n",
      "1119:\tlearn: 136.6990766\ttotal: 1m 59s\tremaining: 51.3s\n",
      "1120:\tlearn: 136.6990541\ttotal: 1m 59s\tremaining: 51.2s\n",
      "1121:\tlearn: 136.6947734\ttotal: 1m 59s\tremaining: 51s\n",
      "1122:\tlearn: 136.6140212\ttotal: 1m 59s\tremaining: 50.9s\n",
      "1123:\tlearn: 136.5850301\ttotal: 1m 59s\tremaining: 50.8s\n",
      "1124:\tlearn: 136.2778334\ttotal: 2m\tremaining: 50.7s\n",
      "1125:\tlearn: 136.2739100\ttotal: 2m\tremaining: 50.6s\n",
      "1126:\tlearn: 136.2376330\ttotal: 2m\tremaining: 50.5s\n",
      "1127:\tlearn: 136.2374038\ttotal: 2m\tremaining: 50.4s\n",
      "1128:\tlearn: 136.2331802\ttotal: 2m\tremaining: 50.2s\n",
      "1129:\tlearn: 136.1185765\ttotal: 2m\tremaining: 50.2s\n",
      "1130:\tlearn: 135.9708512\ttotal: 2m\tremaining: 50.1s\n",
      "1131:\tlearn: 135.8558295\ttotal: 2m 1s\tremaining: 50s\n",
      "1132:\tlearn: 135.8193293\ttotal: 2m 1s\tremaining: 49.9s\n",
      "1133:\tlearn: 135.7337529\ttotal: 2m 1s\tremaining: 49.8s\n",
      "1134:\tlearn: 135.7048604\ttotal: 2m 1s\tremaining: 49.7s\n",
      "1135:\tlearn: 135.5462483\ttotal: 2m 1s\tremaining: 49.6s\n",
      "1136:\tlearn: 135.5066345\ttotal: 2m 1s\tremaining: 49.5s\n",
      "1137:\tlearn: 135.4891984\ttotal: 2m 1s\tremaining: 49.4s\n",
      "1138:\tlearn: 135.4865650\ttotal: 2m 1s\tremaining: 49.3s\n",
      "1139:\tlearn: 135.4470122\ttotal: 2m 1s\tremaining: 49.2s\n",
      "1140:\tlearn: 135.4451864\ttotal: 2m 1s\tremaining: 49.1s\n",
      "1141:\tlearn: 135.4421341\ttotal: 2m 1s\tremaining: 48.9s\n",
      "1142:\tlearn: 135.4022707\ttotal: 2m 2s\tremaining: 48.8s\n",
      "1143:\tlearn: 135.3840190\ttotal: 2m 2s\tremaining: 48.7s\n",
      "1144:\tlearn: 135.3305541\ttotal: 2m 2s\tremaining: 48.6s\n",
      "1145:\tlearn: 135.3214121\ttotal: 2m 2s\tremaining: 48.5s\n",
      "1146:\tlearn: 135.2913281\ttotal: 2m 2s\tremaining: 48.4s\n",
      "1147:\tlearn: 135.2740507\ttotal: 2m 2s\tremaining: 48.2s\n",
      "1148:\tlearn: 135.2579574\ttotal: 2m 2s\tremaining: 48.1s\n",
      "1149:\tlearn: 135.2553211\ttotal: 2m 2s\tremaining: 48s\n",
      "1150:\tlearn: 135.1591707\ttotal: 2m 2s\tremaining: 47.9s\n",
      "1151:\tlearn: 135.1591191\ttotal: 2m 2s\tremaining: 47.8s\n",
      "1152:\tlearn: 135.1510275\ttotal: 2m 2s\tremaining: 47.6s\n",
      "1153:\tlearn: 135.1090854\ttotal: 2m 2s\tremaining: 47.5s\n",
      "1154:\tlearn: 135.1025620\ttotal: 2m 3s\tremaining: 47.4s\n",
      "1155:\tlearn: 134.9212634\ttotal: 2m 3s\tremaining: 47.3s\n",
      "1156:\tlearn: 134.9170540\ttotal: 2m 3s\tremaining: 47.3s\n",
      "1157:\tlearn: 134.9034225\ttotal: 2m 3s\tremaining: 47.1s\n",
      "1158:\tlearn: 134.8731181\ttotal: 2m 3s\tremaining: 47s\n",
      "1159:\tlearn: 134.8721124\ttotal: 2m 3s\tremaining: 46.9s\n",
      "1160:\tlearn: 134.8169253\ttotal: 2m 3s\tremaining: 46.8s\n",
      "1161:\tlearn: 134.7765877\ttotal: 2m 3s\tremaining: 46.7s\n",
      "1162:\tlearn: 134.7693635\ttotal: 2m 3s\tremaining: 46.6s\n",
      "1163:\tlearn: 134.7278456\ttotal: 2m 4s\tremaining: 46.6s\n",
      "1164:\tlearn: 134.6481959\ttotal: 2m 4s\tremaining: 46.5s\n",
      "1165:\tlearn: 134.6376709\ttotal: 2m 4s\tremaining: 46.4s\n",
      "1166:\tlearn: 134.6364659\ttotal: 2m 4s\tremaining: 46.2s\n",
      "1167:\tlearn: 134.5738314\ttotal: 2m 4s\tremaining: 46.1s\n",
      "1168:\tlearn: 134.5414233\ttotal: 2m 4s\tremaining: 46s\n",
      "1169:\tlearn: 134.4330559\ttotal: 2m 4s\tremaining: 45.9s\n",
      "1170:\tlearn: 134.4128898\ttotal: 2m 5s\tremaining: 45.8s\n",
      "1171:\tlearn: 134.2720484\ttotal: 2m 5s\tremaining: 45.8s\n",
      "1172:\tlearn: 134.2679862\ttotal: 2m 5s\tremaining: 45.7s\n",
      "1173:\tlearn: 134.2626139\ttotal: 2m 5s\tremaining: 45.5s\n",
      "1174:\tlearn: 134.2319801\ttotal: 2m 5s\tremaining: 45.4s\n",
      "1175:\tlearn: 134.1330576\ttotal: 2m 5s\tremaining: 45.4s\n",
      "1176:\tlearn: 134.1287030\ttotal: 2m 5s\tremaining: 45.2s\n",
      "1177:\tlearn: 134.1250155\ttotal: 2m 6s\tremaining: 45.2s\n",
      "1178:\tlearn: 133.9616331\ttotal: 2m 6s\tremaining: 45.1s\n",
      "1179:\tlearn: 133.9576849\ttotal: 2m 6s\tremaining: 45s\n",
      "1180:\tlearn: 133.9523322\ttotal: 2m 6s\tremaining: 44.9s\n",
      "1181:\tlearn: 133.9520126\ttotal: 2m 6s\tremaining: 44.8s\n",
      "1182:\tlearn: 133.9494087\ttotal: 2m 6s\tremaining: 44.7s\n",
      "1183:\tlearn: 133.9360833\ttotal: 2m 6s\tremaining: 44.6s\n",
      "1184:\tlearn: 133.8835875\ttotal: 2m 7s\tremaining: 44.5s\n",
      "1185:\tlearn: 133.8832944\ttotal: 2m 7s\tremaining: 44.3s\n",
      "1186:\tlearn: 133.6721766\ttotal: 2m 7s\tremaining: 44.3s\n",
      "1187:\tlearn: 133.6433950\ttotal: 2m 7s\tremaining: 44.2s\n",
      "1188:\tlearn: 133.6208815\ttotal: 2m 7s\tremaining: 44s\n",
      "1189:\tlearn: 133.6191413\ttotal: 2m 7s\tremaining: 44s\n",
      "1190:\tlearn: 133.6149034\ttotal: 2m 7s\tremaining: 43.8s\n",
      "1191:\tlearn: 133.5838553\ttotal: 2m 7s\tremaining: 43.8s\n",
      "1192:\tlearn: 133.5518733\ttotal: 2m 8s\tremaining: 43.7s\n",
      "1193:\tlearn: 133.5495626\ttotal: 2m 8s\tremaining: 43.6s\n",
      "1194:\tlearn: 133.5449042\ttotal: 2m 8s\tremaining: 43.5s\n",
      "1195:\tlearn: 133.4762868\ttotal: 2m 8s\tremaining: 43.4s\n",
      "1196:\tlearn: 133.2537201\ttotal: 2m 8s\tremaining: 43.3s\n",
      "1197:\tlearn: 133.1270186\ttotal: 2m 8s\tremaining: 43.2s\n",
      "1198:\tlearn: 132.9326000\ttotal: 2m 8s\tremaining: 43.1s\n",
      "1199:\tlearn: 132.8706958\ttotal: 2m 9s\tremaining: 43s\n",
      "1200:\tlearn: 132.8671263\ttotal: 2m 9s\tremaining: 42.9s\n",
      "1201:\tlearn: 132.8493167\ttotal: 2m 9s\tremaining: 42.8s\n",
      "1202:\tlearn: 132.8104681\ttotal: 2m 9s\tremaining: 42.7s\n",
      "1203:\tlearn: 132.7480225\ttotal: 2m 9s\tremaining: 42.6s\n",
      "1204:\tlearn: 132.6115425\ttotal: 2m 9s\tremaining: 42.5s\n",
      "1205:\tlearn: 132.5822441\ttotal: 2m 9s\tremaining: 42.4s\n",
      "1206:\tlearn: 132.3250884\ttotal: 2m 9s\tremaining: 42.3s\n",
      "1207:\tlearn: 132.3081725\ttotal: 2m 9s\tremaining: 42.2s\n",
      "1208:\tlearn: 132.1354360\ttotal: 2m 10s\tremaining: 42.1s\n",
      "1209:\tlearn: 132.1253231\ttotal: 2m 10s\tremaining: 42.1s\n",
      "1210:\tlearn: 132.1207625\ttotal: 2m 10s\tremaining: 41.9s\n",
      "1211:\tlearn: 131.8841717\ttotal: 2m 10s\tremaining: 41.8s\n",
      "1212:\tlearn: 131.8453062\ttotal: 2m 10s\tremaining: 41.8s\n",
      "1213:\tlearn: 131.8082400\ttotal: 2m 11s\tremaining: 41.7s\n",
      "1214:\tlearn: 131.8041355\ttotal: 2m 11s\tremaining: 41.6s\n",
      "1215:\tlearn: 131.7883799\ttotal: 2m 11s\tremaining: 41.4s\n",
      "1216:\tlearn: 131.7861619\ttotal: 2m 11s\tremaining: 41.3s\n",
      "1217:\tlearn: 131.7204435\ttotal: 2m 11s\tremaining: 41.2s\n",
      "1218:\tlearn: 131.5268336\ttotal: 2m 11s\tremaining: 41.1s\n",
      "1219:\tlearn: 131.4013694\ttotal: 2m 11s\tremaining: 41s\n",
      "1220:\tlearn: 131.3814608\ttotal: 2m 11s\tremaining: 40.9s\n",
      "1221:\tlearn: 131.3429381\ttotal: 2m 11s\tremaining: 40.8s\n",
      "1222:\tlearn: 131.3192799\ttotal: 2m 12s\tremaining: 40.7s\n",
      "1223:\tlearn: 131.1471335\ttotal: 2m 12s\tremaining: 40.6s\n",
      "1224:\tlearn: 131.1412736\ttotal: 2m 12s\tremaining: 40.5s\n",
      "1225:\tlearn: 131.1218700\ttotal: 2m 12s\tremaining: 40.4s\n",
      "1226:\tlearn: 131.0883137\ttotal: 2m 12s\tremaining: 40.3s\n",
      "1227:\tlearn: 131.0701078\ttotal: 2m 12s\tremaining: 40.2s\n",
      "1228:\tlearn: 131.0518782\ttotal: 2m 12s\tremaining: 40.1s\n",
      "1229:\tlearn: 131.0497020\ttotal: 2m 12s\tremaining: 40s\n",
      "1230:\tlearn: 131.0254447\ttotal: 2m 13s\tremaining: 39.9s\n",
      "1231:\tlearn: 131.0198368\ttotal: 2m 13s\tremaining: 39.8s\n",
      "1232:\tlearn: 130.9800545\ttotal: 2m 13s\tremaining: 39.7s\n",
      "1233:\tlearn: 130.9755750\ttotal: 2m 13s\tremaining: 39.6s\n",
      "1234:\tlearn: 130.9730324\ttotal: 2m 13s\tremaining: 39.5s\n",
      "1235:\tlearn: 130.9005245\ttotal: 2m 13s\tremaining: 39.4s\n",
      "1236:\tlearn: 130.8776151\ttotal: 2m 13s\tremaining: 39.3s\n",
      "1237:\tlearn: 130.8635720\ttotal: 2m 13s\tremaining: 39.2s\n",
      "1238:\tlearn: 130.8609766\ttotal: 2m 14s\tremaining: 39.1s\n",
      "1239:\tlearn: 130.7005708\ttotal: 2m 14s\tremaining: 39s\n",
      "1240:\tlearn: 130.4948013\ttotal: 2m 14s\tremaining: 38.9s\n",
      "1241:\tlearn: 130.4222676\ttotal: 2m 14s\tremaining: 38.8s\n",
      "1242:\tlearn: 130.4081511\ttotal: 2m 14s\tremaining: 38.7s\n",
      "1243:\tlearn: 130.4053660\ttotal: 2m 14s\tremaining: 38.6s\n",
      "1244:\tlearn: 130.3733513\ttotal: 2m 14s\tremaining: 38.5s\n",
      "1245:\tlearn: 130.3715914\ttotal: 2m 15s\tremaining: 38.4s\n",
      "1246:\tlearn: 130.1706406\ttotal: 2m 15s\tremaining: 38.3s\n",
      "1247:\tlearn: 130.1607615\ttotal: 2m 15s\tremaining: 38.2s\n",
      "1248:\tlearn: 129.9994463\ttotal: 2m 15s\tremaining: 38.2s\n",
      "1249:\tlearn: 129.9945698\ttotal: 2m 15s\tremaining: 38.1s\n",
      "1250:\tlearn: 129.9759969\ttotal: 2m 16s\tremaining: 38s\n",
      "1251:\tlearn: 129.9249914\ttotal: 2m 16s\tremaining: 37.9s\n",
      "1252:\tlearn: 129.7495097\ttotal: 2m 16s\tremaining: 37.8s\n",
      "1253:\tlearn: 129.6578209\ttotal: 2m 16s\tremaining: 37.7s\n",
      "1254:\tlearn: 129.6189058\ttotal: 2m 16s\tremaining: 37.6s\n",
      "1255:\tlearn: 129.5868829\ttotal: 2m 16s\tremaining: 37.5s\n",
      "1256:\tlearn: 129.5827982\ttotal: 2m 16s\tremaining: 37.3s\n",
      "1257:\tlearn: 129.4863319\ttotal: 2m 17s\tremaining: 37.2s\n",
      "1258:\tlearn: 129.3398610\ttotal: 2m 17s\tremaining: 37.1s\n",
      "1259:\tlearn: 129.2739529\ttotal: 2m 17s\tremaining: 37s\n",
      "1260:\tlearn: 129.2599856\ttotal: 2m 17s\tremaining: 36.9s\n",
      "1261:\tlearn: 129.2567134\ttotal: 2m 17s\tremaining: 36.8s\n",
      "1262:\tlearn: 129.2451075\ttotal: 2m 17s\tremaining: 36.7s\n",
      "1263:\tlearn: 129.2160874\ttotal: 2m 17s\tremaining: 36.6s\n",
      "1264:\tlearn: 129.1877334\ttotal: 2m 17s\tremaining: 36.4s\n",
      "1265:\tlearn: 129.1827421\ttotal: 2m 17s\tremaining: 36.3s\n",
      "1266:\tlearn: 129.1802619\ttotal: 2m 17s\tremaining: 36.2s\n",
      "1267:\tlearn: 129.1284757\ttotal: 2m 17s\tremaining: 36.1s\n",
      "1268:\tlearn: 129.0638536\ttotal: 2m 17s\tremaining: 36s\n",
      "1269:\tlearn: 129.0465173\ttotal: 2m 18s\tremaining: 35.9s\n",
      "1270:\tlearn: 129.0422255\ttotal: 2m 18s\tremaining: 35.8s\n",
      "1271:\tlearn: 129.0205171\ttotal: 2m 18s\tremaining: 35.7s\n",
      "1272:\tlearn: 128.9799566\ttotal: 2m 18s\tremaining: 35.6s\n",
      "1273:\tlearn: 128.9567145\ttotal: 2m 18s\tremaining: 35.5s\n",
      "1274:\tlearn: 128.9277712\ttotal: 2m 18s\tremaining: 35.4s\n",
      "1275:\tlearn: 128.9027951\ttotal: 2m 18s\tremaining: 35.3s\n",
      "1276:\tlearn: 128.8580316\ttotal: 2m 19s\tremaining: 35.2s\n",
      "1277:\tlearn: 128.6547065\ttotal: 2m 19s\tremaining: 35.1s\n",
      "1278:\tlearn: 128.6418221\ttotal: 2m 19s\tremaining: 35s\n",
      "1279:\tlearn: 128.6403263\ttotal: 2m 19s\tremaining: 34.9s\n",
      "1280:\tlearn: 128.5248599\ttotal: 2m 19s\tremaining: 34.8s\n",
      "1281:\tlearn: 128.5209457\ttotal: 2m 19s\tremaining: 34.7s\n",
      "1282:\tlearn: 128.4438020\ttotal: 2m 19s\tremaining: 34.6s\n",
      "1283:\tlearn: 128.2873004\ttotal: 2m 20s\tremaining: 34.5s\n",
      "1284:\tlearn: 128.1585052\ttotal: 2m 20s\tremaining: 34.4s\n",
      "1285:\tlearn: 128.1555511\ttotal: 2m 20s\tremaining: 34.3s\n",
      "1286:\tlearn: 127.9571808\ttotal: 2m 20s\tremaining: 34.2s\n",
      "1287:\tlearn: 127.9470499\ttotal: 2m 20s\tremaining: 34.1s\n",
      "1288:\tlearn: 127.8918279\ttotal: 2m 20s\tremaining: 34s\n",
      "1289:\tlearn: 127.8291642\ttotal: 2m 21s\tremaining: 33.9s\n",
      "1290:\tlearn: 127.8233494\ttotal: 2m 21s\tremaining: 33.8s\n",
      "1291:\tlearn: 127.6839506\ttotal: 2m 21s\tremaining: 33.7s\n",
      "1292:\tlearn: 127.5705865\ttotal: 2m 21s\tremaining: 33.6s\n",
      "1293:\tlearn: 127.5097782\ttotal: 2m 21s\tremaining: 33.5s\n",
      "1294:\tlearn: 127.4905005\ttotal: 2m 21s\tremaining: 33.4s\n",
      "1295:\tlearn: 127.4876111\ttotal: 2m 21s\tremaining: 33.3s\n",
      "1296:\tlearn: 127.4800091\ttotal: 2m 22s\tremaining: 33.2s\n",
      "1297:\tlearn: 127.4527118\ttotal: 2m 22s\tremaining: 33.1s\n",
      "1298:\tlearn: 127.4075197\ttotal: 2m 22s\tremaining: 33s\n",
      "1299:\tlearn: 127.3961747\ttotal: 2m 22s\tremaining: 32.9s\n",
      "1300:\tlearn: 127.3699873\ttotal: 2m 22s\tremaining: 32.8s\n",
      "1301:\tlearn: 127.3665411\ttotal: 2m 22s\tremaining: 32.7s\n",
      "1302:\tlearn: 127.3620508\ttotal: 2m 22s\tremaining: 32.6s\n",
      "1303:\tlearn: 127.3578500\ttotal: 2m 23s\tremaining: 32.5s\n",
      "1304:\tlearn: 127.2516711\ttotal: 2m 23s\tremaining: 32.4s\n",
      "1305:\tlearn: 127.2253512\ttotal: 2m 23s\tremaining: 32.3s\n",
      "1306:\tlearn: 127.1931470\ttotal: 2m 23s\tremaining: 32.2s\n",
      "1307:\tlearn: 127.1673746\ttotal: 2m 23s\tremaining: 32.1s\n",
      "1308:\tlearn: 127.1646382\ttotal: 2m 23s\tremaining: 32s\n",
      "1309:\tlearn: 127.1255730\ttotal: 2m 24s\tremaining: 31.9s\n",
      "1310:\tlearn: 127.1112094\ttotal: 2m 24s\tremaining: 31.8s\n",
      "1311:\tlearn: 127.1099243\ttotal: 2m 24s\tremaining: 31.7s\n",
      "1312:\tlearn: 127.1059689\ttotal: 2m 24s\tremaining: 31.6s\n",
      "1313:\tlearn: 127.0117460\ttotal: 2m 24s\tremaining: 31.5s\n",
      "1314:\tlearn: 127.0047191\ttotal: 2m 24s\tremaining: 31.4s\n",
      "1315:\tlearn: 126.9901471\ttotal: 2m 25s\tremaining: 31.3s\n",
      "1316:\tlearn: 126.9825327\ttotal: 2m 25s\tremaining: 31.2s\n",
      "1317:\tlearn: 126.7870216\ttotal: 2m 25s\tremaining: 31.1s\n",
      "1318:\tlearn: 126.7495707\ttotal: 2m 25s\tremaining: 31s\n",
      "1319:\tlearn: 126.7435730\ttotal: 2m 25s\tremaining: 30.9s\n",
      "1320:\tlearn: 126.6481401\ttotal: 2m 25s\tremaining: 30.8s\n",
      "1321:\tlearn: 126.6169274\ttotal: 2m 25s\tremaining: 30.7s\n",
      "1322:\tlearn: 126.5943923\ttotal: 2m 25s\tremaining: 30.5s\n",
      "1323:\tlearn: 126.5676250\ttotal: 2m 25s\tremaining: 30.4s\n",
      "1324:\tlearn: 126.5590092\ttotal: 2m 26s\tremaining: 30.3s\n",
      "1325:\tlearn: 126.5564821\ttotal: 2m 26s\tremaining: 30.2s\n",
      "1326:\tlearn: 126.5540068\ttotal: 2m 26s\tremaining: 30.1s\n",
      "1327:\tlearn: 126.3528313\ttotal: 2m 26s\tremaining: 30s\n",
      "1328:\tlearn: 126.2928580\ttotal: 2m 26s\tremaining: 29.9s\n",
      "1329:\tlearn: 126.2891455\ttotal: 2m 26s\tremaining: 29.8s\n",
      "1330:\tlearn: 126.2424148\ttotal: 2m 26s\tremaining: 29.7s\n",
      "1331:\tlearn: 126.2378187\ttotal: 2m 27s\tremaining: 29.6s\n",
      "1332:\tlearn: 126.2131321\ttotal: 2m 27s\tremaining: 29.5s\n",
      "1333:\tlearn: 126.0716419\ttotal: 2m 27s\tremaining: 29.4s\n",
      "1334:\tlearn: 126.0605543\ttotal: 2m 27s\tremaining: 29.3s\n",
      "1335:\tlearn: 125.9423333\ttotal: 2m 27s\tremaining: 29.2s\n",
      "1336:\tlearn: 125.9124207\ttotal: 2m 27s\tremaining: 29.1s\n",
      "1337:\tlearn: 125.9045861\ttotal: 2m 28s\tremaining: 29s\n",
      "1338:\tlearn: 125.7898528\ttotal: 2m 28s\tremaining: 28.9s\n",
      "1339:\tlearn: 125.6918181\ttotal: 2m 28s\tremaining: 28.8s\n",
      "1340:\tlearn: 125.5839646\ttotal: 2m 28s\tremaining: 28.7s\n",
      "1341:\tlearn: 125.4615220\ttotal: 2m 28s\tremaining: 28.6s\n",
      "1342:\tlearn: 125.4561377\ttotal: 2m 28s\tremaining: 28.4s\n",
      "1343:\tlearn: 125.3383495\ttotal: 2m 28s\tremaining: 28.3s\n",
      "1344:\tlearn: 125.3317863\ttotal: 2m 28s\tremaining: 28.2s\n",
      "1345:\tlearn: 125.3042442\ttotal: 2m 29s\tremaining: 28.1s\n",
      "1346:\tlearn: 125.1153629\ttotal: 2m 29s\tremaining: 28s\n",
      "1347:\tlearn: 125.0042197\ttotal: 2m 29s\tremaining: 27.9s\n",
      "1348:\tlearn: 125.0002578\ttotal: 2m 29s\tremaining: 27.8s\n",
      "1349:\tlearn: 124.9718277\ttotal: 2m 29s\tremaining: 27.7s\n",
      "1350:\tlearn: 124.9663836\ttotal: 2m 29s\tremaining: 27.6s\n",
      "1351:\tlearn: 124.9576226\ttotal: 2m 30s\tremaining: 27.5s\n",
      "1352:\tlearn: 124.9508790\ttotal: 2m 30s\tremaining: 27.4s\n",
      "1353:\tlearn: 124.9401074\ttotal: 2m 30s\tremaining: 27.3s\n",
      "1354:\tlearn: 124.9364813\ttotal: 2m 30s\tremaining: 27.2s\n",
      "1355:\tlearn: 124.9200722\ttotal: 2m 30s\tremaining: 27.1s\n",
      "1356:\tlearn: 124.8931456\ttotal: 2m 30s\tremaining: 27s\n",
      "1357:\tlearn: 124.8879346\ttotal: 2m 30s\tremaining: 26.9s\n",
      "1358:\tlearn: 124.8776830\ttotal: 2m 31s\tremaining: 26.8s\n",
      "1359:\tlearn: 124.8764096\ttotal: 2m 31s\tremaining: 26.7s\n",
      "1360:\tlearn: 124.8268712\ttotal: 2m 31s\tremaining: 26.6s\n",
      "1361:\tlearn: 124.7828799\ttotal: 2m 31s\tremaining: 26.5s\n",
      "1362:\tlearn: 124.7794254\ttotal: 2m 31s\tremaining: 26.4s\n",
      "1363:\tlearn: 124.7684908\ttotal: 2m 31s\tremaining: 26.3s\n",
      "1364:\tlearn: 124.7107168\ttotal: 2m 32s\tremaining: 26.2s\n",
      "1365:\tlearn: 124.6851326\ttotal: 2m 32s\tremaining: 26.1s\n",
      "1366:\tlearn: 124.6813201\ttotal: 2m 32s\tremaining: 26s\n",
      "1367:\tlearn: 124.6599627\ttotal: 2m 32s\tremaining: 25.9s\n",
      "1368:\tlearn: 124.6544976\ttotal: 2m 32s\tremaining: 25.8s\n",
      "1369:\tlearn: 124.5186501\ttotal: 2m 32s\tremaining: 25.7s\n",
      "1370:\tlearn: 124.4917379\ttotal: 2m 33s\tremaining: 25.6s\n",
      "1371:\tlearn: 124.3855588\ttotal: 2m 33s\tremaining: 25.5s\n",
      "1372:\tlearn: 124.3291985\ttotal: 2m 33s\tremaining: 25.4s\n",
      "1373:\tlearn: 124.2323613\ttotal: 2m 33s\tremaining: 25.3s\n",
      "1374:\tlearn: 124.2246253\ttotal: 2m 33s\tremaining: 25.2s\n",
      "1375:\tlearn: 124.2099521\ttotal: 2m 34s\tremaining: 25.1s\n",
      "1376:\tlearn: 124.1078549\ttotal: 2m 34s\tremaining: 25s\n",
      "1377:\tlearn: 124.1053604\ttotal: 2m 34s\tremaining: 24.8s\n",
      "1378:\tlearn: 123.9767579\ttotal: 2m 34s\tremaining: 24.7s\n",
      "1379:\tlearn: 123.7807656\ttotal: 2m 34s\tremaining: 24.6s\n",
      "1380:\tlearn: 123.7513559\ttotal: 2m 34s\tremaining: 24.5s\n",
      "1381:\tlearn: 123.7475485\ttotal: 2m 34s\tremaining: 24.4s\n",
      "1382:\tlearn: 123.6048308\ttotal: 2m 35s\tremaining: 24.3s\n",
      "1383:\tlearn: 123.5994867\ttotal: 2m 35s\tremaining: 24.2s\n",
      "1384:\tlearn: 123.5953415\ttotal: 2m 35s\tremaining: 24.1s\n",
      "1385:\tlearn: 123.4566186\ttotal: 2m 35s\tremaining: 24s\n",
      "1386:\tlearn: 123.4531963\ttotal: 2m 35s\tremaining: 23.9s\n",
      "1387:\tlearn: 123.2917463\ttotal: 2m 35s\tremaining: 23.8s\n",
      "1388:\tlearn: 123.2603818\ttotal: 2m 36s\tremaining: 23.7s\n",
      "1389:\tlearn: 123.2552025\ttotal: 2m 36s\tremaining: 23.6s\n",
      "1390:\tlearn: 123.1558269\ttotal: 2m 36s\tremaining: 23.5s\n",
      "1391:\tlearn: 123.0165188\ttotal: 2m 36s\tremaining: 23.4s\n",
      "1392:\tlearn: 122.9226381\ttotal: 2m 36s\tremaining: 23.3s\n",
      "1393:\tlearn: 122.7701417\ttotal: 2m 36s\tremaining: 23.1s\n",
      "1394:\tlearn: 122.7675084\ttotal: 2m 36s\tremaining: 23s\n",
      "1395:\tlearn: 122.5738078\ttotal: 2m 36s\tremaining: 22.9s\n",
      "1396:\tlearn: 122.5559288\ttotal: 2m 37s\tremaining: 22.8s\n",
      "1397:\tlearn: 122.5509169\ttotal: 2m 37s\tremaining: 22.7s\n",
      "1398:\tlearn: 122.5387345\ttotal: 2m 37s\tremaining: 22.6s\n",
      "1399:\tlearn: 122.4369625\ttotal: 2m 37s\tremaining: 22.5s\n",
      "1400:\tlearn: 122.4221047\ttotal: 2m 37s\tremaining: 22.4s\n",
      "1401:\tlearn: 122.3566357\ttotal: 2m 37s\tremaining: 22.3s\n",
      "1402:\tlearn: 122.3538710\ttotal: 2m 37s\tremaining: 22.2s\n",
      "1403:\tlearn: 122.3495039\ttotal: 2m 37s\tremaining: 22s\n",
      "1404:\tlearn: 122.3460983\ttotal: 2m 38s\tremaining: 21.9s\n",
      "1405:\tlearn: 122.3063023\ttotal: 2m 38s\tremaining: 21.8s\n",
      "1406:\tlearn: 122.2339908\ttotal: 2m 38s\tremaining: 21.7s\n",
      "1407:\tlearn: 122.0742501\ttotal: 2m 38s\tremaining: 21.6s\n",
      "1408:\tlearn: 122.0283381\ttotal: 2m 38s\tremaining: 21.5s\n",
      "1409:\tlearn: 121.9549899\ttotal: 2m 38s\tremaining: 21.4s\n",
      "1410:\tlearn: 121.9273803\ttotal: 2m 39s\tremaining: 21.3s\n",
      "1411:\tlearn: 121.8439121\ttotal: 2m 39s\tremaining: 21.2s\n",
      "1412:\tlearn: 121.8279116\ttotal: 2m 39s\tremaining: 21.1s\n",
      "1413:\tlearn: 121.7989761\ttotal: 2m 39s\tremaining: 21s\n",
      "1414:\tlearn: 121.7655995\ttotal: 2m 39s\tremaining: 20.9s\n",
      "1415:\tlearn: 121.7417692\ttotal: 2m 39s\tremaining: 20.7s\n",
      "1416:\tlearn: 121.7015999\ttotal: 2m 39s\tremaining: 20.6s\n",
      "1417:\tlearn: 121.6660998\ttotal: 2m 39s\tremaining: 20.5s\n",
      "1418:\tlearn: 121.6635029\ttotal: 2m 40s\tremaining: 20.4s\n",
      "1419:\tlearn: 121.4796124\ttotal: 2m 40s\tremaining: 20.3s\n",
      "1420:\tlearn: 121.4761475\ttotal: 2m 40s\tremaining: 20.2s\n",
      "1421:\tlearn: 121.4625230\ttotal: 2m 40s\tremaining: 20.1s\n",
      "1422:\tlearn: 121.4289719\ttotal: 2m 40s\tremaining: 20s\n",
      "1423:\tlearn: 121.3637808\ttotal: 2m 41s\tremaining: 19.9s\n",
      "1424:\tlearn: 121.3534733\ttotal: 2m 41s\tremaining: 19.8s\n",
      "1425:\tlearn: 121.3216542\ttotal: 2m 41s\tremaining: 19.7s\n",
      "1426:\tlearn: 121.3182532\ttotal: 2m 41s\tremaining: 19.6s\n",
      "1427:\tlearn: 121.2341643\ttotal: 2m 41s\tremaining: 19.5s\n",
      "1428:\tlearn: 121.2147438\ttotal: 2m 41s\tremaining: 19.4s\n",
      "1429:\tlearn: 121.1769892\ttotal: 2m 42s\tremaining: 19.3s\n",
      "1430:\tlearn: 121.0949158\ttotal: 2m 42s\tremaining: 19.2s\n",
      "1431:\tlearn: 121.0785717\ttotal: 2m 42s\tremaining: 19.1s\n",
      "1432:\tlearn: 121.0755341\ttotal: 2m 42s\tremaining: 18.9s\n",
      "1433:\tlearn: 121.0662796\ttotal: 2m 42s\tremaining: 18.8s\n",
      "1434:\tlearn: 121.0581505\ttotal: 2m 42s\tremaining: 18.7s\n",
      "1435:\tlearn: 121.0455801\ttotal: 2m 43s\tremaining: 18.6s\n",
      "1436:\tlearn: 121.0279228\ttotal: 2m 43s\tremaining: 18.5s\n",
      "1437:\tlearn: 120.9196386\ttotal: 2m 43s\tremaining: 18.4s\n",
      "1438:\tlearn: 120.8940252\ttotal: 2m 43s\tremaining: 18.3s\n",
      "1439:\tlearn: 120.8041180\ttotal: 2m 43s\tremaining: 18.2s\n",
      "1440:\tlearn: 120.7569517\ttotal: 2m 44s\tremaining: 18.1s\n",
      "1441:\tlearn: 120.7481427\ttotal: 2m 44s\tremaining: 18s\n",
      "1442:\tlearn: 120.7331101\ttotal: 2m 44s\tremaining: 17.9s\n",
      "1443:\tlearn: 120.7218831\ttotal: 2m 44s\tremaining: 17.8s\n",
      "1444:\tlearn: 120.6369647\ttotal: 2m 44s\tremaining: 17.7s\n",
      "1445:\tlearn: 120.6347781\ttotal: 2m 44s\tremaining: 17.6s\n",
      "1446:\tlearn: 120.5840188\ttotal: 2m 45s\tremaining: 17.5s\n",
      "1447:\tlearn: 120.5050283\ttotal: 2m 45s\tremaining: 17.3s\n",
      "1448:\tlearn: 120.5028632\ttotal: 2m 45s\tremaining: 17.2s\n",
      "1449:\tlearn: 120.4760195\ttotal: 2m 45s\tremaining: 17.1s\n",
      "1450:\tlearn: 120.4040826\ttotal: 2m 45s\tremaining: 17s\n",
      "1451:\tlearn: 120.3942797\ttotal: 2m 45s\tremaining: 16.9s\n",
      "1452:\tlearn: 120.3696652\ttotal: 2m 45s\tremaining: 16.8s\n",
      "1453:\tlearn: 120.3657790\ttotal: 2m 46s\tremaining: 16.7s\n",
      "1454:\tlearn: 120.3495367\ttotal: 2m 46s\tremaining: 16.6s\n",
      "1455:\tlearn: 120.3275810\ttotal: 2m 46s\tremaining: 16.5s\n",
      "1456:\tlearn: 120.3009153\ttotal: 2m 46s\tremaining: 16.4s\n",
      "1457:\tlearn: 120.1313311\ttotal: 2m 46s\tremaining: 16.2s\n",
      "1458:\tlearn: 120.1280931\ttotal: 2m 46s\tremaining: 16.1s\n",
      "1459:\tlearn: 120.1252600\ttotal: 2m 47s\tremaining: 16s\n",
      "1460:\tlearn: 120.1204886\ttotal: 2m 47s\tremaining: 15.9s\n",
      "1461:\tlearn: 119.9441194\ttotal: 2m 47s\tremaining: 15.8s\n",
      "1462:\tlearn: 119.9408720\ttotal: 2m 47s\tremaining: 15.7s\n",
      "1463:\tlearn: 119.8245995\ttotal: 2m 47s\tremaining: 15.6s\n",
      "1464:\tlearn: 119.6645448\ttotal: 2m 47s\tremaining: 15.5s\n",
      "1465:\tlearn: 119.6615776\ttotal: 2m 47s\tremaining: 15.3s\n",
      "1466:\tlearn: 119.5513667\ttotal: 2m 47s\tremaining: 15.2s\n",
      "1467:\tlearn: 119.5201957\ttotal: 2m 48s\tremaining: 15.1s\n",
      "1468:\tlearn: 119.4945637\ttotal: 2m 48s\tremaining: 15s\n",
      "1469:\tlearn: 119.3312298\ttotal: 2m 48s\tremaining: 14.9s\n",
      "1470:\tlearn: 119.3300163\ttotal: 2m 48s\tremaining: 14.8s\n",
      "1471:\tlearn: 119.2000086\ttotal: 2m 48s\tremaining: 14.7s\n",
      "1472:\tlearn: 119.1829862\ttotal: 2m 48s\tremaining: 14.6s\n",
      "1473:\tlearn: 119.0471778\ttotal: 2m 48s\tremaining: 14.4s\n",
      "1474:\tlearn: 118.9052967\ttotal: 2m 49s\tremaining: 14.3s\n",
      "1475:\tlearn: 118.9012424\ttotal: 2m 49s\tremaining: 14.2s\n",
      "1476:\tlearn: 118.8262245\ttotal: 2m 49s\tremaining: 14.1s\n",
      "1477:\tlearn: 118.6859368\ttotal: 2m 49s\tremaining: 14s\n",
      "1478:\tlearn: 118.6631296\ttotal: 2m 49s\tremaining: 13.9s\n",
      "1479:\tlearn: 118.6183063\ttotal: 2m 49s\tremaining: 13.8s\n",
      "1480:\tlearn: 118.5932574\ttotal: 2m 49s\tremaining: 13.7s\n",
      "1481:\tlearn: 118.5757975\ttotal: 2m 50s\tremaining: 13.5s\n",
      "1482:\tlearn: 118.5531227\ttotal: 2m 50s\tremaining: 13.4s\n",
      "1483:\tlearn: 118.5505044\ttotal: 2m 50s\tremaining: 13.3s\n",
      "1484:\tlearn: 118.5472455\ttotal: 2m 50s\tremaining: 13.2s\n",
      "1485:\tlearn: 118.4137722\ttotal: 2m 50s\tremaining: 13.1s\n",
      "1486:\tlearn: 118.4058642\ttotal: 2m 50s\tremaining: 13s\n",
      "1487:\tlearn: 118.4020440\ttotal: 2m 50s\tremaining: 12.9s\n",
      "1488:\tlearn: 118.3991618\ttotal: 2m 51s\tremaining: 12.8s\n",
      "1489:\tlearn: 118.3525544\ttotal: 2m 51s\tremaining: 12.6s\n",
      "1490:\tlearn: 118.2395507\ttotal: 2m 51s\tremaining: 12.5s\n",
      "1491:\tlearn: 118.2367563\ttotal: 2m 51s\tremaining: 12.4s\n",
      "1492:\tlearn: 118.1879982\ttotal: 2m 51s\tremaining: 12.3s\n",
      "1493:\tlearn: 118.1409921\ttotal: 2m 51s\tremaining: 12.2s\n",
      "1494:\tlearn: 118.1063455\ttotal: 2m 51s\tremaining: 12.1s\n",
      "1495:\tlearn: 118.0887738\ttotal: 2m 52s\tremaining: 12s\n",
      "1496:\tlearn: 118.0741310\ttotal: 2m 52s\tremaining: 11.8s\n",
      "1497:\tlearn: 118.0535353\ttotal: 2m 52s\tremaining: 11.7s\n",
      "1498:\tlearn: 117.9311551\ttotal: 2m 52s\tremaining: 11.6s\n",
      "1499:\tlearn: 117.8142681\ttotal: 2m 52s\tremaining: 11.5s\n",
      "1500:\tlearn: 117.8097987\ttotal: 2m 52s\tremaining: 11.4s\n",
      "1501:\tlearn: 117.7639181\ttotal: 2m 52s\tremaining: 11.3s\n",
      "1502:\tlearn: 117.7325207\ttotal: 2m 52s\tremaining: 11.2s\n",
      "1503:\tlearn: 117.6142062\ttotal: 2m 53s\tremaining: 11s\n",
      "1504:\tlearn: 117.3967326\ttotal: 2m 53s\tremaining: 10.9s\n",
      "1505:\tlearn: 117.3810220\ttotal: 2m 53s\tremaining: 10.8s\n",
      "1506:\tlearn: 117.3722966\ttotal: 2m 53s\tremaining: 10.7s\n",
      "1507:\tlearn: 117.2543691\ttotal: 2m 53s\tremaining: 10.6s\n",
      "1508:\tlearn: 117.2397397\ttotal: 2m 53s\tremaining: 10.5s\n",
      "1509:\tlearn: 117.2109713\ttotal: 2m 53s\tremaining: 10.4s\n",
      "1510:\tlearn: 117.0096347\ttotal: 2m 53s\tremaining: 10.2s\n",
      "1511:\tlearn: 117.0068043\ttotal: 2m 54s\tremaining: 10.1s\n",
      "1512:\tlearn: 116.9919262\ttotal: 2m 54s\tremaining: 10s\n",
      "1513:\tlearn: 116.9833101\ttotal: 2m 54s\tremaining: 9.9s\n",
      "1514:\tlearn: 116.9810049\ttotal: 2m 54s\tremaining: 9.78s\n",
      "1515:\tlearn: 116.9513591\ttotal: 2m 54s\tremaining: 9.67s\n",
      "1516:\tlearn: 116.9449119\ttotal: 2m 54s\tremaining: 9.55s\n",
      "1517:\tlearn: 116.9219169\ttotal: 2m 54s\tremaining: 9.44s\n",
      "1518:\tlearn: 116.8740455\ttotal: 2m 54s\tremaining: 9.33s\n",
      "1519:\tlearn: 116.8706705\ttotal: 2m 55s\tremaining: 9.21s\n",
      "1520:\tlearn: 116.8633013\ttotal: 2m 55s\tremaining: 9.09s\n",
      "1521:\tlearn: 116.7817219\ttotal: 2m 55s\tremaining: 8.98s\n",
      "1522:\tlearn: 116.7785581\ttotal: 2m 55s\tremaining: 8.86s\n",
      "1523:\tlearn: 116.7160619\ttotal: 2m 55s\tremaining: 8.75s\n",
      "1524:\tlearn: 116.6943776\ttotal: 2m 55s\tremaining: 8.64s\n",
      "1525:\tlearn: 116.5791171\ttotal: 2m 55s\tremaining: 8.53s\n",
      "1526:\tlearn: 116.5002897\ttotal: 2m 56s\tremaining: 8.42s\n",
      "1527:\tlearn: 116.4081050\ttotal: 2m 56s\tremaining: 8.31s\n",
      "1528:\tlearn: 116.2891122\ttotal: 2m 56s\tremaining: 8.2s\n",
      "1529:\tlearn: 116.2720751\ttotal: 2m 56s\tremaining: 8.08s\n",
      "1530:\tlearn: 116.2607491\ttotal: 2m 56s\tremaining: 7.97s\n",
      "1531:\tlearn: 116.2188403\ttotal: 2m 56s\tremaining: 7.86s\n",
      "1532:\tlearn: 116.2122565\ttotal: 2m 57s\tremaining: 7.74s\n",
      "1533:\tlearn: 116.0402093\ttotal: 2m 57s\tremaining: 7.62s\n",
      "1534:\tlearn: 115.9196627\ttotal: 2m 57s\tremaining: 7.51s\n",
      "1535:\tlearn: 115.8965295\ttotal: 2m 57s\tremaining: 7.39s\n",
      "1536:\tlearn: 115.8850438\ttotal: 2m 57s\tremaining: 7.28s\n",
      "1537:\tlearn: 115.8659242\ttotal: 2m 57s\tremaining: 7.16s\n",
      "1538:\tlearn: 115.8307568\ttotal: 2m 57s\tremaining: 7.04s\n",
      "1539:\tlearn: 115.7704302\ttotal: 2m 57s\tremaining: 6.93s\n",
      "1540:\tlearn: 115.7437069\ttotal: 2m 58s\tremaining: 6.82s\n",
      "1541:\tlearn: 115.7402422\ttotal: 2m 58s\tremaining: 6.71s\n",
      "1542:\tlearn: 115.7007694\ttotal: 2m 58s\tremaining: 6.6s\n",
      "1543:\tlearn: 115.6197318\ttotal: 2m 58s\tremaining: 6.49s\n",
      "1544:\tlearn: 115.5885164\ttotal: 2m 58s\tremaining: 6.37s\n",
      "1545:\tlearn: 115.4035195\ttotal: 2m 59s\tremaining: 6.26s\n",
      "1546:\tlearn: 115.4001636\ttotal: 2m 59s\tremaining: 6.14s\n",
      "1547:\tlearn: 115.3840257\ttotal: 2m 59s\tremaining: 6.03s\n",
      "1548:\tlearn: 115.2289200\ttotal: 2m 59s\tremaining: 5.91s\n",
      "1549:\tlearn: 115.1858207\ttotal: 2m 59s\tremaining: 5.8s\n",
      "1550:\tlearn: 115.1573430\ttotal: 2m 59s\tremaining: 5.68s\n",
      "1551:\tlearn: 115.1448201\ttotal: 3m\tremaining: 5.57s\n",
      "1552:\tlearn: 115.1018942\ttotal: 3m\tremaining: 5.45s\n",
      "1553:\tlearn: 115.1001912\ttotal: 3m\tremaining: 5.33s\n",
      "1554:\tlearn: 114.9452553\ttotal: 3m\tremaining: 5.22s\n",
      "1555:\tlearn: 114.8086735\ttotal: 3m\tremaining: 5.1s\n",
      "1556:\tlearn: 114.7508396\ttotal: 3m\tremaining: 4.99s\n",
      "1557:\tlearn: 114.7230276\ttotal: 3m\tremaining: 4.88s\n",
      "1558:\tlearn: 114.7167830\ttotal: 3m 1s\tremaining: 4.76s\n",
      "1559:\tlearn: 114.6987278\ttotal: 3m 1s\tremaining: 4.65s\n",
      "1560:\tlearn: 114.6785555\ttotal: 3m 1s\tremaining: 4.53s\n",
      "1561:\tlearn: 114.6199416\ttotal: 3m 1s\tremaining: 4.42s\n",
      "1562:\tlearn: 114.5038862\ttotal: 3m 1s\tremaining: 4.3s\n",
      "1563:\tlearn: 114.4124005\ttotal: 3m 2s\tremaining: 4.19s\n",
      "1564:\tlearn: 114.4008200\ttotal: 3m 2s\tremaining: 4.08s\n",
      "1565:\tlearn: 114.2841127\ttotal: 3m 2s\tremaining: 3.96s\n",
      "1566:\tlearn: 114.2035395\ttotal: 3m 2s\tremaining: 3.84s\n",
      "1567:\tlearn: 114.0406047\ttotal: 3m 2s\tremaining: 3.73s\n",
      "1568:\tlearn: 114.0328752\ttotal: 3m 2s\tremaining: 3.61s\n",
      "1569:\tlearn: 113.9019205\ttotal: 3m 3s\tremaining: 3.5s\n",
      "1570:\tlearn: 113.8864062\ttotal: 3m 3s\tremaining: 3.38s\n",
      "1571:\tlearn: 113.7630743\ttotal: 3m 3s\tremaining: 3.27s\n",
      "1572:\tlearn: 113.6602606\ttotal: 3m 3s\tremaining: 3.15s\n",
      "1573:\tlearn: 113.5973790\ttotal: 3m 3s\tremaining: 3.03s\n",
      "1574:\tlearn: 113.5378986\ttotal: 3m 3s\tremaining: 2.92s\n",
      "1575:\tlearn: 113.3438836\ttotal: 3m 4s\tremaining: 2.8s\n",
      "1576:\tlearn: 113.3249490\ttotal: 3m 4s\tremaining: 2.69s\n",
      "1577:\tlearn: 113.2539367\ttotal: 3m 4s\tremaining: 2.57s\n",
      "1578:\tlearn: 113.2406088\ttotal: 3m 4s\tremaining: 2.45s\n",
      "1579:\tlearn: 113.2192506\ttotal: 3m 4s\tremaining: 2.33s\n",
      "1580:\tlearn: 113.1740390\ttotal: 3m 4s\tremaining: 2.22s\n",
      "1581:\tlearn: 113.1681510\ttotal: 3m 4s\tremaining: 2.1s\n",
      "1582:\tlearn: 113.1657124\ttotal: 3m 4s\tremaining: 1.99s\n",
      "1583:\tlearn: 113.1446018\ttotal: 3m 4s\tremaining: 1.87s\n",
      "1584:\tlearn: 113.1409347\ttotal: 3m 5s\tremaining: 1.75s\n",
      "1585:\tlearn: 113.1394450\ttotal: 3m 5s\tremaining: 1.63s\n",
      "1586:\tlearn: 113.1296714\ttotal: 3m 5s\tremaining: 1.52s\n",
      "1587:\tlearn: 113.0881626\ttotal: 3m 5s\tremaining: 1.4s\n",
      "1588:\tlearn: 113.0704315\ttotal: 3m 5s\tremaining: 1.28s\n",
      "1589:\tlearn: 113.0258306\ttotal: 3m 5s\tremaining: 1.17s\n",
      "1590:\tlearn: 112.9584181\ttotal: 3m 5s\tremaining: 1.05s\n",
      "1591:\tlearn: 112.8307440\ttotal: 3m 5s\tremaining: 935ms\n",
      "1592:\tlearn: 112.7622115\ttotal: 3m 6s\tremaining: 818ms\n",
      "1593:\tlearn: 112.7561915\ttotal: 3m 6s\tremaining: 701ms\n",
      "1594:\tlearn: 112.5661322\ttotal: 3m 6s\tremaining: 584ms\n",
      "1595:\tlearn: 112.5477458\ttotal: 3m 6s\tremaining: 467ms\n",
      "1596:\tlearn: 112.4771262\ttotal: 3m 6s\tremaining: 351ms\n",
      "1597:\tlearn: 112.4066747\ttotal: 3m 6s\tremaining: 234ms\n",
      "1598:\tlearn: 112.3574609\ttotal: 3m 6s\tremaining: 117ms\n",
      "1599:\tlearn: 112.2759525\ttotal: 3m 7s\tremaining: 0us\n"
     ]
    }
   ],
   "source": [
    "cb_model_tuned = CatBoostRegressor(\n",
    "    depth=10,\n",
    "    iterations=1600,\n",
    "    learning_rate=0.01\n",
    ").fit(X_train, y_train)"
   ]
  },
  {
   "cell_type": "code",
   "execution_count": 63,
   "metadata": {},
   "outputs": [],
   "source": [
    "y_pred = cb_model_tuned.predict(X_test)"
   ]
  },
  {
   "cell_type": "code",
   "execution_count": 64,
   "metadata": {},
   "outputs": [
    {
     "data": {
      "text/plain": [
       "337.95649387307907"
      ]
     },
     "execution_count": 64,
     "metadata": {},
     "output_type": "execute_result"
    }
   ],
   "source": [
    "cb_tuned_error = np.sqrt(mean_squared_error(y_test, y_pred))\n",
    "cb_tuned_error"
   ]
  },
  {
   "cell_type": "code",
   "execution_count": null,
   "metadata": {},
   "outputs": [],
   "source": []
  },
  {
   "cell_type": "code",
   "execution_count": null,
   "metadata": {},
   "outputs": [],
   "source": []
  },
  {
   "cell_type": "code",
   "execution_count": null,
   "metadata": {},
   "outputs": [],
   "source": []
  }
 ],
 "metadata": {
  "kernelspec": {
   "display_name": "Python 3",
   "language": "python",
   "name": "python3"
  },
  "language_info": {
   "codemirror_mode": {
    "name": "ipython",
    "version": 3
   },
   "file_extension": ".py",
   "mimetype": "text/x-python",
   "name": "python",
   "nbconvert_exporter": "python",
   "pygments_lexer": "ipython3",
   "version": "3.7.3"
  }
 },
 "nbformat": 4,
 "nbformat_minor": 2
}
